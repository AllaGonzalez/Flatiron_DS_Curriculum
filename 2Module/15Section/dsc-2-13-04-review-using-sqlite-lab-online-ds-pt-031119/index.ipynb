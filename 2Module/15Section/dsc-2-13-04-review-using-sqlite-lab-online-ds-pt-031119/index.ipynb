{
 "cells": [
  {
   "cell_type": "markdown",
   "metadata": {},
   "source": [
    "# Review: Using Sqlite - Lab"
   ]
  },
  {
   "cell_type": "markdown",
   "metadata": {},
   "source": [
    "## Introduction\n",
    "\n",
    "In this lab, we will write more `SELECT` statements to review everything we've learned and solidify our ability to query a SQL database.  We will also write more specific queries using the tools we learned in the previous lesson."
   ]
  },
  {
   "cell_type": "markdown",
   "metadata": {},
   "source": [
    "## Objectives\n",
    "\n",
    "You will be able to: \n",
    "\n",
    "- Solidify your ability to interact with SQL databases by writing more `SELECT` statements\n",
    "- Use `SELECT` with `ORDER BY` and `DESC`/`ASC` to order our results by the values of a specific column\n",
    "- Use `LIMIT` to select only a certain number of rows\n",
    "- Use `BETWEEN` to obtain results that fit between specified values"
   ]
  },
  {
   "cell_type": "markdown",
   "metadata": {},
   "source": [
    "## Famous Dogs"
   ]
  },
  {
   "cell_type": "markdown",
   "metadata": {},
   "source": [
    "We have a database full of famous dogs!  The `dogs` table is populated with the following data:\n",
    "\n",
    "|name      |age    |gender |breed           |temperament|hungry |\n",
    "|----------|-------|-------|----------------|-----------|-------|\n",
    "|Snoopy    |3      |M      |beagle          |friendly   |1      |\n",
    "|McGruff   |10     |M      |bloodhound      |aware      |0      |\n",
    "|Scooby    |6      |M      |great dane      |hungry     |1      |\n",
    "|Little Ann|5      |F      |coonhound       |loyal      |0      |\n",
    "|Pickles   |13     |F      |black lab       |mischievous|1      |\n",
    "|Clifford  |4      |M      |big red         |smiley     |1      |\n",
    "|Lassie    |7      |F      |collie          |loving     |1      |\n",
    "|Snowy     |8      |F      |fox terrier     |adventurous|0      |\n",
    "|NULL      |4      |M      |golden retriever|playful    |1      |"
   ]
  },
  {
   "cell_type": "markdown",
   "metadata": {},
   "source": [
    "## Connect to SQL Database with Python\n",
    "\n",
    "Before we can query the `dogs.db` database, we need to connect to it.  In the cell below:\n",
    "\n",
    "* Import the `sqlite3` library\n",
    "* Create a connection object that has connected to `dogs.db`\n",
    "* Create a cursor object using the connection object"
   ]
  },
  {
   "cell_type": "code",
   "execution_count": null,
   "metadata": {},
   "outputs": [],
   "source": [
    "import None\n",
    "\n",
    "conn = None\n",
    "\n",
    "c = None"
   ]
  },
  {
   "cell_type": "markdown",
   "metadata": {},
   "source": [
    "## Queries\n",
    "\n",
    "In the cells below:\n",
    "\n",
    "* Write the corresponding sql queries in the appropriate variables\n",
    "* Use the cursor object to `execute()` each query\n",
    "* Call `c.fetchall()` to see the results for each query"
   ]
  },
  {
   "cell_type": "markdown",
   "metadata": {},
   "source": [
    "* `select_all_female_dogs_name_and_breed` returns the name and breed for all female dogs"
   ]
  },
  {
   "cell_type": "code",
   "execution_count": null,
   "metadata": {},
   "outputs": [],
   "source": [
    "select_all_female_dogs_name_and_breed = None\n",
    "\n",
    "\n",
    "# Expected Output:\n",
    "# [('Little Ann', 'coonhound'),\n",
    "#  ('Pickles', 'black lab'),\n",
    "#  ('Lassie', 'collie'),\n",
    "#  ('Snowy', 'fox terrier')]"
   ]
  },
  {
   "cell_type": "markdown",
   "metadata": {},
   "source": [
    "* `select_all_dogs_names_in_alphabetical_order` returns the names of all dogs listed in alphabetical order.  Notice that SQL lists the nameless dog first."
   ]
  },
  {
   "cell_type": "code",
   "execution_count": null,
   "metadata": {},
   "outputs": [],
   "source": [
    "select_all_dogs_names_in_alphabetical_order = None\n",
    "\n",
    "\n",
    "# Expected Output:\n",
    "# [(None,),\n",
    "#  ('Clifford',),\n",
    "#  ('Lassie',),\n",
    "#  ('Little Ann',),\n",
    "#  ('McGruff',),\n",
    "#  ('Pickles',),\n",
    "#  ('Scooby',),\n",
    "#  ('Snoopy',),\n",
    "#  ('Snowy',)]"
   ]
  },
  {
   "cell_type": "markdown",
   "metadata": {},
   "source": [
    "* `select_nameless_dog` returns all information for any dog that doesn't have a name"
   ]
  },
  {
   "cell_type": "code",
   "execution_count": null,
   "metadata": {},
   "outputs": [],
   "source": [
    "select_nameless_dog = None\n",
    "\n",
    "# Expected Output:\n",
    "# [(9, None, 4, 'M', 'golden retriever', 'playful', 1)]"
   ]
  },
  {
   "cell_type": "markdown",
   "metadata": {},
   "source": [
    "* `select_hungry_dogs_name_and_breed_ordered_by_youngest_to_oldest` returns the name and breed of only the hungry dogs and lists them from youngest to oldest"
   ]
  },
  {
   "cell_type": "code",
   "execution_count": null,
   "metadata": {},
   "outputs": [],
   "source": [
    "select_hungry_dogs_name_and_breed_ordered_by_oldest_to_youngest = None\n",
    "\n",
    "# Expected Output:\n",
    "# [('Snoopy', 'beagle'),\n",
    "#  ('Clifford', 'big red'),\n",
    "#  (None, 'golden retriever'),\n",
    "#  ('Scooby', 'great dane'),\n",
    "#  ('Lassie', 'collie'),\n",
    "#  ('Pickles', 'black lab')]"
   ]
  },
  {
   "cell_type": "markdown",
   "metadata": {},
   "source": [
    "* `select_name_age_and_temperament_of_oldest_dog` returns the oldest dog's name, age, and temperament"
   ]
  },
  {
   "cell_type": "code",
   "execution_count": null,
   "metadata": {},
   "outputs": [],
   "source": [
    "select_name_and_age_of_oldest_dog = None\n",
    "\n",
    "# Expected Output:\n",
    "# [('Pickles', 13)]"
   ]
  },
  {
   "cell_type": "markdown",
   "metadata": {},
   "source": [
    "* `select_name_and_age_of_three_youngest_dogs` returns the three youngest dogs"
   ]
  },
  {
   "cell_type": "code",
   "execution_count": null,
   "metadata": {},
   "outputs": [],
   "source": [
    "select_name_and_age_of_three_youngest_dogs = None\n",
    "\n",
    "# Expected Output:\n",
    "# [('Snoopy', 3), ('Clifford', 4), (None, 4)]"
   ]
  },
  {
   "cell_type": "markdown",
   "metadata": {},
   "source": [
    "* `select_name_and_breed_of_dogs_between_age_five_and_ten_ordered_by_oldest_to_youngest` returns the name and breed of only the dogs who are between five and ten years old"
   ]
  },
  {
   "cell_type": "code",
   "execution_count": null,
   "metadata": {},
   "outputs": [],
   "source": [
    "select_name_and_temperament_of_dogs_between_age_five_and_ten_ordered_by_oldest_to_youngest = None\n",
    "\n",
    "# Expected Output: \n",
    "# [('McGruff', 'bloodhound'),\n",
    "#  ('Snowy', 'fox terrier'),\n",
    "#  ('Lassie', 'collie'),\n",
    "#  ('Scooby', 'great dane'),\n",
    "#  ('Little Ann', 'coonhound')]"
   ]
  },
  {
   "cell_type": "markdown",
   "metadata": {},
   "source": [
    "* `select_name_age_and_hungry_of_hungry_dogs_between_age_two_and_seven_in_alphabetical_order` returns the name, age, and hungry columns for hungry dogs between the ages of two and seven.  This query should also list these dogs in alphabetical order."
   ]
  },
  {
   "cell_type": "code",
   "execution_count": null,
   "metadata": {},
   "outputs": [],
   "source": [
    "select_name_and_age_of_hungry_dogs_between_age_two_and_seven_in_alphabetical_order = None\n",
    "\n",
    "# Expected Output:\n",
    "# [(None, 4, 1),\n",
    "#  ('Clifford', 4, 1),\n",
    "#  ('Lassie', 7, 1),\n",
    "#  ('Scooby', 6, 1),\n",
    "#  ('Snoopy', 3, 1)]"
   ]
  },
  {
   "cell_type": "markdown",
   "metadata": {},
   "source": [
    "## Summary"
   ]
  },
  {
   "cell_type": "markdown",
   "metadata": {},
   "source": [
    "Great work! In this lab we practiced writing more complex SQL statements to not only query specific information but also define the quantity of results and the order of our results. "
   ]
  }
 ],
 "metadata": {
  "kernelspec": {
   "display_name": "Python 3",
   "language": "python",
   "name": "python3"
  },
  "language_info": {
   "codemirror_mode": {
    "name": "ipython",
    "version": 3
   },
   "file_extension": ".py",
   "mimetype": "text/x-python",
   "name": "python",
   "nbconvert_exporter": "python",
   "pygments_lexer": "ipython3",
   "version": "3.6.4"
  }
 },
 "nbformat": 4,
 "nbformat_minor": 2
}
