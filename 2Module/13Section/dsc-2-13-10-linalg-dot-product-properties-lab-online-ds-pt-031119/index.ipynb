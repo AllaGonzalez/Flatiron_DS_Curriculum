{
 "cells": [
  {
   "cell_type": "markdown",
   "metadata": {},
   "source": [
    "# Properties of Dot Product - Lab"
   ]
  },
  {
   "cell_type": "markdown",
   "metadata": {},
   "source": [
    "## Introduction\n",
    "\n",
    "In this lab we shall look at some interesting properties of a Dot product type matrix multiplication. Understanding these properties will become useful as we move forward with machine learning advanced linear algebra. The lab will require you to calculate results to provide a proof for these properties.\n",
    "\n",
    "## Objectives\n",
    "You will be able to:\n",
    "* Understand and analytically explain Distributive, Commutative and Associative properties of dot product\n",
    "\n",
    "## Instructions\n",
    "\n",
    "* For each property, create suitably sized matrices with random data and prove the equations \n",
    "* Ensure that size/dimension assumptions are met while performing calculations (you'll see errors otherwise)\n",
    "* Calculate the LHS and RHS for all equations and show if they are equal or not"
   ]
  },
  {
   "cell_type": "markdown",
   "metadata": {},
   "source": [
    "## Distributive Property - Matrices multiplication is distributive\n",
    "### Prove that A.(B+C)=A.B+A.C"
   ]
  },
  {
   "cell_type": "code",
   "execution_count": 1,
   "metadata": {},
   "outputs": [
    {
     "name": "stdout",
     "output_type": "stream",
     "text": [
      "[[ True]\n",
      " [ True]\n",
      " [ True]]\n"
     ]
    }
   ],
   "source": [
    "# Your code here\n",
    "import numpy as np\n",
    "A = np.array([[2, 3], [1, 4], [7, 6]])\n",
    "B = np.array([[5], [2]])\n",
    "C = np.array([[4], [3]])\n",
    "\n",
    "left = A.dot(B+C)\n",
    "right = A.dot(B) + A.dot(C)\n",
    "\n",
    "print (left == right)"
   ]
  },
  {
   "cell_type": "markdown",
   "metadata": {},
   "source": [
    "## Associative Property - Matrices multiplication is associative\n",
    "### Prove that A.(B.C)=(A.B).C"
   ]
  },
  {
   "cell_type": "code",
   "execution_count": 2,
   "metadata": {},
   "outputs": [
    {
     "data": {
      "text/plain": [
       "array([[ True],\n",
       "       [ True],\n",
       "       [ True]])"
      ]
     },
     "execution_count": 2,
     "metadata": {},
     "output_type": "execute_result"
    }
   ],
   "source": [
    "# Your code here \n",
    "A = np.array([[2, 3], [1, 4], [7, 6]])\n",
    "B = np.array([[5, 3], [2, 2]])\n",
    "C = np.array([[4], [3]])\n",
    "\n",
    "left = A.dot(B.dot(C))\n",
    "right = (A.dot(B)).dot(C)\n",
    "\n",
    "left == right"
   ]
  },
  {
   "cell_type": "markdown",
   "metadata": {},
   "source": [
    "## Commutative Property - Matrix multiplication is NOT commutative\n",
    "### Prove that for matrices, A.B ≠ B.A"
   ]
  },
  {
   "cell_type": "code",
   "execution_count": 3,
   "metadata": {},
   "outputs": [
    {
     "name": "stdout",
     "output_type": "stream",
     "text": [
      "[[16 12]\n",
      " [40 28]]\n",
      "[[28 30]\n",
      " [16 16]]\n"
     ]
    },
    {
     "data": {
      "text/plain": [
       "array([[False, False],\n",
       "       [False, False]])"
      ]
     },
     "execution_count": 3,
     "metadata": {},
     "output_type": "execute_result"
    }
   ],
   "source": [
    "# Your code here \n",
    "A = np.array([[2, 3], [6, 5]])\n",
    "B = np.array([[5, 3], [2, 2]])\n",
    "\n",
    "left = A.dot(B)\n",
    "right = B.dot(A)\n",
    "\n",
    "print (left)\n",
    "print(right)\n",
    "\n",
    "left == right"
   ]
  },
  {
   "cell_type": "markdown",
   "metadata": {},
   "source": [
    "## Commutative Property -  vector multiplication IS commutative\n",
    "### Prove that for vectors, x<sup>T</sup> . y = y<sup>T</sup> . x\n",
    "Note: superscipt<sup>T</sup> denotes the transpose we saw earlier"
   ]
  },
  {
   "cell_type": "code",
   "execution_count": 4,
   "metadata": {},
   "outputs": [
    {
     "data": {
      "text/plain": [
       "array([[ True]])"
      ]
     },
     "execution_count": 4,
     "metadata": {},
     "output_type": "execute_result"
    }
   ],
   "source": [
    "# Your code here \n",
    "x = np.array([[2], [6], [7]])\n",
    "y = np.array([[3], [5], [9]])\n",
    "\n",
    "left = np.transpose(x).dot(y)\n",
    "right = np.transpose(y).dot(x)\n",
    "left == right"
   ]
  },
  {
   "cell_type": "markdown",
   "metadata": {},
   "source": [
    "#### and finally \n",
    "## Simplification of the matrix product\n",
    "### Prove that  (A.B)<sup>T</sup> = B<sup>T</sup> . A<sup>T</sup>"
   ]
  },
  {
   "cell_type": "code",
   "execution_count": 5,
   "metadata": {},
   "outputs": [
    {
     "data": {
      "text/plain": [
       "array([[ True,  True,  True],\n",
       "       [ True,  True,  True]])"
      ]
     },
     "execution_count": 5,
     "metadata": {},
     "output_type": "execute_result"
    }
   ],
   "source": [
    "# Your code here \n",
    "A = np.array([[2, 3], [1, 4], [7, 6]])\n",
    "B = np.array([[5, 3], [2, 2]])\n",
    "\n",
    "left = np.transpose(A.dot(B))\n",
    "right = np.transpose(B).dot(np.transpose(A))\n",
    "left == right"
   ]
  },
  {
   "cell_type": "markdown",
   "metadata": {},
   "source": [
    "## Summary \n",
    "\n",
    "So now we have seen enough matrix algebra to help us solve a problem of linear equations as we saw earlier in this section. We shall see how to do this next. "
   ]
  }
 ],
 "metadata": {
  "kernelspec": {
   "display_name": "learn-env",
   "language": "python",
   "name": "learn-env"
  },
  "language_info": {
   "codemirror_mode": {
    "name": "ipython",
    "version": 3
   },
   "file_extension": ".py",
   "mimetype": "text/x-python",
   "name": "python",
   "nbconvert_exporter": "python",
   "pygments_lexer": "ipython3",
   "version": "3.6.6"
  }
 },
 "nbformat": 4,
 "nbformat_minor": 2
}
