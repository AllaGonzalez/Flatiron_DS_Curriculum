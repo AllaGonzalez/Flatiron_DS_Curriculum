{
 "cells": [
  {
   "cell_type": "markdown",
   "metadata": {},
   "source": [
    "# Matrix Multiplication - Code Along"
   ]
  },
  {
   "cell_type": "markdown",
   "metadata": {},
   "source": [
    "## Introduction\n",
    "Understanding matrix operation is very important for a deeper understanding of linear algebra. We know matrices are used throughout the field of machine learning in the description of algorithms and representation of data. In this lesson, we shall discover how to manipulate matrices in Python and Numpy.\n",
    "\n",
    "## Objectives\n",
    "\n",
    "You will be able to:\n",
    "\n",
    "* Perform element-wise matrix multiplication known as Hadamard product.\n",
    "* Understand assumptions and take a dot product between matrices and vectors. \n",
    "* Understand cross product between two vectors in the vector space. "
   ]
  },
  {
   "cell_type": "markdown",
   "metadata": {},
   "source": [
    "## Definition\n",
    "Multiplication of two matrices is one of the most crucial operations involving matrices. We can write the matrix product just by placing two or more matrices together, for example, \n",
    "\n",
    "> **C = AB** \n",
    "\n",
    "The standard product of two matrices is not just a matrix containing element-wise product of the individual elements. Such an operation exists and is called the element-wise product, or **Hadamard product**"
   ]
  },
  {
   "cell_type": "markdown",
   "metadata": {},
   "source": [
    "## Hadamard Product"
   ]
  },
  {
   "cell_type": "markdown",
   "metadata": {},
   "source": [
    "Two matrices with the same dimensions can be multiplied together. Such element-wise matrix multiplication is called the Hadamard product. It is not the typical operation meant when referring to matrix multiplication, therefore a different operator is often used, such as a circle “o”. \n",
    "> **C = A o B**\n",
    "\n",
    "As with element-wise addition and subtraction, element-wise multiplication involves the multiplication of elements from each parent matrix to calculate the values in the new matrix as shown below.\n",
    "\n",
    "```\n",
    "         a11 * b11, a12 * b12\n",
    "A o B = (a21 * b21, a22 * b22)\n",
    "         a31 * b31, a32 * b32\n",
    "```\n",
    "Hadamard product can be calculated in python using the  (\\*) operator between two NumPy arrays.\n",
    "\n",
    "```python\n",
    "# Element-wise Hadamard Product\n",
    "import numpy as np\n",
    "A = np.array([[1, 2, 3], [4, 5, 6]])\n",
    "print(A)\n",
    "B = np.array([[1, 2, 3], [4, 5, 6]])\n",
    "print(B)\n",
    "print ('\\nHadamard Product\\n\\n', A * B)\n",
    "```"
   ]
  },
  {
   "cell_type": "code",
   "execution_count": 16,
   "metadata": {},
   "outputs": [],
   "source": [
    "# Code here"
   ]
  },
  {
   "cell_type": "markdown",
   "metadata": {},
   "source": [
    "## Dot Product"
   ]
  },
  {
   "cell_type": "markdown",
   "metadata": {},
   "source": [
    "We can calculate dot-products to check the similarity between matrices. The matrix dot product is more complicated than the previous operations and involves a rule as **not all matrices can be dot multiplied together**.The rule is as follows:\n",
    "\n",
    "The matrix product of matrices A and B is a another matrix C. For defining this product, A must have the same number of dimensions as B has rows. \n",
    "\n",
    "> **The number of columns in the first matrix must equal the number of rows in the second matrix **\n",
    "\n",
    "For example, think of a matrix A having m rows and n columns and matrix B having n rows and and k columns. Provided the n columns in A and n rows b are equal, the result is a new matrix with m rows and k columns. A dot product can be shown using (.) or (dot). \n",
    "\n",
    "> **C<sub>(m,k)</sub> = A<sub>(m,n)</sub> dot B<sub>(n,k)</sub>**\n",
    "\n",
    "OR \n",
    "\n",
    "> **C<sub>(m,k)</sub> = A<sub>(m,n)</sub> . B<sub>(n,k)</sub>**\n",
    "\n",
    "The product operation is deﬁned by\n",
    "![](formula.png)\n",
    "\n",
    "\n",
    "The calculations are performed as shown below:\n",
    "```\n",
    "     a11, a12\n",
    "A = (a21, a22)\n",
    "     a31, a32\n",
    "\n",
    "     b11, b12\n",
    "B = (b21, b22)\n",
    "\n",
    "     a11 * b11 + a12 * b21, a11 * b12 + a12 * b22\n",
    "C = (a21 * b11 + a22 * b21, a21 * b12 + a22 * b22)\n",
    "     a31 * b11 + a32 * b21, a31 * b12 + a32 * b22\n",
    "```\n",
    "This rule applies for a chain of matrix multiplications.  The number of columns in one matrix in the chain must match the number of rows in the following matrix in the chain. The intuition for the matrix multiplication is that we are calculating the dot product between each row in matrix A with each column in matrix B. For example, we can step down rows of column A and multiply each with column 1 in B to give the scalar values in column 1 of C.\n",
    "\n",
    "This is made clear with the following worked example between two matrices.\n",
    "<img src=\"dot2.png\" width=400>\n",
    "\n",
    "Let's define above matrices and see how to achieve this in python and numpy with `.dot()` :\n",
    "\n",
    "```python\n",
    "# matrix dot product\n",
    "A = np.array([[1, 2, 3], [4, 5, 6], [7, 8, 9], [10, 11, 12]])\n",
    "B = np.array([[2, 7], [1, 2], [3, 6]])\n",
    "\n",
    "C = A.dot(B)\n",
    "\n",
    "print(A, '\\ndot', '\\n', B, '\\n=\\n', C)\n",
    "```\n"
   ]
  },
  {
   "cell_type": "code",
   "execution_count": 17,
   "metadata": {},
   "outputs": [],
   "source": [
    "# Code here "
   ]
  },
  {
   "cell_type": "markdown",
   "metadata": {},
   "source": [
    "## Matrix-Vector Dot Product\n",
    "\n",
    "A matrix and a vector can be multiplied together as long as the rule of matrix multiplication (stated above) is observed. The number of columns in the matrix must equal the number of rows in the vector. As with matrix multiplication, the operation can be written using the dot notation. Because the vector only has one column, the result is always a vector. See the general approach below where A is the matrix being multiplied to v, a vector\n",
    "```\n",
    "     a11, a12\n",
    "A = (a21, a22)\n",
    "     a31, a32\n",
    "\n",
    "     v1\n",
    "v = (v2)\n",
    "\n",
    "     a11 * v1 + a12 * v2\n",
    "c = (a21 * v1 + a22 * v2)\n",
    "     a31 * v1 + a32 * v2\n",
    "```\n",
    "The matrix-vector multiplication can be implemented in NumPy using the dot() function as seen before.\n",
    "\n",
    "```python\n",
    "# matrix-vector multiplication\n",
    "\n",
    "A = np.array([[1, 2], [3, 4], [5, 6]])\n",
    "v = np.array([0.5, 0.5])\n",
    "\n",
    "C = A.dot(v)\n",
    "\n",
    "print(A,'\\ndot', '\\n',v,'\\n=',C)\n",
    "```"
   ]
  },
  {
   "cell_type": "code",
   "execution_count": 18,
   "metadata": {},
   "outputs": [],
   "source": [
    "# Code here "
   ]
  },
  {
   "cell_type": "markdown",
   "metadata": {},
   "source": [
    "## Cross Product\n",
    "\n",
    "We know from basic geometry that a vector has magnitude (how long it is) and direction. Two vectors can be multiplied using the \"Cross Product\". The cross product or vector product is a binary operation on two vectors in three-dimensional space. The result is a vector which is perpendicular to the vectors being multiplied and normal to the plane containing them. \n",
    "\n",
    "<img src=\"cross.png\" wodth=400>\n",
    "\n",
    "The cross product of two vectors a and b is denoted by a × b. \n",
    "\n",
    "It's defined as: \n",
    "> **a × b = |a| |b| sin(θ) n**"
   ]
  },
  {
   "cell_type": "markdown",
   "metadata": {},
   "source": [
    "* |a| is the magnitude (length) of vector a\n",
    "* |b| is the magnitude (length) of vector b\n",
    "* θ is the angle between a and b\n",
    "* n is the unit vector at right angles to both a and b\n",
    "\n",
    "If either of the vectors being multiplied is zero or the vectors are parallel then their cross product is zero. More generally, the magnitude of the product equals the area of a parallelogram with the vectors as sides. If the vectors are perpendicular the parallelogram is a rectangle and the magnitude of the product is the product of their lengths. \n",
    "\n",
    "In Numpy we can take a cross product with `.cross()` function\n",
    "```python\n",
    "# Cross product between two vectors\n",
    "x = np.array([0,0,1])\n",
    "y = np.array([0,1,0])\n",
    "\n",
    "print(np.cross(x,y))\n",
    "print(np.cross(y,x))\n",
    "```"
   ]
  },
  {
   "cell_type": "code",
   "execution_count": 20,
   "metadata": {},
   "outputs": [],
   "source": [
    "# Code here "
   ]
  },
  {
   "cell_type": "markdown",
   "metadata": {},
   "source": [
    "Interesting, we shall look at the applications of cross product later while trying to learn new machine learning algorithms and developing geometric intuitions. Natural Language Processing and bringing in text into vector space to check for say document similarity, is a popular area where cross products and other similar measures are used for analysis. For now we shall look a bit more into the dot product.\n",
    "\n",
    "#### Similar to scalar-vector multiplication, a scalar-matrix multiplication involves multiplying every element of the matrix to the scalar value, resulting as an output matrix having same dimensions as the input matrix."
   ]
  },
  {
   "cell_type": "markdown",
   "metadata": {},
   "source": [
    "## Summary \n",
    "\n",
    "In this lesson, we looked at matrix multiplication using Hadamard product and dot product. We also looked at how to take the dot product between vectors and matrices while observing the size assumptions. We also saw how cross product works between two vectors. Next , we shall look at some properties of dot products and what makes them so special. \n"
   ]
  }
 ],
 "metadata": {
  "kernelspec": {
   "display_name": "Python 3",
   "language": "python",
   "name": "python3"
  },
  "language_info": {
   "codemirror_mode": {
    "name": "ipython",
    "version": 3
   },
   "file_extension": ".py",
   "mimetype": "text/x-python",
   "name": "python",
   "nbconvert_exporter": "python",
   "pygments_lexer": "ipython3",
   "version": "3.6.4"
  }
 },
 "nbformat": 4,
 "nbformat_minor": 2
}
