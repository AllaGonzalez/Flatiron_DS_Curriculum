{
 "cells": [
  {
   "cell_type": "markdown",
   "metadata": {},
   "source": [
    "# Poisson Distribution - Lab\n",
    "\n",
    "## Introduction\n",
    "\n",
    "In this lab, we'll put our knowledge of the Poisson Distribution to use to answer solve some sample real-world problems!\n",
    "\n",
    "## Objectives\n",
    "\n",
    "You will be able to:\n",
    "\n",
    "* Understand and explain the Poisson Distribution and its use cases.\n",
    "\n",
    "\n",
    "## Instructions\n",
    "\n",
    "Solve the following sample problems by using python and your knowledge of the Poisson Distribution.\n",
    "\n",
    "## Getting Started\n",
    "\n",
    "Good Data Scientists plan ahead! Since you're going to be solving Poisson Distribution problems in this lab, it's probably a good idea to write a function that calculates Poisson Probability for us first. \n",
    "\n",
    "Recall that the Poisson Probability Formula is:\n",
    "\n",
    "$$p(x) = \\frac{\\lambda^xe^{-\\lambda}}{x!}$$\n",
    "\n",
    "Write a generalized that takes in the appropriate parameters and returns the Poisson Probability.\n",
    "\n",
    "**_NOTE:_**  You can use `np.exp()` to quickly calculate $e$, and `math.factorial` (from the `math` library, not numpy) to calculate factorials. \n",
    "\n",
    "**_HINT:_** It's up to you whether or not you have your function calculate the value for lambda given $\\mu$ and the interval, or whether you calculate lambda yourself beforehand and just pass it into the function. "
   ]
  },
  {
   "cell_type": "code",
   "execution_count": null,
   "metadata": {},
   "outputs": [],
   "source": [
    "import numpy as np\n",
    "from math import factorial"
   ]
  },
  {
   "cell_type": "code",
   "execution_count": null,
   "metadata": {},
   "outputs": [],
   "source": [
    "def poisson_probability(lambd, x):\n",
    "    pass"
   ]
  },
  {
   "cell_type": "markdown",
   "metadata": {},
   "source": [
    "## Question 1\n",
    "\n",
    "A fireman fights, on average, 4 fires per month. What is the probability that a fireman is called to two different fires this week?"
   ]
  },
  {
   "cell_type": "code",
   "execution_count": null,
   "metadata": {},
   "outputs": [],
   "source": [
    "lambd_q1 = None\n",
    "prob_q1 = None\n",
    "print(prob_q1)  # Expected Output:  0.18393972058572117"
   ]
  },
  {
   "cell_type": "markdown",
   "metadata": {},
   "source": [
    "## Question 2\n",
    "\n",
    "A car salesman sells an average of 4 cars per week.  What is the probability they sell a car today?"
   ]
  },
  {
   "cell_type": "code",
   "execution_count": null,
   "metadata": {},
   "outputs": [],
   "source": [
    "lambd_q2 = None\n",
    "prob_q2 = None\n",
    "print(prob_q2)  # Expected Output: 0.32269606971871956"
   ]
  },
  {
   "cell_type": "markdown",
   "metadata": {},
   "source": [
    "## Question 3\n",
    "\n",
    "A website makes an average of 50 sales per day.  What is the probability that they make 3 sales in an hour? "
   ]
  },
  {
   "cell_type": "code",
   "execution_count": null,
   "metadata": {},
   "outputs": [],
   "source": [
    "lambd_q3 = None\n",
    "prob_q3 = None\n",
    "print(prob_q3)  # Expected Output: 0.18764840049328912"
   ]
  },
  {
   "cell_type": "markdown",
   "metadata": {},
   "source": [
    "## Question 4\n",
    "\n",
    "A factory produces 250 cars per week (assume that the factory runs day and night all week with no down time). What is the probability that they produce 3 cars in the next hour?"
   ]
  },
  {
   "cell_type": "code",
   "execution_count": null,
   "metadata": {},
   "outputs": [],
   "source": [
    "lambd_q4 = None\n",
    "prob_q4 = None\n",
    "print(prob_q4)   # Expected Output: 0.1240136186052091"
   ]
  },
  {
   "cell_type": "markdown",
   "metadata": {},
   "source": [
    "## Question 5\n",
    "\n",
    "The following table shows the number of houses sold by a realtor each week for the month of May. What is the probability that they sell 3 houses next week?\n",
    "\n",
    "| Week | Houses Sold |\n",
    "|:----:|:-----------:|\n",
    "|   1  |      6      |\n",
    "|   2  |      2      |\n",
    "|   3  |      5      |\n",
    "|   4  |      4      |"
   ]
  },
  {
   "cell_type": "code",
   "execution_count": null,
   "metadata": {},
   "outputs": [],
   "source": [
    "mean_weekly_sales = None\n",
    "lambd_q5 = None \n",
    "prob_q5 = None\n",
    "print(prob_q5)  # Expected Output: 0.18250047186175347"
   ]
  },
  {
   "cell_type": "markdown",
   "metadata": {},
   "source": [
    "## Summary\n",
    "\n",
    "In this lab, we got some practice making use of our knowledge of the Poisson Distribution to answer some real-world questions!"
   ]
  }
 ],
 "metadata": {
  "kernelspec": {
   "display_name": "Python 3",
   "language": "python",
   "name": "python3"
  },
  "language_info": {
   "codemirror_mode": {
    "name": "ipython",
    "version": 3
   },
   "file_extension": ".py",
   "mimetype": "text/x-python",
   "name": "python",
   "nbconvert_exporter": "python",
   "pygments_lexer": "ipython3",
   "version": "3.6.5"
  }
 },
 "nbformat": 4,
 "nbformat_minor": 2
}
