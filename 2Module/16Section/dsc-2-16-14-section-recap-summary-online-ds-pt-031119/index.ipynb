{
 "cells": [
  {
   "cell_type": "markdown",
   "metadata": {},
   "source": [
    "# Section Recap"
   ]
  },
  {
   "cell_type": "markdown",
   "metadata": {},
   "source": [
    "## Introduction\n",
    "\n",
    "This short lesson summarizes the topics we covered in section 16 and why they'll be important to you as a data scientist."
   ]
  },
  {
   "cell_type": "markdown",
   "metadata": {},
   "source": [
    "## Objectives\n",
    "You will be able to:\n",
    "* Understand and explain what was covered in this section\n",
    "* Understand and explain why this section will help you become a data scientist"
   ]
  },
  {
   "cell_type": "markdown",
   "metadata": {},
   "source": [
    "## Key Takeaways\n",
    "\n",
    "In this section, we really dug into two key formats for storing and transferring data between applications - JSON and XML. Key takeaways include:\n",
    "* XML (eXtensible Markup Language) is a general purpose markup language for describing any kind of structured data\n",
    "* JSON (JavaScript Object Notation) is another common format for storing and accessing data. It requires slightly less typing than XML to represent the same information so it has become increasingly popular over the last 10-15 years\n",
    "* The XML standard library in Python allows for interacting with XML data - https://docs.python.org/3.6/library/xml.html\n",
    "* The JSON standard library in Python is used for interacting with JSON data - https://docs.python.org/3.6/library/json.html\n",
    "* Recursive functions have a number of uses - including traversing deely embedded XML and/or JSON data structures\n",
    "* NoSQL databases are data stores that are not relational and don't use SQL for data access. Generally they're categorized as key-value stores (e.g. Redis), document databases (e.g. MongoDB), wide-column databases (e.g. Cassandra) or Graph databases (e.g. Neo4j) although over time some specific databases have started to resist easy categorization.\n"
   ]
  }
 ],
 "metadata": {
  "kernelspec": {
   "display_name": "Python [default]",
   "language": "python",
   "name": "python3"
  },
  "language_info": {
   "codemirror_mode": {
    "name": "ipython",
    "version": 3
   },
   "file_extension": ".py",
   "mimetype": "text/x-python",
   "name": "python",
   "nbconvert_exporter": "python",
   "pygments_lexer": "ipython3",
   "version": "3.6.6"
  }
 },
 "nbformat": 4,
 "nbformat_minor": 2
}
