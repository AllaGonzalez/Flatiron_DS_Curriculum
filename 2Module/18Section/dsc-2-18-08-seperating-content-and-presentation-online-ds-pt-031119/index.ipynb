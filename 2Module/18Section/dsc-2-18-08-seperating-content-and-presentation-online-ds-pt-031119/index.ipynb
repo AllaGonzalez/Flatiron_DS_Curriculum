{
 "cells": [
  {
   "cell_type": "markdown",
   "metadata": {},
   "source": [
    "# Seperating Content and Presentation"
   ]
  },
  {
   "cell_type": "markdown",
   "metadata": {},
   "source": [
    "## Introduction\n",
    "We now know what HTML is. We know how to create a properly-formatted HTML\n",
    "document and we know how to browse the HTML references. We have everything\n",
    "we need to be HTML authors. However, if we look at our rendered HTML pages, we\n",
    "can't help but notice that they look a little plain. How do we make them look\n",
    "more attractive?  And why can't we make our pages look better with only HTML\n",
    "itself? We'll solve those questions in this lesson."
   ]
  },
  {
   "cell_type": "markdown",
   "metadata": {},
   "source": [
    "## Objectives\n",
    "You will be able to:\n",
    "* Identify the separation of content and presentation\n",
    "* Identify the role of CSS"
   ]
  },
  {
   "cell_type": "markdown",
   "metadata": {},
   "source": [
    "## Identify the Separation of Content and Presentation\n",
    "\n",
    "HTML lets us mark-up our content with semantic _structure_. This is what lets\n",
    "us build solid foundations for our content and it's the chief purpose of HTML.\n",
    "\n",
    "It would be great to be able to say, \"Browser, when you see a `p` tag with\n",
    "`id` of `my-name`, make the first letter be huge!\" Or, to get your readers'\n",
    "attention, you might say, \"Browser, if you see _any_ tag with a `class` of\n",
    "`warning` surround it with a red box!\"\n",
    "\n",
    "HTML authors believe that creating marked-up documents and styling marked-up\n",
    "documents are entirely separate tasks. They see a difference between writing\n",
    "_content_ (the data within the HTML document) and specifying _presentation_,\n",
    "the rules for displaying the rendered elements.  We use HTML for content and"
   ]
  },
  {
   "cell_type": "markdown",
   "metadata": {},
   "source": [
    "## Identify the Role of CSS\n",
    "\n",
    "CSS, or \"Cascading Style Sheets,\" tell us how to write rules that define how\n",
    "browsers will present HTML. Rules in CSS won't look like HTML and they usually\n",
    "live in a file apart from our HTML file.\n",
    "\n",
    "CSS handles all of the ways we want to customize our content's look and feel\n",
    "from margins and colors, to column-based layout!"
   ]
  },
  {
   "cell_type": "markdown",
   "metadata": {},
   "source": [
    "## Additional Resources\n",
    "\n",
    "* [CSS Guidelines: The Separation of Concerns](https://cssguidelin.es/#the-separation-of-concerns)\n",
    "* [CSS Zen Garden](http://www.csszengarden.com/)"
   ]
  },
  {
   "cell_type": "markdown",
   "metadata": {},
   "source": [
    "## Summary\n",
    "We separate the content of our HTML pages from their presentation, which we\n",
    "style with CSS. By keeping the two separate, we not only utilize the best tools\n",
    "for each job, but we can change code for one without disturbing the code for\n",
    "the other."
   ]
  }
 ],
 "metadata": {
  "kernelspec": {
   "display_name": "Python 3",
   "language": "python",
   "name": "python3"
  },
  "language_info": {
   "codemirror_mode": {
    "name": "ipython",
    "version": 3
   },
   "file_extension": ".py",
   "mimetype": "text/x-python",
   "name": "python",
   "nbconvert_exporter": "python",
   "pygments_lexer": "ipython3",
   "version": "3.6.5"
  }
 },
 "nbformat": 4,
 "nbformat_minor": 2
}
