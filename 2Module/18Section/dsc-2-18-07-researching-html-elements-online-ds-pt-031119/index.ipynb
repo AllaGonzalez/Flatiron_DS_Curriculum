{
 "cells": [
  {
   "cell_type": "markdown",
   "metadata": {},
   "source": [
    "# Researching HTML Elements"
   ]
  },
  {
   "cell_type": "markdown",
   "metadata": {},
   "source": [
    "## Introduction\n",
    "When writing HTML you might encounter tags that are new to you.  How are\n",
    "we going to level-up?  When searching for technical help, we have to be careful\n",
    "about which sources we trust. This is a skill you will build over time, but\n",
    "we'll model some good practices in this README."
   ]
  },
  {
   "cell_type": "markdown",
   "metadata": {},
   "source": [
    "## Objectives\n",
    "You will be able to:\n",
    "* Use search engines as a resource to find information\n",
    "* Observe and identify relevant resources\n",
    "* Compare multiple resources to find the best source"
   ]
  },
  {
   "cell_type": "markdown",
   "metadata": {},
   "source": [
    "## Use Search Engines as a Resources to Find Information\n",
    "\n",
    "Let's say in your research, you come across an unfamiliar HTML element like\n",
    "`<samp>`. We can google `samp html element,` and we will find an endless list\n",
    "of results to choose from. Sometimes resources can be outdated, biased, or\n",
    "inaccurate. It's important to filter through the results to find the best fit.\n",
    "\n",
    "![](https://curriculum-content.s3.amazonaws.com/web-development/html-element-search.png)"
   ]
  },
  {
   "cell_type": "markdown",
   "metadata": {},
   "source": [
    "## Observe And Identify Resources Relevant Information\n",
    "\n",
    "Your instinct might be to open the first result. You should be pickier.\n",
    "Sometimes the result has \"gamed\" the search engine and unfairly influenced the ranking.\n",
    "We recommend that you open the top **five** results and review them critically.\n",
    "\n",
    "We also recommend that you trust sites that are affiliated with building or\n",
    "defining the technologies more than blogs or other resources. In the HTML\n",
    "world, the Mozilla Developer Network (MDN) is an extremely trustworthy site.\n",
    "In fact, it's likely the best HTML, JS and CSS documentation source on the\n",
    "internet.\n",
    "\n",
    "![](https://curriculum-content.s3.amazonaws.com/web-development/samp-mdn-page.png)"
   ]
  },
  {
   "cell_type": "markdown",
   "metadata": {},
   "source": [
    "## Compare Multiple Resources To Find The Best Source\n",
    "\n",
    "If we go back to the search results, you'll see that the first result in this\n",
    "case is `W3schools`. A site, like W3schools, for example, can be used as an\n",
    "additional resource for garnering understanding. It even includes interactive\n",
    "examples, creating a sandbox environment for experimentation.\n",
    "\n",
    "In this case, between MDN and W3schools, you should get a good sense of how to\n",
    "use the `<samp>` element."
   ]
  },
  {
   "cell_type": "markdown",
   "metadata": {},
   "source": [
    "## Summary\n",
    "\n",
    "The web is a constantly evolving entity. As we build more ambitious products or\n",
    "learn from our collective needs and mistakes, the industry will continually\n",
    "update the HTML specifications.\n",
    "\n",
    "Researching referencing documentation\n",
    "can be scary at first, but it's a primary skill for developers. Don't be afraid to\n",
    "practice technical searches. It's a _skill_ that you will get better at with practice.\n",
    "\n",
    "Most importantly, don't feel like _not knowing everything by heart_ means you can't\n",
    "be a developer. The greatest developers we know are constantly admitting what they\n",
    "don't know, finding the latest news, using the answer they found, and moving on."
   ]
  }
 ],
 "metadata": {
  "kernelspec": {
   "display_name": "Python 3",
   "language": "python",
   "name": "python3"
  },
  "language_info": {
   "codemirror_mode": {
    "name": "ipython",
    "version": 3
   },
   "file_extension": ".py",
   "mimetype": "text/x-python",
   "name": "python",
   "nbconvert_exporter": "python",
   "pygments_lexer": "ipython3",
   "version": "3.6.5"
  }
 },
 "nbformat": 4,
 "nbformat_minor": 2
}
