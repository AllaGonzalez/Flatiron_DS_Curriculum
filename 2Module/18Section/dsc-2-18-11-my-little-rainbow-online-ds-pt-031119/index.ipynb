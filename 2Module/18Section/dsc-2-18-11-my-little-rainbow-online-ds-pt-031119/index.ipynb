{
 "cells": [
  {
   "cell_type": "markdown",
   "metadata": {},
   "source": [
    "# My Little Rainbow - Lab"
   ]
  },
  {
   "cell_type": "markdown",
   "metadata": {},
   "source": [
    "## Introduction\n",
    "In this lab, we're going to make a rainbow with HTML `<div>` elements. And while we do it we're going to learn about HTML elements, CSS styling, CSS selectors, how color works in CSS, and importing stylesheets.  That might sound like a lot but it isn't.\n",
    "\n",
    "Before we start, here's some basic info about HTML and CSS. Skip to [Making a Rainbow](#making-a-rainbow) if you feel comfortable enough with HTML and CSS."
   ]
  },
  {
   "cell_type": "markdown",
   "metadata": {},
   "source": [
    "## Objectives\n",
    "You will be able to:\n",
    "* Modify HTML and CSS files\n",
    "* Add ids to HTML elements\n",
    "* Select and style HTML elements with CSS"
   ]
  },
  {
   "cell_type": "markdown",
   "metadata": {},
   "source": [
    "## HTML Basics\n",
    "Hyper Text Markup Language, or HTML, is a way to demarcate a document into different parts. Each part is _marked_ by elements (using tags). Each element has its own special connotation that the browser uses to _render_ the HTML document. Use this [cheat sheet](https://web.stanford.edu/group/csp/cs21/htmlcheatsheet.pdf) on HTML elements for guidance.\n",
    "\n",
    "## Elements\n",
    "- All begin with `<` and end with `>`, e.g., `<div>` (this last part is a tag).\n",
    "- Most have an opening tag such as `<div>` and a closing tag `</div>`.\n",
    "  + The `/` indicates to the browser that that tag is a closing tag.\n",
    "  + The element is everything between the tags and the tags themselves.\n",
    "- Some tags are self closing like the line break element `<br>`.\n",
    "- Elements can have IDs and classes to aid the browser in finding specific tags.\n",
    "  + Must begin with a letter A-Z or a-z.\n",
    "  + Can be followed by: letters (`A-Za-z`), digits (`0-9`), hyphens (`-`), and underscores (`_`).\n",
    "  + IDs **can** only be used once per page. E.g.: `<div id=\"this-special-div\"></div>`.\n",
    "  + Classes can be used as many times as you want. E.g.: `<div class=\"a-less-special-div\"></div>`.\n",
    "- Elements nested inside other elements are called children.\n",
    "  + Children inherit attributes from their parents.\n",
    "  + Don't nest everything. \n",
    "- Elements next to one another are siblings.\n",
    "  + Siblings do not inherit from one another, but are important for selecting in CSS.\n",
    "\n",
    "Here is an example of element relations:\n",
    "```html\n",
    "<div>  <!-- the parent element -->\n",
    "  <p></p>  <!-- the first sibling element/the first child-->\n",
    "  <p></p>  <!-- the second sibling element/the second child -->\n",
    "</div>\n",
    "```\n",
    "\n",
    "## CSS Basics\n",
    "Cascading Style Sheets, or CSS, is a language created to style an HTML document by telling the browser how specific elements should look. CSS does this by selecting elements based on their tag, ids, classes, or all of the above. The reason for CSS is the separation of concerns. We want HTML only to be concerned with how it displays and demarcates information, and we let CSS worry about how to make that information look pretty.\n",
    "\n",
    "## CSS selectors\n",
    "  - They select elements to assign them styles.\n",
    "  - `*` (wildcard) selects every element.\n",
    "  - An element, such as `div`, will select all elements of that type.\n",
    "  - They select an id like `#some-id`\n",
    "  - Classes are selected like this `.some-class`\n",
    "  - To select all children elements of a parent do something like this `div p`\n",
    "  - To select multiple different elements separate them by commas like this `div, p, a`\n",
    "\n",
    "Here's an example of CSS styling:\n",
    "```css\n",
    "* {\n",
    "  color: red;  /* color in CSS refers to font color */\n",
    "}  /* all elements will have red font */\n",
    "```\n",
    "\n",
    "## Making a Rainbow\n",
    "First off make sure you have [forked](https://github.com/learn-co-students/my-little-rainbow-v-000) and cloned this repo. Next, create a new branch, and switch to it; it's `git checkout -b your_solution_branch_name` in case you forgot.\n",
    "\n",
    "In that directory you'll see three files. `index.html`, `main.css`, and this `README.md`.  Open them in your text editor via your command line.  Also open `index.html` in your browser; if everything is working correctly you should see a white page. Good job!\n",
    "\n",
    "## Making the Divs Visible\n",
    "If you use the inspector or look at the file in your text editor, you'll see that the basic file stucture is there.  So why can't we see anything?!?!?  That's because the divs have no styling on them right now.  And that's because we never told the browser to include a CSS file that would apply any styles. \n",
    "\n",
    "Let's fix this by adding the stylesheet to the `head` like so,\n",
    "```html\n",
    "<head>\n",
    "... \n",
    "  <link rel=\"stylesheet\" type=\"text/css\" href=\"main.css\">\n",
    "...\n",
    "</head>\n",
    "```\n",
    "Link is a self closing tag that will create a relative path with the `href` attribute.  A relative path means the browser knows that the `main.css` file is in the same place as `index.html`.  The `head` is a hidden part of the page that tells the browser where to find any other files it needs to display the page correctly, the `title` for the tab, and any other possible important information.\n",
    "\n",
    "Now if you refresh the `index.html` page in your browser you should see an ugly black rainbow.  Gerd Jerb!\n",
    "\n",
    "Okay so we got the basic outline because in the `main.css` all the `div` elements were selected and styled, but the colors are wrong because the default border color is black.  To fix this we need to learn a little bit more about colors, because while we could just set `color: red;` we should learn how to make colors without words.  We should just use numbers, and not just any set of numbers, but numbers with base pair of 16 rather than base pair of 10 like we use everyday.  These numbers are called hexadecimals and we can use them to make colors.\n",
    "\n",
    "## Some Stuff You Should Know About Hex Colors (and Web Colors in General).\n",
    "Hex colors begin with `#` and are followed by, generally, 6 numbers, but some of these numbers are actually letters.  The lowest single digit number in hex is 0 and the highest single digit number is f.  This table might help to visualize what we mean by this.\n",
    "\n",
    "```\n",
    "Decimal Numbers:      0, 1, 2, 3, 4, 5, 6, 7, 8, 9, 10, 11, 12, 13, 14, 15, 16\n",
    "Hexadecimal Numbers:  0, 1, 2, 3, 4, 5, 6, 7, 8, 9,  a,  b,  c,  d,  e,  f, 10\n",
    "```\n",
    "\n",
    "Hex colors work by creating Red, Green, Blue (RGB) values.  Traditional RGB colors are on a scale of 0 to 255 for each of the three colors in the spectrum.  Hex colors are considered true colors since it can represent ~16 million colors, but your eye can only see 10 million of those.  So `#000000` translates to black since 0 reds, 0 green, 0 blues represents the absence of all colors, and `#ffffff` makes white since 255 reds, 255 greens, and 255 blues is the maximum of each of the colors.  \n",
    "\n",
    "Hex colors can be shortened to just three numbers when each RGB value is the same for each digit. So `#11dd99` can be written as `#1d9`.\n",
    "\n",
    "## Coloring the Rainbow\n",
    "To get roygbiv onto our rainbow we'll need seven hex colors.\n",
    "Red: `#f00`; Orange: `#ffa500`; Yellow: `#ff0`; Green: `#00bc3f`; Blue: `#06f`; Indigo: `#8a2be2`; Violet: `#d300c9`\n",
    "\n",
    "With those colors all we have to do next is select each div individually.  That is a perfect use for ids since they're meant to style one specific element only.  So that means we'll need to add an id for each div, so a logical name for each div would be the color that they have to be.  It could be something random, but good names make for semantic code. So let's give the outermost div the id red. We'll do this like so.\n",
    "```html\n",
    "<div id=\"red\">\n",
    "  ...\n",
    "</div>\n",
    "```\n",
    "\n",
    "And to give that id some CSS attributes we'll go into `main.css`, select the id, and mark its color as red like this.\n",
    "```css\n",
    "#red { /* this selects any elements with the red id */\n",
    "  border-top-color: #f00;\n",
    "}\n",
    "```\n",
    "\n",
    "So to make sure the rainbow isn't so monochromatic you now need to repeat the above steps with the final six colors of the rainbow, and when you do you should have something like [this](http://i0.kym-cdn.com/photos/images/original/000/118/087/2468904593_6a7c692ab6.jpg).\n",
    "\n",
    "<p class='util--hide'>View <a href='https://learn.co/lessons/my-little-rainbow'>My Little Rainbow</a> on Learn.co and start learning to code for free.</p>\n"
   ]
  },
  {
   "cell_type": "markdown",
   "metadata": {},
   "source": [
    "## Summary\n",
    "Well done! In this lab you independently modified HTML and CSS files in order to update a webpage."
   ]
  }
 ],
 "metadata": {
  "kernelspec": {
   "display_name": "Python 3",
   "language": "python",
   "name": "python3"
  },
  "language_info": {
   "codemirror_mode": {
    "name": "ipython",
    "version": 3
   },
   "file_extension": ".py",
   "mimetype": "text/x-python",
   "name": "python",
   "nbconvert_exporter": "python",
   "pygments_lexer": "ipython3",
   "version": "3.6.4"
  }
 },
 "nbformat": 4,
 "nbformat_minor": 2
}
