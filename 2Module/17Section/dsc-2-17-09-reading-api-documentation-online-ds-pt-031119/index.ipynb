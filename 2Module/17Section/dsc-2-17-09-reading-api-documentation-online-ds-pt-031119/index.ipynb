{
 "cells": [
  {
   "cell_type": "markdown",
   "metadata": {},
   "source": [
    "# Reading API Documentation\n",
    "\n",
    "The previously deployed lab around working with the twitter API and basic NLP can be found [here](https://github.com/learn-co-curriculum/dsc-2-15-09-accessing-data-from-twitter-lab/tree/3beebcae99f651a1a4c839f8e90120f8403361fb) (not relevant for new students).\n",
    "\n",
    "## Introduction \n",
    "We've now covered an example API request, but how on Earth would you know how to do that on your own? The answer is through documentation! All APIs will have associated documentation, and while there are substantial similarities, all will be different to one degree or another. The best way to get more comfortable is to practice! So with that, let's take a look at the yelp documentation associated with our previous example.  \n",
    "\n",
    "## Objectives\n",
    "\n",
    "You will be able to:\n",
    "\n",
    "* Read API Documentation\n",
    "* Translate documentation into Python code\n",
    "* Execute get requests in order to utilize the Yelp API"
   ]
  },
  {
   "cell_type": "markdown",
   "metadata": {},
   "source": [
    "Start by navigating to: https://www.yelp.com/developers/documentation/v3/get_started and having a look for yourself!  \n",
    "\n",
    "<img src=\"yelp_overview.png\">"
   ]
  },
  {
   "cell_type": "markdown",
   "metadata": {},
   "source": [
    "As you see at the top, the first piece of almost every API is authentication. \n",
    "\n",
    "This is where we started in the previous codealong, where we went to https://www.yelp.com/developers/v3/manage_app and created a new app. \n",
    "\n",
    "<img src=\"yelp_app.png\">"
   ]
  },
  {
   "cell_type": "markdown",
   "metadata": {},
   "source": [
    "Let's take a closer look at Yelp's authentication documentation:  \n",
    "https://www.yelp.com/developers/documentation/v3/authentication\n",
    "    \n",
    "<img src=\"yelp_auth.png\">"
   ]
  },
  {
   "cell_type": "markdown",
   "metadata": {},
   "source": [
    "Notice in the documentation, it gives us the specific format \"Put the API Key in the request header as \"Authorization: Bearer <YOUR API KEY>\".\" This is what we passed in our get request.   \n",
    "    \n",
    "As a reminder, we have:"
   ]
  },
  {
   "cell_type": "code",
   "execution_count": 2,
   "metadata": {},
   "outputs": [],
   "source": [
    "import requests"
   ]
  },
  {
   "cell_type": "code",
   "execution_count": null,
   "metadata": {},
   "outputs": [],
   "source": [
    "url = #This will be our next step\n",
    "header = {\"Authorization\" : \"Bearer {}\".format(api_key)}\n",
    "response = requests.get(url, header=header)"
   ]
  },
  {
   "cell_type": "markdown",
   "metadata": {},
   "source": [
    " With that, let's take a look at how the rest of our request should be formatted. Go to https://www.yelp.com/developers/documentation/v3/business_search  and take a couple minutes to look things over.\n",
    " \n",
    " <img src=\"yelp_docs.png\">"
   ]
  },
  {
   "cell_type": "markdown",
   "metadata": {},
   "source": [
    "Notice the first part is the format of the get request! This is the url we pass into our get request. From there, the available parameters that you can pass are listed. These define your query, some are required while others are optional."
   ]
  },
  {
   "cell_type": "markdown",
   "metadata": {},
   "source": [
    "Reviewing our python package we thus have:"
   ]
  },
  {
   "cell_type": "code",
   "execution_count": null,
   "metadata": {},
   "outputs": [],
   "source": [
    "#Note: this cell won't return a valid response unless you specify your api key\n",
    "api_key = #put your api key (as a string) here\n",
    "url = 'https://api.yelp.com/v3/businesses/search'\n",
    "\n",
    "headers = {\n",
    "        'Authorization': 'Bearer {}'.format(api_key),\n",
    "    }\n",
    "\n",
    "url_params = {\n",
    "                'location': 'NYC'\n",
    "            }\n",
    "response = requests.get(url, headers=headers, params=url_params)"
   ]
  },
  {
   "cell_type": "markdown",
   "metadata": {},
   "source": [
    "Note that location or latitute and longitude are the only required parameters. That said, you are free to pass as many parameters as you want such as:"
   ]
  },
  {
   "cell_type": "code",
   "execution_count": null,
   "metadata": {},
   "outputs": [],
   "source": [
    "#Note: this cell won't return a valid response unless you specify your api key\n",
    "api_key = #put your api key (as a string) here\n",
    "\n",
    "url = 'https://api.yelp.com/v3/businesses/search'\n",
    "\n",
    "headers = {\n",
    "        'Authorization': 'Bearer {}'.format(api_key),\n",
    "    }\n",
    "\n",
    "url_params = {\n",
    "                'location': 'NYC',\n",
    "                'term' : 'pizza',\n",
    "                'limit' : 50,\n",
    "                'price' : \"1,2,3,4\",\n",
    "                'open_now' : True\n",
    "            }\n",
    "response = requests.get(url, headers=headers, params=url_params)"
   ]
  },
  {
   "cell_type": "markdown",
   "metadata": {},
   "source": [
    "The final important note is how some of the parameters have alternative formats. For example, limit is an integer and open_now is a boolean according to the documentation. Following these conventions is essential to receiving valid responses."
   ]
  },
  {
   "cell_type": "markdown",
   "metadata": {},
   "source": [
    "# Summary\n",
    "\n",
    "Congratulations! Not only have you seen an API now, you've also practiced sifting through the documentation. The last piece in working with APIs is developing a more solid understanding of JSON files; the data format typically returned by modern APIs. Take some additional time and familarize yourself with some further aspects of the documentation which you may wish to investigate in the upcoming lab!"
   ]
  }
 ],
 "metadata": {
  "kernelspec": {
   "display_name": "Python 3",
   "language": "python",
   "name": "python3"
  },
  "language_info": {
   "codemirror_mode": {
    "name": "ipython",
    "version": 3
   },
   "file_extension": ".py",
   "mimetype": "text/x-python",
   "name": "python",
   "nbconvert_exporter": "python",
   "pygments_lexer": "ipython3",
   "version": "3.6.4"
  }
 },
 "nbformat": 4,
 "nbformat_minor": 2
}
