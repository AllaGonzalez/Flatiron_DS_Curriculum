{
 "cells": [
  {
   "cell_type": "markdown",
   "metadata": {},
   "source": [
    "# Using the Yelp API - Codealong\n",
    "\n",
    "The previously deployed Codealong around working with the twitter API can be found [here](https://github.com/learn-co-curriculum/dsc-2-15-08-Twitter-API-tokens-codealong/tree/d297ab4dee806203cb861ce4f39b301c5189990f) (not relevant for new students).\n",
    "\n",
    "\n",
    "## Introduction\n",
    "\n",
    "Now that we've discussed HTTP requests and OAuth, it's time to practice applying those skills to a production level API. In this codealong, we'll take you through the process of signing up for an OAuth token and then using that to make requests to the Yelp API!\n",
    "\n",
    "## Objectives\n",
    "\n",
    "You will be able to:\n",
    "\n",
    "* Generate an OAuth token for the yelp API\n",
    "* Make requests using OAuth"
   ]
  },
  {
   "cell_type": "markdown",
   "metadata": {},
   "source": [
    "## Generating Access Tokens\n",
    "\n",
    "As discussed, in order to use many APIs, one needs to use OAuth which requires an access token. As such, our first step will be to generate this login information so that we can start making some requests.  \n",
    "\n",
    "With that, lets go grab an access token from an API site and make some API calls!\n",
    "Point your browser over to this [yelp page](https://www.yelp.com/developers/v3/manage_app) and start creating an app in order to obtain and api access token:\n",
    "\n",
    "![](./images/yelp_app.png)\n",
    "\n",
    "\n",
    "You can either sign in to an existing Yelp account, or create a new one, if needed.\n",
    "\n",
    "On the page you see above, simply fill out some sample information such as \"Flatiron Edu API Example\" for the app name, or whatever floats your boat. Afterwards, you should be presented with an API key that you can use to make requests!\n",
    "\n",
    "With that, it's time to start making some api calls!"
   ]
  },
  {
   "cell_type": "code",
   "execution_count": 12,
   "metadata": {},
   "outputs": [],
   "source": [
    "#As a general rule of thumb, don't store passwords in a main file like this!\n",
    "#Instead, you would normally store those passwords under a sub file like passwords.py which you would then import.\n",
    "#Or even better, as an environment variable that could then be imported!\n",
    "#For now, we'll simply hardcode them into our notebook for simplicity.\n",
    "client_id = #Your client ID goes here (as a string)\n",
    "api_key = #Your api key goes here (as a string)"
   ]
  },
  {
   "cell_type": "markdown",
   "metadata": {},
   "source": [
    "## An Example Request with OAuth <a id=\"oauth_request\"></a>\n",
    "https://www.yelp.com/developers/documentation/v3/get_started\n",
    "\n",
    "In the next lesson, we'll further dissect how to read and translate online documentation like the link here. For now, let's simply look at an example request and dissect it into its consituent parts:"
   ]
  },
  {
   "cell_type": "code",
   "execution_count": 19,
   "metadata": {},
   "outputs": [
    {
     "name": "stdout",
     "output_type": "stream",
     "text": [
      "<Response [200]>\n",
      "<class 'str'>\n",
      "{\"businesses\": [{\"id\": \"jeWIYbgBho9vBDhc5S1xvg\", \"alias\": \"holy-guacamole-astoria\", \"name\": \"Holy Guacamole\", \"image_url\": \"https://s3-media1.fl.yelpcdn.com/bphoto/8IjT2jd7vKDSOmtdXPI-Zg/o.jpg\", \"is_closed\": false, \"url\": \"https://www.yelp.com/biz/holy-guacamole-astoria?adjust_creative=xNHtXRpNa-MXGFJJTHHUvw&utm_campaign=yelp_api_v3&utm_medium=api_v3_business_search&utm_source=xNHtXRpNa-MXGFJJTHHUvw\", \"review_count\": 108, \"categories\": [{\"alias\": \"mexican\", \"title\": \"Mexican\"}, {\"alias\": \"bars\", \"title\": \"Bars\"}], \"rating\": 4.0, \"coordinates\": {\"latitude\": 40.756621, \"longitude\": -73.929336}, \"transactions\": [\"delivery\", \"pickup\"], \"price\": \"$$\", \"location\": {\"address1\": \"3555 31st St\", \"address2\": \"\", \"address3\": \"\", \"city\": \"Astoria\", \"zip_code\": \"11106\", \"country\": \"US\", \"state\": \"NY\", \"display_address\": [\"3555 31st St\", \"Astoria, NY 11106\"]}, \"phone\": \"+19178327261\", \"display_phone\": \"(917) 832-7261\", \"distance\": 1290.4274875130448}, {\"id\": \"6AJwsgXr7YwsqneGVAdgzw\", \"alias\": \"las-c\n"
     ]
    }
   ],
   "source": [
    "term = 'Mexican'\n",
    "location = 'Astoria NY'\n",
    "SEARCH_LIMIT = 10\n",
    "\n",
    "url = 'https://api.yelp.com/v3/businesses/search'\n",
    "\n",
    "headers = {\n",
    "        'Authorization': 'Bearer {}'.format(api_key),\n",
    "    }\n",
    "\n",
    "url_params = {\n",
    "                'term': term.replace(' ', '+'),\n",
    "                'location': location.replace(' ', '+'),\n",
    "                'limit': SEARCH_LIMIT\n",
    "            }\n",
    "response = requests.get(url, headers=headers, params=url_params)\n",
    "print(response)\n",
    "print(type(response.text))\n",
    "print(response.text[:1000])"
   ]
  },
  {
   "cell_type": "markdown",
   "metadata": {},
   "source": [
    "## Breaking Down the Request\n",
    "\n",
    "As you can see, there are three main parts to our request.  \n",
    "  \n",
    "They are:\n",
    "* The url\n",
    "* The header\n",
    "* The parameters\n",
    "  \n",
    "The url is fairly straightforward and is simply the base url as described in the documentation (again more details in the upcoming lesson).\n",
    "\n",
    "The header is a dictionary of key-value pairs. In this case, we are using a fairly standard header used by many APIs. It has a strict form where 'Authorization' is the key and 'Bearer YourApiKey' is the value.\n",
    "\n",
    "The parameters are the filters which we wish to pass into the query. These will be embedded into the url when the request is made to the api. Similar to the header, they form key-value pairs. Valid key parameters by which to structure your queries, are described in the API documentation which we'll look at further shortly. A final important note however, is the need to replace spaces with \"+\". This is standard to many requests as URLs cannot contain spaces. (Note that the header itself isn't directly embedded into the url itself and as such, the space between 'Bearer' and YourApiKey is valid.)\n"
   ]
  },
  {
   "cell_type": "markdown",
   "metadata": {},
   "source": [
    "## The Response\n",
    "\n",
    "As before, our response object has both a status code, as well as the data itself. With that, let's start with a little data exploration!"
   ]
  },
  {
   "cell_type": "code",
   "execution_count": 37,
   "metadata": {},
   "outputs": [
    {
     "data": {
      "text/plain": [
       "dict_keys(['businesses', 'total', 'region'])"
      ]
     },
     "execution_count": 37,
     "metadata": {},
     "output_type": "execute_result"
    }
   ],
   "source": [
    "response.json().keys()"
   ]
  },
  {
   "cell_type": "markdown",
   "metadata": {},
   "source": [
    "Now let's go a bit further and start to preview what's stored in each of the values for these keys."
   ]
  },
  {
   "cell_type": "code",
   "execution_count": 39,
   "metadata": {},
   "outputs": [
    {
     "name": "stdout",
     "output_type": "stream",
     "text": [
      "businesses\n",
      "<class 'list'>\n",
      "\n",
      "\n",
      "\n",
      "total\n",
      "<class 'int'>\n",
      "\n",
      "\n",
      "\n",
      "region\n",
      "<class 'dict'>\n",
      "\n",
      "\n",
      "\n"
     ]
    }
   ],
   "source": [
    "for key in response.json().keys():\n",
    "    print(key)\n",
    "    value = response.json()[key] #Use standard dictionary formatting\n",
    "    print(type(value)) #What type is it?\n",
    "    print('\\n\\n') #Seperate out data"
   ]
  },
  {
   "cell_type": "markdown",
   "metadata": {},
   "source": [
    "Let's continue to preview these further to get a little better acquainted."
   ]
  },
  {
   "cell_type": "code",
   "execution_count": 45,
   "metadata": {},
   "outputs": [
    {
     "data": {
      "text/plain": [
       "[{'id': 'jeWIYbgBho9vBDhc5S1xvg',\n",
       "  'alias': 'holy-guacamole-astoria',\n",
       "  'name': 'Holy Guacamole',\n",
       "  'image_url': 'https://s3-media1.fl.yelpcdn.com/bphoto/8IjT2jd7vKDSOmtdXPI-Zg/o.jpg',\n",
       "  'is_closed': False,\n",
       "  'url': 'https://www.yelp.com/biz/holy-guacamole-astoria?adjust_creative=xNHtXRpNa-MXGFJJTHHUvw&utm_campaign=yelp_api_v3&utm_medium=api_v3_business_search&utm_source=xNHtXRpNa-MXGFJJTHHUvw',\n",
       "  'review_count': 108,\n",
       "  'categories': [{'alias': 'mexican', 'title': 'Mexican'},\n",
       "   {'alias': 'bars', 'title': 'Bars'}],\n",
       "  'rating': 4.0,\n",
       "  'coordinates': {'latitude': 40.756621, 'longitude': -73.929336},\n",
       "  'transactions': ['delivery', 'pickup'],\n",
       "  'price': '$$',\n",
       "  'location': {'address1': '3555 31st St',\n",
       "   'address2': '',\n",
       "   'address3': '',\n",
       "   'city': 'Astoria',\n",
       "   'zip_code': '11106',\n",
       "   'country': 'US',\n",
       "   'state': 'NY',\n",
       "   'display_address': ['3555 31st St', 'Astoria, NY 11106']},\n",
       "  'phone': '+19178327261',\n",
       "  'display_phone': '(917) 832-7261',\n",
       "  'distance': 1290.4274875130448},\n",
       " {'id': '6AJwsgXr7YwsqneGVAdgzw',\n",
       "  'alias': 'las-catrinas-mexican-bar-and-eatery-astoria',\n",
       "  'name': 'Las Catrinas Mexican Bar & Eatery',\n",
       "  'image_url': 'https://s3-media3.fl.yelpcdn.com/bphoto/CKRiZUoyTUjs79bWnDEEpg/o.jpg',\n",
       "  'is_closed': False,\n",
       "  'url': 'https://www.yelp.com/biz/las-catrinas-mexican-bar-and-eatery-astoria?adjust_creative=xNHtXRpNa-MXGFJJTHHUvw&utm_campaign=yelp_api_v3&utm_medium=api_v3_business_search&utm_source=xNHtXRpNa-MXGFJJTHHUvw',\n",
       "  'review_count': 163,\n",
       "  'categories': [{'alias': 'mexican', 'title': 'Mexican'},\n",
       "   {'alias': 'cocktailbars', 'title': 'Cocktail Bars'}],\n",
       "  'rating': 4.0,\n",
       "  'coordinates': {'latitude': 40.7614214682633,\n",
       "   'longitude': -73.9246649456171},\n",
       "  'transactions': ['delivery', 'pickup'],\n",
       "  'price': '$$',\n",
       "  'location': {'address1': '32-02 Broadway',\n",
       "   'address2': '',\n",
       "   'address3': None,\n",
       "   'city': 'Astoria',\n",
       "   'zip_code': '11106',\n",
       "   'country': 'US',\n",
       "   'state': 'NY',\n",
       "   'display_address': ['32-02 Broadway', 'Astoria, NY 11106']},\n",
       "  'phone': '+19177450969',\n",
       "  'display_phone': '(917) 745-0969',\n",
       "  'distance': 642.5257707161409}]"
      ]
     },
     "execution_count": 45,
     "metadata": {},
     "output_type": "execute_result"
    }
   ],
   "source": [
    "response.json()['businesses'][:2]"
   ]
  },
  {
   "cell_type": "code",
   "execution_count": 41,
   "metadata": {},
   "outputs": [
    {
     "data": {
      "text/plain": [
       "638"
      ]
     },
     "execution_count": 41,
     "metadata": {},
     "output_type": "execute_result"
    }
   ],
   "source": [
    "response.json()['total']"
   ]
  },
  {
   "cell_type": "code",
   "execution_count": 42,
   "metadata": {},
   "outputs": [
    {
     "data": {
      "text/plain": [
       "{'center': {'longitude': -73.92219543457031, 'latitude': 40.76688875374591}}"
      ]
     },
     "execution_count": 42,
     "metadata": {},
     "output_type": "execute_result"
    }
   ],
   "source": [
    "response.json()['region']"
   ]
  },
  {
   "cell_type": "markdown",
   "metadata": {},
   "source": [
    "As you can see, we're primarily interested in the 'bussinesses' entry. \n",
    "\n",
    "Let's go ahead and create a dataframe from that."
   ]
  },
  {
   "cell_type": "code",
   "execution_count": 46,
   "metadata": {},
   "outputs": [
    {
     "name": "stdout",
     "output_type": "stream",
     "text": [
      "10\n",
      "Index(['alias', 'categories', 'coordinates', 'display_phone', 'distance', 'id',\n",
      "       'image_url', 'is_closed', 'location', 'name', 'phone', 'price',\n",
      "       'rating', 'review_count', 'transactions', 'url'],\n",
      "      dtype='object')\n"
     ]
    },
    {
     "data": {
      "text/html": [
       "<div>\n",
       "<style scoped>\n",
       "    .dataframe tbody tr th:only-of-type {\n",
       "        vertical-align: middle;\n",
       "    }\n",
       "\n",
       "    .dataframe tbody tr th {\n",
       "        vertical-align: top;\n",
       "    }\n",
       "\n",
       "    .dataframe thead th {\n",
       "        text-align: right;\n",
       "    }\n",
       "</style>\n",
       "<table border=\"1\" class=\"dataframe\">\n",
       "  <thead>\n",
       "    <tr style=\"text-align: right;\">\n",
       "      <th></th>\n",
       "      <th>alias</th>\n",
       "      <th>categories</th>\n",
       "      <th>coordinates</th>\n",
       "      <th>display_phone</th>\n",
       "      <th>distance</th>\n",
       "      <th>id</th>\n",
       "      <th>image_url</th>\n",
       "      <th>is_closed</th>\n",
       "      <th>location</th>\n",
       "      <th>name</th>\n",
       "      <th>phone</th>\n",
       "      <th>price</th>\n",
       "      <th>rating</th>\n",
       "      <th>review_count</th>\n",
       "      <th>transactions</th>\n",
       "      <th>url</th>\n",
       "    </tr>\n",
       "  </thead>\n",
       "  <tbody>\n",
       "    <tr>\n",
       "      <th>0</th>\n",
       "      <td>holy-guacamole-astoria</td>\n",
       "      <td>[{'alias': 'mexican', 'title': 'Mexican'}, {'a...</td>\n",
       "      <td>{'latitude': 40.756621, 'longitude': -73.929336}</td>\n",
       "      <td>(917) 832-7261</td>\n",
       "      <td>1290.427488</td>\n",
       "      <td>jeWIYbgBho9vBDhc5S1xvg</td>\n",
       "      <td>https://s3-media1.fl.yelpcdn.com/bphoto/8IjT2j...</td>\n",
       "      <td>False</td>\n",
       "      <td>{'address1': '3555 31st St', 'address2': '', '...</td>\n",
       "      <td>Holy Guacamole</td>\n",
       "      <td>+19178327261</td>\n",
       "      <td>$$</td>\n",
       "      <td>4.0</td>\n",
       "      <td>108</td>\n",
       "      <td>[delivery, pickup]</td>\n",
       "      <td>https://www.yelp.com/biz/holy-guacamole-astori...</td>\n",
       "    </tr>\n",
       "    <tr>\n",
       "      <th>1</th>\n",
       "      <td>las-catrinas-mexican-bar-and-eatery-astoria</td>\n",
       "      <td>[{'alias': 'mexican', 'title': 'Mexican'}, {'a...</td>\n",
       "      <td>{'latitude': 40.7614214682633, 'longitude': -7...</td>\n",
       "      <td>(917) 745-0969</td>\n",
       "      <td>642.525771</td>\n",
       "      <td>6AJwsgXr7YwsqneGVAdgzw</td>\n",
       "      <td>https://s3-media3.fl.yelpcdn.com/bphoto/CKRiZU...</td>\n",
       "      <td>False</td>\n",
       "      <td>{'address1': '32-02 Broadway', 'address2': '',...</td>\n",
       "      <td>Las Catrinas Mexican Bar &amp; Eatery</td>\n",
       "      <td>+19177450969</td>\n",
       "      <td>$$</td>\n",
       "      <td>4.0</td>\n",
       "      <td>163</td>\n",
       "      <td>[delivery, pickup]</td>\n",
       "      <td>https://www.yelp.com/biz/las-catrinas-mexican-...</td>\n",
       "    </tr>\n",
       "    <tr>\n",
       "      <th>2</th>\n",
       "      <td>chela-and-garnacha-astoria</td>\n",
       "      <td>[{'alias': 'mexican', 'title': 'Mexican'}, {'a...</td>\n",
       "      <td>{'latitude': 40.7557171543477, 'longitude': -7...</td>\n",
       "      <td>(917) 832-6876</td>\n",
       "      <td>1316.297661</td>\n",
       "      <td>AUyKmFjpaVLwc3awfUnqgQ</td>\n",
       "      <td>https://s3-media1.fl.yelpcdn.com/bphoto/ChVbA1...</td>\n",
       "      <td>False</td>\n",
       "      <td>{'address1': '33-09 36th Ave', 'address2': '',...</td>\n",
       "      <td>Chela &amp; Garnacha</td>\n",
       "      <td>+19178326876</td>\n",
       "      <td>$$</td>\n",
       "      <td>4.5</td>\n",
       "      <td>288</td>\n",
       "      <td>[delivery, pickup]</td>\n",
       "      <td>https://www.yelp.com/biz/chela-and-garnacha-as...</td>\n",
       "    </tr>\n",
       "    <tr>\n",
       "      <th>3</th>\n",
       "      <td>de-mole-astoria-astoria</td>\n",
       "      <td>[{'alias': 'mexican', 'title': 'Mexican'}]</td>\n",
       "      <td>{'latitude': 40.7625999, 'longitude': -73.9129...</td>\n",
       "      <td>(718) 777-1655</td>\n",
       "      <td>917.683267</td>\n",
       "      <td>jzVv_21473lAMYXIhVbuTA</td>\n",
       "      <td>https://s3-media1.fl.yelpcdn.com/bphoto/v8jXvZ...</td>\n",
       "      <td>False</td>\n",
       "      <td>{'address1': '4220 30th Ave', 'address2': '', ...</td>\n",
       "      <td>De Mole Astoria</td>\n",
       "      <td>+17187771655</td>\n",
       "      <td>$$</td>\n",
       "      <td>4.0</td>\n",
       "      <td>314</td>\n",
       "      <td>[delivery, pickup]</td>\n",
       "      <td>https://www.yelp.com/biz/de-mole-astoria-astor...</td>\n",
       "    </tr>\n",
       "    <tr>\n",
       "      <th>4</th>\n",
       "      <td>maizal-restaurant-and-tequila-bar-astoria-2</td>\n",
       "      <td>[{'alias': 'mexican', 'title': 'Mexican'}, {'a...</td>\n",
       "      <td>{'latitude': 40.759331, 'longitude': -73.926035}</td>\n",
       "      <td>(718) 406-9431</td>\n",
       "      <td>900.451091</td>\n",
       "      <td>QIsFsiOP3H_NkgeWST7GPA</td>\n",
       "      <td>https://s3-media4.fl.yelpcdn.com/bphoto/VOGwDm...</td>\n",
       "      <td>False</td>\n",
       "      <td>{'address1': '3207 34th Ave', 'address2': None...</td>\n",
       "      <td>Maizal Restaurant &amp; Tequila Bar</td>\n",
       "      <td>+17184069431</td>\n",
       "      <td>$$</td>\n",
       "      <td>4.0</td>\n",
       "      <td>257</td>\n",
       "      <td>[delivery, pickup]</td>\n",
       "      <td>https://www.yelp.com/biz/maizal-restaurant-and...</td>\n",
       "    </tr>\n",
       "  </tbody>\n",
       "</table>\n",
       "</div>"
      ],
      "text/plain": [
       "                                         alias  \\\n",
       "0                       holy-guacamole-astoria   \n",
       "1  las-catrinas-mexican-bar-and-eatery-astoria   \n",
       "2                   chela-and-garnacha-astoria   \n",
       "3                      de-mole-astoria-astoria   \n",
       "4  maizal-restaurant-and-tequila-bar-astoria-2   \n",
       "\n",
       "                                          categories  \\\n",
       "0  [{'alias': 'mexican', 'title': 'Mexican'}, {'a...   \n",
       "1  [{'alias': 'mexican', 'title': 'Mexican'}, {'a...   \n",
       "2  [{'alias': 'mexican', 'title': 'Mexican'}, {'a...   \n",
       "3         [{'alias': 'mexican', 'title': 'Mexican'}]   \n",
       "4  [{'alias': 'mexican', 'title': 'Mexican'}, {'a...   \n",
       "\n",
       "                                         coordinates   display_phone  \\\n",
       "0   {'latitude': 40.756621, 'longitude': -73.929336}  (917) 832-7261   \n",
       "1  {'latitude': 40.7614214682633, 'longitude': -7...  (917) 745-0969   \n",
       "2  {'latitude': 40.7557171543477, 'longitude': -7...  (917) 832-6876   \n",
       "3  {'latitude': 40.7625999, 'longitude': -73.9129...  (718) 777-1655   \n",
       "4   {'latitude': 40.759331, 'longitude': -73.926035}  (718) 406-9431   \n",
       "\n",
       "      distance                      id  \\\n",
       "0  1290.427488  jeWIYbgBho9vBDhc5S1xvg   \n",
       "1   642.525771  6AJwsgXr7YwsqneGVAdgzw   \n",
       "2  1316.297661  AUyKmFjpaVLwc3awfUnqgQ   \n",
       "3   917.683267  jzVv_21473lAMYXIhVbuTA   \n",
       "4   900.451091  QIsFsiOP3H_NkgeWST7GPA   \n",
       "\n",
       "                                           image_url  is_closed  \\\n",
       "0  https://s3-media1.fl.yelpcdn.com/bphoto/8IjT2j...      False   \n",
       "1  https://s3-media3.fl.yelpcdn.com/bphoto/CKRiZU...      False   \n",
       "2  https://s3-media1.fl.yelpcdn.com/bphoto/ChVbA1...      False   \n",
       "3  https://s3-media1.fl.yelpcdn.com/bphoto/v8jXvZ...      False   \n",
       "4  https://s3-media4.fl.yelpcdn.com/bphoto/VOGwDm...      False   \n",
       "\n",
       "                                            location  \\\n",
       "0  {'address1': '3555 31st St', 'address2': '', '...   \n",
       "1  {'address1': '32-02 Broadway', 'address2': '',...   \n",
       "2  {'address1': '33-09 36th Ave', 'address2': '',...   \n",
       "3  {'address1': '4220 30th Ave', 'address2': '', ...   \n",
       "4  {'address1': '3207 34th Ave', 'address2': None...   \n",
       "\n",
       "                                name         phone price  rating  \\\n",
       "0                     Holy Guacamole  +19178327261    $$     4.0   \n",
       "1  Las Catrinas Mexican Bar & Eatery  +19177450969    $$     4.0   \n",
       "2                   Chela & Garnacha  +19178326876    $$     4.5   \n",
       "3                    De Mole Astoria  +17187771655    $$     4.0   \n",
       "4    Maizal Restaurant & Tequila Bar  +17184069431    $$     4.0   \n",
       "\n",
       "   review_count        transactions  \\\n",
       "0           108  [delivery, pickup]   \n",
       "1           163  [delivery, pickup]   \n",
       "2           288  [delivery, pickup]   \n",
       "3           314  [delivery, pickup]   \n",
       "4           257  [delivery, pickup]   \n",
       "\n",
       "                                                 url  \n",
       "0  https://www.yelp.com/biz/holy-guacamole-astori...  \n",
       "1  https://www.yelp.com/biz/las-catrinas-mexican-...  \n",
       "2  https://www.yelp.com/biz/chela-and-garnacha-as...  \n",
       "3  https://www.yelp.com/biz/de-mole-astoria-astor...  \n",
       "4  https://www.yelp.com/biz/maizal-restaurant-and...  "
      ]
     },
     "execution_count": 46,
     "metadata": {},
     "output_type": "execute_result"
    }
   ],
   "source": [
    "import pandas as pd\n",
    "\n",
    "df = pd.DataFrame.from_dict(response.json()['businesses'])\n",
    "print(len(df)) #Print how many rows\n",
    "print(df.columns) #Print column names\n",
    "df.head() #Previews the first five rows. \n",
    "#You could also write df.head(10) to preview 10 rows or df.tail() to see the bottom"
   ]
  },
  {
   "cell_type": "markdown",
   "metadata": {},
   "source": [
    "## Summary <a id=\"sum\"></a>\n",
    "\n",
    "Congratulations! We've covered a lot here! We took some of your previous knowledge with HTTP requests and OAuth in order to leverage an enterprise API! Then we made some requests to retrieve information that came back as a json format. We then transformed this data into a dataframe using the Pandas package. In the next lab, we'll break down how to read API documentation and then put it all together to make a nifty map!"
   ]
  }
 ],
 "metadata": {
  "kernelspec": {
   "display_name": "Python 3",
   "language": "python",
   "name": "python3"
  },
  "language_info": {
   "codemirror_mode": {
    "name": "ipython",
    "version": 3
   },
   "file_extension": ".py",
   "mimetype": "text/x-python",
   "name": "python",
   "nbconvert_exporter": "python",
   "pygments_lexer": "ipython3",
   "version": "3.6.4"
  }
 },
 "nbformat": 4,
 "nbformat_minor": 2
}
