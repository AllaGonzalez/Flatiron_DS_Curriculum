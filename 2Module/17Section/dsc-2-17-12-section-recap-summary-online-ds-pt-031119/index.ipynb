{
 "cells": [
  {
   "cell_type": "markdown",
   "metadata": {},
   "source": [
    "# Section Recap"
   ]
  },
  {
   "cell_type": "markdown",
   "metadata": {},
   "source": [
    "## Introduction\n",
    "\n",
    "This short lesson summarizes the topics we covered in section 17 and why they'll be important to you as a data scientist."
   ]
  },
  {
   "cell_type": "markdown",
   "metadata": {},
   "source": [
    "## Objectives\n",
    "You will be able to:\n",
    "* Understand and explain what was covered in this section\n",
    "* Understand and explain why this section will help you become a data scientist"
   ]
  },
  {
   "cell_type": "markdown",
   "metadata": {},
   "source": [
    "## Key Takeaways\n",
    "\n",
    "APIs can provide access to a wide range of data that you might need as a data scientist. Key takeaways:\n",
    "* While there are many other kinds of APIs, as a data scientist, you'll typically be working with web APIs\n",
    "* The Requests library in Python is a great starting point for making http(s) requests to APIs\n",
    "* The two most common http methods you will use when accessing APIs are GET (to retrive information) and POST (to send information).\n",
    "* Typically you'll need to authenticate in some manner with most APIs - one common methods for doing so is using OAuth\n",
    "\n"
   ]
  }
 ],
 "metadata": {
  "kernelspec": {
   "display_name": "Python [default]",
   "language": "python",
   "name": "python3"
  },
  "language_info": {
   "codemirror_mode": {
    "name": "ipython",
    "version": 3
   },
   "file_extension": ".py",
   "mimetype": "text/x-python",
   "name": "python",
   "nbconvert_exporter": "python",
   "pygments_lexer": "ipython3",
   "version": "3.6.6"
  }
 },
 "nbformat": 4,
 "nbformat_minor": 2
}
