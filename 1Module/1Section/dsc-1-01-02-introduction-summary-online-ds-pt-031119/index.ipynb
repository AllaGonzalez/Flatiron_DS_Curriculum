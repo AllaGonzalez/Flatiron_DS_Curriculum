{
 "cells": [
  {
   "cell_type": "markdown",
   "metadata": {},
   "source": [
    "# Introduction"
   ]
  },
  {
   "cell_type": "markdown",
   "metadata": {},
   "source": [
    "## Introduction\n",
    "This short lesson summarizes the topics we'll be covering in section 01 and why they'll be important to you as a Data Scientist."
   ]
  },
  {
   "cell_type": "markdown",
   "metadata": {},
   "source": [
    "## Objectives\n",
    "You will be able to:\n",
    "* Understand and explain what is covered in this section\n",
    "* Understand and explain why the section will help you to become a data scientist"
   ]
  },
  {
   "cell_type": "markdown",
   "metadata": {},
   "source": [
    "## Setting the Stage\n",
    "\n",
    "We start this section by looking at the kinds of problems that data science can solve and by giving a sense of the end to end process of \"doing data science\". We then get you set up with a professional data science environment with Git, GitHub, the command line, and the Anaconda Python distribution so you can start using industry standard tools from day 1.\n",
    "\n",
    "We also run you through the workflow that we'll be using for the projects so you can get comfortable with how to access and update content and get some practice using the industry standard tools we just set you up with! And then to bring it all together, we ask you to \"code along\" with us to complete your first (very simple) data science project.\n",
    "\n",
    "If you're new to Python (or programming), you may be a little overwhelmed at this point. Don't worry. We'll spend all of the rest of the course practicing and deepening your understanding of the materials we introduced in the first part of section 01.\n",
    "\n",
    "## Coding in Python \n",
    "\n",
    "Next, we introduce some of the most important elements of programming in Python. We start from the basics, but move fairly quickly. We cover variables, common data types, conditionals, lists and dictionaries. This may not all seem immediately relevant to data science, but it's designed to give you the tools that you'll need for all of your future projects in Python.\n",
    "\n",
    "## Visualize that data\n",
    "\n",
    "Finally, we take a little bit of time to introduce you to `Matplotlib` - one of the most popular tools in Python for generating visualizations.\n",
    "\n",
    "<img src=\"https://matplotlib.org/_static/logo2.png\" width=350>\n",
    "\n",
    "You will learn to plot some basic visualizations for simple datasets. These will include plotting bar graphs, histograms and scatter plots and adding axes labeling and title information to the plot.\n",
    "\n",
    "## End of Section Project\n",
    "\n",
    "We finish the section with a challenging project that brings together all of the skills introduced in section 1, by doing a basic analysis of Shakespeare's classic play: Macbeth.\n",
    "\n",
    "<img src=\"https://s3.pixers.pics/pixers/700/FO/51/62/73/20/700_FO51627320_38b000ce4e7073b9a223a545e94df174.jpg\" width=500>"
   ]
  },
  {
   "cell_type": "markdown",
   "metadata": {},
   "source": [
    "## Summary\n",
    "\n",
    "Remember, it's OK to feel a little uncomfortable. For some students, section 01 will be the most difficult as it introduces so many new concepts at once, but you'll continue to practice these day after day, until they become second nature. For those of you with a strong background in computing, please bear with us as we help everyone else to catch up. We've tried to introduce additional challenges for students who are finding the labs easy, so look out for the \"Level Up (optional)\" section in some of the labs to get some deeper practice with Python and visualization."
   ]
  }
 ],
 "metadata": {
  "kernelspec": {
   "display_name": "Python 3",
   "language": "python",
   "name": "python3"
  },
  "language_info": {
   "codemirror_mode": {
    "name": "ipython",
    "version": 3
   },
   "file_extension": ".py",
   "mimetype": "text/x-python",
   "name": "python",
   "nbconvert_exporter": "python",
   "pygments_lexer": "ipython3",
   "version": "3.6.5"
  }
 },
 "nbformat": 4,
 "nbformat_minor": 2
}
