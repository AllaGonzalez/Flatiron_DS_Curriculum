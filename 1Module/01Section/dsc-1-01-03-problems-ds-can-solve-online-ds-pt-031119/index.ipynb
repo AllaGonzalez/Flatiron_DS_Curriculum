{
 "cells": [
  {
   "cell_type": "markdown",
   "metadata": {},
   "source": [
    "# Problems Data Science Can Solve"
   ]
  },
  {
   "cell_type": "markdown",
   "metadata": {},
   "source": [
    "### Introduction \n",
    "\n",
    "In this lesson we will look at what data science is and the classes of problems that it can be used to solve. By the end of the lesson you should understand the kinds of things you'll be able to achieve as a professional data scientist."
   ]
  },
  {
   "cell_type": "markdown",
   "metadata": {},
   "source": [
    "### Objectives:\n",
    "You will be able to:\n",
    "* Explain the classes of problems that data science can be used to solve"
   ]
  },
  {
   "cell_type": "markdown",
   "metadata": {},
   "source": [
    "### What Problems Can Data Science Solve?\n",
    "\n",
    "Congratulations on deciding to become a data scientist! Before we dig into the details of the tools and techniques that you'll need to learn, it's important to take a little time to understand what you'll be able to do once you graduate. Here is a list of some of the common types of business problems data scientists are expected to solve. "
   ]
  },
  {
   "cell_type": "markdown",
   "metadata": {},
   "source": [
    "### 1. How much or how many - Regression analysis\n",
    "\n",
    "Regression analysis is used to predict a continuous value - such as the number of staff you'll need for a busy shift or the likely sale price of a house. \n",
    "\n",
    "#### Example:  Sales or Market Forecasts\n",
    "\n",
    "![](https://analysights.files.wordpress.com/2010/05/051310_0140_forecastfri21.png?w=450)\n",
    "Regression is a handy technique to forecast sales, monitor marketing campaigns and create create future plans etc. Traditional trend analysis only looks at how one business entity changes with respect to another. Regression analyses can provide insight into how an outcome will change when several other variables are modified.\n"
   ]
  },
  {
   "cell_type": "markdown",
   "metadata": {},
   "source": [
    "### 2. Which category - Classification analysis\n",
    "\n",
    "Classification analysis is like regression in that it allows you to predict something. The difference is that a classifier is used to predict which category something will fall into. If you're trying to figure out whether a client is likely to default on a loan (a binary classifier - default or no default) or which of your products a customer is likely to prefer, you're going to need a classifier.\n",
    "\n",
    "#### Example: Credit Rating\n",
    "\n",
    "![](https://image.slidesharecdn.com/creditratingagencies-150922200742-lva1-app6891/95/credit-rating-agencies-15-638.jpg?cb=1442952619)\n",
    "\n",
    "Credit card companies receive hundreds of thousands of requests from customers every week. These applications contain detailed information on customer social, economic and personal attributes. Classification analysis can allow such companies to categorize their customers based on the quality of their credit.\n"
   ]
  },
  {
   "cell_type": "markdown",
   "metadata": {},
   "source": [
    "### 3. Is this weird? - Anomaly detection\n",
    "\n",
    "Anomaly detection is a data science technique used to find unusual patterns that do not conform to expected behavior. Anomaly detection is a common analysis technique. It has many applications in such businesses, from intrusion detection (identifying strange patterns in network traffic that could signal a hack) to fraud detection in credit card transactions to fault detection in operating environments.\n",
    "\n",
    "#### Example: Identifying Fraud\n",
    "\n",
    "![](https://cdn-images-1.medium.com/max/1200/1*F_yiILIE954AZPgPADx76A.png)\n",
    "\n",
    "Fraud detection is one of the most common types of anomaly detection technique used by businesses. This approach focuses on finding **outliers** in the data that appear to have unusual patterns.  This serves as a first indication of the presence of a fraudulent activity. Such approaches are frequently applied by large social networks like Facebook, and by banks and credit card companies for finding possible hackers/fraudsters."
   ]
  },
  {
   "cell_type": "markdown",
   "metadata": {},
   "source": [
    "### 4. Which option should be taken? - Recommender Systems\n",
    "\n",
    "Recommender systems are one of the most popular applications of data science today. They are used to predict user preferences towards a product/service. Almost every major tech company (Amazon, Netflix, Google, Facebook) has applied them in some form or the other. You might have noticed phrases like \"If you like this product, you may also like ...\", \"Users who bought this item, also bought ...\" and \"Based on your preferences, we recommend following products to you ...\". You got it, these are all recommender systems in action. \n",
    "\n",
    "Recommender systems can help a business retain customers by providing them with tailored suggestions specific to their needs. They can help increase sales and create brand loyalty through relevant personalization. When a customer feels as though they are understood by your brand, they are more likely to stay loyal and continue purchasing through your site.\n",
    "According to a recent study by McKinsey, up to 75% of what consumers watch on Netflix comes from the company’s recommender system. Retail giant Amazon credits recommender systems with 35% of their revenue. Best Buy decided to focus on their online sales, and in 2016’s second quarter they reported a 23.7% increase, thanks in part to their recommender system. \n"
   ]
  },
  {
   "cell_type": "markdown",
   "metadata": {},
   "source": [
    "### Summary\n",
    "\n",
    "While you're going to learn to use a wide range of tools and techniques throughout this course, most of them will be used to predict a continuous value, to decide the most likely category for a value, to identify anomalies or to provide recommendations.\n"
   ]
  }
 ],
 "metadata": {
  "kernelspec": {
   "display_name": "Python 3",
   "language": "python",
   "name": "python3"
  },
  "language_info": {
   "codemirror_mode": {
    "name": "ipython",
    "version": 3
   },
   "file_extension": ".py",
   "mimetype": "text/x-python",
   "name": "python",
   "nbconvert_exporter": "python",
   "pygments_lexer": "ipython3",
   "version": "3.6.5"
  }
 },
 "nbformat": 4,
 "nbformat_minor": 2
}
