{
 "cells": [
  {
   "cell_type": "markdown",
   "metadata": {},
   "source": [
    "# Introduction"
   ]
  },
  {
   "cell_type": "markdown",
   "metadata": {},
   "source": [
    "## Introduction\n",
    "This lesson summarizes the topics we'll be covering in section 11 and why they'll be important to you as a data scientist."
   ]
  },
  {
   "cell_type": "markdown",
   "metadata": {},
   "source": [
    "## Objectives\n",
    "You will be able to:\n",
    "* Understand and explain what is covered in this section\n",
    "* Understand and explain why the section will help you to become a data scientist"
   ]
  },
  {
   "cell_type": "markdown",
   "metadata": {},
   "source": [
    "## Multiple Linear Regression\n",
    "\n",
    "In the last section, we learned how to perform a basic linear regression with a single predictor variable. We kick off section 11 by looking at how to perform linear regressions using **multiple** independent variables to better predict a target variable.\n",
    "\n",
    "## Dealing with Categorical Variables\n",
    "\n",
    "Up to this point we've only considered continuous predictor variables. Next up we look at how to identify and then transform categorical variables to utilize them as predictors of our target variable.\n",
    "\n",
    "## Multicolinearity of Features\n",
    "\n",
    "Now that we're dealing with multiple predictors, we need to revisit the idea of correlation and covariance and understand the possible negative impact of multicolinearity when using multiple predictor variables that are highly correlated.\n",
    "\n",
    "## Feature Scaling and Normalization\n",
    "\n",
    "Now that we're dealing with multiple predictor variables, we also need to figure out how to give them an appropriate relative weighing by performing feature scaling and normalization so that predictors with larger values don't automatically have a larger impact on our predictions.\n",
    "\n",
    "## Multiple Linear Regression in Statsmodels\n",
    "\n",
    "After covering a lot of the key theories, we then provide you with some hands on practice in performing multiple linear regressions using Statsmodels and Scikit learn.\n",
    "\n",
    "## Model Fit and Validation\n",
    "\n",
    "We continue the section by looking at how we can analyse the results of a regression, and learn the importance of splitting data into training and testing sets to determine how well our model predicts \"unknown\" values (the testing data set). We then finish up the section by looking at how k-fold cross-validation can be used to get more training and testing out of a given size of data set by taking multiple splits of training and testing data.\n",
    "\n",
    "\n"
   ]
  },
  {
   "cell_type": "markdown",
   "metadata": {},
   "source": [
    "## Summary\n",
    "\n",
    "In this section, we continue to add rigor and richness to your understanding of linear regression so that you can solve a wider range of problems more accurately. Many of the principles covered in this section will also apply in later modules as we move onto working with other machine learning models.\n",
    "\n"
   ]
  }
 ],
 "metadata": {
  "kernelspec": {
   "display_name": "Python 3",
   "language": "python",
   "name": "python3"
  },
  "language_info": {
   "codemirror_mode": {
    "name": "ipython",
    "version": 3
   },
   "file_extension": ".py",
   "mimetype": "text/x-python",
   "name": "python",
   "nbconvert_exporter": "python",
   "pygments_lexer": "ipython3",
   "version": "3.6.5"
  }
 },
 "nbformat": 4,
 "nbformat_minor": 2
}
