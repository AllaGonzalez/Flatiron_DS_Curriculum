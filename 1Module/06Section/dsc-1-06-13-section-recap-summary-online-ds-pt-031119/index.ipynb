{
 "cells": [
  {
   "cell_type": "markdown",
   "metadata": {},
   "source": [
    "# Section Recap"
   ]
  },
  {
   "cell_type": "markdown",
   "metadata": {},
   "source": [
    "## Introduction\n",
    "\n",
    "This short lesson summarizes the topics we covered in section 06 and why they'll be important to you as a data scientist."
   ]
  },
  {
   "cell_type": "markdown",
   "metadata": {},
   "source": [
    "## Objectives\n",
    "You will be able to:\n",
    "* Understand and explain what was covered in this section\n",
    "* Understand and explain why this section will help you become a data scientist"
   ]
  },
  {
   "cell_type": "markdown",
   "metadata": {},
   "source": [
    "## Key Takeaways\n",
    "In this section, we focused on introducing the principles of Object Oriented Programming. Key takeaways:\n",
    "* OOP was designed to make it easy to build and maintain large software applications\n",
    "* By combining behavior (methods) and state (properties), OOP makes it easier to test small parts of your application and compose them into larger applications\n",
    "* A class defines the behaviors and properties for a type of object - you might have a Person class - or a Company class\n",
    "* An instance is a particular expression of a class. Instances of a Person might be Rita and Bob. Instances of a Company might include Amazon and Apple\n",
    "* Instance methods provide behaviors for a particular instance/object - bill.full_name() or amazon.website_url()\n",
    "* It is important to understand the context of your code to appreciate what `self` will mean in a given context\n",
    "* You often want to wrap access to object properties with getters and setters that allow you to have a clear interface for interacting with an object\n",
    "\n",
    "OOP underlies most of the code you will use and (over time) write. Take the time to notice when you're calling libraries or reading code how often it's Object Oriented and practice using the right language when describing what's happening. It'll help you both as a data scientist and during the interview process what talking about code.\n"
   ]
  }
 ],
 "metadata": {
  "kernelspec": {
   "display_name": "Python 3",
   "language": "python",
   "name": "python3"
  },
  "language_info": {
   "codemirror_mode": {
    "name": "ipython",
    "version": 3
   },
   "file_extension": ".py",
   "mimetype": "text/x-python",
   "name": "python",
   "nbconvert_exporter": "python",
   "pygments_lexer": "ipython3",
   "version": "3.6.5"
  }
 },
 "nbformat": 4,
 "nbformat_minor": 2
}
