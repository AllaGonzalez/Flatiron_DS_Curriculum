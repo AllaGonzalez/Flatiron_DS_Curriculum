{
 "cells": [
  {
   "cell_type": "markdown",
   "metadata": {},
   "source": [
    "# Object Attributes - Setter and Getter Methods"
   ]
  },
  {
   "cell_type": "markdown",
   "metadata": {},
   "source": [
    "## Introduction\n",
    "We have now covered Python classes, instance objects, instance methods, and instance variables. Now that we know what these things are and how they work together, we need to think about how we *want* these parts of our program to work together. Said another way, we need to think about making our programs a bit more secure and prevent users from making unwanted changes or creating bad data. To that effect, we will want to use design patterns for creating private instance variables or defining instance methods that provide ways to update instance variables indirectly. These methods are called setters and getters, because they both read and write (get and set) the private instance variable information we would like to access. Let's get started!"
   ]
  },
  {
   "cell_type": "markdown",
   "metadata": {},
   "source": [
    "## Objectives\n",
    "\n",
    "You will be able to: \n",
    "\n",
    "* Create private instance variables\n",
    "* Understand setter and getter methods\n",
    "* Understand properties"
   ]
  },
  {
   "cell_type": "markdown",
   "metadata": {},
   "source": [
    "## Private Instance Variables\n",
    "Let's take the example of a bank account. Now, when we think about (or try not to think about) going to the bank and opening an account, terms, fees, and regulations all come to mind. You have to have a minimum balance to open your account, you need to maintain a certain balance, you cannot overdraft your account without incurring a fee, etc. All of those things, current balance, balance minimum, max withdrawal amount, over draft fees can call be thought about as attributes of a bank account. If you know of a bank that doesn't have these *attributes*, **please** let the rest of us know.\n",
    "\n",
    "Let's build out an OO bank acount for our example to introduce getters, setters, and private variables."
   ]
  },
  {
   "cell_type": "code",
   "execution_count": 1,
   "metadata": {},
   "outputs": [
    {
     "name": "stdout",
     "output_type": "stream",
     "text": [
      "{'balance': 1000, 'minimum_balance': 250, 'max_withdrawal': 150}\n"
     ]
    }
   ],
   "source": [
    "class BankAccount():\n",
    "    pass\n",
    "\n",
    "\n",
    "new_account = BankAccount()\n",
    "\n",
    "new_account.balance = 1000\n",
    "new_account.minimum_balance = 250\n",
    "new_account.max_withdrawal = 150\n",
    "        \n",
    "print (vars(new_account))"
   ]
  },
  {
   "cell_type": "markdown",
   "metadata": {},
   "source": [
    "We have a new bank account and it's already burning a whole in our digital pockets... So, let's take some money out and go on a shopping spree!\n",
    "\n",
    "Uh oh! We just bought a pair of new selvedge denim jeans and bought a round of drinks for our coworkers at a happy hour (cause, why not?), and on top of that we took out some cash to lend to our friend for lunch because they forgot their wallet, but our friend also went to Eleven Madison Park for lunch."
   ]
  },
  {
   "cell_type": "code",
   "execution_count": 2,
   "metadata": {},
   "outputs": [
    {
     "name": "stdout",
     "output_type": "stream",
     "text": [
      "{'balance': 150, 'minimum_balance': 250, 'max_withdrawal': 150}\n"
     ]
    }
   ],
   "source": [
    "# new jeans purchase\n",
    "new_account.balance -= 250\n",
    "# take out cash to fund friends fancy lunch \n",
    "new_account.balance -= 250\n",
    "# round of drinks for your whole team\n",
    "new_account.balance -= 350\n",
    "print(vars(new_account))"
   ]
  },
  {
   "cell_type": "markdown",
   "metadata": {},
   "source": [
    "Alright, woah. First of all, we need to get our spending under control. Second, we broke all the terms and regulations of our new bank account... So, that's not good. Perhaps if our bank acoount's program was a bit more secure we wouldn't be down $750.\n",
    "\n",
    "Let's see if we can refactor our BankAccount class to try and enforce the regulations.\n",
    "\n",
    "First, we don't really want anyone to be able to directly manipulate these attributes. We probably want to create methods that do these actions for us. That way, we are preventing someone from accidentally (or purposefully) breaking a regulation our bank has set for us, and we can use our functions to check if the action we are doing is allowed or not. \n",
    "\n",
    "First, we should make it so that accessing these attributes like the account `balance` isn't so straightforward by using **private** instance variables. Private instance variables are declared by prepending an underscore `_` (i.e. `_balance`).\n",
    "\n",
    "Note that the underscore only **indicates** that the instance variable is private. It does **not** change our ability to access or change its value. However, we can now safely define an instance method with the name of our intended attribute (i.e. `def balance(self):`) and it will not conflict or be confused with the instance variable `balance`."
   ]
  },
  {
   "cell_type": "code",
   "execution_count": 3,
   "metadata": {},
   "outputs": [
    {
     "name": "stdout",
     "output_type": "stream",
     "text": [
      "{'_balance': 1000, '_minimum_balance': 250, '_max_withdrawal': 150}\n"
     ]
    }
   ],
   "source": [
    "class BankAccount():\n",
    "    pass\n",
    "\n",
    "\n",
    "new_account = BankAccount()\n",
    "\n",
    "new_account._balance = 1000 # now indicated to be a *private* instance variable \n",
    "new_account._minimum_balance = 250 # now indicated to be a *private* instance variable\n",
    "new_account._max_withdrawal = 150 # now indicated to be a *private* instance variable\n",
    "        \n",
    "print (vars(new_account))"
   ]
  },
  {
   "cell_type": "markdown",
   "metadata": {},
   "source": [
    "Great! We have our instance variables set up so that we are indicating that they are *private* and therefore should not be accessed directly by a user or another program. Instead, to update these attributes we'll need intance methods called **setters and getters**."
   ]
  },
  {
   "cell_type": "markdown",
   "metadata": {},
   "source": [
    "## Setter and Getter Methods"
   ]
  },
  {
   "cell_type": "markdown",
   "metadata": {},
   "source": [
    "Setter and getter methods are instance methods that control the access (getter) of instance variables and the changing (setter) of instance variables. Like we said earlier, we will have programs where we want to guard against unintended behavior, bad data, etc. (i.e. withdrawing too much money from our bank).\n",
    "\n",
    "To reinforce the private nature of our instance variables as well as create ways to make our program more dynamic and well structured, we implement these setter and getter methods. Remember, anything that **changes** an instance variable is a **setter** method. Anything that **only accesses** an instance variable is a **getter** method. Take a look at the example below:"
   ]
  },
  {
   "cell_type": "code",
   "execution_count": 4,
   "metadata": {},
   "outputs": [
    {
     "name": "stdout",
     "output_type": "stream",
     "text": [
      "1. 0\n",
      "2. None\n",
      "3. 1000\n",
      "4. Sorry, you do not have enough funds to withdrawal $1000 and maintain your minimum balance of $250\n",
      "5. $100\n",
      "6. Sorry, your maximum withdraw amount is 150\n",
      "7. Thank you for the deposit of $250. Your balance is now: $1150.0\n",
      "8. Thank you for the deposit of $2.5. Your balance is now: $1152.5\n",
      "9. hello is not a number\n",
      "10. {'_balance': 1152.5, '_minimum_balance': 250, '_max_withdrawal': 150}\n"
     ]
    }
   ],
   "source": [
    "class BankAccount():\n",
    "    \n",
    "    def set_balance(self, amount):\n",
    "        self._balance += amount\n",
    "    \n",
    "    def get_balance(self):\n",
    "        return self._balance\n",
    "        \n",
    "    def make_withdrawal(self, amount_requested):\n",
    "        if (self.check_min_bal(amount_requested)):\n",
    "            return self.check_min_bal(amount_requested)\n",
    "        if (self.check_max_withdrawal(amount_requested)):\n",
    "            return self.check_max_withdrawal(amount_requested)\n",
    "        else: \n",
    "            self.set_balance(-amount_requested)\n",
    "            return f\"${amount_requested}\"\n",
    "            \n",
    "    def check_min_bal(self, amount_requested):\n",
    "        if ((self.get_balance() - amount_requested) > self._minimum_balance):\n",
    "            return False\n",
    "        else:\n",
    "            return f\"Sorry, you do not have enough funds to withdrawal ${amount_requested} and maintain your minimum balance of ${self._minimum_balance}\"\n",
    "    \n",
    "    def check_max_withdrawal(self, amount_requested):\n",
    "        if (self._max_withdrawal > amount_requested):\n",
    "            return False\n",
    "        else:\n",
    "            return f\"Sorry, your maximum withdraw amount is {self._max_withdrawal}\"\n",
    "        \n",
    "    def make_deposit(self, amount_to_deposit):\n",
    "        try: \n",
    "            (float(amount_to_deposit))\n",
    "            self.set_balance((float(amount_to_deposit)))\n",
    "            return f\"Thank you for the deposit of ${amount_to_deposit}. Your balance is now: ${self._balance}\"\n",
    "        except:\n",
    "            return f\"{amount_to_deposit} is not a number\"\n",
    "\n",
    "# just a regular function that makes an account and initializes its properties... what a good idea\n",
    "def make_account():\n",
    "    new_account = BankAccount()\n",
    "    new_account._balance = 0\n",
    "    new_account._minimum_balance = 250\n",
    "    new_account._max_withdrawal = 150 \n",
    "    return new_account\n",
    "\n",
    "account_two = make_account()\n",
    "print(\"1.\", account_two.get_balance())\n",
    "print(\"2.\", account_two.set_balance(1000)) # returns None since assignment returns None\n",
    "print(\"3.\", account_two.get_balance())\n",
    "print(\"4.\", account_two.make_withdrawal(1000))\n",
    "print(\"5.\", account_two.make_withdrawal(100))\n",
    "print(\"6.\", account_two.make_withdrawal(300))\n",
    "print(\"7.\", account_two.make_deposit(250))\n",
    "print(\"8.\", account_two.make_deposit(2.50))\n",
    "print(\"9.\", account_two.make_deposit(\"hello\"))\n",
    "print(\"10.\", vars(account_two))"
   ]
  },
  {
   "cell_type": "markdown",
   "metadata": {},
   "source": [
    "Okay, so, we now have methods that allow us to change our account balance without having to access the account balance directly. On top of that, we have other instance methods that are preventing someone from making an unwanted or an unallowed action. Note that with our refactored class, we have changed our instance varaibles to have a leading `_` to signify that the variable is **private**.\n",
    "\n",
    "With the `make_withrawal` instance method, we are making sure that any amount requested ensures that our minimum account balance is maintained and that we do not exceed our maximum withdrawal allowance. Our `make_deposit` instance method is checking to see if the input is in fact a number before making the deposit. If we don't make sure our input is a number, we leave ourselves vulnerable to errors, and errors are no good. \n",
    "\n",
    "Let's now look at our getter and setter methods, `get_balance` and `set_balance`. Notice that our fucntions that make deposits and make witdrawals are calling the setter and getter methods now instead of accessing the instance variables directly. In fact, the only methods that accesses the instance variables directly are the setter and getter methods, `set_balance` and `get_balance`. "
   ]
  },
  {
   "cell_type": "markdown",
   "metadata": {},
   "source": [
    "# Properties\n",
    "Now that we have our private instance variables and setter and getter methods, we should think about whether it is better to have a method called `get_balance` or a method called just `balance`? What about `set_balance`? It would be way easier if we could just have one method to call for both the set and get operations. After all, they are both just changing the balance and naming these functions another way can make it hard to implement a convention. This is where **property()** comes into play. Before we dig too much into what property is, let's look at how it works in the example below:"
   ]
  },
  {
   "cell_type": "code",
   "execution_count": 6,
   "metadata": {},
   "outputs": [
    {
     "name": "stdout",
     "output_type": "stream",
     "text": [
      "GETTING BALANCE\n",
      "1. 0\n",
      "SETTING BALANCE\n",
      "2. None\n",
      "GETTING BALANCE\n",
      "3. 1000\n",
      "GETTING BALANCE\n",
      "GETTING BALANCE\n",
      "4. Sorry, you do not have enough funds to withdrawal $1000 and maintain your minimum balance of $250\n",
      "GETTING BALANCE\n",
      "SETTING BALANCE\n",
      "5. $100\n",
      "GETTING BALANCE\n",
      "6. Sorry, your maximum withdraw amount is 150\n",
      "SETTING BALANCE\n",
      "7. Thank you for the deposit of $250. Your balance is now: $1150.0\n",
      "SETTING BALANCE\n",
      "8. Thank you for the deposit of $2.5. Your balance is now: $1152.5\n",
      "9. hello is not a number\n",
      "10. {'_balance': 1152.5, '_minimum_balance': 250, '_max_withdrawal': 150}\n"
     ]
    }
   ],
   "source": [
    "class BankAccount():\n",
    "    \n",
    "    def set_balance(self, amount):\n",
    "        print(\"SETTING BALANCE\")\n",
    "        self._balance += amount\n",
    "    \n",
    "    def get_balance(self):\n",
    "        print(\"GETTING BALANCE\")\n",
    "        return self._balance\n",
    "        \n",
    "    def make_withdrawal(self, amount_requested):\n",
    "        if (self.check_min_bal(amount_requested)):\n",
    "            return self.check_min_bal(amount_requested)\n",
    "        if (self.check_max_withdrawal(amount_requested)):\n",
    "            return self.check_max_withdrawal(amount_requested)\n",
    "        else: \n",
    "# ----------- NOTE THE CHANGE FROM self.set_balance(amount) TO self.balance = amount --------------- #\n",
    "            self.balance = -amount_requested\n",
    "            return f\"${amount_requested}\"\n",
    "            \n",
    "    def check_min_bal(self, amount_requested):\n",
    "# ----------- NOTE THE CHANGE FROM self.get_balance() TO self.balance = --------------- #\n",
    "        if ((self.balance - amount_requested) > self._minimum_balance): \n",
    "            return False\n",
    "        else:\n",
    "            return f\"Sorry, you do not have enough funds to withdrawal ${amount_requested} and maintain your minimum balance of ${self._minimum_balance}\"\n",
    "    \n",
    "    def check_max_withdrawal(self, amount_requested):\n",
    "        if (self._max_withdrawal > amount_requested):\n",
    "            return False\n",
    "        else:\n",
    "            return f\"Sorry, your maximum withdraw amount is {self._max_withdrawal}\"\n",
    "        \n",
    "    def make_deposit(self, amount_to_deposit):\n",
    "        try: \n",
    "            (float(amount_to_deposit))\n",
    "# ----------- NOTE THE CHANGE FROM self.set_balance(amount) TO self.balance = amount --------------- #\n",
    "            self.balance = float(amount_to_deposit)\n",
    "            return f\"Thank you for the deposit of ${amount_to_deposit}. Your balance is now: ${self._balance}\"\n",
    "        except:\n",
    "            return f\"{amount_to_deposit} is not a number\"\n",
    "    \n",
    "# ----------- HERE is where we are using the property() function ----------------------------------- #\n",
    "    balance = property(get_balance, set_balance)\n",
    "\n",
    "    \n",
    "    \n",
    "# just a non-class function that makes an account and initializes its properties... what a good idea\n",
    "def make_account():\n",
    "    new_account = BankAccount()\n",
    "    new_account._balance = 0\n",
    "    new_account._minimum_balance = 250\n",
    "    new_account._max_withdrawal = 150 \n",
    "    return new_account\n",
    "\n",
    "account_three = make_account()\n",
    "print(\"1.\", account_three.get_balance())\n",
    "print(\"2.\", account_three.set_balance(1000)) # returns None since assignment returns None\n",
    "print(\"3.\", account_three.get_balance())\n",
    "print(\"4.\", account_three.make_withdrawal(1000))\n",
    "print(\"5.\", account_three.make_withdrawal(100))\n",
    "print(\"6.\", account_three.make_withdrawal(300))\n",
    "print(\"7.\", account_three.make_deposit(250))\n",
    "print(\"8.\", account_three.make_deposit(2.50))\n",
    "print(\"9.\", account_three.make_deposit(\"hello\"))\n",
    "print(\"10.\", vars(account_three))"
   ]
  },
  {
   "cell_type": "markdown",
   "metadata": {},
   "source": [
    "It is important to look closely at what has changed in our new class. We've added comments to point out the notable differences between our previous BankAccount class and this one. We also added print statements so that we can clearly see that our 'get_balance' and 'set_balance' methods are getting called even after we create our new balance *property*.\n",
    "\n",
    "Now, that we are using **property()**, we can refer to our setter and getter methods as the same name, `balance`. However, note that when we use `balance` to get and set our bank account's balance, we do **NOT** invoke the function. In fact our `balance` property getter and setter looks like our original instance variable, `balance`. That is exactly what we wanted! \n",
    "\n",
    "How does our balance property know how to handle when to get or when to set? Well, let's look at the method signature for property()\n",
    "\n",
    "```python\n",
    "property(fget=None, fset=None, fdel=None, doc=None)\n",
    "# fget is our getter method\n",
    "# fset is our setter method\n",
    "# fdel is our delete method\n",
    "# doc is like a string, but we don't need to worry about this argument right now\n",
    "```"
   ]
  },
  {
   "cell_type": "markdown",
   "metadata": {},
   "source": [
    "The `property()` function returns a property object, which has three methods, `getter()`, `setter()`, and `delete()`. Theses each are capable of assigning methods to get, set, and delete an attribute of an isntance object. So, our notation can actually be broken down a bit. Let's take a look:\n",
    "\n",
    "```python\n",
    "# balance is now a **property object**\n",
    "balance = property(get_balance, set_balance)\n",
    "\n",
    "    TO\n",
    "\n",
    "# balance is now a **property object**\n",
    "balance = property()\n",
    "balance.getter = get_balance\n",
    "balance.setter = set_balance\n",
    "```\n",
    "\n",
    "Now when we try to perform **assigment**, our property calls the **setter** method, and when we try to simply **access** the property without assigning or deleting, our property invokes the **getter** method. "
   ]
  },
  {
   "cell_type": "markdown",
   "metadata": {},
   "source": [
    "## Summary"
   ]
  },
  {
   "cell_type": "markdown",
   "metadata": {},
   "source": [
    "In this lab, we introduced Python class design patterns for using private instance variables, getter and setter instance methods, as well as using the property function to create property objects. By prepending an underscore to an instance variable, we are indicating that this variable should be treated as a private instance variable and that it should only be accessed through a getter or setter method instead of direct access. By using getter and setter methods we are able to build in validations for our instance variables ensuring that they remain the datatype and value range that we expect in our program. To make our program even more intuitive we can use property objects to encapsulate our getter and setter methods into a single object. We then are able to invoke these methods as if they were an instance variable, with the added bonus that we are using our getter and setter methods to interact with the actual instance variable."
   ]
  }
 ],
 "metadata": {
  "kernelspec": {
   "display_name": "Python 3",
   "language": "python",
   "name": "python3"
  },
  "language_info": {
   "codemirror_mode": {
    "name": "ipython",
    "version": 3
   },
   "file_extension": ".py",
   "mimetype": "text/x-python",
   "name": "python",
   "nbconvert_exporter": "python",
   "pygments_lexer": "ipython3",
   "version": "3.6.4"
  }
 },
 "nbformat": 4,
 "nbformat_minor": 2
}
