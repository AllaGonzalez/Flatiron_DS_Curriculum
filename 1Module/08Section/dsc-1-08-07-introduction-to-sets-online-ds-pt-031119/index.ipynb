{
 "cells": [
  {
   "cell_type": "markdown",
   "metadata": {},
   "source": [
    "# Introduction to Sets"
   ]
  },
  {
   "cell_type": "markdown",
   "metadata": {},
   "source": [
    "## Introduction"
   ]
  },
  {
   "cell_type": "markdown",
   "metadata": {},
   "source": [
    "You have definitely heard of sets before. In this section, however, you will learn about a formal definition of sets, which will serve as a foundation for everything related to probability and combinatorics!"
   ]
  },
  {
   "cell_type": "markdown",
   "metadata": {},
   "source": [
    "## Objectives"
   ]
  },
  {
   "cell_type": "markdown",
   "metadata": {},
   "source": [
    "You will be able to: \n",
    "\n",
    "- Understand what a set is\n",
    "- Define a universal set and subsets\n",
    "- Learn about sets unions, intersections, complements\n",
    "- Learn how to use Venn Diagrams to understand about the relationships between sets\n"
   ]
  },
  {
   "cell_type": "markdown",
   "metadata": {},
   "source": [
    "\n",
    "## What is a set? "
   ]
  },
  {
   "cell_type": "markdown",
   "metadata": {},
   "source": [
    "In probability theory, a set is denoted as a *well-defined colletion of objects*. "
   ]
  },
  {
   "cell_type": "markdown",
   "metadata": {},
   "source": [
    "Mathematically, you can define a set by $S$. If an element $x$ belongs to a set $S$, then you'd write $x \\in S$. On the other hand, if $x$ does not belong to a set $S$, then you'd write $x\\notin S$.\n",
    "\n",
    "Example: Imagine we define $S$ the set of even numbers.\n",
    "\n",
    "If $x = 2$, $x\\in S$ because $x$ is an even number.\n",
    "\n",
    "If $x = 9$, $x\\notin S$ because $x$ is not an even number.\n"
   ]
  },
  {
   "cell_type": "markdown",
   "metadata": {},
   "source": [
    "## Subsets"
   ]
  },
  {
   "cell_type": "markdown",
   "metadata": {},
   "source": [
    "Set $T$ is a subset of set $S$ if *every element* in set $T$ is also in set $S$. The mathematical notation for a subset is $T \\subset S$. \n",
    "\n",
    "Do note that this particular definition doesn't require $S$ and $T$ to be different. In fact you could argue that a special case of a subset is where $T = S$! In this case, however, not only is $T \\subset S$, but it is also true that $S \\subset T$. We say that T is a *proper subset* if S if T and S are not equal, this is sometimes also denoted by $T \\subsetneq S$. \n",
    "\n",
    "To avoid any confusion regarding whether $T$ is a proper subset of $S$ or not, you can use $T \\subsetneq S$ and $T \\subseteq S$ instead of the more ambiguous $\\subset$.\n",
    "\n",
    "**Example**: If S is the set of even numbers, set $T = {2, 6, 22}$ is a proper subset of $S$. Formally, you can write this as $T \\subsetneq S$, or more ambiguously, $T \\subset S$."
   ]
  },
  {
   "cell_type": "markdown",
   "metadata": {},
   "source": [
    "## Universal sets"
   ]
  },
  {
   "cell_type": "markdown",
   "metadata": {},
   "source": [
    "The collection of all possible outcomes in a certain context or universe is called the **universal set**.\n",
    "A universal set is often denoted by $\\Omega$.\n",
    "\n",
    "Example of a universal set: all the possible outcomes when rolling a dice.\n",
    "\n",
    "$\\Omega = \\{1,2,3,4,5,6\\}$\n",
    "\n",
    "So remember that a universal set is not necessarily all the possible things that have ever existed. typically, a universal set is just all the possible elements within certain bounds, e.g., the set of all countries in the world, the set of all the animal species in the Bronx Zoo,...\n",
    "\n",
    "Do note that a universal set can have an infinite number of elements, for example, the set of all real numbers!"
   ]
  },
  {
   "cell_type": "markdown",
   "metadata": {},
   "source": [
    "## Elementary set operations"
   ]
  },
  {
   "cell_type": "markdown",
   "metadata": {},
   "source": [
    "Let's talk about set operations. Imagine you have two sets of numbers, say the first 4 multiples of 3 in set $S$:\n",
    "\n",
    "$ S = \\{3,6,9,12\\}$\n",
    "\n",
    "and the first 4 multiples of 2 in set $T$:\n",
    "\n",
    "$ T = \\{2,4,6,8\\} $."
   ]
  },
  {
   "cell_type": "markdown",
   "metadata": {},
   "source": [
    "### a) Union of two sets"
   ]
  },
  {
   "cell_type": "markdown",
   "metadata": {},
   "source": [
    "The union of 2 sets $S$ and $T$ is the set of elements of either S or T, or in both.  "
   ]
  },
  {
   "cell_type": "markdown",
   "metadata": {},
   "source": [
    "Applied to our example, the union of $S$ and $T$ is given by the elements $\\{2,3,4,6,8,9,12\\}$. "
   ]
  },
  {
   "cell_type": "markdown",
   "metadata": {},
   "source": [
    "In mathematical terms, the union of $S$ and $T$ is denoted as $S \\cup T$\n",
    "\n",
    "A popular way to represent sets and their relationships is through Venn Diagrams, (https://en.wikipedia.org/wiki/Venn_diagram), see picture below!"
   ]
  },
  {
   "cell_type": "markdown",
   "metadata": {},
   "source": [
    "<img src=\"union.png\",width=250,height=250>"
   ]
  },
  {
   "cell_type": "markdown",
   "metadata": {},
   "source": [
    "### b) Intersection of Two sets "
   ]
  },
  {
   "cell_type": "markdown",
   "metadata": {},
   "source": [
    "The intersection of two sets $S$ and $T$ is the set that contains all elements of $S$ that also belong to $T$. "
   ]
  },
  {
   "cell_type": "markdown",
   "metadata": {},
   "source": [
    "Applied to our example, the intersection of $S$ and $T$ is given by {6}, so it contains the elements that are multiples of both 2 AND 3."
   ]
  },
  {
   "cell_type": "markdown",
   "metadata": {},
   "source": [
    "In mathematical terms, the union of $S$ and $T$ is denoted as $S \\cap T$."
   ]
  },
  {
   "cell_type": "markdown",
   "metadata": {},
   "source": [
    "<img src=\"intersection.png\",width=250,height=250>"
   ]
  },
  {
   "cell_type": "markdown",
   "metadata": {},
   "source": [
    "### c) Relative complement or the difference"
   ]
  },
  {
   "cell_type": "markdown",
   "metadata": {},
   "source": [
    "If we have S and T, the relative complement of S contains all the elements of T that are NOT in S. This is also sometimes referred to as the *difference*. The difference is denoted by $ T\\backslash S $ or $T-S$.\n",
    "\n",
    "In this case, the relative complement of S (or $ T\\backslash S $) is $\\{2,4,8\\}$. The relative complement of T (or $ S\\backslash T $) is $\\{3,9,12\\}$."
   ]
  },
  {
   "cell_type": "markdown",
   "metadata": {},
   "source": [
    "<img src=\"rel_comp.png\",width=250,height=250>"
   ]
  },
  {
   "cell_type": "markdown",
   "metadata": {},
   "source": [
    "### d) Absolute complement"
   ]
  },
  {
   "cell_type": "markdown",
   "metadata": {},
   "source": [
    "There is another definition of the complement when we consider universal sets $\\Omega$ as well. In this context, we talk about the *absolute complement*.\n",
    "\n",
    "The absolute complement of $S$, with respect to the Universal set $\\Omega$, is the collection of the objects in $\\Omega$ that don't belong to $S$.\n",
    "\n",
    "Note how the definition of $\\Omega$ is very important here. Imagine a set $S= \\{\\text{elephant, alligator, tiger, bear}\\}$. The complement of this set will depend on how the universal set is defined. E.g. is $\\Omega$ equal to *the animals in the Bronx Zoo*, or perhaps *the 20 most deadly animals in the world*?\n",
    "\n",
    "Mathematically, the absolute complement of $S$ is denoted as $S'$ or $S^c$.\n",
    "\n",
    "Let's reconsider $S$ and $T$ as defined previously.\n",
    "\n",
    "Let's define $\\Omega$ the universal set (denoted by the box around the two venn diagrams), and let\n",
    "s assume this set contains the multiples of both 2 and 3 until 20. Then the elements of $\\Omega$ are $\\{2,3,4,6,8,9,10,12,14,15,16,18,20\\}$. \n",
    "\n",
    "The absolute component of $S$ (so $S'$ or $S^c$) is then given by $\\{2,4,8,10,14,15,16,18,20\\}$."
   ]
  },
  {
   "cell_type": "markdown",
   "metadata": {},
   "source": [
    "<img src=\"abs_comp.png\",width=250,height=250>"
   ]
  },
  {
   "cell_type": "markdown",
   "metadata": {},
   "source": [
    "## Inclusion Exclusion principle"
   ]
  },
  {
   "cell_type": "markdown",
   "metadata": {},
   "source": [
    "Note that if we want to know how many elements are in set $S$ versus $T$ we cannot simply sum up the elements, because they have elements in common.\n",
    "\n",
    "In combinational mathematics, the inclusion-exclusion principle is a counting technique solve this problem.\n",
    "\n",
    "When having 2 sets, the method for obtaining the union of two finite sets is given by:\n",
    "\n",
    "$\\mid S \\cup T \\mid = \\mid S \\mid + \\mid T \\mid - \\mid S \\cap T \\mid $\n",
    "\n",
    "Where the horizontal lines denote the *cardinality* of a set, which is the number of elements, considering a finite set. \n",
    "\n",
    "The formula expresses the fact that the sum of the sizes of the two sets may be too large since some elements may be counted twice. For the double-counted elements, one is substracted again.\n",
    "\n",
    "This formula can be extended to three sets, four sets, etc. Imagine we have a third set $R$:\n",
    "\n",
    "$\\mid S \\cup T\\cup R \\mid = \\mid S \\mid + \\mid T \\mid + \\mid R \\mid - \\mid S \\cap T \\mid  -\\mid S \\cap R \\mid - \\mid R \\cap T \\mid  + \\mid S \\cap T \\cap R \\mid $\n",
    "\n",
    "\n"
   ]
  },
  {
   "cell_type": "markdown",
   "metadata": {},
   "source": [
    "<img src=\"venn_diag.png\",width=350,height=350>"
   ]
  },
  {
   "cell_type": "markdown",
   "metadata": {},
   "source": [
    "## Empty sets"
   ]
  },
  {
   "cell_type": "markdown",
   "metadata": {},
   "source": [
    "When there are no elements in a certain set, we say that the set is **empty**, denoted by $\\emptyset$ or simply $\\{\\}$"
   ]
  },
  {
   "cell_type": "markdown",
   "metadata": {},
   "source": [
    "## Sets in Python"
   ]
  },
  {
   "cell_type": "markdown",
   "metadata": {},
   "source": [
    "Some things to bear in mind when working with sets in Python\n",
    "\n",
    "* Sets are unordered collections of unique elements.\n",
    "* Sets are iterable.\n",
    "* Sets are collections of lower level python objects (just like lists or dictionaries).\n",
    "\n",
    "documentations can be found here: \n",
    "https://docs.python.org/2/library/sets.html"
   ]
  },
  {
   "cell_type": "markdown",
   "metadata": {},
   "source": [
    "## Summary"
   ]
  },
  {
   "cell_type": "markdown",
   "metadata": {},
   "source": [
    "In this section, we started off explaining what sets, subsets and universal sets are. Next, you learned about some elementary such as unions, intersections and complements. After that, we tied all this info together through the inclusion exclusion principle. Finally we talked a little bit about how sets work in Python."
   ]
  }
 ],
 "metadata": {
  "kernelspec": {
   "display_name": "Python 3",
   "language": "python",
   "name": "python3"
  },
  "language_info": {
   "codemirror_mode": {
    "name": "ipython",
    "version": 3
   },
   "file_extension": ".py",
   "mimetype": "text/x-python",
   "name": "python",
   "nbconvert_exporter": "python",
   "pygments_lexer": "ipython3",
   "version": "3.6.4"
  }
 },
 "nbformat": 4,
 "nbformat_minor": 2
}
