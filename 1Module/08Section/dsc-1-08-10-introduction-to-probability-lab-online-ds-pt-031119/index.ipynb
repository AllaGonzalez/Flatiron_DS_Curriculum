{
 "cells": [
  {
   "cell_type": "markdown",
   "metadata": {},
   "source": [
    "# Introduction to Probability - Lab"
   ]
  },
  {
   "cell_type": "markdown",
   "metadata": {},
   "source": [
    "## Introduction"
   ]
  },
  {
   "cell_type": "markdown",
   "metadata": {},
   "source": [
    "Now that you know what sets are, we can go on and work with two sets that are of key importance when talking about probability: the event space and the sample space. These two concepts are foundational for calculating probabilities when assuming each event in the event space *has a same probability of happening*. Typical examples are rolling a dice (if the dice is \"fair\", the chance of throwing each number between 1 and 6 is 1/6) and flipping a coin (1/2 heads vs tails). You'll get a better sense of how all of this works in this lab."
   ]
  },
  {
   "cell_type": "markdown",
   "metadata": {},
   "source": [
    "## Objectives"
   ]
  },
  {
   "cell_type": "markdown",
   "metadata": {},
   "source": [
    "You will be able to:\n",
    "\n",
    "- Learn about experiments, outcomes and event space\n",
    "- Understand probability through the law of relative frequency\n",
    "- Learn about the probability axioms\n",
    "- Learn about the addition law of probability\n",
    "- Learn that where each outcome is equally likely, the probability is equal to number of outcomes in the event space divided by number of outcomes in the sample space\n"
   ]
  },
  {
   "cell_type": "markdown",
   "metadata": {},
   "source": [
    "##  Sample space, event space and the law of relative frequency"
   ]
  },
  {
   "cell_type": "markdown",
   "metadata": {},
   "source": [
    "#### a. Let's throw a dice once: formula of Laplace"
   ]
  },
  {
   "cell_type": "markdown",
   "metadata": {},
   "source": [
    "First, create a set `roll_dice` that holds the sample space."
   ]
  },
  {
   "cell_type": "code",
   "execution_count": null,
   "metadata": {
    "collapsed": true
   },
   "outputs": [],
   "source": [
    "roll_dice = None"
   ]
  },
  {
   "cell_type": "markdown",
   "metadata": {},
   "source": [
    "Now, let's assume that the event space is defined by \"throwing a number higher than 4\". This means that we consider the outcome \"successful\" if a 5 or a 6 is thrown. Create a set that holds these values."
   ]
  },
  {
   "cell_type": "code",
   "execution_count": null,
   "metadata": {
    "collapsed": true
   },
   "outputs": [],
   "source": [
    "event = None"
   ]
  },
  {
   "cell_type": "markdown",
   "metadata": {},
   "source": [
    "Now use the formule $P(E) = \\dfrac{|E|}{|S|}$ to calculate the probability."
   ]
  },
  {
   "cell_type": "code",
   "execution_count": null,
   "metadata": {
    "collapsed": true
   },
   "outputs": [],
   "source": [
    "prob_5_6 = None\n",
    "prob_5_6  # 0.3333333333333333"
   ]
  },
  {
   "cell_type": "markdown",
   "metadata": {},
   "source": [
    "Using this formula, it should be clear that the answer is 1/3 or 0.3333....  "
   ]
  },
  {
   "cell_type": "markdown",
   "metadata": {},
   "source": [
    "#### b. Now, let's simulate rolling dice to see how the law of relative frequency works."
   ]
  },
  {
   "cell_type": "markdown",
   "metadata": {},
   "source": [
    "As mentioned in the lecture, the law of relative frequency can be used to prove certain probabilities. But how does this work exactly? You're about to find out!"
   ]
  },
  {
   "cell_type": "markdown",
   "metadata": {},
   "source": [
    "$$P(E) = \\lim_{n\\rightarrow\\infty} \\dfrac{S{(n)}}{n}$$"
   ]
  },
  {
   "cell_type": "markdown",
   "metadata": {},
   "source": [
    "As you can see in the formula, the law states that when repeating an experiment $n$ times, where $n$ is very big, and you divide the number of \"good\" outcomes by the sample space (here we call it event E), you get to the probability of the event E. It should be clear that we get a more accurate number for P(E) when $n$ grows."
   ]
  },
  {
   "cell_type": "markdown",
   "metadata": {},
   "source": [
    "Let's see how this works. First, let's randomly generate values between 1 and 6. You can use `numpy` (imported as `np`) to generate random integers between 1 and 6 by setting the correct arguments. The `np.random` module is a very useful tool for this. We helped you with the code here, but you'll get more practice and a thorough explanation later on!"
   ]
  },
  {
   "cell_type": "code",
   "execution_count": null,
   "metadata": {
    "collapsed": true
   },
   "outputs": [],
   "source": [
    "import numpy as np\n",
    "np.random.randint(1,7) # you will get a random value between 1 and 6. See how it changes when you rerun"
   ]
  },
  {
   "cell_type": "markdown",
   "metadata": {},
   "source": [
    "Now, let's repeat this expermient 10 times, then 1000 times, then 1 million times, then 100 million times. \n",
    "You can do this by specifying the argument `size` within the numpy function used above. Store the values in the pre-defined variables below."
   ]
  },
  {
   "cell_type": "code",
   "execution_count": null,
   "metadata": {
    "collapsed": true
   },
   "outputs": [],
   "source": [
    "np.random.seed(12345) # to make sure there is no randomness\n",
    "\n",
    "dice_10 = np.random.randint(1,7,size= None)\n",
    "dice_1k = np.random.randint(1,7,size= None)\n",
    "dice_1m = np.random.randint(1,7,size=None)\n",
    "dice_100m = np.random.randint(1,7,size=None)"
   ]
  },
  {
   "cell_type": "markdown",
   "metadata": {},
   "source": [
    "next, let's count the number of \"events\". Remember that an event here is defined as throwing a 5 or a 6. Store them in the values below."
   ]
  },
  {
   "cell_type": "code",
   "execution_count": null,
   "metadata": {
    "collapsed": true
   },
   "outputs": [],
   "source": [
    "event_10 = None\n",
    "event_1k = None\n",
    "event_1m = None\n",
    "event_100m = None"
   ]
  },
  {
   "cell_type": "markdown",
   "metadata": {},
   "source": [
    "Next, you'll divide the number of events for each $n$ by the respective values for $n$. What do you see?"
   ]
  },
  {
   "cell_type": "code",
   "execution_count": null,
   "metadata": {
    "collapsed": true
   },
   "outputs": [],
   "source": [
    "prob_10 = None\n",
    "prob_1k = None\n",
    "prob_1m = None\n",
    "prob_100m = None\n",
    "prob_10, prob_1k, prob_1m, prob_100m  # 0.5 0.331 0.333657 0.33329752"
   ]
  },
  {
   "cell_type": "markdown",
   "metadata": {},
   "source": [
    "You see that the probability converges to 0.3333333... for higher values of $n$. "
   ]
  },
  {
   "cell_type": "markdown",
   "metadata": {},
   "source": [
    "##  The Probability Axioms"
   ]
  },
  {
   "cell_type": "markdown",
   "metadata": {},
   "source": [
    "You're working at the United Nations, and want to get a better sense of the world population. \n",
    "\n",
    "You come across some numbers and find the list of probabilities of being an inhabitant for each of the seven continents (rounded up to 3 digits):"
   ]
  },
  {
   "cell_type": "markdown",
   "metadata": {},
   "source": [
    "- P(Africa) = 0.161\n",
    "- P(Antarctica) = 0.000\n",
    "- P(Asia) = 0.598\n",
    "- P(Europe) = 0.10\n",
    "- P(North-America) = 0.079\n",
    "- P(Australia) = 0.005\n",
    "- P(South-America) = 0.057"
   ]
  },
  {
   "cell_type": "markdown",
   "metadata": {},
   "source": [
    "store these values using the variable names below:"
   ]
  },
  {
   "cell_type": "code",
   "execution_count": null,
   "metadata": {
    "collapsed": true
   },
   "outputs": [],
   "source": [
    "P_afr = None\n",
    "P_ant = None\n",
    "P_as = None\n",
    "P_eur = None\n",
    "P_na = None\n",
    "P_aus = None\n",
    "P_sa = None"
   ]
  },
  {
   "cell_type": "markdown",
   "metadata": {},
   "source": [
    "Now create the sample space set names `continents`. Store the sample space in a numpy array."
   ]
  },
  {
   "cell_type": "code",
   "execution_count": null,
   "metadata": {
    "collapsed": true
   },
   "outputs": [],
   "source": [
    "continents = np.array([P_afr, P_ant, P_as, P_eur, P_na, P_aus, P_sa])\n",
    "print(continents)"
   ]
  },
  {
   "cell_type": "markdown",
   "metadata": {},
   "source": [
    "We want to make sure that the three probability axioms are fulfilled, because they assure us that $(\\Omega,E,P)$ is a **probability space**:\n",
    "\n",
    "- if we have a sample space $S$ (or $\\Omega$)\n",
    "- if we have an event space $E$ and a probability measure $P$, \n",
    "- **and** the three probability axioms are fulfilled, \n",
    "\n",
    "The third axiom is fairly ad hoc, and you will basically have to deduct from the context whether individual events are independent. It is fairly straightforward, however, that people can not be inhabitants of two continents at the same time, so for now, we will assume that we're good for axiom three.\n",
    "\n",
    "However, we can use the numpy array `continents` to verify if axiom 1 and 2 are fulfilled. Create a function \"axioms\" that returns the message \"We're good!\" if both axiom 1 and 2 are fulfilled, and \"Not quite!\" if that's not the case."
   ]
  },
  {
   "cell_type": "code",
   "execution_count": null,
   "metadata": {
    "collapsed": true
   },
   "outputs": [],
   "source": [
    "def check_axioms(sample_space):\n",
    "    None"
   ]
  },
  {
   "cell_type": "markdown",
   "metadata": {},
   "source": [
    "Now test your newly created function out on `continents`"
   ]
  },
  {
   "cell_type": "code",
   "execution_count": null,
   "metadata": {
    "collapsed": true
   },
   "outputs": [],
   "source": [
    "check_axioms(continents)"
   ]
  },
  {
   "cell_type": "markdown",
   "metadata": {},
   "source": [
    "You want to make sure your test returns `\"Not quite!\"` for the following numpy arrays. Go ahead and test away!"
   ]
  },
  {
   "cell_type": "code",
   "execution_count": null,
   "metadata": {
    "collapsed": true
   },
   "outputs": [],
   "source": [
    "test_1 = np.array([0.05, 0.2, 0.3, 1.01])\n",
    "test_2 = np.array([0.05, 0.5, 0.6, -0.15])\n",
    "test_3 = np.array([0.043,0.05,.02,0.3,0.2])"
   ]
  },
  {
   "cell_type": "code",
   "execution_count": null,
   "metadata": {
    "collapsed": true
   },
   "outputs": [],
   "source": [
    "None\n",
    "None\n",
    "None"
   ]
  },
  {
   "cell_type": "markdown",
   "metadata": {},
   "source": [
    "Great! We tested it and seems like our set `continents` is a true probability space."
   ]
  },
  {
   "cell_type": "markdown",
   "metadata": {},
   "source": [
    "## Some more practice on the sample and event spaces\n",
    "\n",
    "In this exercise, we'll look at possible outcomes when throwing a dice twice. For your convenience, we created the NumPy array below.\n",
    "\n",
    "Next, we'll compute a couple or probabilities associated with doing this."
   ]
  },
  {
   "cell_type": "code",
   "execution_count": null,
   "metadata": {
    "collapsed": true
   },
   "outputs": [],
   "source": [
    "import numpy as np\n",
    "sample_dice = np.array([(1, 1), (1, 2), (1, 3), (1, 4), (1, 5), (1, 6),\n",
    "              (2, 1), (2, 2), (2, 3), (2, 4), (2, 5), (2, 6),\n",
    "              (3, 1), (3, 2), (3, 3), (3, 4), (3, 5), (3, 6),\n",
    "              (4, 1), (4, 2), (4, 3), (4, 4), (4, 5), (4, 6),\n",
    "              (5, 1), (5, 2), (5, 3), (5, 4), (5, 5), (5, 6),\n",
    "              (6, 1), (6, 2), (6, 3), (6, 4), (6, 5), (6, 6)])"
   ]
  },
  {
   "cell_type": "markdown",
   "metadata": {},
   "source": [
    "Look at the shape of the array to reassure we haven't made any mistakes."
   ]
  },
  {
   "cell_type": "code",
   "execution_count": null,
   "metadata": {
    "collapsed": true
   },
   "outputs": [],
   "source": [
    "None # should be equal to (36,2)"
   ]
  },
  {
   "cell_type": "markdown",
   "metadata": {},
   "source": [
    "Use Python to obtain the following probabilities:"
   ]
  },
  {
   "cell_type": "markdown",
   "metadata": {},
   "source": [
    "#### a. What is the probability of throwing a 5 at least once?\n",
    "\n",
    "First, use sample_dice to get \"True\" values for each time a 5 occurs."
   ]
  },
  {
   "cell_type": "code",
   "execution_count": null,
   "metadata": {
    "collapsed": true
   },
   "outputs": [],
   "source": [
    "set_5 = None"
   ]
  },
  {
   "cell_type": "markdown",
   "metadata": {},
   "source": [
    "Next, make sure that you get a value `True` for each pair where at least one 5 was thrown."
   ]
  },
  {
   "cell_type": "code",
   "execution_count": null,
   "metadata": {
    "collapsed": true
   },
   "outputs": [],
   "source": [
    "true_5 = None\n",
    "print(true_5)"
   ]
  },
  {
   "cell_type": "markdown",
   "metadata": {},
   "source": [
    "Applying the `sum()` function you can get to the total number of items in the event space. Divide this by the total number in the sample space."
   ]
  },
  {
   "cell_type": "code",
   "execution_count": null,
   "metadata": {
    "collapsed": true
   },
   "outputs": [],
   "source": [
    "prob_5 = None\n",
    "print(prob_5)"
   ]
  },
  {
   "cell_type": "markdown",
   "metadata": {},
   "source": [
    "#### b. What is the probability of throwing a 5 or 6 at least once?"
   ]
  },
  {
   "cell_type": "code",
   "execution_count": null,
   "metadata": {
    "collapsed": true
   },
   "outputs": [],
   "source": [
    "set_5 = None\n",
    "set_6 = None"
   ]
  },
  {
   "cell_type": "code",
   "execution_count": null,
   "metadata": {
    "collapsed": true
   },
   "outputs": [],
   "source": [
    "set_5_6 = None"
   ]
  },
  {
   "cell_type": "code",
   "execution_count": null,
   "metadata": {
    "collapsed": true
   },
   "outputs": [],
   "source": [
    "set_any_5_6 = None\n",
    "print(set_any_5_6) "
   ]
  },
  {
   "cell_type": "code",
   "execution_count": null,
   "metadata": {
    "collapsed": true
   },
   "outputs": [],
   "source": [
    "prob_5_6 = None\n",
    "print(prob_5_6)"
   ]
  },
  {
   "cell_type": "markdown",
   "metadata": {},
   "source": [
    "#### c. What is the probability of the outcome having a sum of exactly 8?"
   ]
  },
  {
   "cell_type": "code",
   "execution_count": null,
   "metadata": {
    "collapsed": true
   },
   "outputs": [],
   "source": [
    "sum_dice = None\n",
    "sum_8 = None"
   ]
  },
  {
   "cell_type": "code",
   "execution_count": null,
   "metadata": {
    "collapsed": true
   },
   "outputs": [],
   "source": [
    "prob_sum_8 = None\n",
    "print(prob_sum_8)"
   ]
  },
  {
   "cell_type": "markdown",
   "metadata": {},
   "source": [
    "## Now let's try creating your own event space!"
   ]
  },
  {
   "cell_type": "markdown",
   "metadata": {},
   "source": [
    "A teaching assistant is holding office hours so students can make appointments. She has 6 appointments scheduled today, 3 by male students, and 3 by female students. "
   ]
  },
  {
   "cell_type": "markdown",
   "metadata": {},
   "source": [
    "Create a NumPy array to list the event space, (all the possible permutations of these appointments) the same way as we did this for you in the \"throwing a dice twice\" exercise. It will be quite a bit of typing, as your resulting NumPy array will have a shape (20,6)!"
   ]
  },
  {
   "cell_type": "code",
   "execution_count": null,
   "metadata": {
    "collapsed": true
   },
   "outputs": [],
   "source": [
    "sample_mf= None"
   ]
  },
  {
   "cell_type": "code",
   "execution_count": null,
   "metadata": {
    "collapsed": true
   },
   "outputs": [],
   "source": [
    "None # get the shape of sample_mf"
   ]
  },
  {
   "cell_type": "code",
   "execution_count": null,
   "metadata": {
    "collapsed": true
   },
   "outputs": [],
   "source": [
    "sample_length= None\n",
    "print(sample_length)"
   ]
  },
  {
   "cell_type": "markdown",
   "metadata": {},
   "source": [
    "#### 1. Calculate the probability that at least 2 out of the first 3 appointments are with female students"
   ]
  },
  {
   "cell_type": "markdown",
   "metadata": {},
   "source": [
    "First, select the first 3 appointment slots and check for \"F\"."
   ]
  },
  {
   "cell_type": "code",
   "execution_count": null,
   "metadata": {
    "collapsed": true
   },
   "outputs": [],
   "source": [
    "first_3_F = None\n",
    "None"
   ]
  },
  {
   "cell_type": "code",
   "execution_count": null,
   "metadata": {
    "collapsed": true
   },
   "outputs": [],
   "source": [
    "num_F = None\n",
    "print(num_F)"
   ]
  },
  {
   "cell_type": "code",
   "execution_count": null,
   "metadata": {
    "collapsed": true
   },
   "outputs": [],
   "source": [
    "F_2plus = None\n",
    "print(F_2plus)"
   ]
  },
  {
   "cell_type": "code",
   "execution_count": null,
   "metadata": {
    "collapsed": true
   },
   "outputs": [],
   "source": [
    "prob_F_2plus = None\n",
    "print(F_2plus)"
   ]
  },
  {
   "cell_type": "code",
   "execution_count": null,
   "metadata": {
    "collapsed": true
   },
   "outputs": [],
   "source": [
    "prob_F_2plus = None\n",
    "print(prob_F_2plus)"
   ]
  },
  {
   "cell_type": "markdown",
   "metadata": {},
   "source": [
    "#### 2. Calculate the probability that after 4 appointment slots, all the female students have had an appointment"
   ]
  },
  {
   "cell_type": "code",
   "execution_count": null,
   "metadata": {
    "collapsed": true
   },
   "outputs": [],
   "source": [
    "None"
   ]
  },
  {
   "cell_type": "markdown",
   "metadata": {},
   "source": [
    "You noticed that coming up with the sample space was probably the most time-consuming part of the exercise, and it would really become unfeasible to write this down for say, 10 or, even worse, 20 appointments in a row. You'll learn about methods that make this easy in the next lecture!"
   ]
  },
  {
   "cell_type": "markdown",
   "metadata": {},
   "source": [
    "## The Addition Law of Probability\n",
    "At a supermarket, we randomly select customers, and make notes of whether a certain customer owns a Visa card (event A) or an Amex credit card (event B). Some customers own both cards.\n",
    "You can assume that:\n",
    "\n",
    "- P(A) = 0.5\n",
    "- P(B) = 0.4\n",
    "- both A and B = 0.25.\n",
    "\n",
    "1) compute the probability that a selected customer has at least one credit card.\n",
    "\n",
    "2) compute the probability that a selected customer doesn't own any of the mentioned credit cards.\n",
    "\n",
    "3) compute the probability that a customer *only* owns VISA card.\n",
    "\n",
    "(You can use python here, but you don't have to)"
   ]
  },
  {
   "cell_type": "markdown",
   "metadata": {},
   "source": [
    "## Summary"
   ]
  },
  {
   "cell_type": "markdown",
   "metadata": {},
   "source": [
    "In this lab, you got to practice your knowledge on the foundations of probability through working on problems regarding the law of relative frequency, the probability axioms and the addition law of probability."
   ]
  }
 ],
 "metadata": {
  "kernelspec": {
   "display_name": "Python 3",
   "language": "python",
   "name": "python3"
  },
  "language_info": {
   "codemirror_mode": {
    "name": "ipython",
    "version": 3
   },
   "file_extension": ".py",
   "mimetype": "text/x-python",
   "name": "python",
   "nbconvert_exporter": "python",
   "pygments_lexer": "ipython3",
   "version": "3.6.5"
  }
 },
 "nbformat": 4,
 "nbformat_minor": 2
}
