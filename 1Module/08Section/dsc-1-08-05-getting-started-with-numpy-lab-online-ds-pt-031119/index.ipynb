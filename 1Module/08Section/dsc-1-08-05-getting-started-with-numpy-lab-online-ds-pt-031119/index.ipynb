{
 "cells": [
  {
   "cell_type": "markdown",
   "metadata": {},
   "source": [
    "# Getting Started with NumPy - Lab"
   ]
  },
  {
   "cell_type": "markdown",
   "metadata": {},
   "source": [
    "## Introduction"
   ]
  },
  {
   "cell_type": "markdown",
   "metadata": {},
   "source": [
    "Now that we have introduced NumPy, let's put it to practice. In this lab, we are going to be creating arrays, performing operations on them, and returning new array all using the NumPy library. Let's get started!"
   ]
  },
  {
   "cell_type": "markdown",
   "metadata": {},
   "source": [
    "## Objectives\n",
    "\n",
    "You will be able to: \n",
    "\n",
    "* Understand how to initialize NumPy arrays from nested Python lists, and access elements using square brackets\n",
    "* Understand the shape attribute on NumPy arrays\n",
    "* Understand how to create arrays from scratch including np.zeros, np.ones, np.full\n",
    "* Learn to perform scalar and vector math  "
   ]
  },
  {
   "cell_type": "markdown",
   "metadata": {},
   "source": [
    "## Import NumPy under the standard alias"
   ]
  },
  {
   "cell_type": "code",
   "execution_count": 1,
   "metadata": {
    "collapsed": true
   },
   "outputs": [],
   "source": [
    "#Your code here"
   ]
  },
  {
   "cell_type": "markdown",
   "metadata": {},
   "source": [
    "## Generating Some Mock Data"
   ]
  },
  {
   "cell_type": "markdown",
   "metadata": {},
   "source": [
    "Create a NumPy Array for each of the following:\n",
    "    1. Using a range\n",
    "    2. Using a Python List\n",
    "    \n",
    "Below, create a list in Python that has 5 elements (i.e. [0,1,2,3,4]) and assign it to the variable `py_list`. \n",
    "\n",
    "Next, do the same, but instead of a list, create a range with 5 elements and assign it to the variable, `py_range`.\n",
    "\n",
    "Finally, use the list and range to create NumPy arrays and assign the array from list to the variable `array_from_list`, and the array from the range to the variable `array_from_range`."
   ]
  },
  {
   "cell_type": "code",
   "execution_count": null,
   "metadata": {
    "collapsed": true
   },
   "outputs": [],
   "source": [
    "#Your code here"
   ]
  },
  {
   "cell_type": "markdown",
   "metadata": {},
   "source": [
    "Next, we have a list of heights and weights and we'd like to use them to create a collection of BMIs. However, they are both in inches and pounds (imperial system), respectively. \n",
    "\n",
    "Let's use what we know to create NumPy arrays with the metric equivalent values, (height in meters & weight in kg).\n",
    "\n",
    "> **Remember:** *NumPy can make these calculations a lot easier and with less code than a list!*"
   ]
  },
  {
   "cell_type": "markdown",
   "metadata": {},
   "source": [
    "> 1.0 inch = 0.0254 meters\n",
    "\n",
    "> 2.2046 lbs = 1 kilogram"
   ]
  },
  {
   "cell_type": "code",
   "execution_count": null,
   "metadata": {
    "collapsed": true
   },
   "outputs": [],
   "source": [
    "# use the conversion rate for turning height in inches to meters\n",
    "list_height_inches = [65, 68, 73, 75, 78]\n",
    "\n",
    "#Your code here"
   ]
  },
  {
   "cell_type": "code",
   "execution_count": null,
   "metadata": {
    "collapsed": true
   },
   "outputs": [],
   "source": [
    "# use the conversion rate for turning weight in pounds to kilograms\n",
    "list_weight_pounds = [150, 140, 220, 205, 265]\n",
    "\n",
    "#your code here"
   ]
  },
  {
   "cell_type": "markdown",
   "metadata": {},
   "source": [
    "The metric formula for calculating BMI is as follows:\n",
    "\n",
    "> BMI = weight (kg) ÷ height^2 (m^2)\n",
    "\n",
    "So, to get BMI we divide weight by the squared value of height. For example, if i weighed 130kg and was 1.9 meters tall, the calculation would look like:\n",
    "\n",
    "> BMI = 130 / (1.9*1.9)\n",
    "\n",
    "Use the BMI calculation to create a NumPy array of BMIs"
   ]
  },
  {
   "cell_type": "code",
   "execution_count": null,
   "metadata": {
    "collapsed": true
   },
   "outputs": [],
   "source": [
    "#Your code here"
   ]
  },
  {
   "cell_type": "markdown",
   "metadata": {},
   "source": [
    "## Create an identity vector using np.ones()"
   ]
  },
  {
   "cell_type": "code",
   "execution_count": null,
   "metadata": {
    "collapsed": true
   },
   "outputs": [],
   "source": [
    "#Your code here"
   ]
  },
  {
   "cell_type": "markdown",
   "metadata": {},
   "source": [
    "## Multiply the BMI_array by your identity vector"
   ]
  },
  {
   "cell_type": "code",
   "execution_count": null,
   "metadata": {
    "collapsed": true
   },
   "outputs": [],
   "source": [
    "#Your code here"
   ]
  },
  {
   "cell_type": "markdown",
   "metadata": {},
   "source": [
    "## Level Up: Using NumPy to Parse a File\n",
    "The pandas library that we've been using is built on top of NumPy; all columns/series in a Pandas DataFrame are built using NumPy arrays. To get a better idea of a how a built in method like pd.read_csv() works, we'll try and recreate that here!"
   ]
  },
  {
   "cell_type": "code",
   "execution_count": null,
   "metadata": {
    "collapsed": true
   },
   "outputs": [],
   "source": [
    "#Open a text file (csv files are just plaintext seperated by commas)\n",
    "f = open('bp.txt')\n",
    "n_rows = len(f.readlines())\n",
    "print('The file has {} lines.'.format(n_rows)) #Print number of lines in the file\n",
    "f = open('bp.txt') #After using readlines, we must reopen the file\n",
    "n_cols = (len(f.readline().split('\\t'))) #The file has values seperated by tabs; we read the first line and check it's length.\n",
    "\n",
    "f = open('bp.txt')\n",
    "\n",
    "#Your code here\n",
    "#Pseudocode outline below\n",
    "#1) Create a matrix of zeros that is the same size of the file\n",
    "#2) Iterate through the file: \"for line in f:\" Hint: using enumerate will also be required\n",
    "    #3) Update each row of the matrix with the new stream of data\n",
    "    #Hint: skip the first row (its just column names, not the data.)\n",
    "#4) Preview your results; you should now have a NumPy matrix with the data from the file\n"
   ]
  },
  {
   "cell_type": "markdown",
   "metadata": {},
   "source": [
    "## Summary"
   ]
  },
  {
   "cell_type": "markdown",
   "metadata": {},
   "source": [
    "In this lab, we practiced creating NumPy arrays from both lists and rages. We then practiced peforming math operations like converting imperial measurements to metric measurements on each element of a NumPy array to create new arrays with new values. Finally, we used both of our new NumPy arrays to operate on eachother and create new arrays containing the BMIs from our arrays containing heights and weights."
   ]
  }
 ],
 "metadata": {
  "kernelspec": {
   "display_name": "Python 3",
   "language": "python",
   "name": "python3"
  },
  "language_info": {
   "codemirror_mode": {
    "name": "ipython",
    "version": 3
   },
   "file_extension": ".py",
   "mimetype": "text/x-python",
   "name": "python",
   "nbconvert_exporter": "python",
   "pygments_lexer": "ipython3",
   "version": "3.6.4"
  }
 },
 "nbformat": 4,
 "nbformat_minor": 2
}
