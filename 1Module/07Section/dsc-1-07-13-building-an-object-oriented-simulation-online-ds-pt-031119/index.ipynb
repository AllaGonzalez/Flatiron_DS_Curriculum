{
 "cells": [
  {
   "cell_type": "markdown",
   "metadata": {},
   "source": [
    "# Building an Object-Oriented Simulation\n",
    "\n",
    "## Introduction\n",
    "\n",
    "In this lesson, we'll talk about best practices for simulating things in the real world using Object-Oriented Programming!\n",
    "\n",
    "## Objectives\n",
    "\n",
    "You will be able to:\n",
    "\n",
    "* Use inheritance to to write D.R.Y. code \n",
    "* Understand the relationship between subclasses and superclasses\n",
    "* Demonstrate an understand of the OO lifecycle, and the relationship between attributes and methods\n",
    "* Create Object-Oriented data models that describe the real world with classes and subclasses\n",
    "\n",
    "\n",
    "## Creating Stochastic Simulations\n",
    "\n",
    "As a capstone for everything we've learned about Object-Oriented Programming, we'll be creating a **_Herd Immunity Simulation_**.\n",
    "\n",
    "\n",
    "<img src='herd_immunity.gif'>\n",
    "\n",
    "\n",
    "This simulation is meant to model the effects that vaccinations have on the way a communicable disease spreads through a population. The simulation we're building depends on just a few statistics that we'll borrow from the CDC or the WHO:\n",
    "\n",
    "* `r0`, the average number of people a contagious person infects before they are no longer contagious (because they got better or they died)\n",
    "* `mortality_rate`, the percentage chance a person infected with a disease will die from it.\n",
    "\n",
    "The main workflow of simulation is as follows:\n",
    "\n",
    "1. Create a `Person` class with the following attributes:\n",
    "    * `alive`\n",
    "    * `vaccinated`\n",
    "    * `is_infected`\n",
    "    * `has_been_infected`\n",
    "    * `newly_infected`\n",
    "    \n",
    "1. Create a `Simulation` class with the following attributes:\n",
    "    * `population`\n",
    "    * `virus_name`\n",
    "    * `num_time_steps`\n",
    "    * `r0`\n",
    "    * `percent_pop_vaccinated`\n",
    "\n",
    "1. Create methods for our `Simulation` class that will cover each step of the simulation. We'll save the specifics of those for the lab, \n",
    "\n",
    "In order for our simulation to work, we'll need to define some rules for it:\n",
    "\n",
    "* Each infected person will \"interact\" with 100 random people from the `population`. If the person the infected individual interacts with is sick, vaccinated, or has had the disease before, nothing happens. However, if the person the infected individual interacts with is healthy, unvaccinated, and has not been infected yet, then that person becomes infected. \n",
    "\n",
    "* At the end of each round, the following things happen:\n",
    "    * All currently infected people either get better from the disease, or die, with the chance of death corresponding to the mortality rate of the disease. \n",
    "    * All people that were newly infected during this round become the new infected for next round.  \n",
    "    \n",
    "The simulation continues for the set number of time steps.  Any time someone dies or gets infected, we'll log it in a text file called `simulation_logs.txt`.  Once the simulation is over, we'll write some code to quickly parse the text logs into data and quickly visualize the results, so that we can run multiple simulations and answer questions like: \n",
    "\n",
    "* If vaccination rates for {disease x} dropped by 5%, how many more people become infected in an epidemic? How many more die?\n",
    "* What does the spread of {disease x} through a population look like?\n",
    "\n",
    "If this all seems a bit daunting, don't worry! We'll provide much more detail as we build this step-by-step during the lab. \n",
    "\n",
    "Let's move on to the lab and get started!"
   ]
  },
  {
   "cell_type": "markdown",
   "metadata": {},
   "source": [
    "## Summary\n",
    "\n",
    "In this lesson, you learned about best practices for simulating things in the real world using Object-Oriented Programming!"
   ]
  }
 ],
 "metadata": {
  "kernelspec": {
   "display_name": "Python 3",
   "language": "python",
   "name": "python3"
  },
  "language_info": {
   "codemirror_mode": {
    "name": "ipython",
    "version": 3
   },
   "file_extension": ".py",
   "mimetype": "text/x-python",
   "name": "python",
   "nbconvert_exporter": "python",
   "pygments_lexer": "ipython3",
   "version": "3.6.4"
  }
 },
 "nbformat": 4,
 "nbformat_minor": 2
}
