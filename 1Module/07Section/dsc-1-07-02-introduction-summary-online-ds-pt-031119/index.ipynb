{
 "cells": [
  {
   "cell_type": "markdown",
   "metadata": {},
   "source": [
    "# Introduction"
   ]
  },
  {
   "cell_type": "markdown",
   "metadata": {},
   "source": [
    "## Introduction\n",
    "This lesson summarizes the topics we'll be covering in section 07 and why they'll be important to you as a data scientist."
   ]
  },
  {
   "cell_type": "markdown",
   "metadata": {},
   "source": [
    "## Objectives\n",
    "You will be able to:\n",
    "* Understand and explain what is covered in this section\n",
    "* Understand and explain why the section will help you to become a data scientist"
   ]
  },
  {
   "cell_type": "markdown",
   "metadata": {},
   "source": [
    "## All About Objects - Continued!\n",
    "\n",
    "As with the last section, section 07 is really focused on getting you comfortable with Object Oriented Programming. It really does take a little while to get used to it, but when you do it'll make everything else you do as a programmer easier.\n",
    "\n",
    "## Object Initialization\n",
    "\n",
    "Firstly we run you through the `init` method that you use to create new objects (like \"Sam\") from a class (e.g. Person).\n",
    "\n",
    "## An Introduction to Domain Modeling\n",
    "\n",
    "We then start to show how you can use a combination of attributes and methods to represent real world objects with a combination of state (the properties) and behavior (methods).\n",
    "\n",
    "## Class Variables and Class Methods\n",
    "\n",
    "We then introduce the idea that classes - not just instances - can also have state and behavior and show some of the use cases for class variables and methods.\n",
    "\n",
    "## Inheritance\n",
    "\n",
    "In the inheretance lessons, we introduce one of the most powerful (and most frequently over-used) mechanisms for reuse in OOP - the fact that classes can inherit from each other. For example, a Customer can inherit from a Company, as can a Supplier, so you can have some shared attributes and methods for Companies - whether they're buying from you or selling to you.\n",
    "\n",
    "## Building an Object Oriented Simulation\n",
    "\n",
    "Finally we pull together everything we've learned in the last couple of sections and apply it to data science by showing how to create an object oriented Herd Immunity Simulation!\n"
   ]
  },
  {
   "cell_type": "markdown",
   "metadata": {},
   "source": [
    "## Summary\n",
    "\n",
    "In this section, we're introducing some additional concepts that you'll need to become comfortable with Object Oriented Programming, and we're bringing them together in a project that shows you one way to use OOP to solve a data science problem."
   ]
  }
 ],
 "metadata": {
  "kernelspec": {
   "display_name": "Python 3",
   "language": "python",
   "name": "python3"
  },
  "language_info": {
   "codemirror_mode": {
    "name": "ipython",
    "version": 3
   },
   "file_extension": ".py",
   "mimetype": "text/x-python",
   "name": "python",
   "nbconvert_exporter": "python",
   "pygments_lexer": "ipython3",
   "version": "3.6.5"
  }
 },
 "nbformat": 4,
 "nbformat_minor": 2
}
