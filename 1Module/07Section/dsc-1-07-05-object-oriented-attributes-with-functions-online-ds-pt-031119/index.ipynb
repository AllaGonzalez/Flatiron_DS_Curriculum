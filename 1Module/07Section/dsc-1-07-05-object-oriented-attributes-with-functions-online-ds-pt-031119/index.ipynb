{
 "cells": [
  {
   "cell_type": "markdown",
   "metadata": {},
   "source": [
    "# Object Oriented Attributes with Functions"
   ]
  },
  {
   "cell_type": "markdown",
   "metadata": {},
   "source": [
    "## Introduction\n",
    "We've been learning a lot about different parts of object oriented programming. We learned about classes and what purpose they serve. We've seen instance objects, instance variables, and instance methods and how these things all work with each other. In this lab, we will talk about what a **domain model** is and how it ties into object oriented programming."
   ]
  },
  {
   "cell_type": "markdown",
   "metadata": {},
   "source": [
    "## Objectives\n",
    "\n",
    "You will be able to:\n",
    "\n",
    "* Understand the concept of a domain model\n",
    "* Create a domain model\n",
    "* Define instance methods that operate on nested data structures"
   ]
  },
  {
   "cell_type": "markdown",
   "metadata": {},
   "source": [
    "## What Is a Domain Model?"
   ]
  },
  {
   "cell_type": "markdown",
   "metadata": {},
   "source": [
    "A domain model is the representation of a real-world concept or structure translated in to software. This is a key function of object orientation. So far, our Python classes have been used as blueprints or templates for  instance objects of that class. As an example, a Driver class would create driver intsance objects, and the class would define a basic structure for what that driver instance object should look like and what capabilities it should have. But a class is only one part of a domain model just as, typically, a driver is only one part of a larger structure.\n",
    "\n",
    "A domain model is meant to mirror that larger, real-world structure. It is more than just one class, it is an entire environment that often depends on other parts or classes to function properly. So, in keeping with a Driver class, we could use the example of a taxi and limousine service as our domain model. There are many more parts to a service like this than drivers alone. We could imagine dispatchers, mechanics, accountants, passengers, etc., all being part of the structure of this domain model. In a simplified example, we could have instance and class methods handle things like `dispatch_driver`, `calculate_revenue_from_rides`, `service_taxi`, or any other function of a taxi and limousine service.\n",
    "\n",
    "As we become more fluent in object oriented programming and our programs become more complex, we will see that the other parts of a domain model like passengers, dispatchers, etc., will be classes of their own which interact with each other. \n",
    "\n",
    "In this lecture, we will be using a business as our domain model. With this, we will continue to see how attributes and methods can be combined to perform operations and store values simultaneously."
   ]
  },
  {
   "cell_type": "markdown",
   "metadata": {},
   "source": [
    "## Creating the Class\n",
    "\n",
    "Let's again start by creating a very simple class."
   ]
  },
  {
   "cell_type": "code",
   "execution_count": 1,
   "metadata": {},
   "outputs": [],
   "source": [
    "class Business():\n",
    "    def __init__(name=None, biz_type=None, city=None, customers = {}):\n",
    "        business.name = name\n",
    "        business.biz_type = biz_type\n",
    "        business.city = city\n",
    "        business.customers = customers"
   ]
  },
  {
   "cell_type": "markdown",
   "metadata": {},
   "source": [
    "## Defining Methods with Attributes\n",
    "\n",
    "As we've seen, we can define both methods (functions) and attributes of class objects. Let's start to look at how we can combine those. As we've seen before, let's create a method that lets you update an attribute."
   ]
  },
  {
   "cell_type": "code",
   "execution_count": 2,
   "metadata": {},
   "outputs": [],
   "source": [
    "class Business():\n",
    "    def __init__(self, name=None, biz_type=None, city=None, customers = []):\n",
    "        self.name = name\n",
    "        self.biz_type = biz_type\n",
    "        self.city = city\n",
    "        self.customers = customers\n",
    "    def add_customer(self, customer):\n",
    "        self.customers.append(customer)"
   ]
  },
  {
   "cell_type": "markdown",
   "metadata": {},
   "source": [
    "## Thinking about appropriate structures\n",
    "At this point in creating our data structures, we can think about what we want a customer to be. It could be a dictionary storing various attributes about that customer such as name, orders, etc. It could also be a class of it's own. Thinking through the use case and allowing flexability is a key design decision.  \n",
    "\n",
    "For maximum future flexability, we'll go through the added effort of defining an additional class for customers."
   ]
  },
  {
   "cell_type": "code",
   "execution_count": 3,
   "metadata": {},
   "outputs": [],
   "source": [
    "class Customer():\n",
    "    def __init__(self, name=None, orders=[], location=None):\n",
    "        self.name=name\n",
    "        self.orders = orders\n",
    "        self.location = location\n",
    "    def add_order(item_name, item_cost, quantity):\n",
    "        self.orders.append({'item_name': item_name, 'item_cost':item_cost, 'quantity':quantity})"
   ]
  },
  {
   "cell_type": "markdown",
   "metadata": {},
   "source": [
    "## Writing more complicated methods using attriubtes\n",
    "\n",
    "At this point, let's take a look at an example that is a bit more complicated now that we have some nested structures. Let's imagine a reporting method for the business that will return the top 5 customers to date based on their purchase history. To do this, we will have to determine the total purchases made by customers and then sort our customers by this. Currently the data needed for that is stored within a customer object within the orders attribute which is a list of dictionaries. Quite the mouthful there; an object with an attribute that's a list of dictionaries. Breaking down the problem into constituent parts can help us reduce solving the same problems over and over again. As such, before we write a larger business function to retrieve the top 5 customers, let's update our customer object to also keep track of total spent."
   ]
  },
  {
   "cell_type": "code",
   "execution_count": 4,
   "metadata": {},
   "outputs": [],
   "source": [
    "class Customer():\n",
    "    def __init__(self, name=None, orders=[], location=None):\n",
    "        self.name=name\n",
    "        self.orders = orders\n",
    "        self.location = location\n",
    "        self.total_spent = sum([i['item_cost']*i['quantity'] for i in orders])\n",
    "    def add_order(self, item_name, item_cost, quantity):\n",
    "        self.orders.append({'item_name': item_name, 'item_cost':item_cost, 'quantity':quantity})\n",
    "        self.total_spent += item_cost * quantity"
   ]
  },
  {
   "cell_type": "markdown",
   "metadata": {},
   "source": [
    "Now our previous problem is greatly simplified; our customer objects directly have an attribute for the total spent. We can write a method for top customers with much greater ease."
   ]
  },
  {
   "cell_type": "code",
   "execution_count": 5,
   "metadata": {},
   "outputs": [],
   "source": [
    "class Business():\n",
    "    def __init__(self, name=None, biz_type=None, city=None, customers = []):\n",
    "        self.name = name\n",
    "        self.biz_type = biz_type\n",
    "        self.city = city\n",
    "        self.customers = customers\n",
    "    def add_customer(self, customer):\n",
    "        self.customers.append(customer)\n",
    "    def top_n_customers(self, n):\n",
    "        top_n = sorted(self.customers, key = lambda x: x.total_spent, reverse=True)[:n]\n",
    "        for c in top_n:\n",
    "            print(c.name, c.total_spent)"
   ]
  },
  {
   "cell_type": "markdown",
   "metadata": {},
   "source": [
    "## Trying it out: Creating an Instance\n",
    "\n",
    "Let's try this all out! First let's create a simple business instance."
   ]
  },
  {
   "cell_type": "code",
   "execution_count": 6,
   "metadata": {},
   "outputs": [],
   "source": [
    "startup = Business('etsy_store2076', 'crafts')"
   ]
  },
  {
   "cell_type": "code",
   "execution_count": 7,
   "metadata": {},
   "outputs": [],
   "source": [
    "customer1 = Customer(name='Bob', orders=[])\n",
    "customer1.add_order('sweater', 24.99, 1)"
   ]
  },
  {
   "cell_type": "code",
   "execution_count": 8,
   "metadata": {},
   "outputs": [
    {
     "data": {
      "text/plain": [
       "[{'item_cost': 24.99, 'item_name': 'sweater', 'quantity': 1}]"
      ]
     },
     "execution_count": 8,
     "metadata": {},
     "output_type": "execute_result"
    }
   ],
   "source": [
    "customer1.orders"
   ]
  },
  {
   "cell_type": "code",
   "execution_count": 9,
   "metadata": {},
   "outputs": [
    {
     "data": {
      "text/plain": [
       "24.99"
      ]
     },
     "execution_count": 9,
     "metadata": {},
     "output_type": "execute_result"
    }
   ],
   "source": [
    "customer1.total_spent"
   ]
  },
  {
   "cell_type": "markdown",
   "metadata": {},
   "source": [
    "## Generating Customers and orders at scale\n",
    "\n",
    "Let's take this to the next level an systematically add some fake data to test our fancier method on. To do this, we'll also use some NumPy's built in random methods to randomly select quantities of orders and items."
   ]
  },
  {
   "cell_type": "code",
   "execution_count": 10,
   "metadata": {},
   "outputs": [],
   "source": [
    "import numpy as np"
   ]
  },
  {
   "cell_type": "code",
   "execution_count": 11,
   "metadata": {},
   "outputs": [],
   "source": [
    "names = ['Liam',  'Emma', 'Noah','Olivia','William','Ava',\n",
    "         'James','Isabella','Logan','Sophia','Benjamin','Mia','Mason',\n",
    "         'Charlotte','Elijah','Amelia','Oliver','Evelyn','Jacob','Abigail]']\n",
    "items = [('sweater',50), ('scarf', 35), ('gloves', 20), ('hat', 20)]\n",
    "\n",
    "for i in range(10):\n",
    "    customer = Customer(name=np.random.choice(names)) #Create a customer\n",
    "    n_orders = np.random.randint(1,5) #Create an order or two, or three, or four, or five!\n",
    "    for order_n in range(n_orders):\n",
    "        idx = np.random.choice(len(items)) #np.random.choice doesn't work with nested lists; workaround\n",
    "        item = items[idx]\n",
    "        item_name = item[0]\n",
    "        item_price = item[1]\n",
    "        quantity = np.random.randint(1,4)\n",
    "        customer.add_order(item_name, item_price, quantity)\n",
    "    #Add the customer to our business\n",
    "    startup.add_customer(customer)"
   ]
  },
  {
   "cell_type": "markdown",
   "metadata": {},
   "source": [
    "## Trying out our complex method"
   ]
  },
  {
   "cell_type": "code",
   "execution_count": 12,
   "metadata": {},
   "outputs": [
    {
     "name": "stdout",
     "output_type": "stream",
     "text": [
      "Isabella 1650\n",
      "Ava 1510\n",
      "Mia 1390\n",
      "Ava 1220\n",
      "Logan 1115\n"
     ]
    }
   ],
   "source": [
    "startup.top_n_customers(5)"
   ]
  },
  {
   "cell_type": "code",
   "execution_count": 13,
   "metadata": {},
   "outputs": [
    {
     "name": "stdout",
     "output_type": "stream",
     "text": [
      "Isabella 1650\n",
      "Ava 1510\n",
      "Mia 1390\n",
      "Ava 1220\n",
      "Logan 1115\n",
      "Ava 940\n",
      "James 780\n",
      "Olivia 630\n",
      "Benjamin 425\n",
      "Ava 185\n"
     ]
    }
   ],
   "source": [
    "startup.top_n_customers(50)"
   ]
  },
  {
   "cell_type": "markdown",
   "metadata": {},
   "source": [
    "## Summary\n",
    "In this lesson, we were able to mimic a complex domain model using a Business and customer class with a few instance methods and variables. Soon we will see that our domain models will use other classes, instance methods, and instance variables to create more functionality in our programs."
   ]
  }
 ],
 "metadata": {
  "kernelspec": {
   "display_name": "Python 3",
   "language": "python",
   "name": "python3"
  },
  "language_info": {
   "codemirror_mode": {
    "name": "ipython",
    "version": 3
   },
   "file_extension": ".py",
   "mimetype": "text/x-python",
   "name": "python",
   "nbconvert_exporter": "python",
   "pygments_lexer": "ipython3",
   "version": "3.6.4"
  }
 },
 "nbformat": 4,
 "nbformat_minor": 2
}
