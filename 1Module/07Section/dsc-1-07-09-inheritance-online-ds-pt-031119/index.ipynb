{
 "cells": [
  {
   "cell_type": "markdown",
   "metadata": {},
   "source": [
    "# Inheritance\n",
    "\n",
    "\n",
    "## Introduction\n",
    "\n",
    "In this lesson, we'll learn about how we can use inheritance to create relationships between **_Superclasses_** and **_Subclasses_** to save us from writing redundant code!\n",
    "\n",
    "## Objectives\n",
    "\n",
    "You will be able to:\n",
    "\n",
    "* Use inheritance to to write D.R.Y. code \n",
    "* Understand the relationship between subclasses and superclasses\n",
    "* Create Object-Oriented data models that describe the real world with classes and subclasses\n",
    "\n",
    "## Writing D.R.Y. Code\n",
    "\n",
    "Let's assume for a second that we are going to build a data model around the most popular band of the last century, the Beatles!\n",
    "\n",
    "<img src = 'definitely_not_the_monkees.JPG'>\n",
    "<center>**_John, Paul, George, and Ringo, shortly before recording their\n",
    "    breakout hit, \"Hey Hey We're the Monkees\"_**</center>\n",
    "    \n",
    "    \n",
    "Using the skills we've learned so far, we could absolutely create classes for each of the different roles in the band.  If we created a class for each different musician, it would probably look something like this:\n",
    "\n",
    "```python\n",
    "class Drummer(object):\n",
    "    \n",
    "    def __init__(self):\n",
    "        self.name = \"Ringo\"\n",
    "        self.role = \"Drummer\"\n",
    "    \n",
    "    def tune_instrument(self):\n",
    "        #some code\n",
    "        pass\n",
    "    \n",
    "    def practice(self):\n",
    "        # some code\n",
    "        pass\n",
    "    \n",
    "    def perform(self):\n",
    "        #some code\n",
    "        pass\n",
    "    \n",
    "class Singer(object):\n",
    "    \n",
    "    def __init__(self):\n",
    "        self.name = \"John\"\n",
    "        self.role = \"Singer\"\n",
    "        \n",
    "    def tune_instrument(self):\n",
    "        #some code\n",
    "        pass\n",
    "    \n",
    "    def practice(self):\n",
    "        # some code\n",
    "        pass\n",
    "    \n",
    "    def perform(self):\n",
    "        #some code\n",
    "        pass\n",
    "    \n",
    "# Class Guitarist code...\n",
    "\n",
    "# Class Bass_Guitarist code...\n",
    "```\n",
    "\n",
    "If you're thinking about what it would be like to write this code, the first thing you'll notice is probably that there's a lot of redundant code that you can fill in using copy and paste.  If this makes you nervous, it should--copying and pasting is usually a sign that your program can be improved.  After all, good programmers are lazy!\n",
    "\n",
    "> “I will always choose a lazy person to do a hard job. Because a lazy person will find an easy way to do it.” - Bill Gates\n",
    "\n",
    "Good programmers try to follow the D.R.Y. rule, which stands for **_Don't Repeat Yourself!_** In the example above, we find ourselves having to type the same lines of code over and over again--the attributes in each class, the same method names (even though the bodies of the functions will likely be different), again and again.  This violates our D.R.Y. rule! Luckily, we can restructure our code in an intelligent way that will allow us to accomplish the same thing without repeating anything by using **_Inheritance_**!\n",
    "\n",
    "\n",
    "## Our First Subclass\n",
    "\n",
    "The `Guitarist` class and the `Bass_Guitarist` class are extremely similar.  In fact, we could say that Bass Guitarists are a special case of Guitarists.  With a few notable exceptions, the `Bass_Guitarist` class is generally going to be more similar than different to the `Guitarist` class.  \n",
    "\n",
    "In python, we can make `Bass_Guitarist` a **_subclass_** of `Guitarist`.  This will mean that the `Bass_Guitarist` class will **_Inherit_** the attributes and methods of its superclass, `Guitarist`.  This will save us a lot of redundant code!\n",
    "\n",
    "See the example in the cell below. "
   ]
  },
  {
   "cell_type": "code",
   "execution_count": 6,
   "metadata": {},
   "outputs": [],
   "source": [
    "class Guitarist(object):\n",
    "    \n",
    "    def __init__(self):\n",
    "        self.name = \"George\"\n",
    "        self.role = \"Guitarist\"\n",
    "        self.instrument_type = \"Stringed Instrument\"\n",
    "        \n",
    "    def tune_instrument(self):\n",
    "        print(\"Tune the strings!\")\n",
    "        \n",
    "    def practice(self):\n",
    "        print(\"Strumming the old 6 string!\")\n",
    "        \n",
    "    def perform(self):\n",
    "        print(\"Hello, New  York!\")\n",
    "        \n",
    "class Bass_Guitarist(Guitarist):\n",
    "    \n",
    "    def __init__(self):\n",
    "        super().__init__()\n",
    "        self.name = \"Paul\"\n",
    "        self.role = \"Guitarist\"\n",
    "        \n",
    "    def practice(self):\n",
    "        print(\"I play the Seinfeld Theme Song when I get bored\")\n",
    "        \n",
    "    def perform(self):\n",
    "        super().perform()\n",
    "        print(\"Thanks for coming out!\")"
   ]
  },
  {
   "cell_type": "code",
   "execution_count": 7,
   "metadata": {},
   "outputs": [],
   "source": [
    "george = Guitarist()\n",
    "paul = Bass_Guitarist()"
   ]
  },
  {
   "cell_type": "code",
   "execution_count": 8,
   "metadata": {},
   "outputs": [
    {
     "name": "stdout",
     "output_type": "stream",
     "text": [
      "Stringed Instrument\n",
      "Stringed Instrument\n"
     ]
    }
   ],
   "source": [
    "print(george.instrument_type)\n",
    "print(paul.instrument_type)"
   ]
  },
  {
   "cell_type": "code",
   "execution_count": 11,
   "metadata": {},
   "outputs": [
    {
     "name": "stdout",
     "output_type": "stream",
     "text": [
      "Tune the strings!\n",
      "Tune the strings!\n"
     ]
    }
   ],
   "source": [
    "george.tune_instrument()\n",
    "paul.tune_instrument()"
   ]
  },
  {
   "cell_type": "code",
   "execution_count": 9,
   "metadata": {},
   "outputs": [
    {
     "name": "stdout",
     "output_type": "stream",
     "text": [
      "Strumming the old 6 string!\n",
      "I play the Seinfeld Theme Song when I get bored\n"
     ]
    }
   ],
   "source": [
    "george.practice()\n",
    "paul.practice()"
   ]
  },
  {
   "cell_type": "code",
   "execution_count": 10,
   "metadata": {},
   "outputs": [
    {
     "name": "stdout",
     "output_type": "stream",
     "text": [
      "Hello, New  York!\n",
      "Hello, New  York!\n",
      "Thanks for coming out!\n"
     ]
    }
   ],
   "source": [
    "george.perform()\n",
    "paul.perform()"
   ]
  },
  {
   "cell_type": "markdown",
   "metadata": {},
   "source": [
    "Take a look at the way the classes were created, and the corresponding outputs in the cells above.  A couple things stand out:\n",
    "\n",
    "1.  We never declared a `perform()` method for class `Bass_Guitarist`, but our `george` instance still has access to this method.  \n",
    "<br>  \n",
    "1.  We never set a value for the `instrument_type` attribute in class `Bass_Guitarist`, but our instance, `george`, has that attribute, and the attribute has the same value as it had in the `Guitarist` class. This is because we called the `super().__init__()` method first.  \n",
    "<br>  \n",
    "1. We were able to change/overwrite the things that were different in `Bass_Guitarist` class, such as the behavior of the `practice` and `perform` methods, as well as the values for the `name` and `role` attributes.\n",
    "\n",
    "### Using `.super()`\n",
    "\n",
    "The `super()` method gives us access to the superclass of the object that calls `super()`.  In this case, we accessed `super()` to call its constructor method, `__init__()` to initialize the object just as if we were creating a new `guitar` object.  Then, we modified the attributes as needed.  Although we did not do it in this example, it is worth noting that we can also add attributes and methods to a subclass that a superclass does not have.  For instance, if we added the attribute `self.string_type = \"bass\"` inside the `Bass_Guitarist.__init__()` method, all bass guitarist objects would have that attribute, but guitarist objects would not.  Conversely, any changes that we make to the superclass `guitarist` will always be reflected in the subclass `Bass_Guitarist`. \n",
    "\n",
    "\n",
    "### Changing Values and Methods \n",
    "\n",
    "Note that in both of these classes, we have methods named `practice` with have the same name, but different behaviors. This is an example of **_Polymorphism_**, meaning that we can have methods that have the same name, but contain different code inside their bodies.  This is not a naming collision because these functions exist attached to different classes.  \n",
    "\n",
    "Also take note of the way the `perform` method is written inside of `Bass_Guitarist`. If we want a method in a subclass to do everything that method does in a superclass and *then* do something else, we can accomplish this by simply calling the superclass's version of the method by accessing it with `super()` and then adding any remaining behavior afterwards in the body of the function. \n",
    "\n",
    "### Accessing Methods\n",
    "\n",
    "Note that by default, subclasses have access to all methods contained in a superclass. Because they are a subclass, they can automatically do the same things as the corresponding superclass.   Note that we do not need to declare the functions in the body of the subclass to have access to them--we did not mention the method `tune_instrument` at all, but `paul` still has access to the exact same `tune_instrument` method as `george`.  We only declare methods that are mentioned in the superclass if we want to override their behavior in the subclass.  \n",
    "\n",
    "## Abstract Superclasses\n",
    "\n",
    "When we make use of a subclass and a superclass, we are defining levels of **_Abstraction_**.  In this case, the superclass `Guitarist` is one level of abstraction higher than the subclass `Bass_Guitarist`.  Intuitively, this makes sense--bass guitarists are a kind of guitarist, but ~~thankfully~~ not all guitarists are bass guitarists.\n",
    "\n",
    "However, it's worth noting that we can always go a level of abstraction higher by defining a class that is more vague, but still captures the common thread amongst the subclasses. We'll demonstrate this with the following example:\n",
    "\n",
    "At first glance, it may seem that guitarists, singers, and drummers don't have enough in common with each other to make use of inheritance--a drummer is not a type of singer, etc.  However, one thing they all have in common is they are all a type of `Musician`.  No matter what sort of musician you are, you:\n",
    "\n",
    "* Have a `name`\n",
    "* Have an `instrument`\n",
    "* Know how to `tune_instrument`\n",
    "* Can `practice` and `perform`\n",
    "\n",
    "In this way, we can write a single superclass that we can use for all of the subclasses in our band: `Drummer`, `Guitarist`, `Bass_Guitarist`, and `Singer` are all types of musicians!\n",
    "\n",
    "This is called an **_Abstract Superclass_** because the superclass we're using is at a level of abstraction where it does not make sense for it to exist on its own.  For example, it makes sense to instantiate drummers, singers, and guitarists--they are members of a band, and by playing these instruments, they are musicians.  However, you cannot be a `musician` without belonging to one of these subclasses--there is no such thing as a musician that doesnt play any instruments or sing!  It makes no sense to instantiate a `Musician`, because they don't really exist in the real world--we only create this **_Abstract Superclass_** to define the commonalities between our subclasses and save ourselves some redundant code!\n",
    "\n",
    "### Creating The Beatles Using an Abstract Superclass\n",
    "\n",
    "In the cell below, we'll model the Beatles by making use of the abstract superclass `Musician`, and then subclassing it when we create `Drummer`, `Singer`, and `Guitarist`.  Note that since we can have multiple layers of abstraction, we'll still keep `Bass_Guitarist` as a subclass of `Guitarist`."
   ]
  },
  {
   "cell_type": "code",
   "execution_count": 17,
   "metadata": {},
   "outputs": [],
   "source": [
    "class Musician(object):\n",
    "    \n",
    "    def __init__(self, name): # We'll set name at instantiation time to demonstrate passing in arguments to super().__init__()\n",
    "        self.name = name\n",
    "        self.band = \"The Beatles\"\n",
    "    \n",
    "    def tune_instrument(self):\n",
    "        print(\"Tuning Instrument!\")\n",
    "    \n",
    "    def practice(self):\n",
    "        print(\"Practicing!\")\n",
    "        \n",
    "    def perform(self):\n",
    "        print(\"Hello New York!\")\n",
    "        \n",
    "class Singer(Musician):\n",
    "    \n",
    "    def __init__(self, name):\n",
    "        super().__init__(name)  # Notice how we pass in name argument from init to the super().__init() method, because it expects it\n",
    "        self.role = \"Singer\"\n",
    "        \n",
    "    def tune_instrument(self):\n",
    "        print(\"No tuning needed--I'm a singer!\")\n",
    "    \n",
    "class Guitarist(Musician):\n",
    "    \n",
    "    def __init__(self, name):\n",
    "        super().__init__(name)\n",
    "        self.role = \"Guitarist\"\n",
    "        \n",
    "    def practice(self):\n",
    "        print(\"Strumming the old 6 string!\")\n",
    "        \n",
    "class Bass_Guitarist(Guitarist):\n",
    "    \n",
    "    def __init__(self, name):\n",
    "        super().__init__(name)\n",
    "        self.role = \"Bass Guitarist\"\n",
    "        \n",
    "    def practice(self):\n",
    "        print(\"I play the Seinfeld Theme Song when I get bored\")\n",
    "        \n",
    "    def perform(self):\n",
    "        super().perform()\n",
    "        print(\"Thanks for coming out!\")\n",
    "        \n",
    "class Drummer(Musician):\n",
    "    \n",
    "    def __init__(self, name):\n",
    "        super().__init__(name)\n",
    "        self.role = \"Drummer\"\n",
    "        \n",
    "    def tune_instrument(self):\n",
    "        print('Where did I put those drum sticks?')\n",
    "        \n",
    "    def practice(self):\n",
    "        print('Why does my chair still say \"Pete Best\"?')"
   ]
  },
  {
   "cell_type": "code",
   "execution_count": 24,
   "metadata": {},
   "outputs": [],
   "source": [
    "john = Singer(\"John Lennon\")\n",
    "paul = Bass_Guitarist(\"Paul McCartney\")\n",
    "ringo = Drummer(\"Ringo Starr\")\n",
    "george = Guitarist(\"George Harrison\")\n",
    "\n",
    "the_beatles = [john, ringo, george, paul]"
   ]
  },
  {
   "cell_type": "code",
   "execution_count": 25,
   "metadata": {},
   "outputs": [
    {
     "name": "stdout",
     "output_type": "stream",
     "text": [
      "John Lennon is the Singer!\n",
      "Ringo Starr is the Drummer!\n",
      "George Harrison is the Guitarist!\n",
      "Paul McCartney is the Bass Guitarist!\n"
     ]
    }
   ],
   "source": [
    "for musician in the_beatles:\n",
    "    print(\"{} is the {}!\".format(musician.name, musician.role))"
   ]
  },
  {
   "cell_type": "code",
   "execution_count": 26,
   "metadata": {},
   "outputs": [
    {
     "name": "stdout",
     "output_type": "stream",
     "text": [
      "No tuning needed--I'm a singer!\n",
      "Where did I put those drum sticks?\n",
      "Tuning Instrument!\n",
      "Tuning Instrument!\n"
     ]
    }
   ],
   "source": [
    "for musician in the_beatles:\n",
    "    musician.tune_instrument()"
   ]
  },
  {
   "cell_type": "code",
   "execution_count": 27,
   "metadata": {},
   "outputs": [
    {
     "name": "stdout",
     "output_type": "stream",
     "text": [
      "Practicing!\n",
      "Why does my chair still say \"Pete Best\"?\n",
      "Strumming the old 6 string!\n",
      "I play the Seinfeld Theme Song when I get bored\n"
     ]
    }
   ],
   "source": [
    "for musician in the_beatles:\n",
    "    musician.practice()"
   ]
  },
  {
   "cell_type": "code",
   "execution_count": 28,
   "metadata": {},
   "outputs": [
    {
     "name": "stdout",
     "output_type": "stream",
     "text": [
      "Hello New York!\n",
      "Hello New York!\n",
      "Hello New York!\n",
      "Hello New York!\n",
      "Thanks for coming out!\n"
     ]
    }
   ],
   "source": [
    "for musician in the_beatles:\n",
    "    musician.perform()"
   ]
  },
  {
   "cell_type": "markdown",
   "metadata": {},
   "source": [
    "## Summary\n",
    "\n",
    "In this lab, you learned how to:\n",
    "\n",
    "* Use inheritance to to write D.R.Y. code \n",
    "* Understand the relationship between subclasses and superclasses\n",
    "* Create Object-Oriented data models that describe the real world with classes and subclasses"
   ]
  }
 ],
 "metadata": {
  "kernelspec": {
   "display_name": "Python 3",
   "language": "python",
   "name": "python3"
  },
  "language_info": {
   "codemirror_mode": {
    "name": "ipython",
    "version": 3
   },
   "file_extension": ".py",
   "mimetype": "text/x-python",
   "name": "python",
   "nbconvert_exporter": "python",
   "pygments_lexer": "ipython3",
   "version": "3.6.5"
  }
 },
 "nbformat": 4,
 "nbformat_minor": 2
}
