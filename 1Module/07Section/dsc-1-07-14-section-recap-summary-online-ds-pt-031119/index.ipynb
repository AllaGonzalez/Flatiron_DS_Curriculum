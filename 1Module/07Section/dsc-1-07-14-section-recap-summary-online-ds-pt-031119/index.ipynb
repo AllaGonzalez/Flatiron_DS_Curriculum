{
 "cells": [
  {
   "cell_type": "markdown",
   "metadata": {},
   "source": [
    "# Section Recap"
   ]
  },
  {
   "cell_type": "markdown",
   "metadata": {},
   "source": [
    "## Introduction\n",
    "\n",
    "This short lesson summarizes the topics we covered in section 07 and why they'll be important to you as a data scientist."
   ]
  },
  {
   "cell_type": "markdown",
   "metadata": {},
   "source": [
    "## Objectives\n",
    "You will be able to:\n",
    "* Understand and explain what was covered in this section\n",
    "* Understand and explain why this section will help you become a data scientist"
   ]
  },
  {
   "cell_type": "markdown",
   "metadata": {},
   "source": [
    "## Key Takeaways\n",
    "\n",
    "We spent a lot more time in this section deepening both our knowledge of and experience of working with Object Oriented Programming concepts. Key takeaways include:\n",
    "* Objects can be really useful for using software to model real world entities like companies, customers and orders\n",
    "* Objects have both state (properties) and behavior (methods - functions associated to an object)\n",
    "* Classes can also have state (class variables/properties) and behavior (class methods)\n",
    "* Inheritance is a powerful way to reuse code by allowing (for example) a Vendor and a Customer to share properties and methods by extending from the same Company class\n",
    "* Inheritance can be overused - think about \"is a\" vs. \"has a\" and [favor composition over inheritance](https://en.wikipedia.org/wiki/Composition_over_inheritance)\n",
    "\n",
    "And after our deep dive into OOP, let's get back to the data science. In the next section we'll be learning about NumPy and the foundations of probability and combinatorics!\n"
   ]
  }
 ],
 "metadata": {
  "kernelspec": {
   "display_name": "Python 3",
   "language": "python",
   "name": "python3"
  },
  "language_info": {
   "codemirror_mode": {
    "name": "ipython",
    "version": 3
   },
   "file_extension": ".py",
   "mimetype": "text/x-python",
   "name": "python",
   "nbconvert_exporter": "python",
   "pygments_lexer": "ipython3",
   "version": "3.6.5"
  }
 },
 "nbformat": 4,
 "nbformat_minor": 2
}
