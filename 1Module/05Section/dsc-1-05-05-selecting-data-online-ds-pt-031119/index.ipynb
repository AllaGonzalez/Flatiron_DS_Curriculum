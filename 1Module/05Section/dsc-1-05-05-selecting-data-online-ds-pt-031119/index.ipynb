{
 "cells": [
  {
   "cell_type": "markdown",
   "metadata": {},
   "source": [
    "# Selecting Data"
   ]
  },
  {
   "cell_type": "markdown",
   "metadata": {},
   "source": [
    "## Introduction\n",
    "\n",
    "In this lesson, we'll cover different ways to manipulate and select data from SQL database tables including inserting, selecting, updating, and deleting database rows."
   ]
  },
  {
   "cell_type": "markdown",
   "metadata": {},
   "source": [
    "## Objectives\n",
    "\n",
    "You will be able to:\n",
    "\n",
    "* Understand the basic structure of a `SELECT` statement in SQL\n",
    "* Use `INSERT INTO`, `UPDATE` and `DELETE` statements in SQL\n",
    "* Understand the relationship between SQL and relational databases"
   ]
  },
  {
   "cell_type": "markdown",
   "metadata": {},
   "source": [
    "## Setting Up Our Database\n",
    "\n",
    "In this code along, we'll be creating a `cats` table in a `pets_database.db`. So, let's navigate to our terminal and get started.\n",
    "\n",
    "First let's create our `pets_database` by importing sqlite3 and running the following commands in our notebook.\n",
    "```python \n",
    "import sqlite3 \n",
    "connection = sqlite3.connect('pets_database.db')\n",
    "cursor = connection.cursor()\n",
    "```"
   ]
  },
  {
   "cell_type": "code",
   "execution_count": 1,
   "metadata": {},
   "outputs": [],
   "source": [
    "# connect database and create cursor here"
   ]
  },
  {
   "cell_type": "markdown",
   "metadata": {},
   "source": [
    "Now that we have a database, let's create our `cats` table along with `id`, `name`, `age` and `breed` columns. Remember that we use our cursor to execute these SQL statements, and that the statements must be wrapped in quotes (`'''SQL statement GOES here'''`)\n",
    "\n",
    "\n",
    "```python\n",
    "cursor.execute('''\n",
    "CREATE TABLE cats (\n",
    "\tid INTEGER PRIMARY KEY,\n",
    "\tname TEXT,\n",
    "\tage INTEGER,\n",
    "\tbreed TEXT\n",
    ")\n",
    "''')\n",
    "```"
   ]
  },
  {
   "cell_type": "code",
   "execution_count": 21,
   "metadata": {},
   "outputs": [],
   "source": [
    "# create table here"
   ]
  },
  {
   "cell_type": "markdown",
   "metadata": {},
   "source": [
    "Okay, let's start storing some cats."
   ]
  },
  {
   "cell_type": "markdown",
   "metadata": {},
   "source": [
    "### Code Along I: INSERT INTO\n",
    "\n",
    "Next, to insert a record with values, type the following:\n",
    "\n",
    "```python\n",
    "cursor.execute('''INSERT INTO cats (name, age, breed) VALUES ('Maru', 3, 'Scottish Fold');''')\n",
    "```"
   ]
  },
  {
   "cell_type": "code",
   "execution_count": 2,
   "metadata": {},
   "outputs": [],
   "source": [
    "# insert Maru into the pet_database.db here"
   ]
  },
  {
   "cell_type": "markdown",
   "metadata": {},
   "source": [
    "We use the `INSERT INTO` command, followed by the name of the table to which we want to add data. Then, in parentheses, we put the column names that we will be filling with data. This is followed by the `VALUES` keyword, which is accompanied by a parentheses enclosed list of the values that correspond to each column name.\n",
    "\n",
    "**Important:** Note that we *didn't specify* the \"id\" column name or value. Since we created the `cats` table with an \"id\" column whose type is `INTEGER PRIMARY KEY`, we don't have to specify the id column values when we insert data. Primary Key columns are auto-incrementing. As long as you have defined an id column with a data type of `INTEGER PRIMARY KEY`, a newly inserted row's id column will be automatically given the correct value.\n",
    "\n",
    "Let's add a few more cats to our table. To do this, we can (1) use our jupyter notebook by navigating to the **home** tab in our browser that is opened after running the `jupyter notebook` command in our command line (*or you can open a new tab and navigate to `localhost:8888`*), or we can (2) open our text editor (i.e. atom or sublime). We'll need to create a file, `01_insert_cats_into_cats_table.sql`. "
   ]
  },
  {
   "cell_type": "markdown",
   "metadata": {},
   "source": [
    "To create a file with jupyter notebook, you will need to:\n",
    "1. Click the `new` button on the right of the page\n",
    "![new-file](click-new.png)\n",
    "2. Select `text file` from the drop-down menu\n",
    "![text-file](click-text.png)\n",
    "3. Click in the top right on `Untitled.txt` and rename the file appropriately\n",
    "![rename-file](rename-file.png)\n",
    "4. Enter the appropriate new file name and press `ok`\n",
    "![enter-name](enter-name.png)"
   ]
  },
  {
   "cell_type": "markdown",
   "metadata": {},
   "source": [
    "To create a text file via your text editor, you can simply enter the following command in your command line:\n",
    "\n",
    "> `touch 01_insert_cats_into_cats_table.sql`\n",
    "* **Note:** *you will need to be located inside the directory where this file should be created.*"
   ]
  },
  {
   "cell_type": "markdown",
   "metadata": {},
   "source": [
    "Once the `01_insert_cats_into_cats_table.sql` file is created, use two `INSERT INTO` statements to insert the following cats into the table:\n",
    "\n",
    "|name|age|breed|\n",
    "|----|---|-----|\n",
    "|\"Lil\\' Bub\"|5|\"American Shorthair\"|\n",
    "|\"Hannah\"|1|\"Tabby\"|\n",
    "\n",
    "Each `INSERT INTO` statement gets its own line in the `.sql` file in your text editor or jupyter notebook. Each line needs to end with a `;`. Run the file with the following code:\n",
    "\n",
    "```python\n",
    "file = open(\"./01_insert_cats_into_cats_table.sql\", 'r') # opens the SQL file\n",
    "sql = file.read() # reads and returns the SQL statements\n",
    "cursor.executescript(sql) # executes the returned SQL statements and inserts the values into the table\n",
    "file.close() # closes the file\n",
    "```"
   ]
  },
  {
   "cell_type": "code",
   "execution_count": null,
   "metadata": {},
   "outputs": [],
   "source": [
    "# execute the INSERT INTO statements here"
   ]
  },
  {
   "cell_type": "markdown",
   "metadata": {},
   "source": [
    "Now, we'll learn how to `SELECT` data from a table, which will help us to confirm that we inserted the above data correctly."
   ]
  },
  {
   "cell_type": "markdown",
   "metadata": {},
   "source": [
    "## Selecting Data\n",
    "\n",
    "Now that we've inserted some data into our `cats` table, we likely want to read that data. This is where the `SELECT` statement comes in. We use it to retrieve database data, or rows.\n",
    "\n",
    "### Code Along II: SELECT FROM\n",
    "\n",
    "A basic `SELECT` statement works like this:\n",
    "\n",
    "```sql\n",
    "SELECT [names of columns we are going to select] FROM [table we are selecting from];\n",
    "```\n",
    "\n",
    "We specify the names of the columns we want to SELECT and then tell SQL the table we want to select them FROM.\n",
    "\n",
    "We want to select all the rows in our table, and we want to return the data stored in any and all columns in those rows. To do this, we could pass the name of each column explicitly:\n",
    "\n",
    "```sql\n",
    "SELECT id, name, age, breed FROM cats;\n",
    "```\n",
    "\n",
    "Which should give us back:\n",
    "\n",
    "```bash\n",
    "1|Maru|3|Scottish Fold\n",
    "2|Lil\\' Bub|5|American Shorthair\n",
    "3|Hannah|1|Tabby\n",
    "```\n",
    "\n",
    "A faster way to get data from every column in our table is to use a special selector, known commonly as the 'wildcard', `*` selector. The `*` selector means: \"Give me all the data from all the columns for all of the cats\" Using the wildcard, we can `SELECT` all the data from all of the columns in the cats table like this:\n",
    "\n",
    "```sql\n",
    "SELECT * FROM cats;\n",
    "```\n",
    "\n",
    "Now let's try out some more specific `SELECT` statements:"
   ]
  },
  {
   "cell_type": "markdown",
   "metadata": {},
   "source": [
    "#### Selecting by Column Names\n",
    "\n",
    "To select just certain columns from a table, use the following:\n",
    "\n",
    "```python\n",
    "cursor.execute('''SELECT name FROM cats;''').fetchall()\n",
    "```\n",
    "That should return the following:\n",
    "\n",
    "```python\n",
    "[('Maru',), (\"Lil' Bub\",), ('hannah',)]\n",
    "```\n",
    "\n",
    "You can even select more than one column name at a time. For example, try out:\n",
    "\n",
    "```python\n",
    "cursor.execute('''SELECT name, age FROM cats;''').fetchall()\n",
    "```\n",
    "\n",
    "\n",
    "**Top-Tip:** If you have duplicate data (for example, two cats with the same name) and you only want to select unique values, you can use the `DISTINCT` keyword. For example:\n",
    "\n",
    "```python\n",
    "cursor.execute('''SELECT DISTINCT name FROM cats;''').fetchall()\n",
    "```"
   ]
  },
  {
   "cell_type": "code",
   "execution_count": null,
   "metadata": {},
   "outputs": [],
   "source": [
    "# select cats from database here"
   ]
  },
  {
   "cell_type": "markdown",
   "metadata": {},
   "source": [
    "#### Selecting Based on Conditions: The `WHERE` Clause\n",
    "What happens when we want to retrieve a specific table row? For example the row that belongs to Maru? Or to retrieve all the baby cats who are younger than two years old? We can use the `WHERE` keyword to select data based on specific conditions. Here's an example of a boilerplate `SELECT` statement using a `WHERE` clause.\n",
    "\n",
    "```python\n",
    "cursor.execute('''SELECT * FROM [table name] WHERE [column name] = [some value];''').fetchall()\n",
    "```\n",
    "\n",
    "Let's retrieve *just Maru* from our `cats` table:\n",
    "\n",
    "```python\n",
    "cursor.execute('''SELECT * FROM cats WHERE name = \"Maru\";''').fetchall()\n",
    "```\n",
    "That statement should return the following:\n",
    "\n",
    "```python\n",
    "[(1, 'Maru', 3, 'Scottish Fold')]\n",
    "```\n",
    "\n",
    "We can also use comparison operators, like `<` or `>` to select specific data. Let's give it a shot. Use the following statement to select the young cats:\n",
    "\n",
    "```python\n",
    "cursor.execute('''SELECT * FROM cats WHERE age < 2;''').fetchall()\n",
    "```\n",
    "\n",
    "**Advanced:** The SQL statements we're learning here will eventually be used to integrate the applications you'll build with a database. For example, it's easy to imagine a web application that has many users. When a user signs into your app, you'll need to access your database and select the user that matches the credentials an individual is using to log in.\n"
   ]
  },
  {
   "cell_type": "code",
   "execution_count": null,
   "metadata": {},
   "outputs": [],
   "source": [
    "# select using WHERE clause here"
   ]
  },
  {
   "cell_type": "markdown",
   "metadata": {},
   "source": [
    "## Altering a Table\n",
    "\n",
    "We can also update a table like this:\n",
    "    ```cursor.execute('''ALTER TABLE cats ADD COLUMN notes text;''')```\n",
    "    \n",
    "The general pattern is ```ALTER TABLE table_name ADD COLUMN column_name column_type;```"
   ]
  },
  {
   "cell_type": "markdown",
   "metadata": {},
   "source": [
    "## Updating Data\n",
    "\n",
    "Let's talk about updating, or changing, data in our table rows. We do this with the `UPDATE` keyword.\n",
    "\n",
    "### Code Along III: UPDATE\n",
    "\n",
    "A boilerplate `UPDATE` statement looks like this:\n",
    "\n",
    "```python\n",
    "cursor.execute('''UPDATE [table name] SET [column name] = [new value] WHERE [column name] = [value];''')\n",
    "```\n",
    "\n",
    "The `UPDATE` statement uses a `WHERE` clause to grab the row you want to update. It identifies the table name you are looking in and resets the data in a particular column to a new value.\n",
    "\n",
    "Let's update one of our cats. Turns out Maru's friend Hannah is actually Maru's friend *Hana*. Let's update that row to change the name to the correct spelling:\n",
    "\n",
    "```python\n",
    "cursor.execute('''UPDATE cats SET name = \"Hana\" WHERE name = \"Hannah\";''')\n",
    "```\n",
    "\n",
    "One last thing before we move on: deleting table rows.\n"
   ]
  },
  {
   "cell_type": "code",
   "execution_count": null,
   "metadata": {},
   "outputs": [],
   "source": [
    "# update hannah here"
   ]
  },
  {
   "cell_type": "markdown",
   "metadata": {},
   "source": [
    "## Deleting Data\n",
    "\n",
    "To delete table rows, we use the `DELETE` keyword.\n",
    "\n",
    "### Code Along IV: DELETE\n",
    "\n",
    "A boilerplate `DELETE` statement looks like this:\n",
    "\n",
    "```python\n",
    "cursor.execute('''DELETE FROM [table name] WHERE [column name] = [value];''')\n",
    "```\n",
    "\n",
    "Let's go ahead and delete Lil' Bub from our `cats` table (sorry Lil' Bub):\n",
    "\n",
    "```python\n",
    "cursor.execute('''DELETE FROM cats WHERE id = 2;''')\n",
    "```"
   ]
  },
  {
   "cell_type": "code",
   "execution_count": null,
   "metadata": {},
   "outputs": [],
   "source": [
    "# DELETE record with id=2 here"
   ]
  },
  {
   "cell_type": "markdown",
   "metadata": {},
   "source": [
    "Notice that this time we selected the row to delete using the Primary Key column. Remember that every table row has a Primary Key column that is unique. Lil' Bub was the second row in the database and thus had an id of `2`.\n",
    "\n",
    "<p data-visibility='hidden'>View <a href='https://learn.co/lessons/sql-insert-select-update-code-along' title='Inserting, Selecting, Updating, and Deleting Database Rows'>Inserting, Selecting, Updating, and Deleting Database Rows</a> on Learn.co and start learning to code for free.</p>\n"
   ]
  },
  {
   "cell_type": "markdown",
   "metadata": {},
   "source": [
    "## Summary\n",
    "\n",
    "In this section, you learned different ways to manipulate and select data from SQL database tables including inserting, selecting, updating, and deleting database rows.\n",
    "\n"
   ]
  }
 ],
 "metadata": {
  "kernelspec": {
   "display_name": "Python 3",
   "language": "python",
   "name": "python3"
  },
  "language_info": {
   "codemirror_mode": {
    "name": "ipython",
    "version": 3
   },
   "file_extension": ".py",
   "mimetype": "text/x-python",
   "name": "python",
   "nbconvert_exporter": "python",
   "pygments_lexer": "ipython3",
   "version": "3.6.6"
  }
 },
 "nbformat": 4,
 "nbformat_minor": 2
}
