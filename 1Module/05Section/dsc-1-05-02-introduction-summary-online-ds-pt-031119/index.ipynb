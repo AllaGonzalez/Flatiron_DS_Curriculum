{
 "cells": [
  {
   "cell_type": "markdown",
   "metadata": {},
   "source": [
    "# Introduction"
   ]
  },
  {
   "cell_type": "markdown",
   "metadata": {},
   "source": [
    "## Introduction\n",
    "This lesson summarizes the topics we'll be covering in section 05 and why they'll be important to you as a data scientist."
   ]
  },
  {
   "cell_type": "markdown",
   "metadata": {},
   "source": [
    "## Objectives\n",
    "You will be able to:\n",
    "* Understand and explain what is covered in this section\n",
    "* Understand and explain why the section will help you to become a data scientist"
   ]
  },
  {
   "cell_type": "markdown",
   "metadata": {},
   "source": [
    "## All About SQL\n",
    "\n",
    "One of the biggest challenges as a data scientist is getting access to the data you need. In previous sections we showed you how to import data from csv and xls files. In this section, we're going to do a deep dive into the Structured Query Language (SQL - often pronounced as either \"S - Q - L\" or \"sequel\"). In many organizations, the majority of their data is stored in SQL databases, so it's incredibly important for a professional data scientist to be comfortable with retrieving information using SQL.\n",
    "\n",
    "### Database Basics\n",
    "\n",
    "In the next couple of lessons, we'll make sure you can connect to a SQL database from Jupyter Notebook and that you learn some of the basic ideas underlying SQL. We then run you through the various data types commonly found in SQL databases and which ones you should use for what sorts of data.\n",
    "\n",
    "### SELECT\n",
    "\n",
    "We then explore the command you're going to use most often - the `SELECT` statement which is used to retrieve data from a database.\n",
    "\n",
    "### Filtering and Ordering\n",
    "\n",
    "We then dig into the `WHERE` and `ORDER BY` commands that allow you to retrieve a subset of the data in a table and control the order in which it's returned.\n",
    "\n",
    "### Relationships in SQL\n",
    "\n",
    "After that we look at one of the most powerful features of SQL - it's ability to join related tables, running you through the various types of join's you're likely to encounter when trying to pull the information you need from an organizational database.\n",
    "\n",
    "### Grouping in SQL\n",
    "\n",
    "We then spend a little bit of time introducing and giving you practice working with aggregate and grouped data using `COUNT`, `MAX`, `MIN`, `SUM`, `GROUP BY` and `HAVING`.\n",
    "\n",
    "\n",
    "### SQL in Pandas\n",
    "\n",
    "Finally we'll look at how you can use SQL statements within a Pandas DataFrame, making it not just a tool to retrieve data, but also one you can use to operate on data within a DataFrame - whatever the original source might have been.\n"
   ]
  },
  {
   "cell_type": "markdown",
   "metadata": {},
   "source": [
    "## Summary\n",
    "\n",
    "SQL is an incredible powerful language for working with highly structured data and is likely to be one of the key skills you'll use on a reegular basis as a practicing data scientist. "
   ]
  }
 ],
 "metadata": {
  "kernelspec": {
   "display_name": "Python 3",
   "language": "python",
   "name": "python3"
  },
  "language_info": {
   "codemirror_mode": {
    "name": "ipython",
    "version": 3
   },
   "file_extension": ".py",
   "mimetype": "text/x-python",
   "name": "python",
   "nbconvert_exporter": "python",
   "pygments_lexer": "ipython3",
   "version": "3.6.5"
  }
 },
 "nbformat": 4,
 "nbformat_minor": 2
}
