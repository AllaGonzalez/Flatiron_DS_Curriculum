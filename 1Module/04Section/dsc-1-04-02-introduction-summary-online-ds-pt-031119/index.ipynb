{
 "cells": [
  {
   "cell_type": "markdown",
   "metadata": {},
   "source": [
    "# Introduction"
   ]
  },
  {
   "cell_type": "markdown",
   "metadata": {},
   "source": [
    "## Introduction\n",
    "This lesson summarizes the topics we'll be covering in section 04 and why they'll be important to you as a data scientist."
   ]
  },
  {
   "cell_type": "markdown",
   "metadata": {},
   "source": [
    "## Objectives\n",
    "You will be able to:\n",
    "* Understand and explain what is covered in this section\n",
    "* Understand and explain why the section will help you to become a data scientist"
   ]
  },
  {
   "cell_type": "markdown",
   "metadata": {},
   "source": [
    "## Working with Pandas\n",
    "\n",
    "In this section, we're going to continue to hone our exploratory data analysis skills.\n",
    "\n",
    "## Lambda Functions\n",
    "\n",
    "Sometimes you want to write a little function in Python \"on the fly\" to solve a problem - often to be applied to a collection of data to clean it up. Lambda functions are Pythons tool for writing a function just where you need to use it. So we'll kick off the section introducing and then practicing Lambda functions so you have another tool at your disposal for cleaning up data.\n",
    "\n",
    "## Combining DataFrames\n",
    "\n",
    "We'll then look at how you can split, apply and combine DataFrames so you can bring together data from mutliple sources into a singel larger data set.\n",
    "\n",
    "## Pivot Tables\n",
    "\n",
    "We'll then learn about the various ways we can index and structure our data sets to make it easier to process or understand, using aggregation functions and pivot tables.\n",
    "\n",
    "## Dealing with Missing Data\n",
    "\n",
    "From there, we'll then go on to looking at a numnber of common techniques for dealing with missing data - the bane of a data scientists existance!\n",
    "\n",
    "\n",
    "## Project - Data Cleaning\n",
    "\n",
    "Finally, we'll finish up section 4 with an open ended project where you get plenty of experience cleaning up date using the skills you just learned.\n"
   ]
  },
  {
   "cell_type": "markdown",
   "metadata": {},
   "source": [
    "## Summary\n",
    "\n",
    "In this section, we're digging deeper into the tools required to import, combine and clean up data."
   ]
  }
 ],
 "metadata": {
  "kernelspec": {
   "display_name": "Python 3",
   "language": "python",
   "name": "python3"
  },
  "language_info": {
   "codemirror_mode": {
    "name": "ipython",
    "version": 3
   },
   "file_extension": ".py",
   "mimetype": "text/x-python",
   "name": "python",
   "nbconvert_exporter": "python",
   "pygments_lexer": "ipython3",
   "version": "3.6.5"
  }
 },
 "nbformat": 4,
 "nbformat_minor": 2
}
