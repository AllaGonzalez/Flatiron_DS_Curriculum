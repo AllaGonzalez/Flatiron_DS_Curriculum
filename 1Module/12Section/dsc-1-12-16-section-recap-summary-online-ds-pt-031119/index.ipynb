{
 "cells": [
  {
   "cell_type": "markdown",
   "metadata": {},
   "source": [
    "# Section Recap"
   ]
  },
  {
   "cell_type": "markdown",
   "metadata": {},
   "source": [
    "## Introduction\n",
    "\n",
    "This short lesson summarizes the topics we covered in section 12 and why they'll be important to you as a data scientist."
   ]
  },
  {
   "cell_type": "markdown",
   "metadata": {},
   "source": [
    "## Objectives\n",
    "You will be able to:\n",
    "* Understand and explain what was covered in this section\n",
    "* Understand and explain why this section will help you become a data scientist"
   ]
  },
  {
   "cell_type": "markdown",
   "metadata": {},
   "source": [
    "## Key Takeaways\n",
    "\n",
    "The goal of section 12 was to give you some practice going through the end to end process of obtaining, scrubbing, exploring (EDA), and modeling a given data set to create a prediction. Some of the key takeaways include:\n",
    "* It's important to think about providing value from your data science projects - not just modeling efficiently. Most of the business value comes from asking the right questions and persuasively communicating the results, and much of the predi ctive value comes from thoughtful selection, cleanup and exploration of the data set.\n",
    "* The most common data science frameworks are CRISP-DM, KDD and OSEMiN\n",
    "* The process of finding, filtering and loading the appropriate data to answer a question is non-trivial\n",
    "* Decisions made in the data munging/scrubbing phase can have a huge impact on the accuracy of your predictions\n",
    "* Visualization is a key phase in EDA. \n",
    "* A Kernel Density Estimation (KDE) plot can be very useful in getting a sense for visualizing the distribution of a column\n",
    "* A Joint plots can be very useful for bringing together multiple visualizations to (for example) check the linearity assumption between predictors and a target variable\n",
    "* It's important to \"hold out\" a subset of your data for testing (as opposed to training) so you can see how accurately it works for predicting \"unknown data\"\n"
   ]
  }
 ],
 "metadata": {
  "kernelspec": {
   "display_name": "Python 3",
   "language": "python",
   "name": "python3"
  },
  "language_info": {
   "codemirror_mode": {
    "name": "ipython",
    "version": 3
   },
   "file_extension": ".py",
   "mimetype": "text/x-python",
   "name": "python",
   "nbconvert_exporter": "python",
   "pygments_lexer": "ipython3",
   "version": "3.6.5"
  }
 },
 "nbformat": 4,
 "nbformat_minor": 2
}
