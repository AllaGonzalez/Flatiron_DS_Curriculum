{
 "cells": [
  {
   "cell_type": "markdown",
   "metadata": {},
   "source": [
    "# Section Recap"
   ]
  },
  {
   "cell_type": "markdown",
   "metadata": {},
   "source": [
    "## Introduction\n",
    "\n",
    "This short lesson summarizes the topics we covered in section 09 and why they'll be important to you as a data scientist."
   ]
  },
  {
   "cell_type": "markdown",
   "metadata": {},
   "source": [
    "## Objectives\n",
    "You will be able to:\n",
    "* Understand and explain what was covered in this section\n",
    "* Understand and explain why this section will help you become a data scientist"
   ]
  },
  {
   "cell_type": "markdown",
   "metadata": {},
   "source": [
    "## Key Takeaways\n",
    "\n",
    "In this section, we really dug into statistical distributions. Key takeaways include:\n",
    "* The difference between discrete and continuous statistical distributions\n",
    "* The value of using stem and leaf plots for visualizing a data set\n",
    "* How to describe the distribution of data sets using Probability Mass Functions, Cumulative Distribution Functions and Probability Density Functions.\n",
    "* The characteristics of a gaussian distribution\n",
    "* Differences between the normal and the standard normal distribution\n",
    "* How skewness and kurtosis can be used to measure how different a given distribution is from a normal distribution\n",
    "* The uses of z-scores and p-values for describing a distribution\n",
    "* How a one sample z-test is a very simple form of hypothesis testing.\n",
    "\n"
   ]
  }
 ],
 "metadata": {
  "kernelspec": {
   "display_name": "Python 3",
   "language": "python",
   "name": "python3"
  },
  "language_info": {
   "codemirror_mode": {
    "name": "ipython",
    "version": 3
   },
   "file_extension": ".py",
   "mimetype": "text/x-python",
   "name": "python",
   "nbconvert_exporter": "python",
   "pygments_lexer": "ipython3",
   "version": "3.6.5"
  }
 },
 "nbformat": 4,
 "nbformat_minor": 2
}
