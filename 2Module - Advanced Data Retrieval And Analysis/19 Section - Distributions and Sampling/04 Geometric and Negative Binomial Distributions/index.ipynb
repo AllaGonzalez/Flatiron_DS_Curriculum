{
 "cells": [
  {
   "cell_type": "markdown",
   "metadata": {},
   "source": [
    "# Geometric Distributions\n",
    "\n",
    "## Introduction\n",
    "\n",
    "In this lesson, we'll learn about the **_Geometric Distribution_** and how we can use it.\n",
    "\n",
    "## Objectives\n",
    "\n",
    "You will be able to:\n",
    "\n",
    "* Understand and explain the Geometric Distribution and its uses \n",
    "\n",
    "## What is the Geometric Distribution?\n",
    "\n",
    "Most people are initially confused the first time they hear about the **_Geometric Distribution_** because it's name seems a bit misleading.  Although the term _geometric_ brings to mind shapes, area, perimeter, and all the other fun stuff we learned in high school geometry class, the Geometric Distribution has nothing to do with these topics.  In this case, _Geometric_ just refers to the concept of multiplication.  The Geometric Distribution is a discrete probability distribution that helps us calculate the probability distribution of repeated independent events. \n",
    "\n",
    "If this reminds you of the **_Negative Binomial Distribution_** that we learned about in a previous lesson, then you're on the right track--the Geometric Distribution is just a special case of the Negative Binomial Distribution!\n",
    "\n",
    "## Questions We Can Answer With The Geometric Distribution\n",
    "\n",
    "To help us understand and remember what the Geometric Distribution is used for, let's look at it through the lens of the Negative Binomial Distribution.  Recall that the Negative Binomial Distribution tells us the probability of hitting a specific number of failures (or successes, depending on how we phrase our problem) on a specific round of independent trials where the probability of success is known and unchanging.  You may recall the example we solved in our previous lesson, which was \"What is the probability distribution for flipping a fair coin before tails shows up a total of twice?\"  In this case, the Probability $P$ is 0.5, the cumulative number of failures, $r$ is 2, and the number the random variable, $x$, is the number of trials it takes before the total number of coin flips that land on tails is 2.  \n",
    "\n",
    "The Geometric Distribution is extremely similar.  Whereas $r$ is a parameter we choose ourselves in the Negative Binomial Distribution, in the Geometric Distribution r is always equal to 1!  In this way, any questions that we can answer with the Geometric Distribution are questions that we can also answer with the Negative Binomial Distribution.  The Geomtric Distribution, then, is just a subset of the Negative Binomial Distribution where $r$ always equals 1.\n",
    "\n",
    "Whereas our previous example for the Negative Binomial Distribution was about how many times we could flip a coin before tails comes up twice, an equivalent question we could solve with the Geometric Distribution would be \"What is the probability that I can flip a coin X times before it lands on tails?\"  \n",
    "\n",
    "## Geometric Distribution Equation\n",
    "\n",
    "As mentioned previously, questions that can be answered with the Geometric Distribution fall under the  same constraints as the Negative Binomial Distribution:\n",
    "\n",
    "* There are multiple trials\n",
    "* The outcome is binary\n",
    "* The probability of success is the same across each trial, and does not change\n",
    "* Each trial is independent of other trials\n",
    "\n",
    "\n",
    "The equation for the Geometric Distribution is:\n",
    "\n",
    "$$P(X=x) = q^{(x\\ -\\ 1)}p$$\n",
    "\n",
    "Where $$q = 1 - p$$\n",
    "\n",
    "\n",
    "Let's break down how to read this equation, and what each element of the equation actually means:\n",
    "\n",
    "$P(X=x)$: This is simpler than it looks. $X$ denotes the _Discrete Random Variable_, whereas the the smaller $x$ denotes that actual trial that we want to calculate the *Geometric Probability* for.  An easier, less mathematical way to phrase this statement might be:\n",
    "\n",
    "> \"If I flip a fair coin a certain number of times (X), tails will eventually come up. What is the probability that the random number of times happens to be 3? (x)\"\n",
    "\n",
    "$p$: The probability of failure for a given trial.  In our coin flip example, this would be 0.5.\n",
    "\n",
    "$q$: (1 - p), which is the probability of success for a given trial. Again, remember, it makes no difference if these terms are flipped. The geometric distribution doesn't care if you decide that tails is a success or a failure, as long as you are consistent throughout your calculations. \n",
    "\n",
    "Note that in cases where there is an equal chance of both outcomes such as our coin flip example, p and q are the same thing.  This means that for \"fair\" trials where there is an equal chance of success or failure, we can further simplify our equation to $$P(X=x) = q^x$$\n",
    "\n",
    "### Sample Problem 1\n",
    "\n",
    "Let's use our newfound knowledge of the Geometric Distribution to answer a sample question about coin flips.  What are the odds that we can flip a fair coin 3 times in a row without landing on tails?\n",
    "\n",
    "Let's start by defining our parameters:\n",
    "\n",
    "p = 0.5 (fair coin flip)\n",
    "\n",
    "x = 3\n",
    "\n",
    "We can plug this into our Geometric Probability Formula to calculate the probability of this result:\n",
    "\n",
    "$$P(X=3) = (0.5)^{(3 - 1)} * 0.5$$\n",
    "\n",
    "$$P(X=3) = (0.5)^3 = 0.125$$\n",
    "\n",
    "### Sample Problem 2\n",
    "\n",
    "In cases where the probability of success and failure are not equal, this is a bit more interesting.  Let's examine a more interesting sample problem--Roulette!\n",
    "\n",
    "On an American Roulette wheel, the chance of the ball landing on a black number is 47.4%, a red number is 47.4%.  The chances of the ball landing a green number (0 or 00) is 5.26%.  The longest recorded single-color streak in an American casino happened in 1943, when red won 32 consecutive times.  What is the probability of this happening?\n",
    "\n",
    "This is a more interesting problem! Let's define our parameters:\n",
    "\n",
    "p = 0.474 (chance of landing on red)\n",
    "\n",
    "q = 0.526 (chance of landing on not red)\n",
    "\n",
    "x = 32 (number of consecutive times that we're calculating the probability for).\n",
    "\n",
    "We can plug these numbers right into our Geometric Probability Equation:\n",
    "\n",
    "$$P(X=32) = 0.526^{(32 - 1)} * 0.474$$\n",
    "\n",
    "Which comes out to:"
   ]
  },
  {
   "cell_type": "code",
   "execution_count": 9,
   "metadata": {},
   "outputs": [
    {
     "data": {
      "text/plain": [
       "1.0625182796895225e-09"
      ]
     },
     "execution_count": 9,
     "metadata": {},
     "output_type": "execute_result"
    }
   ],
   "source": [
    "(0.526)**31 * 0.474"
   ]
  },
  {
   "cell_type": "markdown",
   "metadata": {},
   "source": [
    "The probability of this happening is so small that python has displayed the answer to us in scientific notation.  The `e-09` tells us that we need to move the decimal place to the left 10 spots, which brings our overall answer to:\n",
    "\n",
    "$$0.0000000010625182796895225$$\n",
    "\n",
    "Which is \n",
    "\n",
    "$$0.00000010625182796895225\\%$$\n",
    "\n",
    "Incredible, but that's the thing about randomness; anything is possible, and over a sufficient enough number of samples, even the most improbable things are likely to happen at least once!\n",
    "\n",
    "## Phrasing Our Answer as a Distribution\n",
    "\n",
    "In the examples above, we calculated a single probability. However, a more statistical way to think of these problems is to phrase it as a distribution, where we display the probability for every number in a given range. \n",
    "\n",
    "A more statistical way to phrase our last example question might be \"What is the probability distribution of a roulette wheel successively landing on red?\"\n",
    "\n",
    "We can easily compute this using a little python:\n"
   ]
  },
  {
   "cell_type": "code",
   "execution_count": 10,
   "metadata": {},
   "outputs": [
    {
     "data": {
      "text/plain": [
       "0.125"
      ]
     },
     "execution_count": 10,
     "metadata": {},
     "output_type": "execute_result"
    }
   ],
   "source": [
    "def geom_prob(p, x):\n",
    "    q = 1 - p\n",
    "    ex = x - 1\n",
    "    return q**ex * p\n",
    "\n",
    "# Let's test that it works\n",
    "geom_prob(0.5, 3) # Expected Output 0.125"
   ]
  },
  {
   "cell_type": "markdown",
   "metadata": {},
   "source": [
    "Now that we have a function for computing the probability for a given x value, we can just use a for-loop to calculate the entire probability up to a highest given value of x that we're interested in."
   ]
  },
  {
   "cell_type": "code",
   "execution_count": 13,
   "metadata": {},
   "outputs": [
    {
     "name": "stdout",
     "output_type": "stream",
     "text": [
      "Probability of roulette landing on red 1 times in a row: 47.40000%\n",
      "Probability of roulette landing on red 2 times in a row: 24.93240%\n",
      "Probability of roulette landing on red 3 times in a row: 13.11444%\n",
      "Probability of roulette landing on red 4 times in a row: 6.89820%\n",
      "Probability of roulette landing on red 5 times in a row: 3.62845%\n",
      "Probability of roulette landing on red 6 times in a row: 1.90857%\n",
      "Probability of roulette landing on red 7 times in a row: 1.00391%\n",
      "Probability of roulette landing on red 8 times in a row: 0.52805%\n",
      "Probability of roulette landing on red 9 times in a row: 0.27776%\n",
      "Probability of roulette landing on red 10 times in a row: 0.14610%\n"
     ]
    }
   ],
   "source": [
    "for x in range(1, 11):\n",
    "    p = 0.474\n",
    "    print(\"Probability of roulette landing on red {} times in a row: {:.5f}%\".format(x, geom_prob(p, x) * 100))"
   ]
  },
  {
   "cell_type": "markdown",
   "metadata": {},
   "source": [
    "## Summary\n",
    "\n",
    "In this lesson, we learned about the **_Geometric Distibution_**, how to calculate probability distributions with it, it's relationship to the Binomial/Negative Binomial Distributions,  and how to apply it to real world problems!"
   ]
  }
 ],
 "metadata": {
  "kernelspec": {
   "display_name": "Python 3",
   "language": "python",
   "name": "python3"
  },
  "language_info": {
   "codemirror_mode": {
    "name": "ipython",
    "version": 3
   },
   "file_extension": ".py",
   "mimetype": "text/x-python",
   "name": "python",
   "nbconvert_exporter": "python",
   "pygments_lexer": "ipython3",
   "version": "3.6.4"
  }
 },
 "nbformat": 4,
 "nbformat_minor": 2
}
