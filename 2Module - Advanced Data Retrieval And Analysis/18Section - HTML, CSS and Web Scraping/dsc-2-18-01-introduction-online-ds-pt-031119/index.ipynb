{
 "cells": [
  {
   "cell_type": "markdown",
   "metadata": {},
   "source": [
    "# Introduction"
   ]
  },
  {
   "cell_type": "markdown",
   "metadata": {},
   "source": [
    "## Introduction\n",
    "This lesson summarizes the topics we'll be covering in section 18 and why they'll be important to you as a data scientist."
   ]
  },
  {
   "cell_type": "markdown",
   "metadata": {},
   "source": [
    "## Objectives\n",
    "You will be able to:\n",
    "* Understand and explain what is covered in this section\n",
    "* Understand and explain why the section will help you to become a data scientist"
   ]
  },
  {
   "cell_type": "markdown",
   "metadata": {},
   "source": [
    "## HTML, CSS and Web Scraping\n",
    "\n",
    "While many companies provide access to information via APIs, sometimes you have to scrape the information that you need for your analysis from web pages designed to be read by people. In this section we'll build upon what we learned about client/server architectures, the http(s) request/response cycle and retrieving data from APIs to learn how to obtain data by scraping web pages.\n",
    "\n",
    "### HTML\n",
    "\n",
    "We kick off the section with an introduction to the HyperText Markup Language (HTML) - the \"language of the web\". We then get you \"up to speed\" with some of the more recent developments in HTML by introducing HTML5 semantic elements - designed to make HTML more consistent and readable. After that we look into the process for handling new HTML elements that you might not have encountered before.\n",
    "\n",
    "### CSS\n",
    "\n",
    "Next up, we introduce Cascading Style Sheets (how we make web pages look pretty). We start by introducing the concept of separating content from presentation, then introduce CSS, do a code along and then provide you with three labs to get some practice working with HTML and CSS.\n",
    "\n",
    "### Web Scraping\n",
    "\n",
    "Finally, we introduce beautiful soup - a package for scraping websites, and then give you some practice of using it to retrieve information from a website.\n",
    "\n",
    "\n"
   ]
  },
  {
   "cell_type": "markdown",
   "metadata": {},
   "source": [
    "## Summary\n",
    "\n",
    "You will often find that the information you want to retrieve isn't available via an API. When that's the case, it's incredibly important to be proficient with web scraping so that you can retrieve the information you need for your analysis.\n",
    "\n"
   ]
  }
 ],
 "metadata": {
  "kernelspec": {
   "display_name": "Python 3",
   "language": "python",
   "name": "python3"
  },
  "language_info": {
   "codemirror_mode": {
    "name": "ipython",
    "version": 3
   },
   "file_extension": ".py",
   "mimetype": "text/x-python",
   "name": "python",
   "nbconvert_exporter": "python",
   "pygments_lexer": "ipython3",
   "version": "3.6.5"
  }
 },
 "nbformat": 4,
 "nbformat_minor": 2
}
