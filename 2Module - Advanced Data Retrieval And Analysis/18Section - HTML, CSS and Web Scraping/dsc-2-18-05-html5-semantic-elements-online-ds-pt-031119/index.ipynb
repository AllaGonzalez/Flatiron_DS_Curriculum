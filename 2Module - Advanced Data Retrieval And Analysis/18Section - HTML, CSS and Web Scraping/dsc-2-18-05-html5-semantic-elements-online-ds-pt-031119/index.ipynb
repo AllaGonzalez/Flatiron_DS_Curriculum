{
 "cells": [
  {
   "cell_type": "markdown",
   "metadata": {},
   "source": [
    "# HTML5 Semantic Elements"
   ]
  },
  {
   "cell_type": "markdown",
   "metadata": {},
   "source": [
    "## Introduction\n",
    "We have `div` elements to organize and label sections of HTML. But too many\n",
    "`div` tags makes our HTML document look cluttered and confusing. Even when we\n",
    "identify or classify them with specific names, it's a lot to keep track of. It\n",
    "would be clearer for both developers and browsers if we could use more\n",
    "descriptive HTML elements to arrange our content. That's where semantic\n",
    "elements come in. They allow us to say, \"this isn't _just_ a division of text,\n",
    "it's a _header_.\" We'll learn more about these _semantic_ elements in this\n",
    "lesson."
   ]
  },
  {
   "cell_type": "markdown",
   "metadata": {},
   "source": [
    "## Objectives\n",
    "You will be able to:\n",
    "* Explain the historical reasoning behind semantic elements\n",
    "* Demonstrate HTML5 semantic element use"
   ]
  },
  {
   "cell_type": "markdown",
   "metadata": {},
   "source": [
    "## Explain the Historical Reasoning Behind Semantic Elements\n",
    "\n",
    "When developers first began defining containers to structure HTML, they had only\n",
    "one generic element available to them: the `div`. Creating complex page layouts\n",
    "then required dozens of `div` elements that were often difficult to organize or\n",
    "locate within the code. HTML authors needed a way to distinguish one `div` from another,\n",
    "which led to `id` and `class` attributes on elements being misused in an attempt\n",
    "to communicate what the `div` was doing. For example, a document usually has\n",
    "only one header, so it seemed sensible to write `div id=\"header\"` as a way to\n",
    "say something stronger than, \"this is a text division.\" Developers wanted to\n",
    "say, \"this is a special division of introduction,\" but lacked the specific language\n",
    "to express it. They wanted those sections to have a _semantic meaning_ (more on that later). But the\n",
    "HTML language simply didn't have the ability to meet this need.\n",
    "\n",
    "Nevertheless, many HTML authors\n",
    "thought that this was a good idea and an informal standard sprang up around\n",
    "adding `id` attributes on elements to express their \"semantic meaning.\"\n",
    "\n",
    "```html\n",
    "<div id=\"header\">\n",
    "  <div class=\"wrapper\">...</div>\n",
    "</div>\n",
    "```\n",
    "\n",
    "When the W3C (the organization that oversees the specifications for HTML and\n",
    "CSS) started writing the specification for HTML5 they wanted to create new\n",
    "elements that would eliminate the need to label so many `div` elements. The\n",
    "goals were to make the code more readable for developers and more descriptive\n",
    "for browsers. It turned out that many developers were already using the same\n",
    "names to label their elements, such as `id=\"header\"`, `id=\"footer\"`, `id=\"nav\"`,\n",
    "`class=\"article\"`, etc. So HTML5 provided semantic elements that explicitly\n",
    "described those functions for developers to use instead.\n",
    "\n",
    "We once used to have to identify a `div` as our header section.\n",
    "\n",
    "```html\n",
    "<div id=\"header\">...</div>\n",
    "```\n",
    "\n",
    "Now we use the `header` element.\n",
    "\n",
    "```html\n",
    "<header></header>\n",
    "```\n",
    "\n",
    "Why do we call these _semantic_ elements? Semantic elements are elements that\n",
    "we use when the content within the element all has the same related _meaning_.\n",
    "In our `header` example above, all the content we would put within the `header`\n",
    "element would relate to introductory content, such as titles or navigation."
   ]
  },
  {
   "cell_type": "markdown",
   "metadata": {},
   "source": [
    "## Demonstrate HTML5 Semantic Element Use\n",
    "\n",
    "Let's take a layout that uses `div` elements and convert it to use semantic\n",
    "elements instead. This is the markup we begin with:\n",
    "\n",
    "```html\n",
    "<div class=\"wrapper\">\n",
    "  <div id=\"header\">\n",
    "     <div id=\"nav\">...</div>\n",
    "  </div>\n",
    "  <div id=\"main\">\n",
    "    <div id=\"music\">\n",
    "      <div id=\"rock\">...</div>\n",
    "      <div id=\"jazz\">...</div>\n",
    "    </div>\n",
    "  </div>\n",
    "  <div id=\"aside\">...</div>\n",
    "  <div id=\"footer\">...</div>\n",
    "</div>\n",
    "```\n",
    "\n",
    "Now we'll replace each instance of a `div` with a semantic element that matches\n",
    "the type of content we want it to contain.\n",
    "\n",
    "```html\n",
    "<div class=\"wrapper\">\n",
    "  <header>\n",
    "     <nav>...</nav>\n",
    "  </header>\n",
    "  <main>\n",
    "    <section id=\"music\">\n",
    "      <article id=\"rock\">...</article>\n",
    "      <article id=\"jazz\">...</article>\n",
    "    </section>\n",
    "  </main>\n",
    "  <aside>...</aside>\n",
    "  <footer>...</footer>\n",
    "</div>\n",
    "```\n",
    "\n",
    "Notice that in cases where the content within the element is not semantically\n",
    "related or we have the need to create a generic box such as the `wrapper`, we\n",
    "can still use `div` elements as we please. As a developer, keep in mind that\n",
    "while these elements are intended for certain content, there are no hard rules\n",
    "about how to configure them. You should feel comfortable configuring them in any\n",
    "way that makes the most sense to you and best suits your layout needs.\n"
   ]
  },
  {
   "cell_type": "markdown",
   "metadata": {},
   "source": [
    "## Additional Resources\n",
    "\n",
    "- [Presentation Slides](https://docs.google.com/presentation/d/1tl0aB0EUOhLMi1Xr19UCAUTCY20FRqEDv-oDGg2cTkg/edit?usp=sharing)\n",
    "- [HTML5 Semantic Elements Lecture Video](https://www.youtube.com/embed/V28xLFEYaSQ)\n",
    "- [Dive into HTML5 - Semantic Elements](http://diveintohtml5.info/semantics.html#new-elements)\n",
    "- [MDN - HTML - Element Reference](https://developer.mozilla.org/en-US/docs/Web/HTML/Element)\n",
    "\n",
    "<p data-visibility='hidden'>View <a href='https://learn.co/lessons/HTML5-Semantic-Elements' title='HTML5 Semantic Elements'>HTML5 Semantic Elements</a> on Learn.co and start learning to code for free.</p>\n"
   ]
  },
  {
   "cell_type": "markdown",
   "metadata": {},
   "source": [
    "## Summary\n",
    "If the content within an element is all semantically related, it is best\n",
    "practice to use the appropriate HTML5 semantic element if one applies. This\n",
    "cleans up our code and makes it more readable for developers and more\n",
    "descriptive to browsers. There are a variety of semantic elements you can use to\n",
    "structure your content, and you can also still use `div` elements to create\n",
    "generic boxes or grouping elements as needed."
   ]
  }
 ],
 "metadata": {
  "kernelspec": {
   "display_name": "Python 3",
   "language": "python",
   "name": "python3"
  },
  "language_info": {
   "codemirror_mode": {
    "name": "ipython",
    "version": 3
   },
   "file_extension": ".py",
   "mimetype": "text/x-python",
   "name": "python",
   "nbconvert_exporter": "python",
   "pygments_lexer": "ipython3",
   "version": "3.6.4"
  }
 },
 "nbformat": 4,
 "nbformat_minor": 2
}
