{
 "cells": [
  {
   "cell_type": "markdown",
   "metadata": {},
   "source": [
    "# Section Recap"
   ]
  },
  {
   "cell_type": "markdown",
   "metadata": {},
   "source": [
    "## Introduction\n",
    "\n",
    "This short lesson summarizes the topics we covered in section 18 and why they'll be important to you as a data scientist."
   ]
  },
  {
   "cell_type": "markdown",
   "metadata": {},
   "source": [
    "## Objectives\n",
    "You will be able to:\n",
    "* Understand and explain what was covered in this section\n",
    "* Understand and explain why this section will help you become a data scientist"
   ]
  },
  {
   "cell_type": "markdown",
   "metadata": {},
   "source": [
    "## Key Takeaways\n",
    "\n",
    "Sometimes the data you need for a project is only available by scraping websites. Because of that it's important to be familiar with the basics of HTML and CSS and to be comfortable scraping data using a tool like Beautiful Soup. Key takeaways from this section:\n",
    "* HTML is used to mark up text to provide more meaning (is this an image, an element in a list or a page title)\n",
    "* Don't worry if you're unfamiliar with a given HTML tag - it's always easy to find information about it. The goal of this section was to give you a starting point - not a comprehensive understanding!\n",
    "* CSS is used to style web pages\n",
    "* Beautiful soup is a great package for scraping information from static websites"
   ]
  }
 ],
 "metadata": {
  "kernelspec": {
   "display_name": "Python 3",
   "language": "python",
   "name": "python3"
  },
  "language_info": {
   "codemirror_mode": {
    "name": "ipython",
    "version": 3
   },
   "file_extension": ".py",
   "mimetype": "text/x-python",
   "name": "python",
   "nbconvert_exporter": "python",
   "pygments_lexer": "ipython3",
   "version": "3.6.5"
  }
 },
 "nbformat": 4,
 "nbformat_minor": 2
}
