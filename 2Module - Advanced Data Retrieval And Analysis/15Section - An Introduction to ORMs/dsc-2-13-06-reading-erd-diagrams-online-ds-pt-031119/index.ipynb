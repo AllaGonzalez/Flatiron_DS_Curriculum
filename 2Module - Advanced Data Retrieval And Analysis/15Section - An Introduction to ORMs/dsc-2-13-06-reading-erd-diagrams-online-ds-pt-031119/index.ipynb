{
 "cells": [
  {
   "cell_type": "markdown",
   "metadata": {},
   "source": [
    "# Reading ERD Diagrams\n",
    "\n",
    "## Introduction\n",
    "\n",
    "In this lesson, we'll learn how to read **_Entity Relationship Diagrams_** to help us better understand the structure of relational database!\n",
    "\n",
    "## Objectives\n",
    "\n",
    "You will be able to:\n",
    "\n",
    "* Read and understand ERD diagrams describing the structure of a database.\n",
    "\n",
    "\n",
    "## What are ERD Diagrams?\n",
    "\n",
    "Recall everything we learned in our previous lesson about database normalization and table relationships.  Any real database we'll ever work with will contain multiple tables, with the entities in those tables being connected to rows in other tables.  When working with a table in a new database, this leads us to two questions:\n",
    "\n",
    "1. What tables are related to this table?\n",
    "1. What sort of relationship is it?\n",
    "\n",
    "The easiest way to show this is visually, with **_Entity Relationship Diagrams_**.\n",
    "\n",
    "## Reading an ERD\n",
    "\n",
    "Take a look at this example ERD from the [wikipedia page on entity-relationship modeling](https://en.wikipedia.org/wiki/Entity%E2%80%93relationship_model):\n",
    "\n",
    "\n",
    "<img src='example_erd.png'>\n",
    "\n",
    "Even though we've never seen this database before, we can look at this diagram and quickly get a feel for the tables contained in the database, the information they contain, and the relationships they have with other tables. \n",
    "\n",
    "ERDs are effectively maps of a database.  Anytime we need to know something about a database, we can usually answer that question by inspected the ERD. The example above is fairly high-level, but many ERDs you see will contain more granular information about the tables they contain.  For example take a look at the ERD diagram for the Northwind Traders Database, a fictional database from Microsoft designed to help people learn SQL.\n",
    "\n",
    "<img src='northwind_erd.png'>\n",
    "\n",
    "In this ERD, we can see the name of every field in every table, as well as that field's data type.  This is really useful!\n",
    "\n",
    "**_Question:_**  Take a look at the ERD above.  By just looking at this table, can you construct a query to get the details of the top 20 orders with greatest quantity?\n",
    "\n",
    "## Denoting Relationships In ERDs\n",
    "\n",
    "Recall our review of table relationships in the previous lab.  This is important information that is often (but not always) contained within an ERD.  Note that the first ERD diagram in this notebook contains some information on table relationships (as denoted by the '1' and 'N' symbols on the lines connecting the Entities), but the Northwind Database does not contain this information. The industry has generally accepted the following notations as the symbols for denoting each of the different types of relationships possible in an ERD:\n",
    "\n",
    "<img src='erd_relationship_symbols.jpg'>\n",
    "\n",
    "Here's an example of a highly-detailed ERD containing these symbols to denote the type of relationship between entities:\n",
    "\n",
    "<img src=erd_with_symbols.png>\n",
    "\n",
    "**_Question_**: Look at the ERD above. What sort of relationship does 'Authors' have to 'Books'? What about from 'Books' to 'Favorites'? How about from 'Books' to 'Authors'?\n",
    "\n",
    "## Summary\n",
    "\n",
    "ERDs are an extremely useful tool for data scientists when working with relational databases.  They allow us to understand anything we need to about that database with just a glance! "
   ]
  }
 ],
 "metadata": {
  "kernelspec": {
   "display_name": "Python 3",
   "language": "python",
   "name": "python3"
  },
  "language_info": {
   "codemirror_mode": {
    "name": "ipython",
    "version": 3
   },
   "file_extension": ".py",
   "mimetype": "text/x-python",
   "name": "python",
   "nbconvert_exporter": "python",
   "pygments_lexer": "ipython3",
   "version": "3.6.6"
  }
 },
 "nbformat": 4,
 "nbformat_minor": 2
}
