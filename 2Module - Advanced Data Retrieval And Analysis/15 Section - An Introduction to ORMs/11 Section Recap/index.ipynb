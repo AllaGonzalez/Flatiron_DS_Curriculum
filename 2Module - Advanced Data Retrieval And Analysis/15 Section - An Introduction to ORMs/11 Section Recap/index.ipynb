{
 "cells": [
  {
   "cell_type": "markdown",
   "metadata": {},
   "source": [
    "# Section Recap"
   ]
  },
  {
   "cell_type": "markdown",
   "metadata": {},
   "source": [
    "## Introduction\n",
    "\n",
    "This short lesson summarizes the topics we covered in section 15 and why they'll be important to you as a data scientist."
   ]
  },
  {
   "cell_type": "markdown",
   "metadata": {},
   "source": [
    "## Objectives\n",
    "You will be able to:\n",
    "* Understand and explain what was covered in this section\n",
    "* Understand and explain why this section will help you become a data scientist"
   ]
  },
  {
   "cell_type": "markdown",
   "metadata": {},
   "source": [
    "## Key Takeaways\n",
    "In this section we got to review SQL - the language that you will often have to use to retrieve information for your projects, and OO programming in Python - a skill that'll be invaluable to you as you work on bigger projects and/or have to productionize your models. We also got some hands on experience with SQLAlchemy - the most popular ORM in the Python world. Key takeaways include:\n",
    "* Normalization refers to the practice of spreading information across multiple tables in a database to reduce duplication of information\n",
    "* Entity Relationship Diagrams (ERDs) are a common way for developers to document the structure (schema) of their databases. When you start working with a new database, they can be a good starting point in understanding how the database is structured (although they are neither necessary nor sufficient for fully understanding a database)\n",
    "* Object Relational Mappers (ORMs) make it easy for programmers writing OO code to retrieve information from a database without having to write a bunch of SQL by hand\n",
    "* Many:many relationships require a join table for connecting the tables - e.g. an OrderItem table for joining the Products in a catalog to the Orders that contain them. \n"
   ]
  }
 ],
 "metadata": {
  "kernelspec": {
   "display_name": "Python [default]",
   "language": "python",
   "name": "python3"
  },
  "language_info": {
   "codemirror_mode": {
    "name": "ipython",
    "version": 3
   },
   "file_extension": ".py",
   "mimetype": "text/x-python",
   "name": "python",
   "nbconvert_exporter": "python",
   "pygments_lexer": "ipython3",
   "version": "3.6.6"
  }
 },
 "nbformat": 4,
 "nbformat_minor": 2
}
