{
 "cells": [
  {
   "cell_type": "markdown",
   "metadata": {},
   "source": [
    "# Introduction"
   ]
  },
  {
   "cell_type": "markdown",
   "metadata": {},
   "source": [
    "## Introduction\n",
    "This lesson summarizes the topics we'll be covering in section 15 and why they'll be important to you as a data scientist."
   ]
  },
  {
   "cell_type": "markdown",
   "metadata": {},
   "source": [
    "## Objectives\n",
    "You will be able to:\n",
    "* Understand and explain what is covered in this section\n",
    "* Understand and explain why the section will help you to become a data scientist"
   ]
  },
  {
   "cell_type": "markdown",
   "metadata": {},
   "source": [
    "## An Introduction to ORMs\n",
    "\n",
    "In module 1 we learned about SQL (Structured Query Language) and relational databases. We also learned about OOP (Object Oriented Programming) - one of the most popular programming paradigms. Remember, OOP is an approach to programming where behavior (methods/functions) and state (variables) are composed into objects. Those objects ate often designed to model real world \"things\" like products, locations or people.\n",
    "\n",
    "In this section, we're going to introduce Object Relational Mappers (ORMs) - libraries that make it easy for programers writing OO code to access and update information in a relational database without having to write a bunch of SQL by hand.\n",
    "\n",
    "As a data scientist, you probably won't work with ORMs much yourselves. However, many of the databases that you pull information from will be populated by applications that use an ORM, so if you're trying to learn more about any issues with the quality of the data you are working with, you may well find yourself trawling through OO code with a bunch of ORM calls. In this section, you'll get practice writing OO Python code and exposure to the most popular ORM in the Python world - SQLAlchemy.\n",
    "\n",
    "### Review of SQL(ite)\n",
    "\n",
    "We kick off the section by doing a review of how to connect to a SQLite database and run queries against it. \n",
    "\n",
    "### Normalization\n",
    "\n",
    "We then review relationship types and provide a little more information about database normalization and common \"normal forms\" you might come across.\n",
    "\n",
    "### ERD Diagrams\n",
    "\n",
    "Next, we take the time to imntroduce Entity Relationship Diagrams (ERDs) - the most common way for developers to document the schema (structure) of their databases - the tables and colums and their relationships.\n",
    "\n",
    "### Introducing SQLAlchemy\n",
    "\n",
    "After that, we introduce the concept of an ORM and provide you some hands on experience with using SQLAlchemy.\n",
    "\n",
    "### Many:Many Relationships\n",
    "\n",
    "We then have a lesson reminding us of the importance of join tables for storing information where there is a many:many relationship between tables.\n",
    "\n",
    "### Querying using SQLAlchemy\n",
    "\n",
    "We then provide some experience with querying a database using SQLAlchemy and storing the results in a Pandas data frame.\n",
    "\n",
    "### Pulling it All Together\n",
    "\n",
    "Finally, we ask you to read and underdtand an ERD diagram for the classic Microsoft Northwind Traders database and query from the database using SQLAlchemy to give you some more practice retrieving data using an ORM.\n"
   ]
  },
  {
   "cell_type": "markdown",
   "metadata": {},
   "source": [
    "## Summary\n",
    "\n",
    "In this section, you get to review working with SQL - the language that has historically unlocked the vast majority of data stored by most corporations. You also get practice writing OO Python code, and learn how to use the SQLAlchemy ORM for retrieving data efficiently into your application.\n"
   ]
  },
  {
   "cell_type": "code",
   "execution_count": null,
   "metadata": {},
   "outputs": [],
   "source": []
  }
 ],
 "metadata": {
  "kernelspec": {
   "display_name": "Python [default]",
   "language": "python",
   "name": "python3"
  },
  "language_info": {
   "codemirror_mode": {
    "name": "ipython",
    "version": 3
   },
   "file_extension": ".py",
   "mimetype": "text/x-python",
   "name": "python",
   "nbconvert_exporter": "python",
   "pygments_lexer": "ipython3",
   "version": "3.6.6"
  }
 },
 "nbformat": 4,
 "nbformat_minor": 2
}
