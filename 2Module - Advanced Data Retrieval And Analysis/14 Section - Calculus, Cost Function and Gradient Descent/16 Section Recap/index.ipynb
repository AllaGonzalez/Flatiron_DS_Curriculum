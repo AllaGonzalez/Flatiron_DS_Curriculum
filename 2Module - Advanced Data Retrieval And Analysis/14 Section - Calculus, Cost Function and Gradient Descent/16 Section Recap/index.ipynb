{
 "cells": [
  {
   "cell_type": "markdown",
   "metadata": {},
   "source": [
    "# Section Recap"
   ]
  },
  {
   "cell_type": "markdown",
   "metadata": {},
   "source": [
    "## Introduction\n",
    "\n",
    "This short lesson summarizes the topics we covered in section 14 and why they'll be important to you as a data scientist."
   ]
  },
  {
   "cell_type": "markdown",
   "metadata": {},
   "source": [
    "## Objectives\n",
    "You will be able to:\n",
    "* Understand and explain what was covered in this section\n",
    "* Understand and explain why this section will help you become a data scientist"
   ]
  },
  {
   "cell_type": "markdown",
   "metadata": {},
   "source": [
    "## Key Takeaways\n",
    "\n",
    "In this section, we both learned how to traverse a cost function graph to find the local minima to solve a linear regression by using a gradient descent and covered some of the foundational calculus that will help you to understand many of the other machine learning models you'll encounter as a professional data scientist. Key takeaways include:\n",
    "* A derivative is the \"instantaneous rate of change\" of a function - or it can be thought of as the \"slope of the curve\" at a point in time\n",
    "* A derivative can also be thought of as a special case of the rate of change over a period of time - as that period of time tends to zero. \n",
    "* If you calculate the rate of change over a period of time and keep reducing the period of time, it usually tends to a limit - which is the value of that derivative\n",
    "* The power rule, constant factor rule and addition rule are key tools for calculating derivatives for various kinds of functions\n",
    "* The chain rule can be a useful tool for calculating the derivate of a complex function\n",
    "* A derivative can be useful for identifying local maxima or minima as in both cases, the derviative tends to zero\n",
    "* A cost curve can be used to plot the values of a cost function (in the case of linear regression) for various values of offset and slope for the best fit line.\n",
    "* A gradient descent can be used to move towards the local minima on the cost curve and thus the ideal values for offset and slope to minimize the selected cost function\n",
    "\n"
   ]
  }
 ],
 "metadata": {
  "kernelspec": {
   "display_name": "Python [default]",
   "language": "python",
   "name": "python3"
  },
  "language_info": {
   "codemirror_mode": {
    "name": "ipython",
    "version": 3
   },
   "file_extension": ".py",
   "mimetype": "text/x-python",
   "name": "python",
   "nbconvert_exporter": "python",
   "pygments_lexer": "ipython3",
   "version": "3.6.6"
  }
 },
 "nbformat": 4,
 "nbformat_minor": 2
}
