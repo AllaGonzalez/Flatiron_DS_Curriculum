{
 "cells": [
  {
   "cell_type": "markdown",
   "metadata": {},
   "source": [
    "# Section Recap"
   ]
  },
  {
   "cell_type": "markdown",
   "metadata": {},
   "source": [
    "## Introduction\n",
    "\n",
    "This short lesson summarizes the topics we covered in section 20 and why they'll be important to you as a data scientist."
   ]
  },
  {
   "cell_type": "markdown",
   "metadata": {},
   "source": [
    "## Objectives\n",
    "You will be able to:\n",
    "* Understand and explain what was covered in this section\n",
    "* Understand and explain why this section will help you become a data scientist"
   ]
  },
  {
   "cell_type": "markdown",
   "metadata": {},
   "source": [
    "## Key Takeaways\n",
    "\n",
    "Some of the key takeaways from this section include:\n",
    "* It's important to have a sound approach to experimental design to be able to determine the significance of your findings\n",
    "* Start by examining any existing research to see if it can shed light on the problem you're studying\n",
    "* Start with a clear alternative and null hypothesis for your experiment to \"prove\"\n",
    "* It's important to have a thoughtfully selected control group from the same population for your trial to distinguish effect from variations based on population, time or other factors\n",
    "* Sample size needs to be selected carefully to ensure your results have a good chance of being statistically significant\n",
    "* Your results should be reproducible by other people and using different samples from the population\n",
    "* The p-value for an outcome determines how likely it is that the outcome could be due to chance\n",
    "* The alpha value is the marginal threshold at which we're comfortable rejecting the null hypothesis\n",
    "* An alpha of 0.05 is a common choice for many experiments\n",
    "* Effect size measures just the size in difference between two groups under observation, whereas statistical significance combines effect size with sample size\n",
    "* A one sample t-test is used to determine whether a sample comes from a population with a specific mean. \n",
    "* A two-sample t-test is used to determine if two population means are equal\n",
    "* Type 1 errors (false positives) are when we accept an alternative hypothesis which is actually false\n",
    "* The alpha that we pick is the likelihood that we will get a type 1 error due to random chance\n",
    "* Type 2 errors (false negatives) are when we reject an alternative hypothesis which is actually true\n",
    "* The beta that we pick is the likelihood that we will get a type 2 error due to random chance\n",
    "* The power of a statistical test is defined as the probability of rejecting the null hypothesis, given that it is indeed false\n",
    "* You should avoid swimming pools any year that Nicolas Cage appears in multiple films (kidding!)\n",
    "* Spurious correlation is always a risk - but particularly when comparing multiple variables\n",
    "* It's important to use corrections such as the Bonferroni Correction to deal with multiple comparisons\n",
    "* Goodhart's law: \"Any observed statistical regularity will tend to collapse once pressure is placed upon it for control purposes.\" --Charles Goodhart\n",
    "* ANOVA (Analysis of Variance) tests the hypothesis that the means of two or more populations are equal\n",
    "\n",
    "\n",
    "\n"
   ]
  }
 ],
 "metadata": {
  "kernelspec": {
   "display_name": "Python [default]",
   "language": "python",
   "name": "python3"
  },
  "language_info": {
   "codemirror_mode": {
    "name": "ipython",
    "version": 3
   },
   "file_extension": ".py",
   "mimetype": "text/x-python",
   "name": "python",
   "nbconvert_exporter": "python",
   "pygments_lexer": "ipython3",
   "version": "3.6.6"
  }
 },
 "nbformat": 4,
 "nbformat_minor": 2
}
