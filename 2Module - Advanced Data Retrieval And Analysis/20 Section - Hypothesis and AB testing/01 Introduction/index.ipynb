{
 "cells": [
  {
   "cell_type": "markdown",
   "metadata": {},
   "source": [
    "# Introduction"
   ]
  },
  {
   "cell_type": "markdown",
   "metadata": {},
   "source": [
    "## Introduction\n",
    "This lesson summarizes the topics we'll be covering in section 20 and why they'll be important to you as a data scientist."
   ]
  },
  {
   "cell_type": "markdown",
   "metadata": {},
   "source": [
    "## Objectives\n",
    "You will be able to:\n",
    "* Understand and explain what is covered in this section\n",
    "* Understand and explain why the section will help you to become a data scientist\n"
   ]
  },
  {
   "cell_type": "markdown",
   "metadata": {},
   "source": [
    "## Hypothesis and AB testing\n",
    "\n",
    "In this section, we'll be looking at .....\n",
    "\n",
    "### Experimental Design\n",
    "\n",
    "Without good experimental design, it's very easy to draw the wrong conclusions from your experiments. Because of that, we kick this section off by looking at the scientific method and the key elements of good experimental design - forming alternate and null hypotheses, conducting an experiment, analysing the results for statistical significance and drawing conclusions.\n",
    "\n",
    "### Effect Size\n",
    "\n",
    "We then look at how to calculate and interpret the size of the difference between control and test groups. We'll see how the \"Effect Size\" can be used to communicate the practical significance of experimental results, to perform meta-analyses of multiple studies, and to perform power analysis to determine the number of particicpants that a study would require to achieve a certain probability of finding a true effect. We'll also look at t-tests and how they can be used to compare two averages to see how significant the differences are between two sets of results.\n",
    "\n",
    "### Type 1 and Type 2 Errors\n",
    "\n",
    "From there, we introduce the concept of type 1 (false positive) and type 2 (false negative) errors and the inherent trade off between them.\n",
    "\n",
    "### Statistical Power\n",
    "\n",
    "We then introduce the concept of the power of a statistical test - the test's ability to detect a difference, when one exists. We look at how it relates to p-values and effect size for hypothesis testing, and get some practice calculating statistical powers using SciPy. We then pull together all of the previous ideas and ask you to design an experiment for a policital campaign.\n",
    "\n",
    "### Multiple Comparisons\n",
    "\n",
    "From there, we look at some of the issues that arise when trying to perform multiple comparisons - from the risks of spurious correlations to the important of corrections such as the Bonferroni Correction to deal with the risks inherent in multiple comparisons.\n",
    "\n",
    "### A/B Testing\n",
    "\n",
    "Next up is A/B testing. We start by introducing the concept of an A/B terst, and then building on our recent experience of experimental design, we go through the process of designing, structuring and running an A/B test.\n",
    "\n",
    "\n",
    "### Goodharts Law and Metric Tracking\n",
    "\n",
    "We then take a little bit of time to consider the implications of misusing metrics - even if our experiments are initially sound. \n",
    "\n",
    "### ANOVA Testing\n",
    "\n",
    "Finally, we spend some time introducing the (Analysis of Variance) method for generalizing previous discussions regarding statistical tests to multiple groups.\n",
    "\n",
    "\n",
    "\n"
   ]
  },
  {
   "cell_type": "markdown",
   "metadata": {},
   "source": [
    "## Summary\n",
    "\n",
    "Without a good understanding of experimental design, it's easy to end up confusing spurious correlations for meaningful results or placing too much (or too little) weight on the results of any given test. In this section we cover a range of tools and techniques to ensure that you design your experiments regirously and interpret them thoughtfully.\n",
    "\n"
   ]
  }
 ],
 "metadata": {
  "kernelspec": {
   "display_name": "Python [default]",
   "language": "python",
   "name": "python3"
  },
  "language_info": {
   "codemirror_mode": {
    "name": "ipython",
    "version": 3
   },
   "file_extension": ".py",
   "mimetype": "text/x-python",
   "name": "python",
   "nbconvert_exporter": "python",
   "pygments_lexer": "ipython3",
   "version": "3.6.6"
  }
 },
 "nbformat": 4,
 "nbformat_minor": 2
}
