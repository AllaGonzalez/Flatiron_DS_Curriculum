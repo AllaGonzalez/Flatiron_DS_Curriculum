{
 "cells": [
  {
   "cell_type": "markdown",
   "metadata": {},
   "source": [
    "# Vector Addition and Broadcasting in Numpy - Code Along\n",
    "\n",
    "## Introduction\n",
    "\n",
    "This lesson is a supplement to the previous lesson where we learnt how to create numpy arrays as vectors or matrices and performed basic manipulations on these objects. In this lesson we shall look at matrix addition and broadcasting features offered by Numpy.\n",
    "\n",
    "## Objectives\n",
    "You will be able to:\n",
    "* Understand and implement vector addition in Numpy \n",
    "* Understand how broadcasting differs from addition when adding mismatched dimensions.\n",
    "\n",
    "## Vector Addition\n",
    "\n",
    "We shall now look at simple vector addition, where all operations are performed element-wise between two vectors/matrices of equal size to result in a new vector/matrix with the same size.\n",
    "\n",
    "\n",
    "Two arrays A and B with the same dimensions can be added together if:\n",
    "* they have the same shape:\n",
    "* each cell of A is added to the corresponding cell of B:\n",
    "\n",
    "> **A <sub>i,j</sub> + B <sub>i,j</sub> = C <sub>i,j</sub>**\n",
    "\n",
    "<img src=\"add.png\" width=400>\n",
    "\n",
    "here A(i,j) and B(i,j) represent row and column locations. This is a more standard notation that you will find in most literature. Another visual representation of this process can be shown as :\n",
    "<img src=\"add2.png\" width=300>\n",
    "\n",
    "\n",
    "1 dimensional arrays can be added together in exactly the same way following similar assumptions. The addition of two vectors x and y may be represented graphically by placing the start of the arrow y at the tip of the arrow x, and then drawing an arrow from the start (tail) of x to the tip (head) of y. The new arrow drawn represents the vector x + y\n",
    "<img src=\"vector_addition.png\" width=400>\n",
    "\n",
    "We can perform addition operations in Numpy as:\n",
    "```python\n",
    "import numpy as np\n",
    "\n",
    "# Adding 1-D arrays\n",
    "a = np.array([1,2,3])\n",
    "b = np.array ([4,5,6]) \n",
    "c=a+b\n",
    "c\n",
    "```"
   ]
  },
  {
   "cell_type": "code",
   "execution_count": 6,
   "metadata": {},
   "outputs": [],
   "source": [
    "# Code here "
   ]
  },
  {
   "cell_type": "markdown",
   "metadata": {},
   "source": [
    "Subtracting a vector is the same as adding its negative. So, the difference of the vectors x and y is equal to the sum of x and -y: \n",
    "> x - y = x + (-y)\n",
    "\n",
    "Geometrically, when we subtract y from x, we place the end points of x and y at the same point, and then draw an arrow from the tip of y to the tip of x. That arrow represents the vector x - y.\n",
    "<img src=\"vector_subtraction.png\" width=400>\n",
    "\n",
    "Mathematically, we subtract the corresponding components of vector y from the vector x.\n",
    "\n",
    "```python\n",
    "# Subtracting 1-D arrays\n",
    "a = np.array([1,2,3])\n",
    "b = np.array ([4,5,6]) \n",
    "c=b-a\n",
    "c\n",
    "```"
   ]
  },
  {
   "cell_type": "code",
   "execution_count": 2,
   "metadata": {},
   "outputs": [],
   "source": [
    "# Code here"
   ]
  },
  {
   "cell_type": "markdown",
   "metadata": {},
   "source": [
    "Now lets try addition with matrices."
   ]
  },
  {
   "cell_type": "markdown",
   "metadata": {},
   "source": [
    "``` python\n",
    "# Adding 2-D matrices\n",
    "A = np.array([[1, 2], [3, 4], [5, 6]])\n",
    "B = np.array([[1, 4], [2, 5], [2, 3]])\n",
    "# Add matrices A and B\n",
    "C = A + B\n",
    "C\n",
    "```"
   ]
  },
  {
   "cell_type": "code",
   "execution_count": 7,
   "metadata": {},
   "outputs": [],
   "source": [
    "# Code here "
   ]
  },
  {
   "cell_type": "markdown",
   "metadata": {},
   "source": [
    "```python\n",
    "# Add matrices with mismatched dimensions\n",
    "A = np.array([[1, 2], [3, 4], [5, 6]])\n",
    "B = np.array([[1, 4], [2, 5]])\n",
    "# Add matrices A and B\n",
    "C = A + B\n",
    "C\n",
    "```"
   ]
  },
  {
   "cell_type": "code",
   "execution_count": 8,
   "metadata": {},
   "outputs": [],
   "source": [
    "# Code here "
   ]
  },
  {
   "cell_type": "markdown",
   "metadata": {},
   "source": [
    "Yes, an error, as expected due to dimension mismatch. Here it seems very intuitive to know why this happened , but when working with large matrices and tensors, shape mismatch could become a real problem and as data scientists, we must be sure about what dimensions our datasets carry. "
   ]
  },
  {
   "cell_type": "markdown",
   "metadata": {},
   "source": [
    "## Vector Scalar Addition\n",
    "\n",
    "Scalar values can be added to matrices and vectors. In this case, the scalar value is added to each element of array as shown below:\n",
    "```python\n",
    "# Add scalars to arrays\n",
    "# Add a scalar to a 1-D vector\n",
    "print(a+4)\n",
    "# Add a scalar to a 2-D matrix\n",
    "print(A+4)\n",
    "```"
   ]
  },
  {
   "cell_type": "code",
   "execution_count": 10,
   "metadata": {},
   "outputs": [],
   "source": [
    "# Code here "
   ]
  },
  {
   "cell_type": "markdown",
   "metadata": {},
   "source": [
    "## Broadcasting\n",
    "\n",
    "Numpy can also handle operations on arrays of different shapes as some machine learning algorithms need that. The smaller array gets **extended** to match the shape of the larger array. In the scalar-vector addition, we used broadcasting so the scalar was converted in an array of same shape as A.\n",
    "<img src=\"bc.png\" width=500>\n",
    "\n",
    "Let's see this is action while trying to add arrays with different shapes\n",
    "\n",
    "```python\n",
    "A = np.array([[1, 2], [3, 4], [5, 6]])\n",
    "print(A)\n",
    "B = np.array([[2], [4], [6]])\n",
    "print(B)\n",
    "A+B\n",
    "```"
   ]
  },
  {
   "cell_type": "code",
   "execution_count": 12,
   "metadata": {},
   "outputs": [],
   "source": [
    "# Code here "
   ]
  },
  {
   "cell_type": "markdown",
   "metadata": {},
   "source": [
    "## Summary \n",
    "\n",
    "In this lesson, we saw how to add vectors and matrices and also looked at the dimension match assumption necessary for this addition. We also looked at how numpy allows you to use broadcasting to add scalars and vector/matrices to other objects with different dimensions. In the following lessons, we shall look at more complicated mathematical operations and their use in real life data analysis. "
   ]
  }
 ],
 "metadata": {
  "kernelspec": {
   "display_name": "Python 3",
   "language": "python",
   "name": "python3"
  },
  "language_info": {
   "codemirror_mode": {
    "name": "ipython",
    "version": 3
   },
   "file_extension": ".py",
   "mimetype": "text/x-python",
   "name": "python",
   "nbconvert_exporter": "python",
   "pygments_lexer": "ipython3",
   "version": "3.6.4"
  }
 },
 "nbformat": 4,
 "nbformat_minor": 2
}
