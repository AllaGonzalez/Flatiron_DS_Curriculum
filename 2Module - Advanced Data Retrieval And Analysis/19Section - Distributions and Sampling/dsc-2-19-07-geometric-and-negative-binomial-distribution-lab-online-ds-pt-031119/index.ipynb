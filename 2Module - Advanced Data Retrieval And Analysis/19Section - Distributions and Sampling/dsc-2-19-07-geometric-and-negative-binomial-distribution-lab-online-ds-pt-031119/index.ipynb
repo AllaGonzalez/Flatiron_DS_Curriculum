{
 "cells": [
  {
   "cell_type": "markdown",
   "metadata": {},
   "source": [
    "# The Geometric and Negative Binomial Distributions - Lab\n",
    "\n",
    "## Introduction\n",
    "\n",
    "In this lab, you'll practice your knowledge on the geometric and negative binomial distributions!\n",
    "\n",
    "## Objectives\n",
    "You will be able to:\n",
    "- Understand and explain the Negative Binomial Distribution and its uses\n",
    "- Understand and explain Geometric Distributions and their uses\n",
    "\n",
    "## Quick Recap"
   ]
  },
  {
   "cell_type": "markdown",
   "metadata": {},
   "source": [
    "Recall that the binomial distribution describes the probability of a success or a failure outcome in an experiment that is repeated multiple times.\n",
    "\n",
    "In fact, a binomial distribution describes a repeated bernoulli experiment. A bernoulli experiment can be seen as one trial where there is a known success rate $p$. Examples:\n",
    "- Rolling a dice once where success is defined as throwing a 5 or higher, the probability of success is 1/3.\n",
    "- Shooting at a basketball rink where the success probability is 70%.\n",
    "- etc."
   ]
  },
  {
   "cell_type": "markdown",
   "metadata": {},
   "source": [
    "The binomial distribution then has 2 parameters: $n$ and $p$, where $n$ is the number of independent experiments."
   ]
  },
  {
   "cell_type": "markdown",
   "metadata": {},
   "source": [
    "The binomial and hypergeometric distribution describe the number of successes in a fixed number, independent repetitions of Bernoulli experiments. The negative binomial and geometric\n",
    "distribution describe the number of independent repetitions to a *fixed* number of *successes*. The geometric distribution is a special case of the negative-binomial distribution.\n",
    "\n",
    "To be more specific, the geometric distribution is the probability for which trial the first successful Bernoulli experiment will occur on. The more general version of this is the negative binomial distribution which is the probability for which trial the nth success will occur on."
   ]
  },
  {
   "cell_type": "markdown",
   "metadata": {},
   "source": [
    "## 1. Let's take a look at the classic coin flipping case.\n",
    "\n",
    "**A)** What's the probability that the first success occurs on the 1st trial? (Yes its that intuitive.)"
   ]
  },
  {
   "cell_type": "markdown",
   "metadata": {},
   "source": [
    "#Your answer here"
   ]
  },
  {
   "cell_type": "markdown",
   "metadata": {},
   "source": [
    "**B)** What's the probability that the first success occurs on the 2nd trial?  \n",
    "(Hint: Think of all the possible scenarios: Either the success occured on the first trial, the success occurred on the second trial, or there still was no success. These three scenarios should encompass all possible scenarios and thus have a total probability of 1. Calculate the probability that the first trial was successful. Calculate the probability that neither the first nor second trial was successful. It should now be straightforward to calculate the final scenario: that the second trial was the original success.)  "
   ]
  },
  {
   "cell_type": "code",
   "execution_count": null,
   "metadata": {},
   "outputs": [],
   "source": [
    "#Your answer here"
   ]
  },
  {
   "cell_type": "markdown",
   "metadata": {},
   "source": [
    "**C)** What's the probability that the first success occurs on the 3rd trial? The 5th?"
   ]
  },
  {
   "cell_type": "code",
   "execution_count": null,
   "metadata": {},
   "outputs": [],
   "source": [
    "#Your answer here"
   ]
  },
  {
   "cell_type": "markdown",
   "metadata": {},
   "source": [
    "## 2. Geometric Function\n",
    "Now write a probability distribution function for a random variable y. The function should take in the probability, p of the success of an individual Bernoulli experiment. (In our previous coin flipping example, p=0.5.)"
   ]
  },
  {
   "cell_type": "code",
   "execution_count": null,
   "metadata": {},
   "outputs": [],
   "source": [
    "def geometric_dist(y,p):\n",
    "    \"\"\"y is a discrete random variable. It should be an integer that is greater then zero.\n",
    "    p is the probability of a success for the Bernoulli experiment to be conducted.\n",
    "    This function should return the probability that the first successful Bernoulli experiment will occur on the yth trial.\"\"\"\n",
    "    prob = #The probability that the first successful bernoulli experiment occurs on the yth trial.\n",
    "    return prob"
   ]
  },
  {
   "cell_type": "markdown",
   "metadata": {},
   "source": [
    "## 3. Product Failures\n",
    "Assume that the probability of a product working is 95%. Before shipping the products, the manufacturer is checking each product for defects. What is the probability that the 10th product checked is the first defective one found?"
   ]
  },
  {
   "cell_type": "code",
   "execution_count": null,
   "metadata": {},
   "outputs": [],
   "source": [
    "#Code and answer here\n",
    "prob = "
   ]
  },
  {
   "cell_type": "markdown",
   "metadata": {},
   "source": [
    "## 4. Product Failures take 2\n",
    "In many cases, a manufacturer might only test a sample of the products for defaults. Assuming 95% of the products do indeed work, what is the probability that in testing 20 units, that none will be defective?"
   ]
  },
  {
   "cell_type": "code",
   "execution_count": null,
   "metadata": {},
   "outputs": [],
   "source": [
    "#Code and answer here\n",
    "prob = "
   ]
  },
  {
   "cell_type": "markdown",
   "metadata": {},
   "source": [
    "## 5. Consumer Profiling\n",
    "A previous sample showed that 70% of U.S. shoppers prefer to buy groceries in store as compared to online.  \n",
    "Calculate the probability that the 6th person interviewed is the first to prefer to buy groceries online."
   ]
  },
  {
   "cell_type": "code",
   "execution_count": null,
   "metadata": {},
   "outputs": [],
   "source": [
    "#Code and answer here\n",
    "prob = "
   ]
  },
  {
   "cell_type": "markdown",
   "metadata": {},
   "source": [
    "## 6. Consumer Profiling 2\n",
    "What is the probability that at least 6 people have to be interviewed before finding someone who prefers to buy groceries online? (Assuming the statistic is true.)"
   ]
  },
  {
   "cell_type": "code",
   "execution_count": null,
   "metadata": {},
   "outputs": [],
   "source": [
    "#Code and answer here\n",
    "prob = "
   ]
  },
  {
   "cell_type": "markdown",
   "metadata": {},
   "source": [
    "## Summary\n",
    "\n",
    "Awesome, you've now learned about many use cases for the geometric and negative binomial distribution!"
   ]
  }
 ],
 "metadata": {
  "kernelspec": {
   "display_name": "Python 3",
   "language": "python",
   "name": "python3"
  },
  "language_info": {
   "codemirror_mode": {
    "name": "ipython",
    "version": 3
   },
   "file_extension": ".py",
   "mimetype": "text/x-python",
   "name": "python",
   "nbconvert_exporter": "python",
   "pygments_lexer": "ipython3",
   "version": "3.6.4"
  }
 },
 "nbformat": 4,
 "nbformat_minor": 2
}
