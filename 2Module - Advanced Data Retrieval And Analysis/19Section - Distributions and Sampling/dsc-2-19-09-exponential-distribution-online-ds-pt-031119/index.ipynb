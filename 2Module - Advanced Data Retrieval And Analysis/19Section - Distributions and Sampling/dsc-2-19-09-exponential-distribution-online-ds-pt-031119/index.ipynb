{
 "cells": [
  {
   "cell_type": "markdown",
   "metadata": {},
   "source": [
    "# Exponential Distributions\n",
    "\n",
    "## Introduction\n",
    "\n",
    "In this lesson, we'll learn about the Exponential Distribution and the types of questions we it can answer.\n",
    "\n",
    "## Objectives\n",
    "\n",
    "You will be able to:\n",
    "\n",
    "* Understand and explain the Exponential Distribution and its use cases.  \n",
    "\n",
    "\n",
    "## What is the Exponential Distribution?\n",
    "\n",
    "The **_Exponential Distribution_** describes the probability distribution of the amount of time it may take before an event occurs.  In a way, it solves the inverse of the problem solves by the Poisson Distribution.\n",
    "\n",
    "The **_Poisson Distribution_** lets us ask how likely any given number of events are over a set interval of time.  \n",
    "\n",
    "The **_Exponential Distribution_** lets us ask how likely the _length of an interval of time_ is before an event occurs exactly once. \n",
    "\n",
    "Another way to think of the Exponential Distribution is as the continuous analogue of the **_Geometric Distribution_**.  Inuitively, this makes sense--both are concerned with measuring the amount of something that happens before a target event occurs.  With the Geometric Distribution, we were measuring the number of discrete events that happen before something happened (e.g. the number of coin flips).  The Exponential Distribution does not measure the probability of number of trials before an event happens--instead, it measures the probability of the length of **_time_** that will pass before an event occurs.  \n",
    "\n",
    "## Sample Problem Statements for Exponential Distribution\n",
    "\n",
    "Let's look at some examples of the type of question we can answer with knowledge of the Exponential Distribution:\n",
    "\n",
    "1. How long before a sensor in this factory breaks down?\n",
    "\n",
    "1. How long until the next earthquake happens?\n",
    "\n",
    "1. How long will the next customer interaction take?\n",
    "\n",
    "1.  How long until the next person visits my website?\n",
    "\n",
    "As you can see, any type of question that we can ask about the length of time before a random event happens is a question that falls under the _Exponential Distribution_.  \n",
    "\n",
    "## Parameters & Formulas\n",
    "\n",
    "As with the other distributions we've learned about, our goal is to discover the probability that our **_Random Variable, $X$_** will turn out to be a specific value, $x$. \n",
    "\n",
    "In order to figure this out, we need to know the **_Decay Parameter_**, $\\lambda$ (although you may also see this denoted by the letter $m$).  To calculate the decay parameter, we just divide 1 by the average length of time it takes for an event to occur (e.g. the average number of minutes a customer interaction takes, or the average number of days before a machine breaks down). The average interval length is usually labeled as $\\mu$.\n",
    "\n",
    "### Decay Rate Formula\n",
    "\n",
    "$$\\lambda = \\frac{1}{\\mu}$$\n",
    "\n",
    "Once we know the decay rate, we can use the **_Probability Density Function_** to tell us the exact point probability for any length $x$.\n",
    "\n",
    "$$PDF(x) = \\lambda e^{-\\lambda x}$$\n",
    "\n",
    "The **_Probability Density Function_** allows us to answer questions such as \"What is the probability that it takes _exactly_ 4 minutes to ring up this customer?\"\n",
    "\n",
    "<img src='pdf.png'>\n",
    "\n",
    "Since we are talking about a Continuously-valued function, we'll also often want to make use of the **_Cumulative Density Function_**.  This allows us to answer questions such as \"what is the probability that it will take less than 4 minutes ring up this customer?\"\n",
    "\n",
    "$$CDF(x) = 1 - e^{-\\lambda x}$$\n",
    "\n",
    "<img src='cdf.png'>\n",
    "\n",
    "\n",
    "Note that we discussed the mean of this distribution above, but not the standard deviation. This distribution is somewhat unique in that the **_Standard Deviation_**, $\\sigma$ is equal to the **_mean_**, $\\mu$.\n",
    "\n",
    "$$\\sigma = \\mu$$\n",
    "\n",
    "\n",
    "## Solving a Sample Problem\n",
    "\n",
    "Let's use some python to solve a sample problem described above.  Let's assume that the average customer interaction at a grocery store takes 4 minutes.  What is the probability that ringing up the next customer takes exactly 3 minutes? What about the probability that it takes 3 minutes or less?\n",
    "\n",
    "Let's write a few quick functions to calculate the pdf and cdf for us in the cell below. Then, we can use it to solve the problem above. "
   ]
  },
  {
   "cell_type": "code",
   "execution_count": 4,
   "metadata": {},
   "outputs": [
    {
     "name": "stdout",
     "output_type": "stream",
     "text": [
      "Point robability for exactly 3 minutes: 11.8092%\n",
      "Cumulative probability of 3 minutes or less: 52.7633%\n"
     ]
    }
   ],
   "source": [
    "import numpy as np\n",
    "\n",
    "def exp_pdf(mu, x):\n",
    "    decay_rate = 1 / mu\n",
    "    return decay_rate * np.exp(-decay_rate * x)\n",
    "    \n",
    "\n",
    "def exp_cdf(mu, x):\n",
    "    decay_rate = 1 / 4\n",
    "    return 1 - np.exp(-decay_rate * x)\n",
    "    \n",
    "print(\"Point robability for exactly 3 minutes: {:.4f}%\".format(exp_pdf(4, 3) * 100))\n",
    "print(\"Cumulative probability of 3 minutes or less: {:.4f}%\".format(exp_cdf(4, 3) * 100))"
   ]
  },
  {
   "cell_type": "markdown",
   "metadata": {},
   "source": [
    "## Summary\n",
    "\n",
    "In this lesson, we learned about the **_Exponential Distribution_**, and we can use the **_Decay Rate_** to calculate both **_Probability Density_** and **_Cumulative Density_**!"
   ]
  }
 ],
 "metadata": {
  "kernelspec": {
   "display_name": "Python 3",
   "language": "python",
   "name": "python3"
  },
  "language_info": {
   "codemirror_mode": {
    "name": "ipython",
    "version": 3
   },
   "file_extension": ".py",
   "mimetype": "text/x-python",
   "name": "python",
   "nbconvert_exporter": "python",
   "pygments_lexer": "ipython3",
   "version": "3.6.5"
  }
 },
 "nbformat": 4,
 "nbformat_minor": 2
}
