{
 "cells": [
  {
   "cell_type": "markdown",
   "metadata": {},
   "source": [
    "# JSON and XML"
   ]
  },
  {
   "cell_type": "markdown",
   "metadata": {},
   "source": [
    "## Introduction\n",
    "\n",
    "In this lecture, we'll continue investigating new formats for datasets. Specifically, we'll investigate two of the most popular data formats for the web: JSON and XML including strengths and weaknesses."
   ]
  },
  {
   "cell_type": "markdown",
   "metadata": {},
   "source": [
    "## Objectives\n",
    "You will be able to:\n",
    "* Effectively use the JSON module to load and parse JSON documents\n",
    "* Read and access data stored in JSON and XML\n",
    "* Compare  and contrast the JSON and XML as data interchange types\n"
   ]
  },
  {
   "cell_type": "markdown",
   "metadata": {},
   "source": [
    "## XML\n",
    "\n",
    "XML stands for 'Extensible Markup Language'. You may note the acronym's similarity to HTML; HyperText Markup Language. While HTML tells us how to display a page, XML is used to store the data and content of the page itself. Like HTML, xml uses tags to seperate and organize data in a hierarchical manner. Here's a brief preview of an XML file:  \n",
    "\n",
    "<img src=\"xml_preview2.png\" width=850>"
   ]
  },
  {
   "cell_type": "markdown",
   "metadata": {},
   "source": [
    "## JSON\n",
    "\n",
    "JSON stand for JavaScript Object Notation. It came after XML and was meant to streamline many data transportation issues at the time. It is now the common standard amongst data transfers on the web and has numerous parsing packages for numerous languages (including Python)! Here's a brief preview of the same file above now in JSON:  \n",
    "<img src=\"json_preview.png\" width=850>"
   ]
  },
  {
   "cell_type": "markdown",
   "metadata": {},
   "source": [
    "## Loading XML and JSON Data\n",
    "For both of these data formats, prebuilt modules exist that will give us a powerful starting point for accessing and manipulating the underlying data itself. As you'll see the newer version, JSON, is simpler and more flexible then its predecessor XML."
   ]
  },
  {
   "cell_type": "markdown",
   "metadata": {},
   "source": [
    "### The XML Module\n",
    "\n",
    "You can check out the full details of the XML package here:  \n",
    "https://docs.python.org/3.6/library/xml.html#  \n",
    "but we'll be simply using a submodule, ElementTree:   \n",
    "https://docs.python.org/3.6/library/xml.etree.elementtree.html#module-xml.etree.ElementTree  \n",
    "\n",
    "Notice the nested structure of the XML file:  \n",
    "\n",
    "<img src=\"xml_preview2.png\" width=850>  \n",
    "\n",
    "When parsing the data, we'll have to navigate through this hierarchical structure. This is the idea behind the `ElementTree` submodule that we'll be using. We'll start with a root note and then iterate over its children, each of which should have a tag (the name in <angle_brackets\\>) and an associated attribute (the data between the two angle brackets <start\\> data <stop\\>)."
   ]
  },
  {
   "cell_type": "code",
   "execution_count": 4,
   "metadata": {
    "collapsed": true
   },
   "outputs": [],
   "source": [
    "import xml.etree.ElementTree as ET"
   ]
  },
  {
   "cell_type": "markdown",
   "metadata": {},
   "source": [
    "First we create the tree and retrieve the root tag."
   ]
  },
  {
   "cell_type": "code",
   "execution_count": 6,
   "metadata": {
    "collapsed": true
   },
   "outputs": [],
   "source": [
    "tree = ET.parse('nyc_2001_campaign_finance.xml')\n",
    "root = tree.getroot()"
   ]
  },
  {
   "cell_type": "markdown",
   "metadata": {},
   "source": [
    "Afterwards, we can iterate through the root node's children:"
   ]
  },
  {
   "cell_type": "code",
   "execution_count": 20,
   "metadata": {},
   "outputs": [
    {
     "name": "stdout",
     "output_type": "stream",
     "text": [
      "row {}\n"
     ]
    }
   ],
   "source": [
    "for child in root:\n",
    "    print(child.tag, child.attrib)"
   ]
  },
  {
   "cell_type": "markdown",
   "metadata": {},
   "source": [
    "Due to the nested structure, you often have to dig further down the tree:"
   ]
  },
  {
   "cell_type": "code",
   "execution_count": 39,
   "metadata": {},
   "outputs": [
    {
     "name": "stdout",
     "output_type": "stream",
     "text": [
      "Child:\n",
      "\n",
      "row {}\n",
      "Grandchildren:\n",
      "row {'_id': '1', '_uuid': 'E3E9CC9F-7443-43F6-94AF-B5A0F802DBA1', '_position': '1', '_address': 'https://data.cityofnewyork.us/resource/_8dhd-zvi6/1'}\n",
      "row {'_id': '2', '_uuid': '9D257416-581A-4C42-85CC-B6EAD9DED97F', '_position': '2', '_address': 'https://data.cityofnewyork.us/resource/_8dhd-zvi6/2'}\n",
      "row {'_id': '3', '_uuid': 'B80D7891-93CF-49E8-86E8-182B618E68F2', '_position': '3', '_address': 'https://data.cityofnewyork.us/resource/_8dhd-zvi6/3'}\n",
      "row {'_id': '4', '_uuid': 'BB012003-78F5-406D-8A87-7FF8A425EE3F', '_position': '4', '_address': 'https://data.cityofnewyork.us/resource/_8dhd-zvi6/4'}\n",
      "row {'_id': '5', '_uuid': '945825F9-2F5D-47C2-A16B-75B93E61E1AD', '_position': '5', '_address': 'https://data.cityofnewyork.us/resource/_8dhd-zvi6/5'}\n",
      "row {'_id': '6', '_uuid': '9546F502-39D6-4340-B37E-60682EB22274', '_position': '6', '_address': 'https://data.cityofnewyork.us/resource/_8dhd-zvi6/6'}\n",
      "row {'_id': '7', '_uuid': '4B6C74AD-17A0-4B7E-973A-2592D68A687D', '_position': '7', '_address': 'https://data.cityofnewyork.us/resource/_8dhd-zvi6/7'}\n",
      "row {'_id': '8', '_uuid': 'ABD22A5E-B8DA-446F-82BC-93AA11AF99DF', '_position': '8', '_address': 'https://data.cityofnewyork.us/resource/_8dhd-zvi6/8'}\n",
      "row {'_id': '9', '_uuid': '7CD36FB5-600F-44F5-A10C-CB3434B6805F', '_position': '9', '_address': 'https://data.cityofnewyork.us/resource/_8dhd-zvi6/9'}\n",
      "\n",
      "\n",
      "\n"
     ]
    }
   ],
   "source": [
    "#Count is added here to limit the number of results\n",
    "count = 0\n",
    "for child in root:\n",
    "    print('Child:\\n')\n",
    "    print(child.tag, child.attrib)\n",
    "    print('Grandchildren:')\n",
    "    for grandchild in child:\n",
    "        count += 1\n",
    "        if count < 10:\n",
    "            print(grandchild.tag, grandchild.attrib)\n",
    "    print('\\n\\n')"
   ]
  },
  {
   "cell_type": "markdown",
   "metadata": {},
   "source": [
    "Due to the nested structure, there is also a convenience method .iter() that allows you to iterate through all sub generations, regardless of depth."
   ]
  },
  {
   "cell_type": "code",
   "execution_count": 24,
   "metadata": {},
   "outputs": [
    {
     "name": "stdout",
     "output_type": "stream",
     "text": [
      "response {}\n",
      "row {}\n",
      "row {'_id': '1', '_uuid': 'E3E9CC9F-7443-43F6-94AF-B5A0F802DBA1', '_position': '1', '_address': 'https://data.cityofnewyork.us/resource/_8dhd-zvi6/1'}\n",
      "candid {}\n",
      "candname {}\n",
      "officeboro {}\n",
      "canclass {}\n",
      "row {'_id': '2', '_uuid': '9D257416-581A-4C42-85CC-B6EAD9DED97F', '_position': '2', '_address': 'https://data.cityofnewyork.us/resource/_8dhd-zvi6/2'}\n",
      "election {}\n"
     ]
    }
   ],
   "source": [
    "count = 0\n",
    "for element in root.iter():\n",
    "    count += 1\n",
    "    if count < 10:\n",
    "        print(element.tag, element.attrib)"
   ]
  },
  {
   "cell_type": "markdown",
   "metadata": {},
   "source": [
    "With some finesse, we could also extract all of these row tags into a dataframe...."
   ]
  },
  {
   "cell_type": "code",
   "execution_count": 38,
   "metadata": {},
   "outputs": [
    {
     "name": "stdout",
     "output_type": "stream",
     "text": [
      "285\n"
     ]
    },
    {
     "data": {
      "text/html": [
       "<div>\n",
       "<style scoped>\n",
       "    .dataframe tbody tr th:only-of-type {\n",
       "        vertical-align: middle;\n",
       "    }\n",
       "\n",
       "    .dataframe tbody tr th {\n",
       "        vertical-align: top;\n",
       "    }\n",
       "\n",
       "    .dataframe thead th {\n",
       "        text-align: right;\n",
       "    }\n",
       "</style>\n",
       "<table border=\"1\" class=\"dataframe\">\n",
       "  <thead>\n",
       "    <tr style=\"text-align: right;\">\n",
       "      <th></th>\n",
       "      <th>_id</th>\n",
       "      <th>_uuid</th>\n",
       "      <th>_position</th>\n",
       "      <th>_address</th>\n",
       "    </tr>\n",
       "  </thead>\n",
       "  <tbody>\n",
       "    <tr>\n",
       "      <th>0</th>\n",
       "      <td>1</td>\n",
       "      <td>E3E9CC9F-7443-43F6-94AF-B5A0F802DBA1</td>\n",
       "      <td>1</td>\n",
       "      <td>https://data.cityofnewyork.us/resource/_8dhd-z...</td>\n",
       "    </tr>\n",
       "    <tr>\n",
       "      <th>0</th>\n",
       "      <td>2</td>\n",
       "      <td>9D257416-581A-4C42-85CC-B6EAD9DED97F</td>\n",
       "      <td>2</td>\n",
       "      <td>https://data.cityofnewyork.us/resource/_8dhd-z...</td>\n",
       "    </tr>\n",
       "    <tr>\n",
       "      <th>0</th>\n",
       "      <td>3</td>\n",
       "      <td>B80D7891-93CF-49E8-86E8-182B618E68F2</td>\n",
       "      <td>3</td>\n",
       "      <td>https://data.cityofnewyork.us/resource/_8dhd-z...</td>\n",
       "    </tr>\n",
       "    <tr>\n",
       "      <th>0</th>\n",
       "      <td>4</td>\n",
       "      <td>BB012003-78F5-406D-8A87-7FF8A425EE3F</td>\n",
       "      <td>4</td>\n",
       "      <td>https://data.cityofnewyork.us/resource/_8dhd-z...</td>\n",
       "    </tr>\n",
       "    <tr>\n",
       "      <th>0</th>\n",
       "      <td>5</td>\n",
       "      <td>945825F9-2F5D-47C2-A16B-75B93E61E1AD</td>\n",
       "      <td>5</td>\n",
       "      <td>https://data.cityofnewyork.us/resource/_8dhd-z...</td>\n",
       "    </tr>\n",
       "  </tbody>\n",
       "</table>\n",
       "</div>"
      ],
      "text/plain": [
       "  _id                                 _uuid _position  \\\n",
       "0   1  E3E9CC9F-7443-43F6-94AF-B5A0F802DBA1         1   \n",
       "0   2  9D257416-581A-4C42-85CC-B6EAD9DED97F         2   \n",
       "0   3  B80D7891-93CF-49E8-86E8-182B618E68F2         3   \n",
       "0   4  BB012003-78F5-406D-8A87-7FF8A425EE3F         4   \n",
       "0   5  945825F9-2F5D-47C2-A16B-75B93E61E1AD         5   \n",
       "\n",
       "                                            _address  \n",
       "0  https://data.cityofnewyork.us/resource/_8dhd-z...  \n",
       "0  https://data.cityofnewyork.us/resource/_8dhd-z...  \n",
       "0  https://data.cityofnewyork.us/resource/_8dhd-z...  \n",
       "0  https://data.cityofnewyork.us/resource/_8dhd-z...  \n",
       "0  https://data.cityofnewyork.us/resource/_8dhd-z...  "
      ]
     },
     "execution_count": 38,
     "metadata": {},
     "output_type": "execute_result"
    }
   ],
   "source": [
    "dfs = []\n",
    "for n, element in enumerate(root.iter('row')):\n",
    "    if n > 0:\n",
    "        dfs.append(pd.DataFrame.from_dict(element.attrib, orient='index').transpose())\n",
    "df = pd.concat(dfs)\n",
    "print(len(df))\n",
    "df.head()"
   ]
  },
  {
   "cell_type": "markdown",
   "metadata": {},
   "source": [
    "### Shew!\n",
    "As you can see, parsing XML can get a bit complicated. It's a useful example for when we begin web scraping as HTML will have a similar structure that we'll need to exploit. That said, XML is an outdated format, and JSON is the standard. So with that, let's turn our attention to the format you'll be most apt to work with and encounter: JSON!!"
   ]
  },
  {
   "cell_type": "markdown",
   "metadata": {},
   "source": [
    "## The JSON Module\n",
    "\n",
    "https://docs.python.org/3.6/library/json.html"
   ]
  },
  {
   "cell_type": "code",
   "execution_count": 26,
   "metadata": {
    "collapsed": true
   },
   "outputs": [],
   "source": [
    "import json"
   ]
  },
  {
   "cell_type": "markdown",
   "metadata": {},
   "source": [
    "To load a json file, we first open the file using python's built in function and then pass that file object to the json module's load method. As you can see, this loaded the data as a dictionary."
   ]
  },
  {
   "cell_type": "code",
   "execution_count": 28,
   "metadata": {},
   "outputs": [
    {
     "name": "stdout",
     "output_type": "stream",
     "text": [
      "<class 'dict'>\n"
     ]
    }
   ],
   "source": [
    "f = open('nyc_2001_campaign_finance.json')\n",
    "data = json.load(f)\n",
    "print(type(data))"
   ]
  },
  {
   "cell_type": "markdown",
   "metadata": {},
   "source": [
    "Json files are often nested in a hierarchical structure and will have data structures analogous to python dictionaries and lists. We can begin to investigate a particular file by using our traditional python methods. Here's all of the built in supported data types in JSON and their counterparts in python: \n",
    "\n",
    "<img src=\"json_python_datatypes.png\" width=500>"
   ]
  },
  {
   "cell_type": "markdown",
   "metadata": {},
   "source": [
    "Check the keys of the dictionary:"
   ]
  },
  {
   "cell_type": "code",
   "execution_count": 32,
   "metadata": {},
   "outputs": [
    {
     "data": {
      "text/plain": [
       "dict_keys(['meta', 'data'])"
      ]
     },
     "execution_count": 32,
     "metadata": {},
     "output_type": "execute_result"
    }
   ],
   "source": [
    "data.keys()"
   ]
  },
  {
   "cell_type": "markdown",
   "metadata": {},
   "source": [
    "Investigate what data types are stored within the values associated with those keys:"
   ]
  },
  {
   "cell_type": "code",
   "execution_count": 37,
   "metadata": {},
   "outputs": [
    {
     "name": "stdout",
     "output_type": "stream",
     "text": [
      "<class 'dict'>\n",
      "<class 'list'>\n"
     ]
    }
   ],
   "source": [
    "for v in data.values():\n",
    "    print(type(v))"
   ]
  },
  {
   "cell_type": "markdown",
   "metadata": {},
   "source": [
    "We can quickly preview the first dictionary as a DataFrame"
   ]
  },
  {
   "cell_type": "code",
   "execution_count": 42,
   "metadata": {},
   "outputs": [
    {
     "data": {
      "text/html": [
       "<div>\n",
       "<style scoped>\n",
       "    .dataframe tbody tr th:only-of-type {\n",
       "        vertical-align: middle;\n",
       "    }\n",
       "\n",
       "    .dataframe tbody tr th {\n",
       "        vertical-align: top;\n",
       "    }\n",
       "\n",
       "    .dataframe thead th {\n",
       "        text-align: right;\n",
       "    }\n",
       "</style>\n",
       "<table border=\"1\" class=\"dataframe\">\n",
       "  <thead>\n",
       "    <tr style=\"text-align: right;\">\n",
       "      <th></th>\n",
       "      <th>view</th>\n",
       "    </tr>\n",
       "  </thead>\n",
       "  <tbody>\n",
       "    <tr>\n",
       "      <th>attribution</th>\n",
       "      <td>Campaign Finance Board (CFB)</td>\n",
       "    </tr>\n",
       "    <tr>\n",
       "      <th>averageRating</th>\n",
       "      <td>0</td>\n",
       "    </tr>\n",
       "    <tr>\n",
       "      <th>category</th>\n",
       "      <td>City Government</td>\n",
       "    </tr>\n",
       "    <tr>\n",
       "      <th>columns</th>\n",
       "      <td>[{'id': -1, 'name': 'sid', 'dataTypeName': 'me...</td>\n",
       "    </tr>\n",
       "    <tr>\n",
       "      <th>createdAt</th>\n",
       "      <td>1315950830</td>\n",
       "    </tr>\n",
       "    <tr>\n",
       "      <th>description</th>\n",
       "      <td>A listing of public funds payments for candida...</td>\n",
       "    </tr>\n",
       "    <tr>\n",
       "      <th>displayType</th>\n",
       "      <td>table</td>\n",
       "    </tr>\n",
       "    <tr>\n",
       "      <th>downloadCount</th>\n",
       "      <td>1470</td>\n",
       "    </tr>\n",
       "    <tr>\n",
       "      <th>flags</th>\n",
       "      <td>[default, restorable, restorePossibleForType]</td>\n",
       "    </tr>\n",
       "    <tr>\n",
       "      <th>grants</th>\n",
       "      <td>[{'inherited': False, 'type': 'viewer', 'flags...</td>\n",
       "    </tr>\n",
       "    <tr>\n",
       "      <th>hideFromCatalog</th>\n",
       "      <td>False</td>\n",
       "    </tr>\n",
       "    <tr>\n",
       "      <th>hideFromDataJson</th>\n",
       "      <td>False</td>\n",
       "    </tr>\n",
       "    <tr>\n",
       "      <th>id</th>\n",
       "      <td>8dhd-zvi6</td>\n",
       "    </tr>\n",
       "    <tr>\n",
       "      <th>indexUpdatedAt</th>\n",
       "      <td>1536596254</td>\n",
       "    </tr>\n",
       "    <tr>\n",
       "      <th>metadata</th>\n",
       "      <td>{'rdfSubject': '0', 'rdfClass': '', 'attachmen...</td>\n",
       "    </tr>\n",
       "    <tr>\n",
       "      <th>name</th>\n",
       "      <td>2001 Campaign Payments</td>\n",
       "    </tr>\n",
       "    <tr>\n",
       "      <th>newBackend</th>\n",
       "      <td>False</td>\n",
       "    </tr>\n",
       "    <tr>\n",
       "      <th>numberOfComments</th>\n",
       "      <td>0</td>\n",
       "    </tr>\n",
       "    <tr>\n",
       "      <th>oid</th>\n",
       "      <td>4140996</td>\n",
       "    </tr>\n",
       "    <tr>\n",
       "      <th>owner</th>\n",
       "      <td>{'id': '5fuc-pqz2', 'displayName': 'NYC OpenDa...</td>\n",
       "    </tr>\n",
       "    <tr>\n",
       "      <th>provenance</th>\n",
       "      <td>official</td>\n",
       "    </tr>\n",
       "    <tr>\n",
       "      <th>publicationAppendEnabled</th>\n",
       "      <td>False</td>\n",
       "    </tr>\n",
       "    <tr>\n",
       "      <th>publicationDate</th>\n",
       "      <td>1371845179</td>\n",
       "    </tr>\n",
       "    <tr>\n",
       "      <th>publicationGroup</th>\n",
       "      <td>240370</td>\n",
       "    </tr>\n",
       "    <tr>\n",
       "      <th>publicationStage</th>\n",
       "      <td>published</td>\n",
       "    </tr>\n",
       "    <tr>\n",
       "      <th>query</th>\n",
       "      <td>{}</td>\n",
       "    </tr>\n",
       "    <tr>\n",
       "      <th>rights</th>\n",
       "      <td>[read]</td>\n",
       "    </tr>\n",
       "    <tr>\n",
       "      <th>rowClass</th>\n",
       "      <td></td>\n",
       "    </tr>\n",
       "    <tr>\n",
       "      <th>rowsUpdatedAt</th>\n",
       "      <td>1371845177</td>\n",
       "    </tr>\n",
       "    <tr>\n",
       "      <th>rowsUpdatedBy</th>\n",
       "      <td>5fuc-pqz2</td>\n",
       "    </tr>\n",
       "    <tr>\n",
       "      <th>tableAuthor</th>\n",
       "      <td>{'id': '5fuc-pqz2', 'displayName': 'NYC OpenDa...</td>\n",
       "    </tr>\n",
       "    <tr>\n",
       "      <th>tableId</th>\n",
       "      <td>932968</td>\n",
       "    </tr>\n",
       "    <tr>\n",
       "      <th>tags</th>\n",
       "      <td>[finance, campaign finance board, cfb, nyccfb,...</td>\n",
       "    </tr>\n",
       "    <tr>\n",
       "      <th>totalTimesRated</th>\n",
       "      <td>0</td>\n",
       "    </tr>\n",
       "    <tr>\n",
       "      <th>viewCount</th>\n",
       "      <td>233</td>\n",
       "    </tr>\n",
       "    <tr>\n",
       "      <th>viewLastModified</th>\n",
       "      <td>1536605717</td>\n",
       "    </tr>\n",
       "    <tr>\n",
       "      <th>viewType</th>\n",
       "      <td>tabular</td>\n",
       "    </tr>\n",
       "  </tbody>\n",
       "</table>\n",
       "</div>"
      ],
      "text/plain": [
       "                                                                       view\n",
       "attribution                                    Campaign Finance Board (CFB)\n",
       "averageRating                                                             0\n",
       "category                                                    City Government\n",
       "columns                   [{'id': -1, 'name': 'sid', 'dataTypeName': 'me...\n",
       "createdAt                                                        1315950830\n",
       "description               A listing of public funds payments for candida...\n",
       "displayType                                                           table\n",
       "downloadCount                                                          1470\n",
       "flags                         [default, restorable, restorePossibleForType]\n",
       "grants                    [{'inherited': False, 'type': 'viewer', 'flags...\n",
       "hideFromCatalog                                                       False\n",
       "hideFromDataJson                                                      False\n",
       "id                                                                8dhd-zvi6\n",
       "indexUpdatedAt                                                   1536596254\n",
       "metadata                  {'rdfSubject': '0', 'rdfClass': '', 'attachmen...\n",
       "name                                                 2001 Campaign Payments\n",
       "newBackend                                                            False\n",
       "numberOfComments                                                          0\n",
       "oid                                                                 4140996\n",
       "owner                     {'id': '5fuc-pqz2', 'displayName': 'NYC OpenDa...\n",
       "provenance                                                         official\n",
       "publicationAppendEnabled                                              False\n",
       "publicationDate                                                  1371845179\n",
       "publicationGroup                                                     240370\n",
       "publicationStage                                                  published\n",
       "query                                                                    {}\n",
       "rights                                                               [read]\n",
       "rowClass                                                                   \n",
       "rowsUpdatedAt                                                    1371845177\n",
       "rowsUpdatedBy                                                     5fuc-pqz2\n",
       "tableAuthor               {'id': '5fuc-pqz2', 'displayName': 'NYC OpenDa...\n",
       "tableId                                                              932968\n",
       "tags                      [finance, campaign finance board, cfb, nyccfb,...\n",
       "totalTimesRated                                                           0\n",
       "viewCount                                                               233\n",
       "viewLastModified                                                 1536605717\n",
       "viewType                                                            tabular"
      ]
     },
     "execution_count": 42,
     "metadata": {},
     "output_type": "execute_result"
    }
   ],
   "source": [
    "pd.DataFrame.from_dict(data['meta'])"
   ]
  },
  {
   "cell_type": "markdown",
   "metadata": {},
   "source": [
    "Notice the column names which will be very useful!"
   ]
  },
  {
   "cell_type": "markdown",
   "metadata": {},
   "source": [
    "Investigate further information about the list stored under the 'data' key:"
   ]
  },
  {
   "cell_type": "code",
   "execution_count": 35,
   "metadata": {},
   "outputs": [
    {
     "data": {
      "text/plain": [
       "285"
      ]
     },
     "execution_count": 35,
     "metadata": {},
     "output_type": "execute_result"
    }
   ],
   "source": [
    "len(data['data'])"
   ]
  },
  {
   "cell_type": "markdown",
   "metadata": {},
   "source": [
    "Previewing the first entry:"
   ]
  },
  {
   "cell_type": "code",
   "execution_count": 36,
   "metadata": {},
   "outputs": [
    {
     "data": {
      "text/plain": [
       "[1,\n",
       " 'E3E9CC9F-7443-43F6-94AF-B5A0F802DBA1',\n",
       " 1,\n",
       " 1315925633,\n",
       " '392904',\n",
       " 1315925633,\n",
       " '392904',\n",
       " '{\\n  \"invalidCells\" : {\\n    \"1519001\" : \"TOTALPAY\",\\n    \"1518998\" : \"PRIMARYPAY\",\\n    \"1519000\" : \"RUNOFFPAY\",\\n    \"1518999\" : \"GENERALPAY\",\\n    \"1518994\" : \"OFFICECD\",\\n    \"1518996\" : \"OFFICEDIST\",\\n    \"1518991\" : \"ELECTION\"\\n  }\\n}',\n",
       " None,\n",
       " 'CANDID',\n",
       " 'CANDNAME',\n",
       " None,\n",
       " 'OFFICEBORO',\n",
       " None,\n",
       " 'CANCLASS',\n",
       " None,\n",
       " None,\n",
       " None,\n",
       " None]"
      ]
     },
     "execution_count": 36,
     "metadata": {},
     "output_type": "execute_result"
    }
   ],
   "source": [
    "data['data'][0]"
   ]
  },
  {
   "cell_type": "markdown",
   "metadata": {},
   "source": [
    "## Summary\n",
    "As you can see, there's still a lot going on here with the deeply nested structure of some of these data files. In the upcoming lab, you'll get a chance to practice loading files and conducting some initial preview of the data as we did here."
   ]
  }
 ],
 "metadata": {
  "kernelspec": {
   "display_name": "Python 3",
   "language": "python",
   "name": "python3"
  },
  "language_info": {
   "codemirror_mode": {
    "name": "ipython",
    "version": 3
   },
   "file_extension": ".py",
   "mimetype": "text/x-python",
   "name": "python",
   "nbconvert_exporter": "python",
   "pygments_lexer": "ipython3",
   "version": "3.6.5"
  }
 },
 "nbformat": 4,
 "nbformat_minor": 2
}
