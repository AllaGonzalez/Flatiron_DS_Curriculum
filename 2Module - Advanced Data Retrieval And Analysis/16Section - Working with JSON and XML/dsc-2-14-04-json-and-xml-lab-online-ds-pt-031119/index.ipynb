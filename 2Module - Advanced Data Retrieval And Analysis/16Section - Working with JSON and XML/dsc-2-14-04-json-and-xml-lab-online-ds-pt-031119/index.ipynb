{
 "cells": [
  {
   "cell_type": "markdown",
   "metadata": {},
   "source": [
    "# JSON and XML - Lab"
   ]
  },
  {
   "cell_type": "markdown",
   "metadata": {},
   "source": [
    "## Introduction\n",
    "\n",
    "In this lab, we'll continue investigating new formats for datasets. Specifically, we'll investigate two of the most popular data formats for the web: JSON and XML including strenghts and weaknesses."
   ]
  },
  {
   "cell_type": "markdown",
   "metadata": {},
   "source": [
    "## Objectives\n",
    "You will be able to:\n",
    "* Effectively use the JSON module to load and parse JSON documents\n",
    "* Read and access data stored in JSON and XML\n",
    "* Compare  and contrast the JSON and XML as data interchange types\n"
   ]
  },
  {
   "cell_type": "markdown",
   "metadata": {},
   "source": [
    "## XML"
   ]
  },
  {
   "cell_type": "code",
   "execution_count": 1,
   "metadata": {},
   "outputs": [],
   "source": [
    "import xml.etree.ElementTree as ET"
   ]
  },
  {
   "cell_type": "markdown",
   "metadata": {},
   "source": [
    "### Create an XML tree and retrieve the root tag."
   ]
  },
  {
   "cell_type": "code",
   "execution_count": 2,
   "metadata": {},
   "outputs": [],
   "source": [
    "#Your code here\n",
    "tree = ET.parse('nyc_2001_campaign_finance.xml')\n",
    "root = tree.getroot()"
   ]
  },
  {
   "cell_type": "markdown",
   "metadata": {},
   "source": [
    "### How many direct descendents does the root tag have?"
   ]
  },
  {
   "cell_type": "code",
   "execution_count": 7,
   "metadata": {},
   "outputs": [
    {
     "name": "stdout",
     "output_type": "stream",
     "text": [
      "1\n"
     ]
    }
   ],
   "source": [
    "#Answer: 1\n",
    "count = 0 \n",
    "for child in root:\n",
    "    count += 1\n",
    "print(count)"
   ]
  },
  {
   "cell_type": "markdown",
   "metadata": {},
   "source": [
    "### How many different types of tags are there within the entire XML file?"
   ]
  },
  {
   "cell_type": "code",
   "execution_count": 9,
   "metadata": {},
   "outputs": [
    {
     "name": "stdout",
     "output_type": "stream",
     "text": [
      "13\n"
     ]
    }
   ],
   "source": [
    "# Your code here\n",
    "tags = []\n",
    "for element in root.iter():\n",
    "    tags.append(element.tag)\n",
    "print(len(set(tags)))"
   ]
  },
  {
   "cell_type": "markdown",
   "metadata": {},
   "source": [
    "### Create a DataFrame listing the number of each type of tag. \n",
    "Sort the DataFrame in descending order by the tag count. The first entry should demonstrate there are 286 row tags in the XML file.   \n",
    "(Your DataFrame will be a single column, so could also be thought of as a Series.)"
   ]
  },
  {
   "cell_type": "code",
   "execution_count": 10,
   "metadata": {},
   "outputs": [],
   "source": [
    "import pandas as pd"
   ]
  },
  {
   "cell_type": "code",
   "execution_count": 12,
   "metadata": {},
   "outputs": [
    {
     "data": {
      "text/html": [
       "<div>\n",
       "<style scoped>\n",
       "    .dataframe tbody tr th:only-of-type {\n",
       "        vertical-align: middle;\n",
       "    }\n",
       "\n",
       "    .dataframe tbody tr th {\n",
       "        vertical-align: top;\n",
       "    }\n",
       "\n",
       "    .dataframe thead th {\n",
       "        text-align: right;\n",
       "    }\n",
       "</style>\n",
       "<table border=\"1\" class=\"dataframe\">\n",
       "  <thead>\n",
       "    <tr style=\"text-align: right;\">\n",
       "      <th></th>\n",
       "      <th>count</th>\n",
       "    </tr>\n",
       "  </thead>\n",
       "  <tbody>\n",
       "    <tr>\n",
       "      <th>row</th>\n",
       "      <td>286</td>\n",
       "    </tr>\n",
       "    <tr>\n",
       "      <th>candid</th>\n",
       "      <td>285</td>\n",
       "    </tr>\n",
       "    <tr>\n",
       "      <th>candname</th>\n",
       "      <td>285</td>\n",
       "    </tr>\n",
       "    <tr>\n",
       "      <th>canclass</th>\n",
       "      <td>285</td>\n",
       "    </tr>\n",
       "    <tr>\n",
       "      <th>election</th>\n",
       "      <td>284</td>\n",
       "    </tr>\n",
       "  </tbody>\n",
       "</table>\n",
       "</div>"
      ],
      "text/plain": [
       "          count\n",
       "row         286\n",
       "candid      285\n",
       "candname    285\n",
       "canclass    285\n",
       "election    284"
      ]
     },
     "execution_count": 12,
     "metadata": {},
     "output_type": "execute_result"
    }
   ],
   "source": [
    "#Your code here\n",
    "tags = {}\n",
    "for element in root.iter():\n",
    "    tags[element.tag] = tags.get(element.tag, 0) + 1\n",
    "df = pd.DataFrame.from_dict(tags, orient='index')\n",
    "df.columns = ['count']\n",
    "df = df.sort_values(by='count', ascending=False)\n",
    "df.head()"
   ]
  },
  {
   "cell_type": "markdown",
   "metadata": {},
   "source": [
    "## JSON"
   ]
  },
  {
   "cell_type": "markdown",
   "metadata": {},
   "source": [
    "### Open the same dataset from json"
   ]
  },
  {
   "cell_type": "code",
   "execution_count": 13,
   "metadata": {},
   "outputs": [],
   "source": [
    "#Your code here\n",
    "import json\n",
    "f = open('nyc_2001_campaign_finance.json')\n",
    "data = json.load(f)"
   ]
  },
  {
   "cell_type": "markdown",
   "metadata": {},
   "source": [
    "### What is the root data type of the json file?"
   ]
  },
  {
   "cell_type": "code",
   "execution_count": 14,
   "metadata": {},
   "outputs": [
    {
     "data": {
      "text/plain": [
       "dict"
      ]
     },
     "execution_count": 14,
     "metadata": {},
     "output_type": "execute_result"
    }
   ],
   "source": [
    "### Your code here\n",
    "type(data)"
   ]
  },
  {
   "cell_type": "markdown",
   "metadata": {},
   "source": [
    "### Navigate to the 'data' key of your loaded json object. What data type is this?"
   ]
  },
  {
   "cell_type": "code",
   "execution_count": 20,
   "metadata": {},
   "outputs": [
    {
     "data": {
      "text/plain": [
       "list"
      ]
     },
     "execution_count": 20,
     "metadata": {},
     "output_type": "execute_result"
    }
   ],
   "source": [
    "#Your code here\n",
    "type(data['data'])"
   ]
  },
  {
   "cell_type": "markdown",
   "metadata": {},
   "source": [
    "### Preview the first entry from the value returned by the 'data' key above."
   ]
  },
  {
   "cell_type": "code",
   "execution_count": 21,
   "metadata": {},
   "outputs": [
    {
     "data": {
      "text/plain": [
       "[1,\n",
       " 'E3E9CC9F-7443-43F6-94AF-B5A0F802DBA1',\n",
       " 1,\n",
       " 1315925633,\n",
       " '392904',\n",
       " 1315925633,\n",
       " '392904',\n",
       " '{\\n  \"invalidCells\" : {\\n    \"1519001\" : \"TOTALPAY\",\\n    \"1518998\" : \"PRIMARYPAY\",\\n    \"1519000\" : \"RUNOFFPAY\",\\n    \"1518999\" : \"GENERALPAY\",\\n    \"1518994\" : \"OFFICECD\",\\n    \"1518996\" : \"OFFICEDIST\",\\n    \"1518991\" : \"ELECTION\"\\n  }\\n}',\n",
       " None,\n",
       " 'CANDID',\n",
       " 'CANDNAME',\n",
       " None,\n",
       " 'OFFICEBORO',\n",
       " None,\n",
       " 'CANCLASS',\n",
       " None,\n",
       " None,\n",
       " None,\n",
       " None]"
      ]
     },
     "execution_count": 21,
     "metadata": {},
     "output_type": "execute_result"
    }
   ],
   "source": [
    "#Your code here\n",
    "data['data'][0]"
   ]
  },
  {
   "cell_type": "markdown",
   "metadata": {},
   "source": [
    "### Preview the Entry under meta -> view -> columns (the keys of three successively nested dictionaries)"
   ]
  },
  {
   "cell_type": "code",
   "execution_count": 26,
   "metadata": {},
   "outputs": [
    {
     "data": {
      "text/plain": [
       "[{'id': -1,\n",
       "  'name': 'sid',\n",
       "  'dataTypeName': 'meta_data',\n",
       "  'fieldName': ':sid',\n",
       "  'position': 0,\n",
       "  'renderTypeName': 'meta_data',\n",
       "  'format': {},\n",
       "  'flags': ['hidden']},\n",
       " {'id': -1,\n",
       "  'name': 'id',\n",
       "  'dataTypeName': 'meta_data',\n",
       "  'fieldName': ':id',\n",
       "  'position': 0,\n",
       "  'renderTypeName': 'meta_data',\n",
       "  'format': {},\n",
       "  'flags': ['hidden']},\n",
       " {'id': -1,\n",
       "  'name': 'position',\n",
       "  'dataTypeName': 'meta_data',\n",
       "  'fieldName': ':position',\n",
       "  'position': 0,\n",
       "  'renderTypeName': 'meta_data',\n",
       "  'format': {},\n",
       "  'flags': ['hidden']},\n",
       " {'id': -1,\n",
       "  'name': 'created_at',\n",
       "  'dataTypeName': 'meta_data',\n",
       "  'fieldName': ':created_at',\n",
       "  'position': 0,\n",
       "  'renderTypeName': 'meta_data',\n",
       "  'format': {},\n",
       "  'flags': ['hidden']},\n",
       " {'id': -1,\n",
       "  'name': 'created_meta',\n",
       "  'dataTypeName': 'meta_data',\n",
       "  'fieldName': ':created_meta',\n",
       "  'position': 0,\n",
       "  'renderTypeName': 'meta_data',\n",
       "  'format': {},\n",
       "  'flags': ['hidden']},\n",
       " {'id': -1,\n",
       "  'name': 'updated_at',\n",
       "  'dataTypeName': 'meta_data',\n",
       "  'fieldName': ':updated_at',\n",
       "  'position': 0,\n",
       "  'renderTypeName': 'meta_data',\n",
       "  'format': {},\n",
       "  'flags': ['hidden']},\n",
       " {'id': -1,\n",
       "  'name': 'updated_meta',\n",
       "  'dataTypeName': 'meta_data',\n",
       "  'fieldName': ':updated_meta',\n",
       "  'position': 0,\n",
       "  'renderTypeName': 'meta_data',\n",
       "  'format': {},\n",
       "  'flags': ['hidden']},\n",
       " {'id': -1,\n",
       "  'name': 'meta',\n",
       "  'dataTypeName': 'meta_data',\n",
       "  'fieldName': ':meta',\n",
       "  'position': 0,\n",
       "  'renderTypeName': 'meta_data',\n",
       "  'format': {},\n",
       "  'flags': ['hidden']},\n",
       " {'id': 75768833,\n",
       "  'name': 'ELECTION',\n",
       "  'dataTypeName': 'number',\n",
       "  'fieldName': 'election',\n",
       "  'position': 2,\n",
       "  'renderTypeName': 'number',\n",
       "  'tableColumnId': 1518991,\n",
       "  'width': 196,\n",
       "  'cachedContents': {'non_null': 284,\n",
       "   'average': '2001',\n",
       "   'largest': '2001',\n",
       "   'null': 1,\n",
       "   'top': [{'item': '2001', 'count': 20}],\n",
       "   'smallest': '2001',\n",
       "   'sum': '568284'},\n",
       "  'format': {'precisionStyle': 'standard',\n",
       "   'noCommas': 'true',\n",
       "   'align': 'right'}},\n",
       " {'id': 75768834,\n",
       "  'name': 'CANDID',\n",
       "  'dataTypeName': 'text',\n",
       "  'fieldName': 'candid',\n",
       "  'position': 3,\n",
       "  'renderTypeName': 'text',\n",
       "  'tableColumnId': 1518992,\n",
       "  'width': 172,\n",
       "  'cachedContents': {'non_null': 285,\n",
       "   'largest': 'YA',\n",
       "   'null': 0,\n",
       "   'top': [{'item': '490', 'count': 20},\n",
       "    {'item': '577', 'count': 19},\n",
       "    {'item': 'GF', 'count': 18},\n",
       "    {'item': '265', 'count': 17},\n",
       "    {'item': '549', 'count': 16},\n",
       "    {'item': '260', 'count': 15},\n",
       "    {'item': 'DH', 'count': 14},\n",
       "    {'item': '168', 'count': 13},\n",
       "    {'item': '561', 'count': 12},\n",
       "    {'item': '317', 'count': 11},\n",
       "    {'item': '240', 'count': 10},\n",
       "    {'item': 'B1', 'count': 9},\n",
       "    {'item': '337', 'count': 8},\n",
       "    {'item': '202', 'count': 7},\n",
       "    {'item': 'DP', 'count': 6},\n",
       "    {'item': '554', 'count': 5},\n",
       "    {'item': '529', 'count': 4},\n",
       "    {'item': '521', 'count': 3},\n",
       "    {'item': 'CY', 'count': 2},\n",
       "    {'item': '327', 'count': 1}],\n",
       "   'smallest': '148'},\n",
       "  'format': {}},\n",
       " {'id': 75768835,\n",
       "  'name': 'CANDNAME',\n",
       "  'dataTypeName': 'text',\n",
       "  'fieldName': 'candname',\n",
       "  'position': 4,\n",
       "  'renderTypeName': 'text',\n",
       "  'tableColumnId': 1518993,\n",
       "  'width': 196,\n",
       "  'cachedContents': {'non_null': 285,\n",
       "   'largest': 'Zett, Lori M',\n",
       "   'null': 0,\n",
       "   'top': [{'item': 'Taitt, Samuel A', 'count': 20},\n",
       "    {'item': 'Taliaferro, Phyllis', 'count': 19},\n",
       "    {'item': 'Taveras, Germania', 'count': 18},\n",
       "    {'item': 'Thakral, Jairam D', 'count': 17},\n",
       "    {'item': 'Thomas, Carl W', 'count': 16},\n",
       "    {'item': 'Thompson, Jr., William C', 'count': 15},\n",
       "    {'item': 'Tiraco, Joseph E', 'count': 14},\n",
       "    {'item': 'Toney, Vaughan', 'count': 13},\n",
       "    {'item': 'Toppin, Roger N', 'count': 12},\n",
       "    {'item': 'Torres, Mario A', 'count': 11},\n",
       "    {'item': 'Vallone, Jr., Peter F', 'count': 10},\n",
       "    {'item': 'Vallone, Peter F', 'count': 9},\n",
       "    {'item': 'Van Bramer, James G', 'count': 8},\n",
       "    {'item': 'Vann, Albert', 'count': 7},\n",
       "    {'item': 'Vargas, Ruben Dario', 'count': 6},\n",
       "    {'item': 'Vassos, Sandra', 'count': 5},\n",
       "    {'item': 'Vernet, Jean D', 'count': 4},\n",
       "    {'item': 'Viest, Nicholas D', 'count': 3},\n",
       "    {'item': 'Villaverde, Sergio', 'count': 2},\n",
       "    {'item': 'Vogel, Mark H', 'count': 1}],\n",
       "   'smallest': 'Aboulafia, Sandy'},\n",
       "  'format': {}},\n",
       " {'id': 75768836,\n",
       "  'name': 'OFFICECD',\n",
       "  'dataTypeName': 'number',\n",
       "  'fieldName': 'officecd',\n",
       "  'position': 5,\n",
       "  'renderTypeName': 'number',\n",
       "  'tableColumnId': 1518994,\n",
       "  'width': 196,\n",
       "  'cachedContents': {'non_null': 284,\n",
       "   'average': '4.700704225352113',\n",
       "   'largest': '5',\n",
       "   'null': 1,\n",
       "   'top': [{'item': '5', 'count': 20},\n",
       "    {'item': '1', 'count': 19},\n",
       "    {'item': '3', 'count': 18},\n",
       "    {'item': '4', 'count': 17},\n",
       "    {'item': '2', 'count': 16}],\n",
       "   'smallest': '1',\n",
       "   'sum': '1335'},\n",
       "  'format': {}},\n",
       " {'id': 75768837,\n",
       "  'name': 'OFFICEBORO',\n",
       "  'dataTypeName': 'text',\n",
       "  'fieldName': 'officeboro',\n",
       "  'position': 6,\n",
       "  'renderTypeName': 'text',\n",
       "  'tableColumnId': 1518995,\n",
       "  'width': 220,\n",
       "  'cachedContents': {'non_null': 21,\n",
       "   'largest': 'X',\n",
       "   'null': 264,\n",
       "   'top': [{'item': 'OFFICEBORO', 'count': 20},\n",
       "    {'item': 'X', 'count': 19},\n",
       "    {'item': 'M', 'count': 18},\n",
       "    {'item': 'K', 'count': 17},\n",
       "    {'item': 'Q', 'count': 16},\n",
       "    {'item': 'S', 'count': 15}],\n",
       "   'smallest': 'K'},\n",
       "  'format': {}},\n",
       " {'id': 75768838,\n",
       "  'name': 'OFFICEDIST',\n",
       "  'dataTypeName': 'number',\n",
       "  'fieldName': 'officedist',\n",
       "  'position': 7,\n",
       "  'renderTypeName': 'number',\n",
       "  'tableColumnId': 1518996,\n",
       "  'width': 220,\n",
       "  'cachedContents': {'non_null': 245,\n",
       "   'average': '26.33061224489796',\n",
       "   'largest': '51',\n",
       "   'null': 40,\n",
       "   'top': [{'item': '7', 'count': 20},\n",
       "    {'item': '32', 'count': 19},\n",
       "    {'item': '37', 'count': 18},\n",
       "    {'item': '28', 'count': 17},\n",
       "    {'item': '19', 'count': 16},\n",
       "    {'item': '39', 'count': 15},\n",
       "    {'item': '35', 'count': 14},\n",
       "    {'item': '42', 'count': 13},\n",
       "    {'item': '31', 'count': 12},\n",
       "    {'item': '6', 'count': 11},\n",
       "    {'item': '47', 'count': 10},\n",
       "    {'item': '20', 'count': 9},\n",
       "    {'item': '1', 'count': 8},\n",
       "    {'item': '27', 'count': 7},\n",
       "    {'item': '26', 'count': 6},\n",
       "    {'item': '10', 'count': 5},\n",
       "    {'item': '34', 'count': 4},\n",
       "    {'item': '45', 'count': 3},\n",
       "    {'item': '40', 'count': 2},\n",
       "    {'item': '12', 'count': 1}],\n",
       "   'smallest': '1',\n",
       "   'sum': '6451'},\n",
       "  'format': {}},\n",
       " {'id': 75768839,\n",
       "  'name': 'CANCLASS',\n",
       "  'dataTypeName': 'text',\n",
       "  'fieldName': 'canclass',\n",
       "  'position': 8,\n",
       "  'renderTypeName': 'text',\n",
       "  'tableColumnId': 1518997,\n",
       "  'width': 196,\n",
       "  'cachedContents': {'non_null': 285,\n",
       "   'largest': 'P',\n",
       "   'null': 0,\n",
       "   'top': [{'item': 'CANCLASS', 'count': 20}, {'item': 'P', 'count': 19}],\n",
       "   'smallest': 'CANCLASS'},\n",
       "  'format': {}},\n",
       " {'id': 75768840,\n",
       "  'name': 'PRIMARYPAY',\n",
       "  'dataTypeName': 'number',\n",
       "  'fieldName': 'primarypay',\n",
       "  'position': 9,\n",
       "  'renderTypeName': 'number',\n",
       "  'tableColumnId': 1518998,\n",
       "  'width': 220,\n",
       "  'cachedContents': {'non_null': 284,\n",
       "   'average': '112243.9612676056',\n",
       "   'largest': '2846148.00',\n",
       "   'null': 1,\n",
       "   'top': [{'item': '75350.00', 'count': 20},\n",
       "    {'item': '0', 'count': 19},\n",
       "    {'item': '91333.00', 'count': 18},\n",
       "    {'item': '69780.00', 'count': 17},\n",
       "    {'item': '22172.00', 'count': 16},\n",
       "    {'item': '65356.00', 'count': 15},\n",
       "    {'item': '11423.00', 'count': 14},\n",
       "    {'item': '60152.00', 'count': 13},\n",
       "    {'item': '75040.00', 'count': 12},\n",
       "    {'item': '62436.00', 'count': 11},\n",
       "    {'item': '42075.00', 'count': 10},\n",
       "    {'item': '74920.00', 'count': 9},\n",
       "    {'item': '38088.00', 'count': 8},\n",
       "    {'item': '74850.00', 'count': 7},\n",
       "    {'item': '89502.00', 'count': 6},\n",
       "    {'item': '74350.00', 'count': 5},\n",
       "    {'item': '58348.00', 'count': 4},\n",
       "    {'item': '55100.00', 'count': 3},\n",
       "    {'item': '508893.00', 'count': 2},\n",
       "    {'item': '74750.00', 'count': 1}],\n",
       "   'smallest': '0',\n",
       "   'sum': '31877285.00'},\n",
       "  'format': {}},\n",
       " {'id': 75768841,\n",
       "  'name': 'GENERALPAY',\n",
       "  'dataTypeName': 'number',\n",
       "  'fieldName': 'generalpay',\n",
       "  'position': 10,\n",
       "  'renderTypeName': 'number',\n",
       "  'tableColumnId': 1518999,\n",
       "  'width': 220,\n",
       "  'cachedContents': {'non_null': 284,\n",
       "   'average': '28753.57394366197',\n",
       "   'largest': '976545.00',\n",
       "   'null': 1,\n",
       "   'top': [{'item': '0', 'count': 20},\n",
       "    {'item': '75350.00', 'count': 19},\n",
       "    {'item': '201131.00', 'count': 18},\n",
       "    {'item': '39760.00', 'count': 17},\n",
       "    {'item': '57796.00', 'count': 16},\n",
       "    {'item': '75200.00', 'count': 15},\n",
       "    {'item': '68234.00', 'count': 14},\n",
       "    {'item': '5732.00', 'count': 13},\n",
       "    {'item': '58488.00', 'count': 12},\n",
       "    {'item': '62184.00', 'count': 11},\n",
       "    {'item': '44748.00', 'count': 10},\n",
       "    {'item': '21946.00', 'count': 9},\n",
       "    {'item': '70500.00', 'count': 8}],\n",
       "   'smallest': '0',\n",
       "   'sum': '8166015.00'},\n",
       "  'format': {}},\n",
       " {'id': 75768842,\n",
       "  'name': 'RUNOFFPAY',\n",
       "  'dataTypeName': 'number',\n",
       "  'fieldName': 'runoffpay',\n",
       "  'position': 11,\n",
       "  'renderTypeName': 'number',\n",
       "  'tableColumnId': 1519000,\n",
       "  'width': 208,\n",
       "  'cachedContents': {'non_null': 284,\n",
       "   'average': '7776.778169014085',\n",
       "   'largest': '711537.00',\n",
       "   'null': 1,\n",
       "   'top': [{'item': '0', 'count': 20},\n",
       "    {'item': '267331.00', 'count': 19},\n",
       "    {'item': '574387.00', 'count': 18},\n",
       "    {'item': '303270.00', 'count': 17},\n",
       "    {'item': '711537.00', 'count': 16},\n",
       "    {'item': '114407.00', 'count': 15},\n",
       "    {'item': '237673.00', 'count': 14}],\n",
       "   'smallest': '0',\n",
       "   'sum': '2208605.00'},\n",
       "  'format': {}},\n",
       " {'id': 75768843,\n",
       "  'name': 'TOTALPAY',\n",
       "  'dataTypeName': 'number',\n",
       "  'fieldName': 'totalpay',\n",
       "  'position': 12,\n",
       "  'renderTypeName': 'number',\n",
       "  'tableColumnId': 1519001,\n",
       "  'width': 196,\n",
       "  'cachedContents': {'non_null': 284,\n",
       "   'average': '148774.3133802817',\n",
       "   'largest': '4534230.00',\n",
       "   'null': 1,\n",
       "   'top': [{'item': '0', 'count': 20},\n",
       "    {'item': '75350.00', 'count': 19},\n",
       "    {'item': '150700.00', 'count': 18},\n",
       "    {'item': '2458534.00', 'count': 17},\n",
       "    {'item': '133146.00', 'count': 16},\n",
       "    {'item': '75200.00', 'count': 15},\n",
       "    {'item': '68234.00', 'count': 14},\n",
       "    {'item': '70664.00', 'count': 13},\n",
       "    {'item': '58488.00', 'count': 12},\n",
       "    {'item': '50112.00', 'count': 11},\n",
       "    {'item': '62184.00', 'count': 10},\n",
       "    {'item': '44748.00', 'count': 9},\n",
       "    {'item': '21946.00', 'count': 8},\n",
       "    {'item': '41656.00', 'count': 7},\n",
       "    {'item': '61260.00', 'count': 6},\n",
       "    {'item': '145850.00', 'count': 5},\n",
       "    {'item': '35808.00', 'count': 4},\n",
       "    {'item': '12172.00', 'count': 3}],\n",
       "   'smallest': '0',\n",
       "   'sum': '42251905.00'},\n",
       "  'format': {}}]"
      ]
     },
     "execution_count": 26,
     "metadata": {},
     "output_type": "execute_result"
    }
   ],
   "source": [
    "data['meta']['view']['columns']"
   ]
  },
  {
   "cell_type": "markdown",
   "metadata": {},
   "source": [
    "### Create a DataFrame from your json data\n",
    "The previous two questions previewed one entry from the data object within the json file, as well as the column details associated with that data from the meta entry within the json file. Both should have 19 entries. Create a DataFrame of the data. Be sure to use the information from the meta entry to add appropriate column names to your DataFrame."
   ]
  },
  {
   "cell_type": "code",
   "execution_count": 27,
   "metadata": {},
   "outputs": [
    {
     "data": {
      "text/html": [
       "<div>\n",
       "<style scoped>\n",
       "    .dataframe tbody tr th:only-of-type {\n",
       "        vertical-align: middle;\n",
       "    }\n",
       "\n",
       "    .dataframe tbody tr th {\n",
       "        vertical-align: top;\n",
       "    }\n",
       "\n",
       "    .dataframe thead th {\n",
       "        text-align: right;\n",
       "    }\n",
       "</style>\n",
       "<table border=\"1\" class=\"dataframe\">\n",
       "  <thead>\n",
       "    <tr style=\"text-align: right;\">\n",
       "      <th></th>\n",
       "      <th>sid</th>\n",
       "      <th>id</th>\n",
       "      <th>position</th>\n",
       "      <th>created_at</th>\n",
       "      <th>created_meta</th>\n",
       "      <th>updated_at</th>\n",
       "      <th>updated_meta</th>\n",
       "      <th>meta</th>\n",
       "      <th>ELECTION</th>\n",
       "      <th>CANDID</th>\n",
       "      <th>CANDNAME</th>\n",
       "      <th>OFFICECD</th>\n",
       "      <th>OFFICEBORO</th>\n",
       "      <th>OFFICEDIST</th>\n",
       "      <th>CANCLASS</th>\n",
       "      <th>PRIMARYPAY</th>\n",
       "      <th>GENERALPAY</th>\n",
       "      <th>RUNOFFPAY</th>\n",
       "      <th>TOTALPAY</th>\n",
       "    </tr>\n",
       "  </thead>\n",
       "  <tbody>\n",
       "    <tr>\n",
       "      <th>0</th>\n",
       "      <td>1</td>\n",
       "      <td>E3E9CC9F-7443-43F6-94AF-B5A0F802DBA1</td>\n",
       "      <td>1</td>\n",
       "      <td>1315925633</td>\n",
       "      <td>392904</td>\n",
       "      <td>1315925633</td>\n",
       "      <td>392904</td>\n",
       "      <td>{\\n  \"invalidCells\" : {\\n    \"1519001\" : \"TOTA...</td>\n",
       "      <td>None</td>\n",
       "      <td>CANDID</td>\n",
       "      <td>CANDNAME</td>\n",
       "      <td>None</td>\n",
       "      <td>OFFICEBORO</td>\n",
       "      <td>None</td>\n",
       "      <td>CANCLASS</td>\n",
       "      <td>None</td>\n",
       "      <td>None</td>\n",
       "      <td>None</td>\n",
       "      <td>None</td>\n",
       "    </tr>\n",
       "    <tr>\n",
       "      <th>1</th>\n",
       "      <td>2</td>\n",
       "      <td>9D257416-581A-4C42-85CC-B6EAD9DED97F</td>\n",
       "      <td>2</td>\n",
       "      <td>1315925633</td>\n",
       "      <td>392904</td>\n",
       "      <td>1315925633</td>\n",
       "      <td>392904</td>\n",
       "      <td>{\\n}</td>\n",
       "      <td>2001</td>\n",
       "      <td>B4</td>\n",
       "      <td>Aboulafia, Sandy</td>\n",
       "      <td>5</td>\n",
       "      <td>None</td>\n",
       "      <td>44</td>\n",
       "      <td>P</td>\n",
       "      <td>45410.00</td>\n",
       "      <td>0</td>\n",
       "      <td>0</td>\n",
       "      <td>45410.00</td>\n",
       "    </tr>\n",
       "    <tr>\n",
       "      <th>2</th>\n",
       "      <td>3</td>\n",
       "      <td>B80D7891-93CF-49E8-86E8-182B618E68F2</td>\n",
       "      <td>3</td>\n",
       "      <td>1315925633</td>\n",
       "      <td>392904</td>\n",
       "      <td>1315925633</td>\n",
       "      <td>392904</td>\n",
       "      <td>{\\n}</td>\n",
       "      <td>2001</td>\n",
       "      <td>445</td>\n",
       "      <td>Adams, Jackie R</td>\n",
       "      <td>5</td>\n",
       "      <td>None</td>\n",
       "      <td>7</td>\n",
       "      <td>P</td>\n",
       "      <td>11073.00</td>\n",
       "      <td>0</td>\n",
       "      <td>0</td>\n",
       "      <td>11073.00</td>\n",
       "    </tr>\n",
       "    <tr>\n",
       "      <th>3</th>\n",
       "      <td>4</td>\n",
       "      <td>BB012003-78F5-406D-8A87-7FF8A425EE3F</td>\n",
       "      <td>4</td>\n",
       "      <td>1315925633</td>\n",
       "      <td>392904</td>\n",
       "      <td>1315925633</td>\n",
       "      <td>392904</td>\n",
       "      <td>{\\n}</td>\n",
       "      <td>2001</td>\n",
       "      <td>HF</td>\n",
       "      <td>Addabbo, Joseph P</td>\n",
       "      <td>5</td>\n",
       "      <td>None</td>\n",
       "      <td>32</td>\n",
       "      <td>P</td>\n",
       "      <td>75350.00</td>\n",
       "      <td>73970.00</td>\n",
       "      <td>0</td>\n",
       "      <td>149320.00</td>\n",
       "    </tr>\n",
       "    <tr>\n",
       "      <th>4</th>\n",
       "      <td>5</td>\n",
       "      <td>945825F9-2F5D-47C2-A16B-75B93E61E1AD</td>\n",
       "      <td>5</td>\n",
       "      <td>1315925633</td>\n",
       "      <td>392904</td>\n",
       "      <td>1315925633</td>\n",
       "      <td>392904</td>\n",
       "      <td>{\\n}</td>\n",
       "      <td>2001</td>\n",
       "      <td>IR</td>\n",
       "      <td>Alamo-Estrada, Agustin</td>\n",
       "      <td>5</td>\n",
       "      <td>None</td>\n",
       "      <td>14</td>\n",
       "      <td>P</td>\n",
       "      <td>25000.00</td>\n",
       "      <td>2400.00</td>\n",
       "      <td>0</td>\n",
       "      <td>27400.00</td>\n",
       "    </tr>\n",
       "  </tbody>\n",
       "</table>\n",
       "</div>"
      ],
      "text/plain": [
       "   sid                                    id  position  created_at  \\\n",
       "0    1  E3E9CC9F-7443-43F6-94AF-B5A0F802DBA1         1  1315925633   \n",
       "1    2  9D257416-581A-4C42-85CC-B6EAD9DED97F         2  1315925633   \n",
       "2    3  B80D7891-93CF-49E8-86E8-182B618E68F2         3  1315925633   \n",
       "3    4  BB012003-78F5-406D-8A87-7FF8A425EE3F         4  1315925633   \n",
       "4    5  945825F9-2F5D-47C2-A16B-75B93E61E1AD         5  1315925633   \n",
       "\n",
       "  created_meta  updated_at updated_meta  \\\n",
       "0       392904  1315925633       392904   \n",
       "1       392904  1315925633       392904   \n",
       "2       392904  1315925633       392904   \n",
       "3       392904  1315925633       392904   \n",
       "4       392904  1315925633       392904   \n",
       "\n",
       "                                                meta ELECTION  CANDID  \\\n",
       "0  {\\n  \"invalidCells\" : {\\n    \"1519001\" : \"TOTA...     None  CANDID   \n",
       "1                                               {\\n}     2001      B4   \n",
       "2                                               {\\n}     2001     445   \n",
       "3                                               {\\n}     2001      HF   \n",
       "4                                               {\\n}     2001      IR   \n",
       "\n",
       "                 CANDNAME OFFICECD  OFFICEBORO OFFICEDIST  CANCLASS  \\\n",
       "0                CANDNAME     None  OFFICEBORO       None  CANCLASS   \n",
       "1        Aboulafia, Sandy        5        None         44         P   \n",
       "2         Adams, Jackie R        5        None          7         P   \n",
       "3       Addabbo, Joseph P        5        None         32         P   \n",
       "4  Alamo-Estrada, Agustin        5        None         14         P   \n",
       "\n",
       "  PRIMARYPAY GENERALPAY RUNOFFPAY   TOTALPAY  \n",
       "0       None       None      None       None  \n",
       "1   45410.00          0         0   45410.00  \n",
       "2   11073.00          0         0   11073.00  \n",
       "3   75350.00   73970.00         0  149320.00  \n",
       "4   25000.00    2400.00         0   27400.00  "
      ]
     },
     "execution_count": 27,
     "metadata": {},
     "output_type": "execute_result"
    }
   ],
   "source": [
    "#Your code here\n",
    "df = pd.DataFrame(data['data'])\n",
    "cols = [i['name'] for i in data['meta']['view']['columns']]\n",
    "df.columns = cols\n",
    "df.head()"
   ]
  },
  {
   "cell_type": "markdown",
   "metadata": {},
   "source": [
    "### What's wrong with the first row of the DataFrame?"
   ]
  },
  {
   "cell_type": "code",
   "execution_count": 28,
   "metadata": {},
   "outputs": [
    {
     "data": {
      "text/plain": [
       "'{\\n  \"invalidCells\" : {\\n    \"1519001\" : \"TOTALPAY\",\\n    \"1518998\" : \"PRIMARYPAY\",\\n    \"1519000\" : \"RUNOFFPAY\",\\n    \"1518999\" : \"GENERALPAY\",\\n    \"1518994\" : \"OFFICECD\",\\n    \"1518996\" : \"OFFICEDIST\",\\n    \"1518991\" : \"ELECTION\"\\n  }\\n}'"
      ]
     },
     "execution_count": 28,
     "metadata": {},
     "output_type": "execute_result"
    }
   ],
   "source": [
    "#Your code here\n",
    "df.meta.iloc[0]"
   ]
  },
  {
   "cell_type": "markdown",
   "metadata": {},
   "source": [
    "#Your answer here"
   ]
  },
  {
   "cell_type": "markdown",
   "metadata": {},
   "source": [
    "## Summary\n",
    "\n",
    "Congratulations! You've started exploring some more complicated data structures used for the web and got to practice data munging and exploring!"
   ]
  }
 ],
 "metadata": {
  "kernelspec": {
   "display_name": "learn-env",
   "language": "python",
   "name": "learn-env"
  },
  "language_info": {
   "codemirror_mode": {
    "name": "ipython",
    "version": 3
   },
   "file_extension": ".py",
   "mimetype": "text/x-python",
   "name": "python",
   "nbconvert_exporter": "python",
   "pygments_lexer": "ipython3",
   "version": "3.6.6"
  }
 },
 "nbformat": 4,
 "nbformat_minor": 2
}
