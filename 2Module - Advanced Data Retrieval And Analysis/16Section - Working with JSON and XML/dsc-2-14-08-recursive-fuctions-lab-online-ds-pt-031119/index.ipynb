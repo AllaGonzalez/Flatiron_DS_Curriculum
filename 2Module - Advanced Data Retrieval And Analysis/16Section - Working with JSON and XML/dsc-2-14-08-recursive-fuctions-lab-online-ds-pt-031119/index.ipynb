{
 "cells": [
  {
   "cell_type": "markdown",
   "metadata": {},
   "source": [
    "# Recursive Functions - Lab"
   ]
  },
  {
   "cell_type": "markdown",
   "metadata": {},
   "source": [
    "## Introduction\n",
    "\n",
    "Now that you've seen a little preview of recursive functions, it's time to give them a try!"
   ]
  },
  {
   "cell_type": "markdown",
   "metadata": {},
   "source": [
    "## Objectives\n",
    "You will be able to:\n",
    "* Understand and use the concept of a recursive function \n",
    "* Understand scope in the context of recursive functions\n",
    "* Understand and compare depth first versus breadth first searches"
   ]
  },
  {
   "cell_type": "markdown",
   "metadata": {},
   "source": [
    "## Fibonacci\n",
    "\n",
    "The Fibonacci sequence starts off:\n",
    "1,1,2,3,5,8,13,21,34,...\n",
    "\n",
    "Each number is the sum of the two preceding. Write a recursive function that calculates the nth number of the Fibonacci sequence. For example, our sequence above would correspond to:\n",
    "\n",
    "fib(1) = 1 #The 1st element in the sequence is 1\n",
    "fib(2) = 1 #The 2nd element in the sequence is 1\n",
    "fib(3) = 2 #The 3rd element in the sequence is 2\n",
    "fib(4) = 3 #The 4th element in the sequence is 3\n",
    "fib(5) = 5 #The 5th element in the sequence is 5\n",
    "fib(6) = 8 #The 6th element in the sequence is 8\n",
    "fib(7) = 13 #The 7th element in the sequence is 13\n",
    "fib(8) = 21 #The 8th element in the sequence is 21\n",
    "fib(9) = 34 #The 9th element in the sequence is 34"
   ]
  },
  {
   "cell_type": "code",
   "execution_count": 1,
   "metadata": {},
   "outputs": [],
   "source": [
    "#Your code here\n",
    "def fib(n):\n",
    "    if n < 1:\n",
    "        return \"N must be an integer greater then 1\"\n",
    "    elif n in [1,2]:\n",
    "            return 1\n",
    "    else:\n",
    "        return fib(n-1) + fib(n-2)"
   ]
  },
  {
   "cell_type": "code",
   "execution_count": 3,
   "metadata": {},
   "outputs": [
    {
     "name": "stdout",
     "output_type": "stream",
     "text": [
      "1\n",
      "1\n",
      "2\n",
      "3\n",
      "5\n",
      "8\n",
      "13\n",
      "21\n",
      "34\n"
     ]
    }
   ],
   "source": [
    "for i in range(1, 10):\n",
    "    print(fib(i))"
   ]
  },
  {
   "cell_type": "markdown",
   "metadata": {},
   "source": [
    "## Flat List\n",
    "\n",
    "Write a function that takes a nested list and flattens it to a list of ints, floats and strings.\n",
    "For example the nested list [1,[2,3[4,5,6]], 7, [8], [9,10]] would become [1,2,3,4,5,6,7,8,9,10] or \n",
    "[1,2[3,4,[5]]] would become [1,2,3,4,5]."
   ]
  },
  {
   "cell_type": "code",
   "execution_count": 4,
   "metadata": {},
   "outputs": [
    {
     "name": "stdout",
     "output_type": "stream",
     "text": [
      "Current L: [1, [2, 3, [4, 5, 6]], 7, [8], [9, 10]]\n",
      "Current L: [2, 3, [4, 5, 6]]\n",
      "Current L: [4, 5, 6]\n",
      "Current L: [8]\n",
      "Current L: [9, 10]\n"
     ]
    },
    {
     "data": {
      "text/plain": [
       "[1, 2, 3, 4, 5, 6, 7, 8, 9, 10]"
      ]
     },
     "execution_count": 4,
     "metadata": {},
     "output_type": "execute_result"
    }
   ],
   "source": [
    "#Your code here\n",
    "def flat_list(L, result=[]):\n",
    "    print('Current L:', L) #Optional, to display process\n",
    "    for i in L:\n",
    "        if type(i) == list:\n",
    "            flat_list(i, result)\n",
    "        else:\n",
    "            result.append(i)\n",
    "    return result\n",
    "L = [1,[2,3,[4,5,6]], 7, [8], [9,10]]\n",
    "flat_list(L)"
   ]
  },
  {
   "cell_type": "markdown",
   "metadata": {},
   "source": [
    "## Depth vs Breadth First Search\n",
    "\n",
    "Did you use breadth or depth first recursive calls above? Explain."
   ]
  },
  {
   "cell_type": "code",
   "execution_count": null,
   "metadata": {},
   "outputs": [],
   "source": [
    "#Your answer here\n",
    "Depth"
   ]
  },
  {
   "cell_type": "markdown",
   "metadata": {},
   "source": [
    "## Summary\n",
    "Well done! Recursive functions are an advanced topic in Python and you got some good practice tackling classic problems here."
   ]
  }
 ],
 "metadata": {
  "kernelspec": {
   "display_name": "learn-env",
   "language": "python",
   "name": "learn-env"
  },
  "language_info": {
   "codemirror_mode": {
    "name": "ipython",
    "version": 3
   },
   "file_extension": ".py",
   "mimetype": "text/x-python",
   "name": "python",
   "nbconvert_exporter": "python",
   "pygments_lexer": "ipython3",
   "version": "3.6.6"
  }
 },
 "nbformat": 4,
 "nbformat_minor": 2
}
