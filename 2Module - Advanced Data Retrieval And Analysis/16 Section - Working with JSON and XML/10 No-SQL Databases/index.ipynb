{
 "cells": [
  {
   "cell_type": "markdown",
   "metadata": {},
   "source": [
    "# No-SQL Databases"
   ]
  },
  {
   "cell_type": "markdown",
   "metadata": {},
   "source": [
    "## Introduction\n",
    "SQL, is by far the most common database language. It is known as a relational database and is organized into a series of tables, as we have seen. While less common, there are also a number of alternatives to SQL and relational databases. Some of the ones we'll discuss here include:\n",
    "* MongoDB\n",
    "* Cassandra\n",
    "* Neo4j\n",
    "* graphql\n",
    "* Hadoop"
   ]
  },
  {
   "cell_type": "markdown",
   "metadata": {},
   "source": [
    "## Objectives\n",
    "You will be able to:\n",
    "* Compare and contrast SQL and NoSQL databases, including their strengths and weaknesses\n",
    "* Identify use cases where NoSQL may be more appropriate than SQL databases"
   ]
  },
  {
   "cell_type": "markdown",
   "metadata": {},
   "source": [
    "## Relational Databases\n",
    "\n",
    "As discussed, most databases are SQL databases, which is a type of relational database. Relational databases store data as tables which can be combined using keys between those tables."
   ]
  },
  {
   "cell_type": "markdown",
   "metadata": {},
   "source": [
    "### SQL \n",
    "\n",
    "There are many different SQL implementations including:\n",
    "    * MySQL\n",
    "    * PostgreSQL\n",
    "    * SQLite\n",
    "    * Oracle\n",
    "    * Microsoft SQL Server\n",
    "    * Microsoft Azure SQL"
   ]
  },
  {
   "cell_type": "markdown",
   "metadata": {},
   "source": [
    "## Key - Value Databases\n",
    "\n",
    "Key value databases, are one of the most simplistic database systems, simply storing data as key-value pairs, just like python dictionaries. The most common implementation is Redis."
   ]
  },
  {
   "cell_type": "markdown",
   "metadata": {},
   "source": [
    "### Redis\n",
    "Initial release: 2009\n",
    "\n",
    "Redis has been used by large companies including github and instagram. It is by far the most common key-value database."
   ]
  },
  {
   "cell_type": "markdown",
   "metadata": {},
   "source": [
    "## Document Model Databases\n",
    "\n",
    "Document model databases are a subclass of key-value databases. The initial concept is of documents such as json or xml. The database stores these documents using key-value pairs. However, unlike key-value databases, document model databases have the additional ability to access information within these documents directly."
   ]
  },
  {
   "cell_type": "markdown",
   "metadata": {},
   "source": [
    "### MongoDB\n",
    "Initial release: 2009\n",
    "\n",
    "\n",
    "MongoDB is one of the most popular sql alternatives. It represents data very similar to the JSON format we have been investigating today. It also supports a distributed model where data can be stored across multiple computers."
   ]
  },
  {
   "cell_type": "markdown",
   "metadata": {},
   "source": [
    "## Wide Column Databases\n",
    "\n",
    "Wide column databases can be thought of as tables where the data in each column can vary from row to row. "
   ]
  },
  {
   "cell_type": "markdown",
   "metadata": {},
   "source": [
    "### Cassandra\n",
    "Initial release: 2008\n",
    "\n",
    "Cassandra was initially developed internally at Facebook and was later released as an open source software, eventually being picked up and maintained by the Apache Foundation. It was developed for handling large amounts of data to be distrubted across multiple servers. It is notable for being particualrly reliable and not having a single failure point."
   ]
  },
  {
   "cell_type": "markdown",
   "metadata": {},
   "source": [
    "## Graph Databases\n",
    "\n",
    "Graph databases expand upon the idea of document databases, adding in the concept of relations between documents. This makes certain operations and mappings such as connectivity of the graph of data very easy. However, individual data nodes may not be indexed which can mean that they are not directly accessible on their own but must be accessed via their relationship to more central objects."
   ]
  },
  {
   "cell_type": "markdown",
   "metadata": {},
   "source": [
    "### Neo4j\n",
    "Initial release: 2007\n",
    "\n",
    "Neo4j is probably the most popular graph database. It stores all its data as nodes, edges or attributes."
   ]
  },
  {
   "cell_type": "markdown",
   "metadata": {},
   "source": [
    "### GraphQL\n",
    "Initial release: 2015\n",
    "\n",
    "GraphQL was developed internally at Facebook and allows users to define specific data structures when requesting data from servers. "
   ]
  },
  {
   "cell_type": "markdown",
   "metadata": {},
   "source": [
    "## Choosing an Appropriate Database\n",
    "\n",
    "There are many consideration when choosing a database including the size of the project, anticipated use cases, and development costs. One obvious and straightforward consideration is training and familiarity. This contributes to the popularity of SQL. Size and use cases are also incredibly imporatant considerations. For personal projects or small businesses, you may not even need a database and can perhaps simply use a csv or json file. As data grows, a database management system is often needed. Until scale continues to grow, any of these choices could meet needs. One of the biggest drawbacks of relational databases such as sql is that they don't scale well horizontally (such as adding columns). In such scenarios, some of the alternative models provide more computationally effective solutions at scale."
   ]
  },
  {
   "cell_type": "markdown",
   "metadata": {},
   "source": [
    "## Additional Resources \n",
    "\n",
    "Check out https://db-engines.com/en/ranking for a ranking of various databases as well as much more information about them!"
   ]
  },
  {
   "cell_type": "markdown",
   "metadata": {},
   "source": [
    "## Summary\n",
    "In this lesson we reviewed database systems, covering some of the most popular implementations of several types."
   ]
  }
 ],
 "metadata": {
  "kernelspec": {
   "display_name": "Python 3",
   "language": "python",
   "name": "python3"
  },
  "language_info": {
   "codemirror_mode": {
    "name": "ipython",
    "version": 3
   },
   "file_extension": ".py",
   "mimetype": "text/x-python",
   "name": "python",
   "nbconvert_exporter": "python",
   "pygments_lexer": "ipython3",
   "version": "3.6.4"
  }
 },
 "nbformat": 4,
 "nbformat_minor": 2
}
