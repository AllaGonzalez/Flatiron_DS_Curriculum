{
 "cells": [
  {
   "cell_type": "markdown",
   "metadata": {},
   "source": [
    "# Partitioning and Law of Total Probability"
   ]
  },
  {
   "cell_type": "markdown",
   "metadata": {},
   "source": [
    "## Introduction \n",
    "In this lesson, we'll look at the law of total probability. In probability theory, the law (or formula) of total probability is a fundamental rule relating **marginal probabilities** to conditional probabilities. It expresses the total probability of an outcome which can be realized via several distinct events.\n",
    "\n",
    "## Objectives\n",
    "You will be able to:\n",
    "* Understand and explain the concept of event space and partitioning \n",
    "* State the law of total probabilities based on a partitioned event space\n",
    "* Understand and able to perform partitioning based on known and unknown probabilities to solve a problem\n",
    "* Understand and describe conditional independence"
   ]
  },
  {
   "cell_type": "markdown",
   "metadata": {},
   "source": [
    "## Partitioning a Sample Space\n",
    "\n",
    "the Law of Total Probability can be used to calculate $P(B)$. The law requires that you have a set of disjoint events $A_i$ that collectively \"cover\" the event $B$. Then, instead of calculating $P(B)$ directly, you add up the intersection of $B$ with each of the events $A_i$. Let's see this graphically below:"
   ]
  },
  {
   "cell_type": "markdown",
   "metadata": {},
   "source": [
    "Let $A_1, A_2, \\dots, A_n$ partition sample space $S$ into disjoint regions that sum up to $S$. In the example, 4 regions of $A_1, A_2, A_3$ and $A_n$ sum up to sample space $S$.\n",
    "\n",
    "![](images/tp1.png)\n",
    "\n",
    "The probability of a random event $B$ (orange area) can be written down as:\n",
    "\n",
    "\\begin{align}\n",
    "    P(B) &= P(B \\cap A_1) + P(B \\cap A_2) + P(B \\cap A_3)+ P(B \\cap A_4) \\\\\n",
    "         &= P(B \\mid A_1)P(A_1) + P(B \\mid A_2)P(A_2) +P(B \\mid A_3)P(A_3)+ P(B \\mid A_4)P(A_4)\n",
    "\\end{align}\n",
    "\n",
    "Here we use the first theorem mentioned in the previous lesson to find the combined probabilities. \n",
    "\n"
   ]
  },
  {
   "cell_type": "markdown",
   "metadata": {},
   "source": [
    "### Example \n",
    "Let's use a simple example to clarify the image above! The example is created to match the image.\n",
    "\n",
    "In a certain country, there are four provinces (eg. disjoint regions) $A_1, A_2$, $A_3$ and $A_4$.\n",
    "\n",
    "You are interested in the total forest area in the country. \n",
    "\n",
    "Suppose that you know that the forest area in $A_1$, $A_2$, and $A_3$ are 100 km$^2$, 50 km$^2$, and 150 km$^2$, and 0 km$^2$ respectively. What is the total forest area in the country? \n",
    "\n",
    "100km$^2$ + 50km$^2$ + 150km$^2$+ 0 km$^2$ = 300 km$^2$\n",
    "\n",
    "We can simply add forest areas in each province to obtain the forest area in the whole country. \n",
    "\n",
    "If you want to formalize this in terms of the law of total probability, say:\n",
    "\n",
    "This is the idea behind the law of total probability, in which the area of forest is replaced by probability of an event $B$. In particular, if you want to find $P(B)$, you can look at a partition of $S$ (our sample space composed of $A_1,\\ldots, A_4$), and add the amount of probability of $A$ that falls in each partition. \n",
    "\n",
    "\n",
    "### Two Events \n",
    "\n",
    "In general, we can say that for any two events $A$ and $B$:\n",
    "\n",
    "$P(A)=P(A \\cap B)+P(A \\cap B')$\n",
    "\n",
    "and using the definition of conditional probability, $P(A \\cap B)=P(A \\mid B)P(B)$, we can write\n",
    "\n",
    "$P(A)=P(A \\mid B)P(B)+P(A \\mid B')P(B')$\n",
    "\n",
    "The law of total probability is basically a general version of this. \n",
    "\n",
    "\n",
    "## Law of Total Probability \n",
    "\n",
    "If B1,B2,B3,⋯ is a partition of the sample space S, then for any event A we have\n",
    "\n",
    "$$P(A)= \\sum_i P(A \\cap B_i)= \\sum_i P(A \\mid B_i)P(B_i)$$\n",
    "\n",
    "Using a Venn diagram, we can pictorially see the idea behind the law of total probability. In the figure below, we have\n",
    "\n",
    "* $A_1 = A \\cap B_1$\n",
    "* $A_2 = A \\cap B_2$\n",
    "* $A_3 = A \\cap B_3$\n",
    "\n",
    "<img src=\"images/ven1.png\" width=\"400\">\n",
    "\n",
    "As it can be seen from the figure, $A_1$, $A_2$, and $A_3$ form a partition of the set A, and thus \n",
    "\n",
    "$P(A)=P(A_1)+P(A_2)+P(A_3)$\n",
    "\n",
    "Here is a typical scenario in which we use the law of total probability. We are interested in finding the probability of an event $A$, but we don't know how to find P(A) directly. Instead, we know the conditional probability of $A$ given some events $B_i$, where the $B_i$'s form a partition of the sample space. This way, you can use $P(A)$ using the law of total probability\n",
    "\n",
    "$P(A)=\\sum_i P(A \\mid B_i)P(B_i)$\n"
   ]
  },
  {
   "cell_type": "markdown",
   "metadata": {},
   "source": [
    "## More on Partitions\n",
    "\n",
    "* The natural numbers $\\mathbb{N}$ can be partitioned into even and odd numbers. \n",
    "* The set of animal species in the world can be partitioned into subsets where a subset reflects a continent and each species is positioned in a subset depending on which continent they originated from. \n",
    "\n",
    "In statistics choosing the right partitioning is key as bad choices of partitions may results in many, even more difficult to solve sub-problems.\n",
    "\n",
    "![](images/tp2.png)\n",
    "\n",
    "The probability of $A$ can be written as sums of event $B$ (note that $B^c$ is abother way of writing $B'$) The total probability rule is:\n",
    "\n",
    "$P(A) = P(A \\cap B) + P(A \\cap B^c)$\n",
    "\n",
    "An alternate version of the total probability rule (found with the multiplication rule) can be used when the necessary probabilities are known  :\n",
    "\n",
    "$P(A \\cap B) = P(A \\mid B)  P(B) + P(A \\cap B^c) = P(A \\mid B^c)P(B^c)$\n",
    "\n",
    "You need to be careful when dealing with conditional probabilities and conditioning. Let's look at a few examples to see this idea in action. "
   ]
  },
  {
   "cell_type": "markdown",
   "metadata": {},
   "source": [
    "### Example 1\n",
    "In a certain county, $60\\%$ of registered voters are Republicans, $30\\%$ are Democrats and $10\\%$ are Independents.\n",
    "\n",
    "When those voters were asked about increasing military spending\n",
    "* $40\\%$ of Republicans opposed it\n",
    "* $65\\%$ of the Democrats opposed it\n",
    "* $55\\%$ of the Independents opposed it.\n",
    "\n",
    "What is the probability that a randomly selected voter in this county opposes increased military spending?"
   ]
  },
  {
   "cell_type": "markdown",
   "metadata": {},
   "source": [
    "You know that:\n",
    "\n",
    "* $\\Omega$ = {registered voters in the county}\n",
    "* $R$ = {registered republicans}, $P(R)$ = 0.6\n",
    "* $D$ = {registered democrats}, $P(D)$ = 0.3\n",
    "* $I$= {registered independents}, $P(I)$ = 0.1\n",
    "* $B$ = {registered voters opposing increased military spending}\n",
    "\n",
    "You also know that:\n",
    "\n",
    "* $P(B \\mid R) = 0.4 $\n",
    "* $P(B \\mid D) = 0.65$\n",
    "* $P(B \\mid I) = 0.55$\n",
    "\n",
    "By the total probability theorem:\n",
    "\n",
    "$Pr(B) = Pr(B \\mid R) Pr(R) + Pr(B \\mid D) Pr(D) + Pr(B \\mid I) Pr(I)$\n",
    "\n",
    "$= (0.4 * 0.6) + (0.65 * 0.3) + (0.55 * 0.1) = 0.49 $"
   ]
  },
  {
   "cell_type": "markdown",
   "metadata": {},
   "source": [
    "### Example 2 \n",
    "\n",
    "Let's consider a 2-card hand drawn from a standard playing deck. What is the probability of drawing 2 aces, given that we know one of the cards is an ace?\n",
    "\n",
    "$P(\\text{both are aces | one is ace}) = \\dfrac{P(\\text{both are aces})}{P(\\text{one is ace})} = \\dfrac{P(\\text{both are aces})}{1 - P(\\text{neither is ace})} =\\dfrac{\\binom{4}{2}/\\binom{52}{2}}{1 - \\binom{48}{2}/\\binom{52}{2}}=\\dfrac{1}{33}$\n",
    "\n",
    "But now think about this: What is the probability of drawing 2 aces, knowing that one of the cards __is the ace of spades__?\n",
    "\n",
    "$P(\\text{both are aces | ace of spades}) = P(\\text{other card is also an ace}) = \\dfrac{3}{51}= \\dfrac{1}{17}$\n",
    "\n",
    "_Notice how the fact that we know we have the ace of spades nearly doubles the probability of having 2 aces_"
   ]
  },
  {
   "cell_type": "markdown",
   "metadata": {},
   "source": [
    "### Example 3\n",
    "\n",
    "Suppose there is a test for a disease, and this test is said to be \"95% accurate\". The disease in question afflicts 1% of the population. Now say that there is a patient who tests positive for this disease under this test.\n",
    "\n",
    "First we define the events in question:\n",
    "\n",
    "Let $D$ be the event that the patient actually has the disease.\n",
    "\n",
    "Let $T$ be the event that the patient tests positive.\n",
    "\n",
    "Since that phrase \"95% accurate\" is ambiguous,  we need to clarify that.\n",
    "\n",
    "$P(T|D) = P(T^c|D^c) = 0.95$\n",
    "\n",
    "In other words, __conditioning on whether or not the patient has the disease__, we will assume that the test is 95% accurate.\n",
    "\n",
    "_What exactly are we trying to find?_\n",
    "\n",
    "What the patient really wants to know is not $P(T|D)$, which is the accuracy of the test; but rather $P(D|T)$, or the probability she has the disease given that the test returns positive. Fortunately, we know how $P(T|D)$ relates to $P(D|T)$.\n",
    "\n",
    "\\begin{align}\n",
    "    P(D|T) &= \\frac{P(T|D)P(D)}{P(T)} ~~~~ & &\\text{... Bayes Rule} \\\\\n",
    "    &= \\frac{P(T|D)P(D)}{P(T|D)P(D) + P(T|D^c)P(D^c)} ~~~~ &  & \\text{... by the Law of Total Probability} \\\\\n",
    "    &= \\frac{(0.95)(0.01)}{(0.95)(0.01) + (0.05)(0.99)} ~~~~ & & \\text{... the rarity of the disease competes with the rarity of true negatives}\\\\\n",
    "    &\\approx 0.16\n",
    "\\end{align}"
   ]
  },
  {
   "cell_type": "markdown",
   "metadata": {},
   "source": [
    "## Common Pitfalls\n",
    "\n",
    "- Mistaking $P(A|B)$ for $P(B|A)$. \n",
    "\n",
    "This is also known as the [Prosecutor's Fallacy](https://en.wikipedia.org/wiki/Prosecutor%27s_fallacy), where instead of asking about the _probability of guilt (or innocence) given all the evidence_, we make the mistake of concerning ourselves with the _probability of the evidence given guilt_.\n",
    "\n",
    "\n",
    "- Confusing _prior_ $P(A)$ with _posterior_ $P(A \\mid B)$. \n",
    "\n",
    "Observing that event $A$ occurred does __not__ mean that $P(A) = 1$. But $P(A \\mid A) = 1$ and $P(A) \\neq 1$.\n",
    "\n",
    "\n",
    "- Confusing _independence_ with __conditional independence__. \n",
    "\n",
    "This is more subtle than the other two. Let's look at this in a bit more detail\n"
   ]
  },
  {
   "cell_type": "markdown",
   "metadata": {},
   "source": [
    "## Conditional Independence\n",
    "\n",
    "Events $A$ and $B$ are __conditionally independent__ given event $C$, if\n",
    "\n",
    "$P(A \\cap B \\mid C) = P(A \\mid C)P(B \\mid C)$\n",
    "\n",
    "i.e. conditioning on event $C$ does not give us any additional information on $A$ or $B$."
   ]
  },
  {
   "cell_type": "markdown",
   "metadata": {},
   "source": [
    "### Conditional independence given $C$ DOES NOT imply unconditional independence\n",
    "\n",
    "Consider playing a series of 5 games against a chess opponent of unknown strength. Winning all five games gives would give you a good idea that you are better player. So winning each successive game actually is providing us with information about the strength of our opponent. If you have prior knowledge about the strength of your opponent, you condition on the strength of our opponent i.e. Winning one game would not provide us with any additional information on the probability of winning the next. Having no prior knowledge of your opponent, and winning a string a games will give you information about the probability of winning the next game.\n",
    "\n",
    "The games are conditionally independent given the strength of our opponent, but **not** independent unconditionally."
   ]
  },
  {
   "cell_type": "markdown",
   "metadata": {},
   "source": [
    "### Unconditional independence DOES NOT imply conditional independence given $C$"
   ]
  },
  {
   "cell_type": "markdown",
   "metadata": {},
   "source": [
    "For example, lett $A$ be the event of the fire alarm going off, $F$ be the event of a fire and $C$ be the event of someone making popcorn. Suppose that either $F$ or $C$ will result in $A$ and the fire alarm going off. Now if $F$ and $C$ are independent: knowing that there's a fire $F$ doesn't tell me anything about anyone making popcorn $C$, and vice versa. But the probability of a fire given that the alarm goes off **and** no one is making any popcorn is given by  $P(F \\mid A,C^c) = 1$. After all, if the fire alarm goes off and no one is making popcorn, there can only be one explanation: _there must be a fire_.\n",
    "\n",
    "So $F$ and $C$ may be independent, but they are not _conditionally independent_ when we condition on event $A$. Knowing that nobody is making any popcorn when the alarm goes off can only mean that there is a fire."
   ]
  },
  {
   "cell_type": "markdown",
   "metadata": {},
   "source": [
    "## Additional Resources\n",
    "You are strongly advised to visit following links to get an indepth understanding with examples and proofs for formulas highlighted in this lesson. \n",
    "\n",
    "[The law of total probability - concept and proof](https://www.youtube.com/watch?v=J7Evcn4lfhc) - Excellent YouTube video by Phil Chan.\n",
    "\n",
    "[Conditional (Partitioned) Probability — A Primer](https://jeremykun.com/2013/03/28/conditional-partitioned-probability-a-primer/) - Deep dive into partitions (A Must read)\n",
    "\n",
    "[Law of Total Probability](https://www.sangakoo.com/en/unit/law-of-total-probability) - More examples for a deeper understanding around partitioning"
   ]
  },
  {
   "cell_type": "markdown",
   "metadata": {},
   "source": [
    "## Summary \n",
    "\n",
    "In this lesson, you further learned about the ideas of conditional probability covered in the previous lessons to explain the law of total probability using partitioning of the sample space. You learned how you can partition probabilities with respect to some other event, when the direct probabilities are not known. Let's move on to some practice!"
   ]
  }
 ],
 "metadata": {
  "kernelspec": {
   "display_name": "Python 3",
   "language": "python",
   "name": "python3"
  },
  "language_info": {
   "codemirror_mode": {
    "name": "ipython",
    "version": 3
   },
   "file_extension": ".py",
   "mimetype": "text/x-python",
   "name": "python",
   "nbconvert_exporter": "python",
   "pygments_lexer": "ipython3",
   "version": "3.6.4"
  }
 },
 "nbformat": 4,
 "nbformat_minor": 2
}
