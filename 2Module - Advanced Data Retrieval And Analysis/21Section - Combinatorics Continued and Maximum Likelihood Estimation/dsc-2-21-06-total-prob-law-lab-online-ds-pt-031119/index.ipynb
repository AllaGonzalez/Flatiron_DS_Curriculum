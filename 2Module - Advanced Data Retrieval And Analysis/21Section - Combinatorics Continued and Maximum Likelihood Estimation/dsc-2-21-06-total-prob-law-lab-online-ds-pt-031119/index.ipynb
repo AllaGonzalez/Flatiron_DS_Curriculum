{
 "cells": [
  {
   "cell_type": "markdown",
   "metadata": {},
   "source": [
    "# Partitioning and Law of Total Probabilities - Lab\n",
    "\n",
    "## Introduction \n",
    "In this lab, we shall look at the law of total probability. In probability theory, the law (or formula) of total probability is a fundamental rule relating **marginal probabilities** to conditional probabilities. It expresses the total probability of an outcome which can be realized via several distinct events, hence the name.\n",
    "\n",
    "## Objectives\n",
    "\n",
    "You will be able to:\n",
    "* Understand and explain the concept of event space and partitioning \n",
    "* State the law of total probabilities based on a partitioned event space\n",
    "* Understand and able to perform partitioning based on known and unknown probabilities to solve a problem"
   ]
  },
  {
   "cell_type": "markdown",
   "metadata": {},
   "source": [
    "## Exercise 1\n",
    "Suppose we have two hats: one has 4 red balls and 6 green balls, the other has 6 red and 4 green. We toss a fair coin, if heads, pick a random ball from the first hat, if tails from the second. \n",
    "\n",
    "What is the probability of getting a red ball?"
   ]
  },
  {
   "cell_type": "code",
   "execution_count": 5,
   "metadata": {},
   "outputs": [],
   "source": [
    "# Your solution"
   ]
  },
  {
   "cell_type": "markdown",
   "metadata": {},
   "source": [
    "## Exercise 2\n",
    "A soccer team wins 60% of its games when it scores the first goal, and 10% of its games when the opposing team \n",
    "scores first. \n",
    "\n",
    "If the team scores the first goal about 30% of the time, what fraction of the games does it win?"
   ]
  },
  {
   "cell_type": "code",
   "execution_count": 7,
   "metadata": {},
   "outputs": [],
   "source": [
    "# Your solution"
   ]
  },
  {
   "cell_type": "markdown",
   "metadata": {},
   "source": [
    "## Exercise 3"
   ]
  },
  {
   "cell_type": "markdown",
   "metadata": {},
   "source": [
    "In Europe, except for regular gas, cars regularly run on Diesel as well. At a gas station in Paris; \n",
    "\n",
    "\n",
    "* 40% of the customers fills up with Diesel (event G1) \n",
    "* 35% with gas \"Super 95\" (event G2)\n",
    "* 25% with gas \"Super 98\" (event G3). \n",
    "\n",
    "\n",
    "* 30% of the customers who buy Diesel fill their tank completely (event F). \n",
    "* For \"Super 95\" and \"Super 98\", these numbers are  60% and 50% respectively.\n",
    "\n",
    "\n",
    "- Compute the probability that the next customer completely fills their tank and buys Super 95. \n",
    "- Compute the probability that the next customer completely fills their tank\n",
    "- Given that the next customer fills their tank completely, compute the probability that they bought Diesel. \n",
    "\n",
    "Hint: Consult the theorems for conditional probability, check for dependence or independence of events"
   ]
  },
  {
   "cell_type": "code",
   "execution_count": 9,
   "metadata": {},
   "outputs": [],
   "source": [
    "# Your solution"
   ]
  },
  {
   "cell_type": "markdown",
   "metadata": {},
   "source": [
    "## Exercise 4"
   ]
  },
  {
   "cell_type": "markdown",
   "metadata": {},
   "source": [
    "United airlines operates flights from JFK to Amsterdam, to Brussels and to Copenhagen. As you might know, flights are overbooked fairly often. Let's denote the probability of the flight to Amsterdam being overbooked equal to 40%, the probability of the flight to Brussels being overbooked equal to 25%, and the probability of the flight to Copenhagen to be overbooked being equal to 35%. "
   ]
  },
  {
   "cell_type": "markdown",
   "metadata": {},
   "source": [
    "- Compute the probability that all the flights are overbooked.\n",
    "- Compute the probability of having at least one flight which is not overbooked.\n",
    "- Compute the probability that exactly one flight is overbooked.\n",
    "\n",
    "Hint: Consult the theorems for conditional probability, check for dependence or independence of events"
   ]
  },
  {
   "cell_type": "code",
   "execution_count": 13,
   "metadata": {},
   "outputs": [],
   "source": [
    "# Your solution"
   ]
  },
  {
   "cell_type": "markdown",
   "metadata": {},
   "source": [
    "## Exercise 5\n",
    "You have three bags that each contain 100 marbles:\n",
    "\n",
    "- Bag 1 has 75 red and 25 blue marbles;\n",
    "- Bag 2 has 60 red and 40 blue marbles;\n",
    "- Bag 3 has 45 red and 55 blue marbles.\n",
    "\n",
    "You choose one of the bags at random and then pick a marble from the chosen bag, also at random. \n",
    "\n",
    "What is the probability that the chosen marble is red?\n"
   ]
  },
  {
   "cell_type": "code",
   "execution_count": 17,
   "metadata": {},
   "outputs": [],
   "source": [
    "# Your solution"
   ]
  },
  {
   "cell_type": "markdown",
   "metadata": {},
   "source": [
    "## Summary \n",
    "\n",
    "In this lab we practiced around conditional probability and its theorem with some simple problems. The key takeaway from this lab is to to be able to identify random events as dependent or independent and calculating the probability of their occurrence using appropriate methods. Next we'll start focusing on the Bayes theorem, building on the knowledge we have thus far. "
   ]
  }
 ],
 "metadata": {
  "kernelspec": {
   "display_name": "Python 3",
   "language": "python",
   "name": "python3"
  },
  "language_info": {
   "codemirror_mode": {
    "name": "ipython",
    "version": 3
   },
   "file_extension": ".py",
   "mimetype": "text/x-python",
   "name": "python",
   "nbconvert_exporter": "python",
   "pygments_lexer": "ipython3",
   "version": "3.6.4"
  }
 },
 "nbformat": 4,
 "nbformat_minor": 2
}
