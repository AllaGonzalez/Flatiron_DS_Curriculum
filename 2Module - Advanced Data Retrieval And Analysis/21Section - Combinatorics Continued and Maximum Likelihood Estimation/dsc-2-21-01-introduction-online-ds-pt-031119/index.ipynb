{
 "cells": [
  {
   "cell_type": "markdown",
   "metadata": {},
   "source": [
    "# Introduction"
   ]
  },
  {
   "cell_type": "markdown",
   "metadata": {},
   "source": [
    "## Introduction\n",
    "This lesson summarizes the topics we'll be covering in section 21 and why they'll be important to you as a data scientist."
   ]
  },
  {
   "cell_type": "markdown",
   "metadata": {},
   "source": [
    "## Objectives\n",
    "You will be able to:\n",
    "* Understand and explain what is covered in this section\n",
    "* Understand and explain why the section will help you to become a data scientist"
   ]
  },
  {
   "cell_type": "markdown",
   "metadata": {},
   "source": [
    "## Combinatorics Continued and Maximum Likelihood Estimation\n",
    "\n",
    "In this section we'll be covering a number of additional statistical topics that are going to be important as we start to dig into the application of a range of additional machine learning models in modules 3 and 4.\n",
    "\n",
    "### Conditional Probability\n",
    "\n",
    "We start the section off with an introduction to conditional probability. We look at the difference between dependent and independent events, look at how to calculate dependent probabilities, and then introduce some key theorems related to conditional probabilities - the product rule, the chain rule and Bayes theorem.\n",
    "\n",
    "### Partitioning and the Law of Total Probabilities\n",
    "\n",
    "From there, we introduce the concept of partitioning a sample space, explain the law of total probabilities and then introduce the idea of conditional independence.\n",
    "\n",
    "### Bayes' Theorem\n",
    "\n",
    "Next up, we introduce Bayes' theorem - an incredibly powerful and widely used approach to determining the probability of something based upon the prior probability and the likelihood. We use the example of the \"Monty Hall problem\" to provide some practice with applying Bayes' theorem. \n",
    "\n",
    "### Maximum Likelihood Estimation (MLE)\n",
    "\n",
    "From Bayes' theorem we move onto MLE, explaining the idea of parametric inference for identifying optimal values for model parameters, the concept of likelihood (and it's difference from probability), and the common \"IID\" assumption on which MLE is based.\n",
    "\n",
    "### Maximum A Posteriori Estimation\n",
    "\n",
    "Next up we look at MAP - another technique for estimating a variable in the space of a probability distribution.\n",
    "\n",
    "### Conjugate Prior Distributions\n",
    "\n",
    "From there, we introduce the idea of a conjugate prior, justify the use of a beta prior distribuiton for Bernoulli experiments, and get an overview of the conjugate priors for a number of different data distributions.\n",
    "\n",
    "\n",
    "### Beyond Bayesians and Frequentists\n",
    "\n",
    "After a lab with some practice implementing Bayesian simulations for simple problems in Python, NumPy and Matplotlib, we then wrap up the section by asking you to read a non technical essay \"Beyond Bayesians and Frequentists\" by Dr Jacob Steinhardt. The goal is to help you to have a clearer understanding of the differences between frequentist and Bayesian approaches to statistics.\n",
    "\n"
   ]
  },
  {
   "cell_type": "markdown",
   "metadata": {},
   "source": [
    "## Summary\n",
    "\n",
    "This is another stats heavy section and some of the discrete problems you're solving may not seem to be particularly relevant to machine learning, but we deliberately introduce them so that you'll have the foundations required to be able to make thoughtful choices as we introduce you to a range of new machine learnign models in the later modules.  \n"
   ]
  }
 ],
 "metadata": {
  "kernelspec": {
   "display_name": "Python 3",
   "language": "python",
   "name": "python3"
  },
  "language_info": {
   "codemirror_mode": {
    "name": "ipython",
    "version": 3
   },
   "file_extension": ".py",
   "mimetype": "text/x-python",
   "name": "python",
   "nbconvert_exporter": "python",
   "pygments_lexer": "ipython3",
   "version": "3.6.6"
  }
 },
 "nbformat": 4,
 "nbformat_minor": 2
}
