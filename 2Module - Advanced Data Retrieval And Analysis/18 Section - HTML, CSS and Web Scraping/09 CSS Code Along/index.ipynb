{
 "cells": [
  {
   "cell_type": "markdown",
   "metadata": {},
   "source": [
    "# CSS Code Along"
   ]
  },
  {
   "cell_type": "markdown",
   "metadata": {},
   "source": [
    "## Introduction\n",
    "It's time to see some CSS code in action. [Codepen][] is a great tool to easily test HTML and CSS code and it's what we will use for our example."
   ]
  },
  {
   "cell_type": "markdown",
   "metadata": {},
   "source": [
    "## Objectives\n",
    "You will be able to:\n",
    "* Use Codepen to preview and modify HTML and CSS files\n",
    "* Uncomment CSS code"
   ]
  },
  {
   "cell_type": "markdown",
   "metadata": {},
   "source": [
    "## Code Example HTML Structure\n",
    "\n",
    "This [Pen][] (saved [Codepen][] document) contains an HTML document with the following structure:\n",
    "\n",
    "- a [`<body>`][] element (root of the html content. In [Codepen][] we will not see a body tag, it's implicitly present and wraps all the HTML content)\n",
    "- an [`<article>`][] tag to define our content as self-contained unit (e.g. blog post, newspaper article)\n",
    "- an [`<h1>`][h tags] tag to wrap the [`<article>`]'s header text\n",
    "- [`<p>`][] tags to wrap the [`<article>`]'s unstructured text\n",
    "- [`<ul>`][] tags to represent un-ordered lists\n",
    "- [`<li>`][] tags to wrap each list item\n",
    "\n",
    "## Code Example CSS Structure\n",
    "\n",
    "The [Pen][] also includes commented out CSS Code to (`/* this is a CSS comment */`):\n",
    "- Set the background of the [`<body>`] element (whole document) to `#00b3e6` (light blue)\n",
    "- Sets the [`<article>`] element width to `700px`\n",
    "- Centers the [`<article>`] element\n",
    "- Sets the font family of the [`<article>`] element to `Helvetica Neue`. Alternative fonts are provided in the event `Helvetica Neue` is not available on your computer\n",
    "- Set the background of the [`<article>`] element to `white`\n",
    "- Add 30px of white space to perimeter of the [`<article>`]\n",
    "- Set the `font-size` to `22px` for the element with `id` `main-header`\n",
    "- Set the `font-style` to `italic` for elements containing the class `perspective-questions`\n",
    "\n",
    "## Code Along Instructions\n",
    "\n",
    "Open the [Pen][] in a separate browswer tab to follow the code along instructions.\n",
    "\n",
    "## Pen Screenshot\n",
    "\n",
    "![][Pen homepage]\n",
    "\n",
    "## Unstyled HTML Document Screenshot\n",
    "\n",
    "![][Unstyled page]\n",
    "\n",
    "## Styled HTML Document Screenshot\n",
    "\n",
    "![][Styled page]\n",
    "\n",
    "All the CSS code you need to successfully modify the page is already included but commented out. All you need to do is uncomment all the `CSS declarations` (`property-name`:`value`) one by one.\n",
    "\n",
    "## CSS Declarations Uncommenting Steps\n",
    "\n",
    "![][Uncomment instructions]   \n",
    "\n",
    "\n",
    "[Codepen]: https://codepen.io/\n",
    "[Pen]: https://codepen.io/curiositypaths/pen/WddzQM?editors=1100\n",
    "[Pen homepage]: https://curriculum-content.s3.amazonaws.com/web-development/codepen.jpeg\n",
    "[Unstyled page]: https://curriculum-content.s3.amazonaws.com/web-development/unstyled-codepen.jpeg\n",
    "[Styled page]: https://curriculum-content.s3.amazonaws.com/web-development/styled-codepen.jpeg\n",
    "[Uncomment instructions]: https://curriculum-content.s3.amazonaws.com/web-development/css-code-codepen.jpg\n",
    "[`<body>`]: https://developer.mozilla.org/en-US/docs/Web/HTML/Element/body\n",
    "[`<article>`]: https://developer.mozilla.org/en-US/docs/Web/HTML/Element/article\n",
    "[h tags]: https://developer.mozilla.org/en-US/docs/Web/HTML/Element/Heading_Elements\n",
    "[`<p>`]: https://developer.mozilla.org/en-US/docs/Web/HTML/Element/p\n",
    "[`<ul>`]: https://developer.mozilla.org/en-US/docs/Web/HTML/Element/ul\n",
    "[`<li>`]: https://developer.mozilla.org/en-US/docs/Web/HTML/Element/li"
   ]
  },
  {
   "cell_type": "markdown",
   "metadata": {},
   "source": [
    "## Summary\n",
    "Awesome! In this code along you got to preview and practice a standard web development environment and modify CSS code!"
   ]
  }
 ],
 "metadata": {
  "kernelspec": {
   "display_name": "Python 3",
   "language": "python",
   "name": "python3"
  },
  "language_info": {
   "codemirror_mode": {
    "name": "ipython",
    "version": 3
   },
   "file_extension": ".py",
   "mimetype": "text/x-python",
   "name": "python",
   "nbconvert_exporter": "python",
   "pygments_lexer": "ipython3",
   "version": "3.6.4"
  }
 },
 "nbformat": 4,
 "nbformat_minor": 2
}
