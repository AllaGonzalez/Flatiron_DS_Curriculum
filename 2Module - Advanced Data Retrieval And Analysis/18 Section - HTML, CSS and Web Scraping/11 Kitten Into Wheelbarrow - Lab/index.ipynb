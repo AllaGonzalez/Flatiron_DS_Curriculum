{
 "cells": [
  {
   "cell_type": "markdown",
   "metadata": {},
   "source": [
    "# Kitten Into Wheelbarrow - Lab"
   ]
  },
  {
   "cell_type": "markdown",
   "metadata": {},
   "source": [
    "## Introduction\n",
    "In this lesson you'll help collect all the kittens into the wheelbarrow using CSS selectors."
   ]
  },
  {
   "cell_type": "markdown",
   "metadata": {},
   "source": [
    "## Objectives\n",
    "You will be able to:\n",
    "* Use various CSS selectors to style elements"
   ]
  },
  {
   "cell_type": "markdown",
   "metadata": {},
   "source": [
    "## Steps\n",
    "\n",
    "\n",
    "## Tasks for LearnIDE Environment Users\n",
    "\n",
    "1. Click the \"OPEN IDE\" button\n",
    "\n",
    "## Tasks for Local Environment Users\n",
    "\n",
    "1. Fork this repository.\n",
    "2. Clone your fork locally.\n",
    "3. `cd` into the local repo you just cloned.\n",
    "\n",
    "## Process\n",
    "\n",
    "1. Open index.html in the browser. (For students using the Learn IDE, [here are instructions](http://help.learn.co/the-learn-ide/common-ide-questions/viewing-html-pages-in-the-learn-ide) on how to view HTML pages in the browser.)\n",
    "2. Use the comments in **css/place-kitty.css** to write the correct selectors to move each kitty into the wheelbarrow.\n",
    "\n",
    "<p data-visibility='hidden'>View <a href='https://learn.co/lessons/css-kitten-wheelbarrow' title='CSS Kitten Wheelbarrow'>CSS Kitten Wheelbarrow</a> on Learn.co and start learning to code for free.</p>\n"
   ]
  },
  {
   "cell_type": "markdown",
   "metadata": {},
   "source": [
    "## Summary\n",
    "Well done! In this lab you practiced styling a web page using various CSS selectors!"
   ]
  }
 ],
 "metadata": {
  "kernelspec": {
   "display_name": "Python 3",
   "language": "python",
   "name": "python3"
  },
  "language_info": {
   "codemirror_mode": {
    "name": "ipython",
    "version": 3
   },
   "file_extension": ".py",
   "mimetype": "text/x-python",
   "name": "python",
   "nbconvert_exporter": "python",
   "pygments_lexer": "ipython3",
   "version": "3.6.4"
  }
 },
 "nbformat": 4,
 "nbformat_minor": 2
}
