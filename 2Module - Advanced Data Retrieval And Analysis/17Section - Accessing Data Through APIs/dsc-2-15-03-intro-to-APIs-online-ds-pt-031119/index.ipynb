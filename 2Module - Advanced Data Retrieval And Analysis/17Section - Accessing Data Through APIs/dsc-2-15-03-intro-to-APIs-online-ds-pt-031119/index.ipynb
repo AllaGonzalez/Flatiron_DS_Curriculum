{
 "cells": [
  {
   "cell_type": "markdown",
   "metadata": {},
   "source": [
    "# Introduction to APIs\n",
    "\n",
    "## Introduction \n",
    "\n",
    "**_APIs_** (short for **_Application Programming Interfaces_**) are an important aspect of the modern internet. APIs are what allows everything on the internet to play nicely with each other and work together. In this lesson, we'll learn all about what APIs are, what they are used for, and how they work. "
   ]
  },
  {
   "cell_type": "markdown",
   "metadata": {},
   "source": [
    "## Objectives\n",
    "You will be able to : \n",
    "* Understand and explain what an API is\n",
    "* Understand and explain why companies build APIs"
   ]
  },
  {
   "cell_type": "markdown",
   "metadata": {},
   "source": [
    "## Application Programming Interface (API)\n",
    "\n",
    "> API stands for **Application Programming Interface**. \n",
    "\n",
    "An API is a communication protocol between 2 software systems. It describes the mechanism through which if one system **requests** some information using a predefined format, a remote system **responds** with an outcome that gets sent back to the first system. \n",
    "\n",
    "APIs are a way of allowing 2 applications to interact with each other. This is an incredibly common task in modern web-based programs. For instance, if you've ever connected your facebook profile to another service such as Spotify or Instagram, this is done through APIs. An API represents a way for 2 pieces of software to interact with one another. Under the hood, the actual request and response is done as a **_HTTP Request_**. Then following diagram shows the **_HTTP Request/Response Cycle_**:\n",
    "\n",
    "<img src=\"images/client-server-illustration.gif\">\n",
    "\n",
    "APIs are a way of standardizing interactions with software. From the provider's standpoint, it makes sure that everyone will interact with their software in a way that they are expecting. From the user's standpoint, it provides easy instructions and methods for working with 3rd party software, which opens up a ton of useful benefits by allowing us to get data from other sources, or add functionality by incorporating services from 3rd party software!\n"
   ]
  },
  {
   "cell_type": "markdown",
   "metadata": {},
   "source": [
    "### An Example\n",
    "\n",
    "Pokemon Go has been one of the most popular smartphone games, which requires a large ecosystem with complete information of routes and roads across the globe. Developers of the Pokemon could not have possibly coded such a complete world map. Instead, they used Google maps API and built their app on top of it. Following image shows the complete architecture that allows players of pokemon go to play a game which in turns responds by making geographical information related API calls to google maps.  \n",
    "<img src=\"images/api4.png\" width=600>"
   ]
  },
  {
   "cell_type": "markdown",
   "metadata": {},
   "source": [
    "### What is an API made of ?\n",
    "\n",
    "APIs are very common in tech world, which means that are many, many different kinds that you're going to run into. While each API you work with will be unique in some way, there are some common traits you can expect to see overall. An API has three main components as listed below:\n",
    "\n",
    "* **Access Permissions:** Is the user allowed to ask for data or services?\n",
    "* **Request:** The service being asked for (e.g., if I give you current location using GPS, tell me the map around that place - as we see in Pokemon Go).  A Request has two main parts:\n",
    "\n",
    "    * **Methods:** Once the access is permitted, what questions can be asked.\n",
    "    \n",
    "    * **Parameters:** Additional details that can be sent with requests or responses\n",
    "\n",
    "* **Response:** The data or service as a result of the request.\n",
    "\n",
    "We'll look more deeply at how to use these components in the upcoming lessons for this section. For now, our goal is to understand that APIs:\n",
    "\n",
    "* Provide a standardized way of letting us interact with 3rd party software/services\n",
    "* Consist of a **_Request_** and a **_Response_**\n",
    "* Can have special **_Access Permissions_** depending on the API and the the user making the request. \n"
   ]
  },
  {
   "cell_type": "markdown",
   "metadata": {},
   "source": [
    "## Summary\n",
    "\n",
    "In this lesson, we looked at an introduction to APIs, their basic understanding and main types of APIs.  In following lessons, we dig into this in a bit more detail and see how to make API calls in python. "
   ]
  }
 ],
 "metadata": {
  "kernelspec": {
   "display_name": "Python 3",
   "language": "python",
   "name": "python3"
  },
  "language_info": {
   "codemirror_mode": {
    "name": "ipython",
    "version": 3
   },
   "file_extension": ".py",
   "mimetype": "text/x-python",
   "name": "python",
   "nbconvert_exporter": "python",
   "pygments_lexer": "ipython3",
   "version": "3.6.7"
  }
 },
 "nbformat": 4,
 "nbformat_minor": 2
}
