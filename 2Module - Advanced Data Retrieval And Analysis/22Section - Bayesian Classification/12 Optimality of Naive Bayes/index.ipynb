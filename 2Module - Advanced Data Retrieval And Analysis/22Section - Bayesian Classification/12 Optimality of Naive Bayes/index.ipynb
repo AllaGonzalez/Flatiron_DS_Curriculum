{
 "cells": [
  {
   "cell_type": "markdown",
   "metadata": {},
   "source": [
    "# Optimality of Naive Bayes"
   ]
  },
  {
   "cell_type": "markdown",
   "metadata": {},
   "source": [
    "## Introduction"
   ]
  },
  {
   "cell_type": "markdown",
   "metadata": {},
   "source": [
    "In the last part of this section, we look at a research paper that reviews some naive Bayes models, and talks about the applications of the classifier."
   ]
  },
  {
   "cell_type": "markdown",
   "metadata": {},
   "source": [
    "## Objectives"
   ]
  },
  {
   "cell_type": "markdown",
   "metadata": {},
   "source": [
    "You will be able to:\n",
    "\n",
    "- Inform analytical decisions using published literature\n",
    "- Get a better insight on what the advantages and disadvantages are of using naive Bayes classifiers"
   ]
  },
  {
   "cell_type": "markdown",
   "metadata": {},
   "source": [
    "## Naive Bayes and Information Retrieval\n",
    "\n",
    "Being on the intersection of machine learning and information retrieval, several issues arise when applying the naive Bayes classifier. David D. Lewis gives an overview of these in the paper [\"Naive (Bayes) at Forty: The Independence Assumption in Information Retrieval\"](https://link.springer.com/content/pdf/10.1007%2FBFb0026666.pdf).\n",
    "\n",
    "We would like you to read through the article, without getting lost in the details and the math. Try to focus on the application areas and the advantages/disadvantages of certain models. Good luck!\n",
    "\n"
   ]
  },
  {
   "cell_type": "markdown",
   "metadata": {},
   "source": [
    "## Summary\n",
    "\n",
    "That's it for this section, congrats!"
   ]
  }
 ],
 "metadata": {
  "kernelspec": {
   "display_name": "Python 3",
   "language": "python",
   "name": "python3"
  },
  "language_info": {
   "codemirror_mode": {
    "name": "ipython",
    "version": 3
   },
   "file_extension": ".py",
   "mimetype": "text/x-python",
   "name": "python",
   "nbconvert_exporter": "python",
   "pygments_lexer": "ipython3",
   "version": "3.6.4"
  }
 },
 "nbformat": 4,
 "nbformat_minor": 2
}
