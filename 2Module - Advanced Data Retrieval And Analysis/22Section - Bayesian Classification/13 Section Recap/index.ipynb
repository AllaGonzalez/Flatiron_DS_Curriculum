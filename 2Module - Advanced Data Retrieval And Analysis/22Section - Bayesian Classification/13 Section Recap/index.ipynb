{
 "cells": [
  {
   "cell_type": "markdown",
   "metadata": {},
   "source": [
    "# Section Recap"
   ]
  },
  {
   "cell_type": "markdown",
   "metadata": {},
   "source": [
    "## Introduction\n",
    "\n",
    "This short lesson summarizes the topics we covered in section 22 and why they'll be important to you as a data scientist."
   ]
  },
  {
   "cell_type": "markdown",
   "metadata": {},
   "source": [
    "## Objectives\n",
    "You will be able to:\n",
    "* Understand and explain what was covered in this section\n",
    "* Understand and explain why this section will help you become a data scientist"
   ]
  },
  {
   "cell_type": "markdown",
   "metadata": {},
   "source": [
    "## Key Takeaways\n",
    "\n",
    "The key takeaways from this section include:\n",
    "* MLE can be used to calculate the estimations for expected mean and standard deviation of a normally distributed sample\n",
    "* MAP estimations for thetas can be used in a predictive context with Naive Bayes\n",
    "* The fundamental Naive Bayes assumption is that each feature makes an independent and equal (i.e. are identical) contribution to the outcome. This is known as the i.i.d assumption\n",
    "* The most common approach to working with text is to vectorize it by creating a Bag of Words\n",
    "* The first step is to tokenize the text, turning the document into a collection of space and/or punctuation delimited substrings (words)\n",
    "* Tokenization also includes decisions about whether to lower case everything (almost always yes), and whether to use techniques like stemming and lemmitization to reduce each token into it's root word (running == runs == run)\n",
    "* Finally in tokenization, you also want to ignore stop words - typically using a common NLP framework such as the Natural Language ToolKit (NLTK)\n",
    "* After tokenization, then next step in making text computationally accessible is to vectorize it - whether through a simple word count or (where you have multiple documents) using TF-IDF to identify the most relevant words\n"
   ]
  }
 ],
 "metadata": {
  "kernelspec": {
   "display_name": "Python 3",
   "language": "python",
   "name": "python3"
  },
  "language_info": {
   "codemirror_mode": {
    "name": "ipython",
    "version": 3
   },
   "file_extension": ".py",
   "mimetype": "text/x-python",
   "name": "python",
   "nbconvert_exporter": "python",
   "pygments_lexer": "ipython3",
   "version": "3.6.6"
  }
 },
 "nbformat": 4,
 "nbformat_minor": 2
}
