{
 "cells": [
  {
   "cell_type": "markdown",
   "metadata": {},
   "source": [
    "# MLE with Normal Distributions\n",
    "\n",
    "## Introduction\n",
    "In the previous section, we looked at an introduction to Bayesian inferencing and learned how conditional probabilities along with law of total probability can be used in a predictive context. We looked at how Maximum likelihood and A posteriori estimations can be used to calculate the posterior probability by learning some unknown variable theta, given all the available data.  In this is lesson, we shall look at using this Bayesian setting in a Gaussian context i.e. when the underlying random variables are normally distributed. \n",
    "\n",
    "## Objectives\n",
    "You will be able to:\n",
    "\n",
    "* Understand and describe how MLE works with normal distributions\n",
    "* Calculate the MLE estimations for expected mean and variance "
   ]
  },
  {
   "cell_type": "markdown",
   "metadata": {},
   "source": [
    "## A Quick recap"
   ]
  },
  {
   "cell_type": "markdown",
   "metadata": {},
   "source": [
    "Given some parameterized distribution $P(X|θ)$, and an collection of (independent) samples $x_1,…,x_m$, we can compute the probability of observing this set of samples under the distribution, which is simply given by:\n",
    "\n",
    "\n",
    "$$P(x_1,\\ldots,x_m|\\theta) = \\prod_{i=1}^m P(x_i|\\theta)$$\n",
    "\n"
   ]
  },
  {
   "cell_type": "markdown",
   "metadata": {},
   "source": [
    "We maximize this function, to identify the maxima with respect to theta, and take its log to simplify the likelihood equation shown below:"
   ]
  },
  {
   "cell_type": "markdown",
   "metadata": {},
   "source": [
    "$$\\ell(\\theta) = \\frac{1}{m} \\sum_{i=1}^m \\log P(x_i|\\theta)$$"
   ]
  },
  {
   "cell_type": "markdown",
   "metadata": {},
   "source": [
    "Here we explicitly write $ℓ$ as a function of θ because we want to emphasize the fact **this likelihood depends on the parameters**. (1/m is an arbitrary scaling factor). \n",
    "\n",
    "## MLE with Normal Distributions\n",
    "\n",
    "So far we have been looking at coin toss experiments and working with binomial distributions for our understanding. Let's take this a bit further and try to work with Gaussian/Normal distributions. Now consider the same idea as shown above, but with a Normal distribution. We know the parameters used to desribe a normal distribution are $(\\mu~and~\\sigma^2)$. Where $\\mu$ is the mean and sigma squared identifies the variance in the data. But what if we know that , $x_1, x_2, ..., x_n ∼ N(\\mu, \\sigma^2)$ in this case but we dont know the value of $\\mu$.\n",
    "\n",
    ">$x_1, x_2, ..., x_n ∼ N(\\mu, \\sigma^2)~~~-~~~ A~normal~distribution~is~normally~shown~using~such~notation.$ \n",
    "\n",
    "So just like above, We can set up a likelihood equation: $P(X|\\mu, \\sigma)$, and find the value of that maximizes it by taking its derivative w.r.t theta and solve for $X$. "
   ]
  },
  {
   "cell_type": "markdown",
   "metadata": {},
   "source": [
    "## Maximum Likelihood Estimation for $\\mu$ and $\\sigma^2$"
   ]
  },
  {
   "cell_type": "markdown",
   "metadata": {},
   "source": [
    "As long as $x_1, ..., x_n$ are independent and from the same distribution, these will fulfill our i.i.d assumption.  We can write down our $P(X|\\theta)$ equation for the normal distribution case as below:\n",
    "\n",
    "$$P(x|\\mu, \\sigma^2) = \\prod_{i=1}^n P(x_i|\\mu, \\sigma^2)$$\n",
    "\n",
    "And our likelihood function:\n",
    "\n",
    "$$\\ell(x) = \\prod_{i=1}^n P(x_i|\\mu, \\sigma^2)$$\n",
    "\n",
    "$$L(x) = \\frac{1}{\\sqrt{2  \\pi  \\sigma^2}}\\prod_{i=1}^n\\exp\\frac{(x_i-\\mu)^2}{2\\sigma^2}~~ - ~~Normal~PDF$$ "
   ]
  },
  {
   "cell_type": "markdown",
   "metadata": {},
   "source": [
    "After taking the log likelihood and removing some constants, we get the following equation:"
   ]
  },
  {
   "cell_type": "markdown",
   "metadata": {},
   "source": [
    "$$\\log(L(x)) = \\ell(x) ∝ \\sum_{i=1}^{n} - (x_i - \\mu)^2$$\n",
    "\n",
    "Note: $\\ell$ denotes the \"log likelihood\" as compared to $L$, used for likelihood. \n",
    "We can take the derivative of this value and set it equal to zero, to maximize. The $\\mu$ value can be solved as:"
   ]
  },
  {
   "cell_type": "markdown",
   "metadata": {},
   "source": [
    "$$\\mu_{MLE} = \\frac{\\sum_{i=1}^{n}x_i}{n} $$\n",
    "\n",
    "We can similarly calculate the MLE for variance following similar steps to get the result as :\n",
    "\n",
    "$$\\sigma_{MLE}^2 = \\frac{\\sum_{i=1}^{n}(x_i - \\mu_{MLE})^2}{n} $$"
   ]
  },
  {
   "cell_type": "markdown",
   "metadata": {},
   "source": [
    "**Note:** *A detailed derivation of above final MLE equations with proofs can be seen [at this website](https://www.statlect.com/fundamentals-of-statistics/normal-distribution-maximum-likelihood). *\n",
    "\n",
    "Next We shall try to implement this in python to get a better understanding of how such estimations work. \n"
   ]
  },
  {
   "cell_type": "markdown",
   "metadata": {},
   "source": [
    "## Summary \n",
    "\n",
    "In analytics, most of the real world data is normally modeled under a normal distribution (think of central limit theorem and why this is the case). It is imperative that you can develop an intuition around how these distributions get represented and are inferred in analysis. A good mathematical understanding of the processes in data manipulations goes a long way. Let's try to see how we can translate this understanding in Python in the following lab. "
   ]
  }
 ],
 "metadata": {
  "kernelspec": {
   "display_name": "Python 3",
   "language": "python",
   "name": "python3"
  },
  "language_info": {
   "codemirror_mode": {
    "name": "ipython",
    "version": 3
   },
   "file_extension": ".py",
   "mimetype": "text/x-python",
   "name": "python",
   "nbconvert_exporter": "python",
   "pygments_lexer": "ipython3",
   "version": "3.6.4"
  }
 },
 "nbformat": 4,
 "nbformat_minor": 2
}
