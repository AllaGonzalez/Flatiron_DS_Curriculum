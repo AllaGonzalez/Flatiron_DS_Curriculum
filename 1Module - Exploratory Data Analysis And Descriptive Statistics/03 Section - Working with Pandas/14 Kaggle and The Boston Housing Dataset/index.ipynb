{
 "cells": [
  {
   "cell_type": "markdown",
   "metadata": {},
   "source": [
    "# Kaggle and The Boston Housing Dataset\n",
    "\n",
    "## Introduction\n",
    "\n",
    "Kaggle hosts numerous data science competitions where you can grab datasets and practice your skills at creating machine learning algorithms to answer useful questions. Here we'll sign up for an account and begin investigating a classic data science problem using the Boston housing dataset."
   ]
  },
  {
   "cell_type": "markdown",
   "metadata": {},
   "source": [
    "# Objectives\n",
    "\n",
    "* Create a kaggle account and download a data set"
   ]
  },
  {
   "cell_type": "markdown",
   "metadata": {},
   "source": [
    "## Navigate to kaggle.com\n",
    "\n",
    "<img src=\"k1.JPG\" width=600>"
   ]
  },
  {
   "cell_type": "markdown",
   "metadata": {},
   "source": [
    "# Click Sign In and then \n",
    "    * Fill out the basic information\n",
    "    * Accept the terms and agreements\n",
    "    \n",
    "<img src=\"K2.JPG\" width=600>"
   ]
  },
  {
   "cell_type": "markdown",
   "metadata": {},
   "source": [
    "# Congratulations! \n",
    "\n",
    "You should now be signed up for kaggle where you'll have access to a range of datasets, competitons and other data science resources! Welcome to the community!"
   ]
  },
  {
   "cell_type": "markdown",
   "metadata": {},
   "source": [
    "In our upcoming lab, you'll then be working with this dataset: https://www.kaggle.com/c/boston-housing. To download it, clidk on the \"data\" tab and then click the \"download all\" to get a copy of the data."
   ]
  }
 ],
 "metadata": {
  "kernelspec": {
   "display_name": "Python 3",
   "language": "python",
   "name": "python3"
  },
  "language_info": {
   "codemirror_mode": {
    "name": "ipython",
    "version": 3
   },
   "file_extension": ".py",
   "mimetype": "text/x-python",
   "name": "python",
   "nbconvert_exporter": "python",
   "pygments_lexer": "ipython3",
   "version": "3.6.5"
  }
 },
 "nbformat": 4,
 "nbformat_minor": 2
}
