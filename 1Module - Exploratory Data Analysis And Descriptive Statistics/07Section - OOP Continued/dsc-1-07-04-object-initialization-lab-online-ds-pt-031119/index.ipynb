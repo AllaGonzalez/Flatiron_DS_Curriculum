{
 "cells": [
  {
   "cell_type": "markdown",
   "metadata": {},
   "source": [
    "# Object Initialization - Lab"
   ]
  },
  {
   "cell_type": "markdown",
   "metadata": {},
   "source": [
    "## Introduction\n",
    "In this lab, we will practice defining classes with custom `__init__` methods. We will define two classes, Driver and Passenger in the cells below. Follow the instructions in order to get the tests to pass."
   ]
  },
  {
   "cell_type": "markdown",
   "metadata": {},
   "source": [
    "## Objectives\n",
    "\n",
    "You will be able to:\n",
    "\n",
    "* Define custom `__init__` methods for object initialization\n",
    "* Create instance variables in the `__init__` method \n",
    "* Use default arguments in the `__init__` method"
   ]
  },
  {
   "cell_type": "markdown",
   "metadata": {},
   "source": [
    "## Initializing Instance Objects"
   ]
  },
  {
   "cell_type": "markdown",
   "metadata": {},
   "source": [
    "Let's start off by defining Driver and Passenger classes. In the Passenger class, we will want our passengers to have the attributes `first`, `last`, `email`, and `rides_taken` for their first name, last name, email, and number of rides they have taken. Let's provide our `__init__` method with the default argument of `0` for the `rides_taken` attribute since new passengers should not have taken any rides. \n",
    "\n",
    "After we've defined our Passenger `__init__` method, check it out by initializing a new passenger with the first name `\"Rebecca\"`, the last name `\"Black\"`, and the email `\"rebecca.black@gmail.com\"`. Don't worry about creating instance methods or using any attribute decorators in this lesson. We can just instantiate instance variables and use those to access the instance's attributes."
   ]
  },
  {
   "cell_type": "code",
   "execution_count": null,
   "metadata": {
    "collapsed": true
   },
   "outputs": [],
   "source": [
    "# Define Passenger Class Here"
   ]
  },
  {
   "cell_type": "code",
   "execution_count": null,
   "metadata": {
    "collapsed": true
   },
   "outputs": [],
   "source": [
    "rebecca_black = None # initialize Rebecca Black here\n",
    "print(rebecca_black.first) # \"Rebecca\"\n",
    "print(rebecca_black.last) # \"Black\"\n",
    "print(rebecca_black.email) # \"rebecca.black@gmail.com\"\n",
    "print(rebecca_black.rides_taken) # 0"
   ]
  },
  {
   "cell_type": "markdown",
   "metadata": {},
   "source": [
    "![rebecca black in a car](https://media.giphy.com/media/8SS0MSoBHa8la/giphy.gif)"
   ]
  },
  {
   "cell_type": "markdown",
   "metadata": {},
   "source": [
    "Great work! Rebecca Black is now in the system and ready to request her ride to the party on Friday! Friday! Friday!"
   ]
  },
  {
   "cell_type": "markdown",
   "metadata": {},
   "source": [
    "In the Driver class, define an `__init__` method that initializes a driver with the attributes `first`, `last`, and `favorite_hobby` for their first name, last name, and favorite hobby. Let's provide a default argument of `\"driving\"` for `favorite_hobby`, since we would hope they are ***doing what they love***! \n",
    "\n",
    "After we have our Driver `__init__` method, let's initialize a driver with the first name `\"Dale\"`, last name `\"Earnhardt\"`. Again, don't worry about creating any instance methods or using any property decorators."
   ]
  },
  {
   "cell_type": "code",
   "execution_count": null,
   "metadata": {
    "collapsed": true
   },
   "outputs": [],
   "source": [
    "# Define Passenger Class Here"
   ]
  },
  {
   "cell_type": "code",
   "execution_count": null,
   "metadata": {
    "collapsed": true,
    "scrolled": true
   },
   "outputs": [],
   "source": [
    "dale_earnhardt = None # initialize Dale Earnhardt here\n",
    "print(dale_earnhardt.first) # \"Dale\"\n",
    "print(dale_earnhardt.last) # \"Earnhardt\"\n",
    "print(dale_earnhardt.favorite_hobby) # \"driving\""
   ]
  },
  {
   "cell_type": "markdown",
   "metadata": {},
   "source": [
    "![DaleEarnhardt](https://media.giphy.com/media/3ohzdSGBkwbvuPdO3S/giphy.gif)"
   ]
  },
  {
   "cell_type": "markdown",
   "metadata": {},
   "source": [
    "Awesome, maybe Dale will be Rebecca's driver to the party on Friday! Friday! Friday! "
   ]
  },
  {
   "cell_type": "markdown",
   "metadata": {},
   "source": [
    "## Summary\n"
   ]
  },
  {
   "cell_type": "markdown",
   "metadata": {},
   "source": [
    "In this lab, we practiced definining custom `__init__` methods that allowed us to initialize new instances with a set of predetermined attributes and default attributes."
   ]
  }
 ],
 "metadata": {
  "kernelspec": {
   "display_name": "Python 3",
   "language": "python",
   "name": "python3"
  },
  "language_info": {
   "codemirror_mode": {
    "name": "ipython",
    "version": 3
   },
   "file_extension": ".py",
   "mimetype": "text/x-python",
   "name": "python",
   "nbconvert_exporter": "python",
   "pygments_lexer": "ipython3",
   "version": "3.6.5"
  }
 },
 "nbformat": 4,
 "nbformat_minor": 2
}
