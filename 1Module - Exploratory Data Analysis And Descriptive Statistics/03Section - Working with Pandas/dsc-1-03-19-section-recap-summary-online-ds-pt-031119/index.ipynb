{
 "cells": [
  {
   "cell_type": "markdown",
   "metadata": {},
   "source": [
    "# Section Recap"
   ]
  },
  {
   "cell_type": "markdown",
   "metadata": {},
   "source": [
    "## Introduction\n",
    "\n",
    "This short lesson summarizes the topics we covered in section 03 and why they'll be important to you as a data scientist."
   ]
  },
  {
   "cell_type": "markdown",
   "metadata": {},
   "source": [
    "## Objectives\n",
    "You will be able to:\n",
    "* Understand and explain what was covered in this section\n",
    "* Understand and explain why this section will help you become a data scientist"
   ]
  },
  {
   "cell_type": "markdown",
   "metadata": {},
   "source": [
    "## Key Takeaways\n",
    "In this section, we spent time getting comfortable with Pandas and Matplotlib and getting some more practice with exploratory data analysis. Some of the key takeaways:\n",
    "* For non-trivial data sets you'll usually want to store your data in Pandas data structures rather than native Python lists and dictionaries\n",
    "* Pandas has a range of great features for easily importing data from anything from a csv, an Excel file, json or a Python dictionary. \n",
    "* Pandas Series and DataFrames have a bunch of powerful methods for munging data.\n",
    "* Pandas also has a range of methods for applying descriptive statistics to Series and DataFrames\n",
    "* Finally, by wrapping Matplotlib, Pandas also provides some very convenient plotting capabilities for quickly visualizing data\n",
    "\n",
    "We also got some experience working with the Boston Housing data set, and set up accounts on Kaggle - a really useful resource for practicing data scientists."
   ]
  }
 ],
 "metadata": {
  "kernelspec": {
   "display_name": "Python 3",
   "language": "python",
   "name": "python3"
  },
  "language_info": {
   "codemirror_mode": {
    "name": "ipython",
    "version": 3
   },
   "file_extension": ".py",
   "mimetype": "text/x-python",
   "name": "python",
   "nbconvert_exporter": "python",
   "pygments_lexer": "ipython3",
   "version": "3.6.5"
  }
 },
 "nbformat": 4,
 "nbformat_minor": 2
}
