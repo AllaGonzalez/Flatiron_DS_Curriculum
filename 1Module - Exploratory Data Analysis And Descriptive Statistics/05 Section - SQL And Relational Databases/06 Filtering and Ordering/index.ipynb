{
 "cells": [
  {
   "cell_type": "markdown",
   "metadata": {},
   "source": [
    "# Filtering and Ordering"
   ]
  },
  {
   "cell_type": "markdown",
   "metadata": {},
   "source": [
    "## Introduction\n",
    "\n",
    "In this lesson, we'll cover how to write SQL queries to retrieve and add specific data to SQL database tables."
   ]
  },
  {
   "cell_type": "markdown",
   "metadata": {},
   "source": [
    "## Objectives\n",
    "You will be able to:\n",
    "* Limit the number of records returned by a query using `LIMIT`\n",
    "* Filter results using `BETWEEN` and `IS NULL`\n",
    "* Order the results of your queries by using `ORDER BY` (`ASC` & `DESC`)\n"
   ]
  },
  {
   "cell_type": "markdown",
   "metadata": {},
   "source": [
    "## What is a SQL Query?\n",
    "\n",
    "The term \"query\" refers to any SQL statement that retrieves data from your database. In fact, we've already written a number of SQL queries using basic `SELECT` statements. We've already seen how to retrieve single units of data, or rows, with queries like these:\n",
    "\n",
    "To select all of the rows from a `cats` table:\n",
    "\n",
    "```sql\n",
    "SELECT * FROM cats;\n",
    "```\n",
    "\n",
    "To select only rows representing data meeting certain conditions:\n",
    "\n",
    "```sql\n",
    "SELECT * FROM cats WHERE name = \"Maru\";\n",
    "```\n",
    "\n",
    "What if, however, we wanted to select the oldest cat? Or all of the cats that don't currently belong to an owner? Or all of the cats with short names?\n",
    "\n",
    "Data storage isn't very useful if we can't manipulate, view, and analyze that data. Luckily for us, SQL is actually a powerful tool for doing just that.\n",
    "\n",
    "In this exercise, we'll walk through executing a handful of common and handy SQL queries."
   ]
  },
  {
   "cell_type": "markdown",
   "metadata": {},
   "source": [
    "## Code Along: SQL Queries\n",
    "\n",
    "### Creating our Database\n",
    "\n",
    "In this code along, we'll be creating a `cats` table in a `pets_database.db`.\n",
    "\n",
    "First let's create our `pets_database` by running the following commands.\n",
    "\n",
    "```python\n",
    "import sqlite3 \n",
    "connection = sqlite3.connect('pets_database.db')\n",
    "cursor = connection.cursor()\n",
    "```"
   ]
  },
  {
   "cell_type": "code",
   "execution_count": null,
   "metadata": {},
   "outputs": [],
   "source": [
    "# create database connection here"
   ]
  },
  {
   "cell_type": "markdown",
   "metadata": {},
   "source": [
    "Good work. Now if we look at our file directory, a new file should have appeared called `pets_database.db`! This is the binary representation of the database. You can think of this like a .jpg file. It won't open up in a text editor, but it does open up in the image viewer app. It is the same way for .db files. They won't open in your editor, but they can be read by the appropriate database engine.\n",
    "\n",
    "Now that we have a database and a cursor object that is connected to our database, let's create our `cats` table along with `id`, `name`, `age`, `breed`, and `owner_id` columns.\n",
    "\n",
    "```python\n",
    "cursor.execute('''CREATE TABLE cats ( id INTEGER PRIMARY KEY, name TEXT, age INTEGER, breed TEXT, owner_id INTEGER );''')\n",
    "```"
   ]
  },
  {
   "cell_type": "code",
   "execution_count": null,
   "metadata": {},
   "outputs": [],
   "source": [
    "# create table here"
   ]
  },
  {
   "cell_type": "markdown",
   "metadata": {},
   "source": [
    "Let's add some cats to our `cats` table to make this more interesting:\n",
    "\n",
    "```python\n",
    "cursor.execute('''INSERT INTO cats (name, age, breed, owner_id) VALUES (\"Maru\", 3 , \"Scottish Fold\", 1);''')\n",
    "cursor.execute('''INSERT INTO cats (name, age, breed, owner_id) VALUES (\"Hana\", 1 , \"Tabby\", 1);''')\n",
    "cursor.execute('''INSERT INTO cats (name, age, breed) VALUES (\"Lil\\' Bub\", 5, \"American Shorthair\");''')\n",
    "cursor.execute('''INSERT INTO cats (name, age, breed) VALUES (\"Moe\", 10, \"Tabby\");''')\n",
    "cursor.execute('''INSERT INTO cats (name, age, breed) VALUES (\"Patches\", 2, \"Calico\");''')\n",
    "```"
   ]
  },
  {
   "cell_type": "code",
   "execution_count": null,
   "metadata": {},
   "outputs": [],
   "source": [
    "# insert data here"
   ]
  },
  {
   "cell_type": "markdown",
   "metadata": {},
   "source": [
    "Let's check out our `cats` table now:\n",
    "\n",
    "```python\n",
    "cursor.execute('''SELECT * FROM cats;''').fetchall()\n",
    "```\n",
    "\n",
    "> **Note:** the method `.fetchall()` returns a `list` where each record is represented as a `tuple`, which you can think of as a `list`-like object. If we would like to retrieve an element from a `tuple`, we simply access it by-index -- similar to how we access the elements of a normal Python list. (i.e. `example_tuple[0]` - returns element at index `0`)"
   ]
  },
  {
   "cell_type": "code",
   "execution_count": null,
   "metadata": {},
   "outputs": [],
   "source": [
    "# select all data from cats data here"
   ]
  },
  {
   "cell_type": "markdown",
   "metadata": {},
   "source": [
    "This should return:\n",
    "\n",
    "```python\n",
    "[(1, 'Maru', 3, 'Scottish Fold', 1),\n",
    " (2, 'Hana', 1, 'Tabby', 1),\n",
    " (3, \"Lil' Bub\", 5, 'American Shorthair', None),\n",
    " (4, 'Moe', 10, 'Tabby', None),\n",
    " (5, 'Patches', 2, 'Calico', None)]\n",
    "```"
   ]
  },
  {
   "cell_type": "markdown",
   "metadata": {},
   "source": [
    "### `ORDER BY`\n",
    "\n",
    "The first query modifier we'll explore is `ORDER BY`. This modifier allows us to order the table rows returned by a certain `SELECT` statement. Here's a boilerplate `SELECT` statement that uses `ORDER BY`:\n",
    "\n",
    "```python\n",
    "cursor.execute('''SELECT column_name FROM table_name ORDER BY column_name ASC|DESC;''').fetchall()\n",
    "```\n",
    "\n",
    "Let's select our cats and order them by age:\n",
    "\n",
    "```python\n",
    "cursor.execute('''SELECT * FROM cats ORDER BY age;''').fetchall()\n",
    "```"
   ]
  },
  {
   "cell_type": "code",
   "execution_count": null,
   "metadata": {},
   "outputs": [],
   "source": [
    "# select all cats order by age here"
   ]
  },
  {
   "cell_type": "markdown",
   "metadata": {},
   "source": [
    "This should return the following:\n",
    "\n",
    "```python\n",
    "[(2, 'Hana', 1, 'Tabby', 1),\n",
    " (5, 'Patches', 2, 'Calico', None),\n",
    " (1, 'Maru', 3, 'Scottish Fold', 1),\n",
    " (3, \"Lil' Bub\", 5, 'American Shorthair', None),\n",
    " (4, 'Moe', 10, 'Tabby', None)]             \n",
    "```"
   ]
  },
  {
   "cell_type": "markdown",
   "metadata": {},
   "source": [
    "When using `ORDER BY`, the default is to order in ascending order. If we want to specify though, we can use `ASC` for \"ascending\" or `DESC` for \"descending.\" Let's try to select all of our cats and sort them by age in descending order.\n",
    "\n",
    "```python\n",
    "cursor.execute('''SELECT * FROM cats ORDER BY age DESC;''').fetchall()\n",
    "```"
   ]
  },
  {
   "cell_type": "code",
   "execution_count": null,
   "metadata": {},
   "outputs": [],
   "source": [
    "# select cats order by age descending here"
   ]
  },
  {
   "cell_type": "markdown",
   "metadata": {},
   "source": [
    "This should return\n",
    "\n",
    "```python\n",
    "[(4, 'Moe', 10, 'Tabby', None),\n",
    " (3, \"Lil' Bub\", 5, 'American Shorthair', None),\n",
    " (1, 'Maru', 3, 'Scottish Fold', 1),\n",
    " (5, 'Patches', 2, 'Calico', None),\n",
    " (2, 'Hana', 1, 'Tabby', 1)]        \n",
    "```"
   ]
  },
  {
   "cell_type": "markdown",
   "metadata": {},
   "source": [
    "### `LIMIT`\n",
    "\n",
    "What if we want the oldest cat? If we want to select extremes from a database table––for example, the employee with the highest paycheck or the patient with the most recent appointment––we can use `ORDER BY` in conjunction with `LIMIT`.\n",
    "\n",
    "`LIMIT` is used to determine the number of records you want to return from a dataset. For example:\n",
    "\n",
    "```sql\n",
    "SELECT * FROM cats ORDER BY age DESC LIMIT 1;\n",
    "```\n",
    "\n",
    "> **Note:** When we would only like the first result (or one result as is the case in the example above) we can use the sqlite3 method `.fetchone()` which, instead of returning a list of results, returns the first result (or the record at index 0). We can use this in-place of or in conjunction with `LIMIT 1` in order to get back a single element."
   ]
  },
  {
   "cell_type": "code",
   "execution_count": null,
   "metadata": {},
   "outputs": [],
   "source": [
    "cursor.execute('''SELECT * FROM cats ORDER BY age DESC LIMIT 1;''').fetchone()\n",
    "# OR\n",
    "# cursor.execute('''SELECT * FROM cats ORDER BY age DESC;''').fetchone() # returns the same element as the above"
   ]
  },
  {
   "cell_type": "markdown",
   "metadata": {},
   "source": [
    "This part of the statement: `SELECT * FROM cats ORDER BY age DESC` returns all of the cats in order from oldest to youngest. Setting a `LIMIT` of `1` returns just the first, i.e. oldest, cat on the list.\n",
    "\n",
    "Execute the above statement and you should see:\n",
    "\n",
    "```python\n",
    "(4, 'Moe', 10, 'Tabby', None)            \n",
    "```\n",
    "Let's get the two oldest cats:\n",
    "\n",
    "```sql\n",
    "SELECT * FROM cats ORDER BY age DESC LIMIT 2;\n",
    "```"
   ]
  },
  {
   "cell_type": "code",
   "execution_count": null,
   "metadata": {},
   "outputs": [],
   "source": [
    "# select the two oldest cats here"
   ]
  },
  {
   "cell_type": "markdown",
   "metadata": {},
   "source": [
    "Execute that statement and you should see:\n",
    "\n",
    "```python\n",
    "[(4, 'Moe', 10, 'Tabby', None), (3, \"Lil' Bub\", 5, 'American Shorthair', None)]          \n",
    "```"
   ]
  },
  {
   "cell_type": "markdown",
   "metadata": {},
   "source": [
    "### `BETWEEN`\n",
    "\n",
    "As we've already established, being able to sort and select specific data sets is important. Continuing on with our example, let's say we urgently need to select all of the cats whose age is between 1 and 3. To create such a query, we can use `BETWEEN`. Here's an boilerplate `SELECT` statement using `BETWEEN`:\n",
    "\n",
    "```sql\n",
    "SELECT column_name(s) FROM table_name WHERE column_name BETWEEN value1 AND value2;\n",
    "```\n",
    "\n",
    "Let's try it out on our `cats` table:\n",
    "\n",
    "```sql\n",
    "SELECT name FROM cats WHERE age BETWEEN 1 AND 3;\n",
    "```"
   ]
  },
  {
   "cell_type": "code",
   "execution_count": null,
   "metadata": {},
   "outputs": [],
   "source": [
    "# find all records between ages 1 and three here"
   ]
  },
  {
   "cell_type": "markdown",
   "metadata": {},
   "source": [
    "This should return:\n",
    "\n",
    "```python\n",
    "[('Maru',), ('Hana',), ('Patches',)]\n",
    "```"
   ]
  },
  {
   "cell_type": "markdown",
   "metadata": {},
   "source": [
    "### `NULL`\n",
    "\n",
    "Let's say the administrator of our Pets Database has found a new cat. This kitty doesn't have a name yet, but should be added to our database right away. We can add data with missing values using the `NULL` keyword.\n",
    "\n",
    "Let's insert our new cat into the database. Our abandoned kitty has a breed, but no name or age as of yet:\n",
    "\n",
    "```sql\n",
    "INSERT INTO cats (name, age, breed) VALUES (NULL, NULL, \"Tabby\");\n",
    "```"
   ]
  },
  {
   "cell_type": "code",
   "execution_count": null,
   "metadata": {},
   "outputs": [],
   "source": [
    "# insert new record here\n",
    "# retrieve all records from the cat table here"
   ]
  },
  {
   "cell_type": "markdown",
   "metadata": {},
   "source": [
    "Now, if we look at our `cats` data with `SELECT * FROM cats;`, we should see:\n",
    "\n",
    "```python\n",
    "[(1, 'Maru', 3, 'Scottish Fold', 1),\n",
    " (2, 'Hana', 1, 'Tabby', 1),\n",
    " (3, \"Lil' Bub\", 5, 'American Shorthair', None),\n",
    " (4, 'Moe', 10, 'Tabby', None),\n",
    " (5, 'Patches', 2, 'Calico', None),\n",
    " (6, None, None, 'Tabby', None)]                  \n",
    "```\n",
    "\n",
    "We can even select the mysterious, nameless kitty with the following query:\n",
    "\n",
    "```sql\n",
    "SELECT * FROM cats WHERE name IS NULL;\n",
    "```"
   ]
  },
  {
   "cell_type": "code",
   "execution_count": null,
   "metadata": {},
   "outputs": [],
   "source": [
    "# select cats where the name field is null here"
   ]
  },
  {
   "cell_type": "markdown",
   "metadata": {},
   "source": [
    "This should return the following:\n",
    "\n",
    "```python\n",
    "[(6, None, None, 'Tabby', None)]\n",
    "```"
   ]
  },
  {
   "cell_type": "markdown",
   "metadata": {},
   "source": [
    "### `COUNT`\n",
    "\n",
    "Now, we'll talk about a SQL aggregate function, `COUNT`.\n",
    "\n",
    "**SQL aggregate functions** are SQL statements that retrieve minimum and maximum values from a column, sum values in a column, get the average of a column's values, or count a number of records that meet certain conditions. You can learn more about these SQL aggregators [here](http://www.sqlclauses.com/sql+aggregate+functions) and [here](http://zetcode.com/db/sqlite/select/).\n",
    "\n",
    "For now, we'll just focus on `COUNT`. `COUNT` will count the number of records that meet certain condition. Here's a standard SQL query using `COUNT`:\n",
    "\n",
    "```sql\n",
    " \"SELECT COUNT([column name]) FROM [table name] WHERE [column name] = [value]\"\n",
    "```\n",
    "Let's try it out and count the number of cats who have an `owner_id` of `1`:\n",
    "\n",
    "```sql\n",
    "SELECT COUNT(owner_id) FROM cats WHERE owner_id = 1;\n",
    "```"
   ]
  },
  {
   "cell_type": "code",
   "execution_count": null,
   "metadata": {},
   "outputs": [],
   "source": [
    "# retrieve the count of cats whose owner id = 1 here"
   ]
  },
  {
   "cell_type": "markdown",
   "metadata": {},
   "source": [
    "This should return:\n",
    "\n",
    "```python\n",
    "(2,)\n",
    "```"
   ]
  },
  {
   "cell_type": "markdown",
   "metadata": {},
   "source": [
    "### `GROUP BY`\n",
    "\n",
    "Lastly, we'll talk about the handy aggregate function `GROUP BY`. Like its name\n",
    "suggests, it groups your results by a given column.\n",
    "\n",
    "Let's take our table of cats\n",
    "\n",
    "```bash\n",
    "id          name        age         breed          owner_id  \n",
    "----------  ----------  ----------  -------------  ----------\n",
    "1           Maru        3           Scottish Fold  1         \n",
    "2           Hana        1           Tabby          1         \n",
    "3           Lil\\' Bub   5           American Shor            \n",
    "4           Moe         10          Tabby                    \n",
    "5           Patches     2           Calico                   \n",
    "6                                   Tabby                    \n",
    "```\n",
    "\n",
    "Here, we can see at a glance that there are three tabby cats and\n",
    "one of every other breed — but what if we had a larger database\n",
    "where we couldn't just tally up the number of cats *grouped by*\n",
    "breed? That's where — you guessed it! — `GROUP BY` comes in handy.\n",
    "\n",
    "``` sql\n",
    "SELECT breed, COUNT(breed) FROM cats GROUP BY breed;\n",
    "```"
   ]
  },
  {
   "cell_type": "code",
   "execution_count": null,
   "metadata": {},
   "outputs": [],
   "source": [
    "# execute GROUP BY sql statement here"
   ]
  },
  {
   "cell_type": "markdown",
   "metadata": {},
   "source": [
    "This should return\n",
    "\n",
    "```python\n",
    "[('American Shorthair', 1), ('Calico', 1), ('Scottish Fold', 1), ('Tabby', 3)]\n",
    "```\n",
    "\n",
    "GROUP BY is a great function for aggregating results into different\n",
    "segments — you can even use it on multiple columns!\n",
    "\n",
    "```sql\n",
    "SELECT breed, owner_id, COUNT(breed) FROM cats GROUP BY breed, owner_id;\n",
    "```"
   ]
  },
  {
   "cell_type": "code",
   "execution_count": null,
   "metadata": {
    "scrolled": false
   },
   "outputs": [],
   "source": [
    "# execute multiple column group by statement here"
   ]
  },
  {
   "cell_type": "markdown",
   "metadata": {},
   "source": [
    "This should return:\n",
    "\n",
    "```python\n",
    "[('American Shorthair', None, 1),\n",
    " ('Calico', None, 1),\n",
    " ('Scottish Fold', 1, 1),\n",
    " ('Tabby', None, 2),\n",
    " ('Tabby', 1, 1)]\n",
    "```"
   ]
  },
  {
   "cell_type": "markdown",
   "metadata": {},
   "source": [
    "### Note on `SELECT`\n",
    "\n",
    "We are now familiar with this syntax:\n",
    "\n",
    "```sql\n",
    "SELECT name FROM cats;\n",
    "```\n",
    "\n",
    "However, you may not know that this can be written like this as well:\n",
    "\n",
    "```sql\n",
    "SELECT cats.name FROM cats;\n",
    "```\n",
    "\n",
    "Both return:\n",
    "\n",
    "```python\n",
    "[('Maru',), ('Hana',), (\"Lil' Bub\",), ('Moe',), ('Patches',), (None,)] \n",
    "```\n",
    "\n",
    "SQLite allows us to explicitly state the tableName.columnName we want to select. This is particularly useful when we want data from two different tables.\n",
    "\n",
    "Imagine we have another table called `dogs` with a column for the dog names:\n",
    "\n",
    "```sql\n",
    "CREATE TABLE dogs (\n",
    "\tid INTEGER PRIMARY KEY,\n",
    "\tname TEXT\n",
    ");\n",
    "```\n",
    "\n",
    "```sql\n",
    "INSERT INTO dogs (name) VALUES (\"Clifford\");\n",
    "```\n",
    "\n",
    "\n",
    "If we want to get the names of all the dogs and cats, we can no longer run a query with just the column name.\n",
    "`SELECT name FROM cats,dogs;` will return `Error: ambiguous column name: name`.\n",
    "\n",
    "Instead, we must explicitly follow the tableName.columnName syntax.\n",
    "```sql\n",
    "SELECT cats.name, dogs.name FROM cats, dogs;\n",
    "```\n",
    "\n",
    "You may see this in the future. Don't let it trip you up.\n",
    "\n",
    "<p class='util--hide'>View <a href='https://learn.co/lessons/sql-queries-basic-readme'>Basic SQL Queries</a> on Learn.co and start learning to code for free.</p>"
   ]
  },
  {
   "cell_type": "markdown",
   "metadata": {},
   "source": [
    "## Summary"
   ]
  },
  {
   "cell_type": "markdown",
   "metadata": {},
   "source": [
    "In this lesson, you expanded your SQL knowledge by learning how to modify your data using statements like `ORDER BY`. \n",
    "Additionally, you learned how to filter and limit your results."
   ]
  }
 ],
 "metadata": {
  "kernelspec": {
   "display_name": "Python 3",
   "language": "python",
   "name": "python3"
  },
  "language_info": {
   "codemirror_mode": {
    "name": "ipython",
    "version": 3
   },
   "file_extension": ".py",
   "mimetype": "text/x-python",
   "name": "python",
   "nbconvert_exporter": "python",
   "pygments_lexer": "ipython3",
   "version": "3.6.4"
  }
 },
 "nbformat": 4,
 "nbformat_minor": 2
}
