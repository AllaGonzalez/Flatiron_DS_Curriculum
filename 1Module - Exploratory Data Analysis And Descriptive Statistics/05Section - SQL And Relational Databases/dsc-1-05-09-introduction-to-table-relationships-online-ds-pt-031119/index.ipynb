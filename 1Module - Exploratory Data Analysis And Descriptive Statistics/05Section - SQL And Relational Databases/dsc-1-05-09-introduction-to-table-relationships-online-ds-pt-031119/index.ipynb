{
 "cells": [
  {
   "cell_type": "markdown",
   "metadata": {},
   "source": [
    "# Introduction to Table Relationships"
   ]
  },
  {
   "cell_type": "markdown",
   "metadata": {},
   "source": [
    "## Introduction\n",
    "\n",
    "In this lesson, we'll relate data from one table to data from another table using foreign keys. "
   ]
  },
  {
   "cell_type": "markdown",
   "metadata": {},
   "source": [
    "## Objectives\n",
    "You will be able to:\n",
    "* Understand the benefits of using related tables in SQL databases"
   ]
  },
  {
   "cell_type": "markdown",
   "metadata": {},
   "source": [
    "## Why Relate Tables?\n",
    "\n",
    "It's hard to imagine an application that saves data but doesn't relate it. For example––a Facebook user is associated to other users via \"friendships\", an Amazon user has a shopping cart full of items, a blog's author has many posts and posts might in turn have many tags. All of these examples require different datasets to be related or associated to one another. "
   ]
  },
  {
   "cell_type": "markdown",
   "metadata": {},
   "source": [
    "## Relating Tables with Foreign Keys\n",
    "\n",
    "Continuing the posts and authors examples, you could say that an author *has many* posts. The reciprocal of this would be that a post *belongs to* an author. Now we need to figure out how we can represent that relationship within the constraints of SQLite. If you were writing just plain Python, how would you represent this relationship? Well we could have some dictionaries; one for an Author with the author's name, email, etc. and a key for `posts` which points to a list of dictionaries that contain all the information for a particular post (i.e. `title`, `content`, `date_written`, `author`, etc.) This is an okay way to model the relationship, but there is no data type for lists in SQL. You can only have `INTEGER`, `FLOAT`, and `TEXT`. So developers had to figure out how to relate two rows or records (a `Post` and an `Author`) using only those data types. Is there any way we can convert an `INTEGER` into a specific row in a table? OH YEAH. The `id` column or `PRIMARY KEY` for each row is a unique `INTEGER` identifier for that row. Let's say the Post \"10 Ways to Pet Your Cat\" is written by \"Joe Burgess\", and Joe's `id` is 5. We just need to add a new column to our Posts table with the `id` of the Author that it's related to. Let's call this column `author_id`.\n",
    "\n",
    "Why didn't we do the reverse? Why didn't we add a list of Post IDs to a single Author row? The answer is pretty straight forward. Is there an list data type? Is there really any way to store multiple items in a single column? Nope! So we just set up the relation in one direction.\n",
    "\n",
    "This `author_id` column is called a **foreign key**.\n",
    "\n",
    "To associate one table to another, give one table a column called `foreign key` with a type of `INTEGER` and insert the primary key of another table row into that column. In other words, if we have a blogging app, we might have a users table and a posts table. Posts belong to the user that wrote that post. So, the posts table would have a foreign key column. An individual post's foreign key value would be the primary key ID of the user who authored that post. \n",
    "\n",
    "This is a little confusing, so let's build out our own example together. "
   ]
  },
  {
   "cell_type": "markdown",
   "metadata": {},
   "source": [
    "### Code Along I: Relating Cats to Owners\n",
    "\n",
    "Let's say we are creating an app that helps a veterinary office manage the pets it sees as patients and the owners of those pets. Let's say this vet is very particular and specializes in cats. Our app will have a database that has a `cats` table and an `owners` table. We will need a way to relate, or connect, these two tables such that a given cat is associated to its owner and a given owner is associated to the cat (or cats) it owns.\n",
    "\n",
    "For this exercise, we'll be working with a `pets_database`. In your notebook, create the database with the following commands:\n",
    "```python\n",
    "import sqlite3\n",
    "connection = sqlite3.connect('pets_database.db')\n",
    "cursor = connection.cursor()\n",
    "```"
   ]
  },
  {
   "cell_type": "code",
   "execution_count": 3,
   "metadata": {},
   "outputs": [],
   "source": [
    "# create db, connection, and cursor here"
   ]
  },
  {
   "cell_type": "markdown",
   "metadata": {},
   "source": [
    "Let's set up our two tables now. "
   ]
  },
  {
   "cell_type": "markdown",
   "metadata": {},
   "source": [
    "#### Step 1: Creating the Cats Table\n",
    "\n",
    "Create the table with the following SQL statement:\n",
    "\n",
    "```sql\n",
    "CREATE TABLE cats ( id INTEGER PRIMARY KEY, name TEXT, age INTEGER, breed TEXT);\n",
    "```"
   ]
  },
  {
   "cell_type": "code",
   "execution_count": 5,
   "metadata": {},
   "outputs": [],
   "source": [
    "# create table here"
   ]
  },
  {
   "cell_type": "markdown",
   "metadata": {},
   "source": [
    "Now, go ahead and insert the following cats into the table:\n",
    "\n",
    "```sql\n",
    "INSERT INTO cats (name, age, breed) VALUES (\"Maru\", 3, \"Scottish Fold\");\n",
    "\n",
    "INSERT INTO cats (name, age, breed) VALUES (\"Hana\", 1, \"Tabby\");\n",
    "```"
   ]
  },
  {
   "cell_type": "code",
   "execution_count": null,
   "metadata": {},
   "outputs": [],
   "source": [
    "# insert data here"
   ]
  },
  {
   "cell_type": "markdown",
   "metadata": {},
   "source": [
    "#### Step 2: Creating the Owners Table\n",
    "\n",
    "First, we need to create our owners table. An owner should have an ID that is a primary key integer and a name that is text: \n",
    "\n",
    "```sql\n",
    "CREATE TABLE owners (id INTEGER PRIMARY KEY, name TEXT);\n",
    "```"
   ]
  },
  {
   "cell_type": "code",
   "execution_count": null,
   "metadata": {},
   "outputs": [],
   "source": [
    "# create owners table here"
   ]
  },
  {
   "cell_type": "markdown",
   "metadata": {},
   "source": [
    "Now that we have our owners table, we can add a foreign key column to the pets table. "
   ]
  },
  {
   "cell_type": "code",
   "execution_count": null,
   "metadata": {},
   "outputs": [],
   "source": [
    "cursor.execute('''CREATE TABLE owners (id INTEGER PRIMARY KEY, name TEXT);''')"
   ]
  },
  {
   "cell_type": "markdown",
   "metadata": {},
   "source": [
    "#### Step 3: Add Foreign Key to Cats Table\n",
    "\n",
    "Use the following statement to add this column: \n",
    "\n",
    "```sql\n",
    "ALTER TABLE cats ADD COLUMN owner_id INTEGER;\n",
    "```"
   ]
  },
  {
   "cell_type": "code",
   "execution_count": 16,
   "metadata": {},
   "outputs": [],
   "source": [
    "# alter table here"
   ]
  },
  {
   "cell_type": "markdown",
   "metadata": {},
   "source": [
    "To check your cats table schema when there are multiple tables, we can execute the following SQL statement: `SELECT * FROM sqlite_master WHERE name=\"cats\"`. This will return only the table in the database that has the name `cats`.\n",
    "\n",
    "```python\n",
    "[('table',\n",
    "  'cats',\n",
    "  'cats',\n",
    "  2,\n",
    "  'CREATE TABLE cats ( id INTEGER PRIMARY KEY, name TEXT, age INTEGER, breed TEXT)')]\n",
    "```\n",
    "\n",
    "Great, now we're ready to associate cats to their owners by creating an owner and assigning that owner's ID to certain cats' `owner_id` column."
   ]
  },
  {
   "cell_type": "markdown",
   "metadata": {},
   "source": [
    " #### Step 4: Associating Cats to Owners\n",
    "\n",
    "First, let's make a new owner: \n",
    "\n",
    "```sql\n",
    "INSERT INTO owners (name) VALUES (\"mugumogu\");\n",
    "```"
   ]
  },
  {
   "cell_type": "code",
   "execution_count": null,
   "metadata": {},
   "outputs": [],
   "source": [
    "# insert new owner record here"
   ]
  },
  {
   "cell_type": "markdown",
   "metadata": {},
   "source": [
    "Check that we did that correctly with the following statement: \n",
    "\n",
    "```sql\n",
    "SELECT * FROM owners;\n",
    "```"
   ]
  },
  {
   "cell_type": "code",
   "execution_count": null,
   "metadata": {},
   "outputs": [],
   "source": [
    "# check new owner record here"
   ]
  },
  {
   "cell_type": "markdown",
   "metadata": {},
   "source": [
    "You should see the following: \n",
    "\n",
    "\n",
    "```sql\n",
    "[(1, 'mugumogu')]\n",
    "```\n",
    "\n",
    "Mugumogu is the owner of both Hana and Maru. Let's create our associations: \n",
    "\n",
    "```sql\n",
    "UPDATE cats SET owner_id = 1 WHERE name = \"Maru\";\n",
    "UPDATE cats SET owner_id = 1 WHERE name = \"Hana\";\n",
    "```"
   ]
  },
  {
   "cell_type": "markdown",
   "metadata": {},
   "source": [
    "Let's check out our updated `cats` table: \n",
    "\n",
    "```sql\n",
    "SELECT * FROM cats WHERE owner_id = 1;\n",
    "```"
   ]
  },
  {
   "cell_type": "code",
   "execution_count": null,
   "metadata": {},
   "outputs": [],
   "source": [
    "# check updated cats table here"
   ]
  },
  {
   "cell_type": "markdown",
   "metadata": {},
   "source": [
    "This should return:\n",
    "\n",
    "```sql\n",
    "[(1, 'Maru', 3, 'Scottish Fold', 1), (2, 'Hana', 1, 'Tabby', 1)]\n",
    "```"
   ]
  },
  {
   "cell_type": "markdown",
   "metadata": {},
   "source": [
    "### Establishing Foreign Key: Determining Which Table Gets a \"foreign key\" Column\n",
    "\n",
    "Why did we decide to give our `cats` table the foreign key column and not the `owners` table? Similarly, in the example from the beginning of this exercise, why would we give a `posts` table a foreign key of `user_id` and not the other way around? \n",
    "\n",
    "Let's look at what would happen if we tried to add cats directly to the `owners` table.\n",
    "\n",
    "Adding the first cat, \"Maru\", to the owner \"mugumogu\" would look something like this: \n",
    "\n",
    "| id | name | cat_id|\n",
    "|----|------|-------|\n",
    "| 1  | mugumogu | 1 |\n",
    "\n",
    "So far so good. But what happens when we need to add a second cat, \"Hana\", to the same owner?\n",
    "\n",
    "| id | name | cat_id1| cat_id2 |\n",
    "|----|------|-------|----------|\n",
    "| 1  | mugumogu | 1 | 2        |\n",
    "\n",
    "What if this owner gets *yet another cat?* We'd have to keep growing our table horizontally, potentially forever. That is not efficient, or organized. \n",
    "\n",
    "We can also think about the relationship between our owners and our cats in the context of a \"has many\" and \"belongs to\" relationship. An owner can have many cats, but –– at least for the purposes of this example –– a cat can only belong to one owner. Similarly, a user can write many posts, but each post was written by, and therefore belongs to, only one user.\n",
    "\n",
    "The thing that \"has many\" is considered to be the parent. The thing that \"belongs to\" we'll call the child. The child table gets the foreign key column, the value of which is the primary key of that data's/row's parent. \n",
    "\n",
    "Practice SQL Queries on <a href=\"http://sqlbolt.com/lesson/select_queries_review\">SQLBolt</a>."
   ]
  },
  {
   "cell_type": "markdown",
   "metadata": {},
   "source": [
    "## Summary"
   ]
  },
  {
   "cell_type": "markdown",
   "metadata": {},
   "source": [
    "Great job! You now understand the benefits of using related tables in SQL databases, and how to establish a foreign key."
   ]
  }
 ],
 "metadata": {
  "kernelspec": {
   "display_name": "Python 3",
   "language": "python",
   "name": "python3"
  },
  "language_info": {
   "codemirror_mode": {
    "name": "ipython",
    "version": 3
   },
   "file_extension": ".py",
   "mimetype": "text/x-python",
   "name": "python",
   "nbconvert_exporter": "python",
   "pygments_lexer": "ipython3",
   "version": "3.6.4"
  }
 },
 "nbformat": 4,
 "nbformat_minor": 2
}
