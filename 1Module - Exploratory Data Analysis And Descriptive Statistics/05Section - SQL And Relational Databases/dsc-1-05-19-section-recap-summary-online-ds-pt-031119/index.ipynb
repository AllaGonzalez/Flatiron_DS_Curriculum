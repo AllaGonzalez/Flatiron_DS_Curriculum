{
 "cells": [
  {
   "cell_type": "markdown",
   "metadata": {},
   "source": [
    "# Section Recap"
   ]
  },
  {
   "cell_type": "markdown",
   "metadata": {},
   "source": [
    "## Introduction\n",
    "\n",
    "This short lesson summarizes the topics we covered in section 05 and why they'll be important to you as a data scientist."
   ]
  },
  {
   "cell_type": "markdown",
   "metadata": {},
   "source": [
    "## Objectives\n",
    "You will be able to:\n",
    "* Understand and explain what was covered in this section\n",
    "* Understand and explain why this section will help you become a data scientist"
   ]
  },
  {
   "cell_type": "markdown",
   "metadata": {},
   "source": [
    "## Key Takeaways\n",
    "In this section, we focused entirely on SQL - both for retrieving data from relational databases and for operating on data within a Pandas DataFrame. Key takeaways:\n",
    "\n",
    "* Huge quantities of data is stored within organizations in relational databases and it's critical as a data scientist to be well versed in using SQL to retrive that data\n",
    "* The key benefit of relational databases is the ability to normalize your data so you don't have to repeat information in multiple placed where you might forget to update it\n",
    "* SQL also works on Pandas DataFrames, giving you another way to leverage your SQL skills when operating on data that may have come from a range of different types of data sources.\n",
    "\n",
    "Make sure to practice your SQL whenever you get a chance. It's an incredible powerful tool for retriving and operating on data!"
   ]
  }
 ],
 "metadata": {
  "kernelspec": {
   "display_name": "Python 3",
   "language": "python",
   "name": "python3"
  },
  "language_info": {
   "codemirror_mode": {
    "name": "ipython",
    "version": 3
   },
   "file_extension": ".py",
   "mimetype": "text/x-python",
   "name": "python",
   "nbconvert_exporter": "python",
   "pygments_lexer": "ipython3",
   "version": "3.6.5"
  }
 },
 "nbformat": 4,
 "nbformat_minor": 2
}
