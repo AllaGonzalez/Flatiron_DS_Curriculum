{
 "cells": [
  {
   "cell_type": "markdown",
   "metadata": {},
   "source": [
    "# Section Recap"
   ]
  },
  {
   "cell_type": "markdown",
   "metadata": {},
   "source": [
    "## Introduction\n",
    "\n",
    "This short lesson summarizes the topics we covered in section 04 and why they'll be important to you as a data scientist."
   ]
  },
  {
   "cell_type": "markdown",
   "metadata": {},
   "source": [
    "## Objectives\n",
    "You will be able to:\n",
    "* Understand and explain what was covered in this section\n",
    "* Understand and explain why this section will help you become a data scientist"
   ]
  },
  {
   "cell_type": "markdown",
   "metadata": {},
   "source": [
    "## Key Takeaways\n",
    "In this section, we spent time getting comfortable with a range of practical techniques for cleaning up data. Key takeaways:\n",
    "* Lambda functions can be a useful tool for describing transformations you want to apply without having to pre-define the function\n",
    "* The `.groupby()` method in Pandas is very useful for splitting, applying and grouping data sets\n",
    "* There are a wide range of methods for dealing with missing data in Pandas and it's important to think about your strategies for dealing with missing data before you start modeling\n",
    "\n",
    "We also got some practice cleaning up a data set, using queries and aggregations to group the data into intersting subsets and using descriptive statistics and data visualization to find the answers to questions."
   ]
  }
 ],
 "metadata": {
  "kernelspec": {
   "display_name": "Python 3",
   "language": "python",
   "name": "python3"
  },
  "language_info": {
   "codemirror_mode": {
    "name": "ipython",
    "version": 3
   },
   "file_extension": ".py",
   "mimetype": "text/x-python",
   "name": "python",
   "nbconvert_exporter": "python",
   "pygments_lexer": "ipython3",
   "version": "3.6.5"
  }
 },
 "nbformat": 4,
 "nbformat_minor": 2
}
