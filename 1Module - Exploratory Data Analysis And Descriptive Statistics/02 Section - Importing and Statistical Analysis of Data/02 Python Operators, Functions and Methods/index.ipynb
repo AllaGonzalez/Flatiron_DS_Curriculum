{
 "cells": [
  {
   "cell_type": "markdown",
   "metadata": {},
   "source": [
    "# Built-in Python Operators, Functions and Methods"
   ]
  },
  {
   "cell_type": "markdown",
   "metadata": {},
   "source": [
    "## Introduction\n",
    "\n",
    "As a data scientist you will spend a lot of time writing code in Python. In this lesson, we're going to introduce some features built right into the langage that will allow you to perform common tasks more quickly and easily."
   ]
  },
  {
   "cell_type": "markdown",
   "metadata": {},
   "source": [
    "## Objectives\n",
    "You will be able to:\n",
    "* Use base Python methods like `.append()`, `.upper()` and `.capitalize()`\n",
    "* Understand (simply) and explain what built in Python methods are\n",
    "* Understand, explain and use some base Python functions like `len()`, `type()`, `sum()`, `max()` and `min()`\n",
    "* Understand and explain what functions are and why they’re useful\n",
    "* Understand, explain and use Python comparison, logical, and identity operators"
   ]
  },
  {
   "cell_type": "markdown",
   "metadata": {},
   "source": [
    "## Introducing \"Objects\"\n",
    "\n",
    "Later in the course we're going to spend a good amount of time on introducing and giving you hands on practice in \"Object Oriented Programming\" (OOP). But for now, to understand how some of the features in Python work, we're going to have to provide you with a brief introduction to some basic concepts. \n",
    "\n",
    "A function is a piece of reusable code. If you often want to capitalize a word, you might write (or use, if someone else has written) a \"function\" called `capitalize()` that will take a string and make it all upper case.\n",
    "\n",
    "An object is a collection of data and functions. It turns out that for many types of programming, putting your functions and data together into \"objects\" is a really useful way to organize all of your code to make it easy to keep track of.\n",
    "\n",
    "If a function is part of an object we call it a method.\n",
    "\n",
    "Python has a number of built in functions and various objects in Python have built in methods.\n",
    "\n",
    "Really understanding objects, functions and methods will probably take a while, and it's something we'll come back to a number of times, but for now, here are the three things you need to know:\n",
    "* Python comes with a range of built in pieces of code to perform common tasks\n",
    "* Some of them you use by writing their name first - e.g. `type(\"hello\")` - those are called functions\n",
    "* Others require you to take an object and \"call a method on the object\" e.g. `my_name.capitalize()` - they are methods\n",
    "\n",
    "Don't worry if it's a bit confusion for now, we'll come back to this repeatedly until it's second nature!\n"
   ]
  },
  {
   "cell_type": "markdown",
   "metadata": {},
   "source": [
    "## Python Methods\n",
    "\n",
    "Most higher-level languages like Python have types like strings or lists that actually come built-in with some really great functionality, which we call methods. Methods are, essentially, functions that are attached or **bound to an object**. Now that sentence might not make complete sense, so, let's unpack it. \n",
    "\n",
    "We have seen some methods and functions already. For example, we have seen and used the `type()` function and the `.title()` method. The key difference is that the `.title()` method has always been bound to a string. The `type()` function, however, is not called on a string or any data type. \n",
    "\n",
    "```python\n",
    "\"hello, i am a string.\".title() # \"Hello, I Am A String.\"\n",
    "\n",
    "type(\"hello, i am a string.\") # str\n",
    "```\n",
    "To illustrate even more clearly, try running the next cell. We will find that Python doesn't know what `title()` is when it is not attached to a string. This is because it is a **method** that is **bound** to the string"
   ]
  },
  {
   "cell_type": "code",
   "execution_count": null,
   "metadata": {},
   "outputs": [],
   "source": [
    "title(\"hello\")"
   ]
  },
  {
   "cell_type": "markdown",
   "metadata": {},
   "source": [
    "Don't worry too much about the differences between the two. For now, just know that methods will always need an object or piece of data to be called on, like a string, list, or dictionary. Now let's take a look at a few of these frequently used methods.\n",
    "\n",
    "First, let's look at the `.upper()`, `.lower()`, `.capitalize()` methods, which are all **string methods**, meaning they are only called on strings.\n",
    "\n",
    "* `.upper()` is used to make all characters in a string uppercased.\n",
    "* `.lower()` is used to make all characters in a string lowercased.\n",
    "* `.capitalize()` is used to make only the **first** character in a string uppercased."
   ]
  },
  {
   "cell_type": "code",
   "execution_count": null,
   "metadata": {},
   "outputs": [],
   "source": [
    "print(\"hello, im uppercased\".upper())\n",
    "print(\"HELLO, IM LOWERCASED\".lower())\n",
    "print(\"hello, im capitalized\".capitalize())"
   ]
  },
  {
   "cell_type": "markdown",
   "metadata": {},
   "source": [
    "Next, let's look at some **list methods**.\n",
    "\n",
    "* `.append([ELEMENT])` is used to add a given element to the end of a list.\n",
    "* `.pop()` is used to remove the last element from the list (or if an index is given, it removes the element at that index).\n",
    "* `.extend([SECOND_LIST])` is used to add all elements from a second list to the first list.\n",
    "\n",
    "It is important to note the **return value** from each of these methods is not the resulting list. These operations **alter** the original list on which we are operating."
   ]
  },
  {
   "cell_type": "code",
   "execution_count": null,
   "metadata": {},
   "outputs": [],
   "source": [
    "list_append = [1,2,3,4]\n",
    "list_append.append(5)\n",
    "print(list_append)\n",
    "list_pop = [4,5,6,7]\n",
    "list_pop.pop()\n",
    "print(list_pop)\n",
    "list_one = [1,2,3]\n",
    "list_two = [4,5,6]\n",
    "list_one.extend(list_two)\n",
    "print(list_one)"
   ]
  },
  {
   "cell_type": "markdown",
   "metadata": {},
   "source": [
    "Finally, we'll look at a few **dictionary methods**\n",
    "\n",
    "* `.keys()` is used to return a list-like `dict_keys` object with the name of each key in the dictionary\n",
    "* `.values()` is used to return a list-like `dict_values` object with the values in the dictionary"
   ]
  },
  {
   "cell_type": "code",
   "execution_count": null,
   "metadata": {},
   "outputs": [],
   "source": [
    "dictionary = {'name-key': 'example-dict', 'key2': 'value2', 'num_keys': 3}\n",
    "print(dictionary.keys())\n",
    "print(dictionary.values())"
   ]
  },
  {
   "cell_type": "markdown",
   "metadata": {},
   "source": [
    "> **Note:** If we wanted to see all built-in methods for a data type, we can call Python's `dir()` function like we are below. We just need to give the `dir()` function the data type we want to look at (i.e. `str`, `dict`, `list`, `int` etc.)"
   ]
  },
  {
   "cell_type": "code",
   "execution_count": null,
   "metadata": {},
   "outputs": [],
   "source": [
    "dir(str)"
   ]
  },
  {
   "cell_type": "markdown",
   "metadata": {},
   "source": [
    "## Python Functions"
   ]
  },
  {
   "cell_type": "markdown",
   "metadata": {},
   "source": [
    "Next, we will talk about some of Python's built in **functions**. Unlike methods, Functions are not bound to any particular object or type of object. They can be called by themselves, however, they typically require an argument. Let's take a look at an example before we get too far into how functions work.\n",
    "\n",
    "The `print()` function takes in as many arguments as we want. It then returns each arguumet *stringified* or the string form of each argument. It can also be executed without any argument, but we will just not have any return value."
   ]
  },
  {
   "cell_type": "code",
   "execution_count": null,
   "metadata": {},
   "outputs": [],
   "source": [
    "print()"
   ]
  },
  {
   "cell_type": "code",
   "execution_count": null,
   "metadata": {},
   "outputs": [],
   "source": [
    "print([\"this\", \"is\", \"a\", \"list\"], {\"this-is\": 'a-dictionary'}, \"this is a string and third argument\")"
   ]
  },
  {
   "cell_type": "markdown",
   "metadata": {},
   "source": [
    "The `type()` function takes in one argument, any piece of data, and it return the **type** of that data. So, if the argument is a dictionary (`{}`), we will get the return value of `dict`."
   ]
  },
  {
   "cell_type": "code",
   "execution_count": null,
   "metadata": {},
   "outputs": [],
   "source": [
    "type({})"
   ]
  },
  {
   "cell_type": "code",
   "execution_count": null,
   "metadata": {},
   "outputs": [],
   "source": [
    "type(\"\")"
   ]
  },
  {
   "cell_type": "markdown",
   "metadata": {},
   "source": [
    "The `len()` function takes in a collection, which is generally an object we can iterate through, like a dictionary or a list, and it returns the number of elements contained within that collection. In the case of a dictionary, it returns the number of key, value pairs."
   ]
  },
  {
   "cell_type": "code",
   "execution_count": null,
   "metadata": {},
   "outputs": [],
   "source": [
    "len({\"this-is\": 'a-dictionary', \"with-two\": \"key value pairs\"})"
   ]
  },
  {
   "cell_type": "code",
   "execution_count": null,
   "metadata": {},
   "outputs": [],
   "source": [
    "len([\"this\", \"is\", 1, \"list\", \"with\", 7, \"elements\"])"
   ]
  },
  {
   "cell_type": "markdown",
   "metadata": {},
   "source": [
    "The `sum()`function operates on lists that contain **only numbers** and returns the sum of all the numbers within the list"
   ]
  },
  {
   "cell_type": "code",
   "execution_count": null,
   "metadata": {},
   "outputs": [],
   "source": [
    "sum([10, 11, 13, 14, 9, 14.5])"
   ]
  },
  {
   "cell_type": "markdown",
   "metadata": {},
   "source": [
    "The `max()` and `min()` functions operate on collections that **contain only one data type**, which can be compared using a comparison operator like `<`, which we will explore later. Generally we will be using these functions on lists with either all **numbers** or all **strings**. "
   ]
  },
  {
   "cell_type": "code",
   "execution_count": null,
   "metadata": {},
   "outputs": [],
   "source": [
    "min([\"this\", \"is\", \"a\", \"list\"])"
   ]
  },
  {
   "cell_type": "code",
   "execution_count": null,
   "metadata": {},
   "outputs": [],
   "source": [
    "max([10, 11, 13, 14, 9, 14.5])"
   ]
  },
  {
   "cell_type": "markdown",
   "metadata": {},
   "source": [
    "## Python Operators"
   ]
  },
  {
   "cell_type": "markdown",
   "metadata": {},
   "source": [
    "### What Are Comparison Operators?"
   ]
  },
  {
   "cell_type": "markdown",
   "metadata": {},
   "source": [
    "Comparison operators (or Relational operators) take two elements and compare their values and then return a value that is either True or False. In Python, comparison operators are:\n",
    "\n",
    "```python\n",
    "== # tests equality between two elements\n",
    "!= # tests inequality between two elements\n",
    "<, >, <=, >= # each tests the value between two elements\n",
    "```\n",
    "Perhaps the last line's operators are a little more familiar because we've seen these operators in math classes. But the first two might be bit more confusing, so, let's dive into those first.\n",
    "\n",
    "The double equals operator (`==`) is testing whether the value of the first element is equal to that of the second element (e.g. `element1 == element2`).\n",
    "```python \n",
    "False == True # returns False\n",
    "False == False # returns True\n",
    "10 == 20 # returns False\n",
    "10 == 10 # returns True\n",
    "\"hi\" == \"HI\" # returns False\n",
    "\"heLLo\" == \"heLLo\" # returns True\n",
    "```\n",
    "\n",
    "The bang (exclamation point) equals operator (`!=`) is testing whether the value of first element is **NOT** equal to that of the second element (e.g. `element1 != element2`).\n",
    "\n",
    "```python \n",
    "True != True # returns False\n",
    "True != False # returns True\n",
    "10 != 20 # returns True\n",
    "10 != 10 # returns False\n",
    "\"hi\" != \"HI\" # returns True\n",
    "\"heLLo\" != \"heLLo\" # returns False\n",
    "```\n",
    "\n"
   ]
  },
  {
   "cell_type": "markdown",
   "metadata": {},
   "source": [
    "Now onto the third grouping of comaparison operators. The greater than (`>`), less than (`<`), greater than or equal to (`>=`) and less than or equal (`<=`) to operators also only return True or False from an operation. Essentially they are doing the same thing as the operators we see above, but the comparison is slightly different.\n",
    "\n",
    "```python\n",
    "True > True # False\n",
    "True >= True # True\n",
    "10 <= 10 # True\n",
    "7 < 7 # False\n",
    "10 < 100 # True\n",
    "100 > 101 # False\n",
    "```\n",
    "We can even compare strings to see which is alphabetically greater or less than. A string is greater than if it comes after another string alphabetically (or if its ascii value is greater). An important note is that capital letters have lower ascii values, which means that they come earlier in the alphabet than lowercase letters. For example the ascii Alphalbet would look something like: `Aa Bb Cc Dd Ee Ff ... Xx Yy Zz` with `A` having the lowest ascii value and `z` having the highest ascii value.\n",
    "\n",
    "```python\n",
    "\"APPLE\" < \"apple\" # True\n",
    "\"aaron\" > \"alexa\" # False\n",
    "\"Terrance\" > \"Teresa\" # True\n",
    "\"SAME\" == \"SAME\" # True\n",
    "```\n",
    "So, when comparing strings to other strings, it is important to be cognizant of whether the comparison should be case sensitive or not."
   ]
  },
  {
   "cell_type": "markdown",
   "metadata": {},
   "source": [
    "### How Are Comparison Operators Used?\n",
    "We've already seen some examples of this above. Essentially, we use comparison operators to *compare* two things. So, the most basic structure is two elements with an operator in between. The return value will be `True` or `False`. The best way to get comfortable with comparison operators is through practice, so, let's take a look at some examples:"
   ]
  },
  {
   "cell_type": "code",
   "execution_count": null,
   "metadata": {},
   "outputs": [],
   "source": [
    "print('1.', True != True) # False\n",
    "print('2.', False == True) # False\n",
    "print('3.', 10 == \"10\") # False\n",
    "print('4.', \"hi\" != \"HI\") # True\n",
    "print('5.', type(0) == int) # True\n",
    "print('6.', [\"hi\"] == [\"hi\"]) # True\n",
    "print('7.', \"Thomas\" != \"Samantha\") # True"
   ]
  },
  {
   "cell_type": "markdown",
   "metadata": {},
   "source": [
    "Above we can see examples using both the `!=` and `==` operators to compare elements of several datatypes and values. Remember that these operators are testing for the value of each element.\n",
    "\n",
    "Next, we will look at examples using the greater than (>), less than (<), greater than or equal to (>=) and less than or equal (<=) to operators."
   ]
  },
  {
   "cell_type": "code",
   "execution_count": null,
   "metadata": {},
   "outputs": [],
   "source": [
    "print('1.', True > True) # False\n",
    "print('2.', True >= True) # True\n",
    "print('3.', 10 <= 10) # True\n",
    "print('4.', 7 < 7) # False\n",
    "print('5.', 10 < 100) # True\n",
    "print('6.', 100 > 101) # False\n",
    "print('7.', \"APPLE\" < \"apple\") # True \n",
    "print('8.', \"aaron\" > \"alexa\") # False\n",
    "print('9.', \"Terrance\" > \"Teresa\") # True"
   ]
  },
  {
   "cell_type": "markdown",
   "metadata": {},
   "source": [
    "### Other Types of Operators - Logical Operators"
   ]
  },
  {
   "cell_type": "markdown",
   "metadata": {},
   "source": [
    "The next group of operators are logical operators. They compare truthy/falsy values. The operators are:\n",
    "```python\n",
    "and \n",
    "# Compares two elements. If both elements are truthy, the second element is returned\n",
    "# If there is a falsy value, the first falsy value is returned\n",
    "\n",
    "or \n",
    "# Compares two elements. The first truthy element is returned. \n",
    "# If both elements are falsy, the second element is returned\n",
    "\n",
    "not \n",
    "# returns a boolean value that is the opposite of the truthy/falsy value of the element\n",
    "```\n",
    "Let's see these in action:\n",
    "\n",
    "*try to reason what the values will be before running the code - **write** your answers in a comment next to the print statement*"
   ]
  },
  {
   "cell_type": "code",
   "execution_count": null,
   "metadata": {},
   "outputs": [],
   "source": [
    "print(\"1.\", 2 and 0) #\n",
    "print(\"2.\", False and 2) #\n",
    "print(\"3.\", True and 2) #\n",
    "print(\"4.\", 2 and 3) #\n",
    "print(\"5.\", 2 or []) #\n",
    "print(\"6.\", 0 or []) #\n",
    "print(\"7.\", not False) #\n",
    "print(\"8.\", not True) #\n",
    "print(\"9.\", not []) #\n",
    "print(\"10.\", not 0) #\n",
    "print(\"11.\", not 100) #"
   ]
  },
  {
   "cell_type": "markdown",
   "metadata": {},
   "source": [
    "### Other Types of Operators - Identity Operators"
   ]
  },
  {
   "cell_type": "markdown",
   "metadata": {},
   "source": [
    "The next type of operators are identity operators, `is` and `is not`. They check to see if one element **is** or **is not** the other element. This is similar to `!=` and `==`. However there is one key difference. The `!=` and `==` check to see if the value of each element is the same, however, the `is` and `is not` operators check to see if the elements are the same element. \n",
    "\n",
    "Let's check it out:\n",
    "\n",
    "*again, try to find the correct return value for each example and write the answer in a comment next to the print statement*"
   ]
  },
  {
   "cell_type": "code",
   "execution_count": null,
   "metadata": {},
   "outputs": [],
   "source": [
    "x = {'name': \"example\"}\n",
    "b = x\n",
    "c = {'name': \"example\"}\n",
    "print(\"1.\", {} is {}) #\n",
    "print(\"1A.\", {} == {}) #\n",
    "print(\"2.\", [] is []) #\n",
    "print(\"3.\", \"Hi\" is \"Hi\") #\n",
    "print(\"4.\", [\"same\"] is [\"same\"]) #\n",
    "print(\"4A.\", [\"same\"] == [\"same\"]) #\n",
    "print(\"5.\", 9 is not 10) #\n",
    "print(\"6.\", x is b) #\n",
    "print(\"7.\", b is c) #\n",
    "print(\"7A.\", b == c) #\n",
    "print(\"8.\", x is not c) #"
   ]
  },
  {
   "cell_type": "markdown",
   "metadata": {},
   "source": [
    "As we can see, the `is` and `is not` operators are checking to see if the objects are exactly the same object in memory. However, the `==` and `!=` operators are simply checking to see if the value of each element is the same. This will become clearer as we learn more about how python stores data. \n",
    "\n",
    "All objects are stored in a specific place in memory, we can think of this as an address on the computer, so, all objects will have their own unique address. A **variable**, like `x`, is a **reference** to that object and not the object itself. So, when we use the `is` or `is not` operator, we are checking to see if the address of the object is the same as another object. When we use the `==` or `!=` operators, we are checking to see if they are basically equal in value, irrespective of whether they are the same or two different objects."
   ]
  },
  {
   "cell_type": "markdown",
   "metadata": {},
   "source": [
    "### BONUS: Ternary Operator "
   ]
  },
  {
   "cell_type": "markdown",
   "metadata": {},
   "source": [
    "The next operator is the Ternary. It is a bit more of a complicated operator, but it can be very useful when you would like to decide which value to assign to a variable. Ternaries are good for one-line conditions, but anything more complex makes ternary operators quite difficult to read. Let's check it out:"
   ]
  },
  {
   "cell_type": "code",
   "execution_count": 1,
   "metadata": {},
   "outputs": [
    {
     "name": "stdout",
     "output_type": "stream",
     "text": [
      "10\n"
     ]
    }
   ],
   "source": [
    "my_condition = True\n",
    "value = 10 if my_condition else 1000\n",
    "print(value)"
   ]
  },
  {
   "cell_type": "code",
   "execution_count": null,
   "metadata": {},
   "outputs": [],
   "source": [
    "# let's say we are receiving two variables with different \n",
    "# values and we want to assign the higher value to a new variable\n",
    "x = 12\n",
    "y = 20\n",
    "new_variable = x if x > y else y\n",
    "# here we are saying, take the value of x if it is greater than the value of y. else take the value of y\n",
    "# since x > y evaluates to false, the ternary returns the value of the variable after the else statement or y\n",
    "print(new_variable)"
   ]
  },
  {
   "cell_type": "markdown",
   "metadata": {},
   "source": [
    "# Summary\n",
    "In this lesson, we covered a lot of materials, so don't worry if it seems overwhelming right now. First we looked at Objects and then Python built-in methods and functions. These are objects that perform common operations on data. They help us greatly reduce the amount of code we write while also increasing the readibility, and efficiency of our code.\n",
    "\n",
    "Next we looked at operators in Python. Operators are fundamental tools in many languages that provide a succicnt way to compare multiple elements. Comparison operators return boolean values and compare the value between two elements. Logical operators compare the truthiness and falsiness of two elements and either return one of the elements or a boolean value. Logical operators compare two elements for their equality, that is whether they are the same object or not, and they return a boolean value. Lastly, ternary operators are used to assign a value to a variable. They use an if statement and another operator to compare two values and return one of two values, which is used to assign the value of a variable."
   ]
  }
 ],
 "metadata": {
  "kernelspec": {
   "display_name": "Python 3",
   "language": "python",
   "name": "python3"
  },
  "language_info": {
   "codemirror_mode": {
    "name": "ipython",
    "version": 3
   },
   "file_extension": ".py",
   "mimetype": "text/x-python",
   "name": "python",
   "nbconvert_exporter": "python",
   "pygments_lexer": "ipython3",
   "version": "3.6.5"
  }
 },
 "nbformat": 4,
 "nbformat_minor": 2
}
