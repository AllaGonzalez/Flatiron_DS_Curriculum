{
 "cells": [
  {
   "cell_type": "markdown",
   "metadata": {},
   "source": [
    "# Introduction"
   ]
  },
  {
   "cell_type": "markdown",
   "metadata": {},
   "source": [
    "## Introduction\n",
    "This lesson summarizes the topics we'll be covering in section 12 and why they'll be important to you as a data scientist."
   ]
  },
  {
   "cell_type": "markdown",
   "metadata": {},
   "source": [
    "## Objectives\n",
    "You will be able to:\n",
    "* Understand and explain what is covered in this section\n",
    "* Understand and explain why the section will help you to become a data scientist"
   ]
  },
  {
   "cell_type": "markdown",
   "metadata": {},
   "source": [
    "## Data Science Processes\n",
    "\n",
    "Now that we're learning about modeling, it's important to have a framework for the overall process. We kick off this section by learning about three of the most popular data science processes - CRISP-DM, KDD and OSEMN.\n",
    "\n",
    "## Obtaining Data\n",
    "\n",
    "We then go through the initial process of loading data, getting practice on importing data from a relational database using the ETL (Extract, Transform and Load) process.\n",
    "\n",
    "## Scrubbing our Data\n",
    "\n",
    "We then get some practice cleaning data:\n",
    "* Casting columns to the appropriate data types\n",
    "* Identifying and dealing with null values appropriately\n",
    "* Removing columns that aren't required for modeling\n",
    "* Checking for and dealing with multicollinearity\n",
    "* Normalizing the data\n",
    "\n",
    "## Exploring our Data\n",
    "\n",
    "Once we have the cleaned data in, we'll then do some EDA (Exploratory Data Analysis) to check out the distributions of the various columns, examine the descriptive statistucs for the data set and to create some initial visualizations to better help us to understand our data set.\n",
    "\n",
    "## Modeling our Data\n",
    "\n",
    "Finally, we're going to go through the modeling process - identifying the various steps involved in building a model, identifying target and predictor variables, and iterating through the modeling process. We're also going to introduce the concept of a \"holdout validation\" and see how we can better test our models by holding out a subset of our data from the training data set using to train the model.\n"
   ]
  },
  {
   "cell_type": "markdown",
   "metadata": {},
   "source": [
    "## Summary\n",
    "\n",
    "In this section, we're going to give you an end-to-end review of the data science process so that you're ready for the \"end of module 1\" project that you're going to work on after this section.\n"
   ]
  }
 ],
 "metadata": {
  "kernelspec": {
   "display_name": "Python 3",
   "language": "python",
   "name": "python3"
  },
  "language_info": {
   "codemirror_mode": {
    "name": "ipython",
    "version": 3
   },
   "file_extension": ".py",
   "mimetype": "text/x-python",
   "name": "python",
   "nbconvert_exporter": "python",
   "pygments_lexer": "ipython3",
   "version": "3.6.5"
  }
 },
 "nbformat": 4,
 "nbformat_minor": 2
}
