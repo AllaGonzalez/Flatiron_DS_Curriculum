{
 "cells": [
  {
   "cell_type": "markdown",
   "metadata": {},
   "source": [
    "# Holdout Validation"
   ]
  },
  {
   "cell_type": "markdown",
   "metadata": {},
   "source": [
    "## Introduction\n",
    "In this lesson, we will look at the basic model validation technique knows as hold out validation. This technique is generally used in predictive analysis to measure the predictive ability of the algorithms under study. "
   ]
  },
  {
   "cell_type": "markdown",
   "metadata": {},
   "source": [
    "## Objectives\n",
    "You will be able to:\n",
    "\n",
    "* Understand the concept of holdout validation and why it is used\n",
    "* Understand the implementation of  holdout validation"
   ]
  },
  {
   "cell_type": "markdown",
   "metadata": {},
   "source": [
    "## Validation Testing \n",
    "\n",
    "Validation testing is probably the most commonly used technique that a data scientist employs when there is  a need to **validate** the performance of A machine learning model. Validation testing is performed with one key question during predictive analysis : \n",
    "\n",
    "> **How well it would generalize to new data.**\n",
    "\n",
    "We have to be confident that our model has learned the patterns from the data correctly without taking into the consideration the noise. This lesson introduces you to the most basic validation technique called the \"Hold-out Validation\". \n"
   ]
  },
  {
   "cell_type": "markdown",
   "metadata": {},
   "source": [
    "#### Typically, different validation strategies exist based on the number of splits being done in the dataset.\n",
    "\n",
    "## Train/Test split or Holdout Validation.\n",
    "\n",
    "In this strategy, we simply split the data into two sets in a way that our observations do not overlap between train and test set do not overlap. That is the reason why **it is important not to have duplicated samples in our dataset**.\n",
    "\n",
    "\n",
    "For simple hold-out validation testing, data is split into two groups i.e. Training set and Testing set as shown below\n",
    "\n",
    "![](tt.png)"
   ]
  },
  {
   "cell_type": "markdown",
   "metadata": {},
   "source": [
    "### Train Dataset \n",
    "\n",
    ">The sample of data that we use to fit the model.\n",
    "\n",
    "This is the actual dataset that we use to train the model for learning parameters(slope and intercepts for regression analyses). The model trains on and learns from training data.\n",
    "\n",
    "### Test Dataset\n",
    "\n",
    "> The sample of data that we use to train the model \n",
    "\n",
    "The Test dataset provides the gold standard used to evaluate the model. It is only used once a model is completely trained(using the train set). The test set is generally what is used to evaluate competing models. The test set is generally well curated. It contains carefully sampled data that spans the various classes that the model would face, when used in the real world."
   ]
  },
  {
   "cell_type": "markdown",
   "metadata": {},
   "source": [
    "#### How to Split ??\n",
    "\n",
    "Depending on the number of observations available in our dataset, we can choose the level of split that we want to apply on the data. Usually it ranges anywhere between a 60/40 to 90/10 split for train/test data. If we have a large number of observations, we can hold back a large test set to be very sure about the validation process. For smaller dataset, we may not have the luxury of taking away 40% for the testing, so we might have to live with only  10% - or even less.\n",
    "\n",
    "The split gets applied to both predictors and the target variables so the split contains corresponding rows. IF X is a set of predictors and Y is the outcome, a train.test split may give an output as shown below:\n",
    "\n",
    "<img src=\"xy.svg\" width=400>"
   ]
  },
  {
   "cell_type": "markdown",
   "metadata": {},
   "source": [
    "The green boxes show X and Y for training, whereas the purple sections of data show the test set which would be \"Held Out\" till the validation stage. "
   ]
  },
  {
   "cell_type": "markdown",
   "metadata": {},
   "source": [
    "## Splitting Data in Python "
   ]
  },
  {
   "cell_type": "markdown",
   "metadata": {},
   "source": [
    "Python's Scikit-Learn library' offers handy data splitting methods out of the box. \n",
    "> **sklearn.model_selection.train_test_split(*arrays, **options)**\n",
    "\n",
    "[Click Here to visit the official documentation for this method.](http://scikit-learn.org/stable/modules/generated/sklearn.model_selection.train_test_split.html)\n",
    "\n",
    "Here is how you would run it . We will first generate some sample data to represent our X and y variables, and see how the split is applied to the data. "
   ]
  },
  {
   "cell_type": "code",
   "execution_count": 7,
   "metadata": {},
   "outputs": [
    {
     "name": "stdout",
     "output_type": "stream",
     "text": [
      "[[0 1]\n",
      " [2 3]\n",
      " [4 5]\n",
      " [6 7]\n",
      " [8 9]]\n",
      "[0, 1, 2, 3, 4]\n"
     ]
    }
   ],
   "source": [
    "import numpy as np\n",
    "from sklearn.model_selection import train_test_split\n",
    "X = np.arange(10).reshape((5, 2))\n",
    "y = range(5)\n",
    "\n",
    "print (X)\n",
    "print (list(y))"
   ]
  },
  {
   "cell_type": "markdown",
   "metadata": {},
   "source": [
    "We can now apply the split using the method shown earlier. For this example we will do a 70/30 split by specifying  `test_size=0.3` which means we are allocating 30% of the data to our test set. "
   ]
  },
  {
   "cell_type": "code",
   "execution_count": 9,
   "metadata": {},
   "outputs": [],
   "source": [
    " X_train, X_test, y_train, y_test = train_test_split(X, y, \n",
    "                                                     test_size=0.3, \n",
    "                                                     random_state=42) # for reproducility"
   ]
  },
  {
   "cell_type": "code",
   "execution_count": 11,
   "metadata": {},
   "outputs": [
    {
     "name": "stdout",
     "output_type": "stream",
     "text": [
      "[[4 5]\n",
      " [0 1]\n",
      " [6 7]]\n",
      "[2, 0, 3]\n",
      "[[2 3]\n",
      " [8 9]]\n",
      "[1, 4]\n"
     ]
    }
   ],
   "source": [
    "# Print the split datasets\n",
    "print (X_train)\n",
    "print (y_train)\n",
    "print (X_test)\n",
    "print (y_test)"
   ]
  },
  {
   "cell_type": "markdown",
   "metadata": {},
   "source": [
    "This method performs random sampling on the data so there is no order to the output you see above. This is a best approach to avoid any bias in the splitting process. \n",
    "\n",
    "In the following lab, we will apply the split on the Walmart dataset to validate our findings. "
   ]
  },
  {
   "cell_type": "markdown",
   "metadata": {},
   "source": [
    "## Summary \n",
    "\n",
    "In this lesson, we learned about the hold out validation technique as a way to validate our fitted models. Later we will see the shortcomings of this basic approach and also how to use more advanced validation techniques like cross validation and k-fold cross validation etc.  "
   ]
  }
 ],
 "metadata": {
  "kernelspec": {
   "display_name": "Python 3",
   "language": "python",
   "name": "python3"
  },
  "language_info": {
   "codemirror_mode": {
    "name": "ipython",
    "version": 3
   },
   "file_extension": ".py",
   "mimetype": "text/x-python",
   "name": "python",
   "nbconvert_exporter": "python",
   "pygments_lexer": "ipython3",
   "version": "3.6.4"
  }
 },
 "nbformat": 4,
 "nbformat_minor": 2
}
