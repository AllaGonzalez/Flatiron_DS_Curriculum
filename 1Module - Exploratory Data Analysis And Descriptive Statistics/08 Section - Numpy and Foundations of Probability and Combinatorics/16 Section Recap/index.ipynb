{
 "cells": [
  {
   "cell_type": "markdown",
   "metadata": {},
   "source": [
    "# Section Recap"
   ]
  },
  {
   "cell_type": "markdown",
   "metadata": {},
   "source": [
    "## Introduction\n",
    "\n",
    "This short lesson summarizes the topics we covered in section 08 and why they'll be important to you as a data scientist."
   ]
  },
  {
   "cell_type": "markdown",
   "metadata": {},
   "source": [
    "## Objectives\n",
    "You will be able to:\n",
    "* Understand and explain what was covered in this section\n",
    "* Understand and explain why this section will help you become a data scientist"
   ]
  },
  {
   "cell_type": "markdown",
   "metadata": {},
   "source": [
    "## Key Takeaways\n",
    "\n",
    "In this section, wee dug into a number of foundational concepts - from NumPy to the basics of Probability\n",
    "* Under the hood, Pandas relies on NumPy for computationally efficient processing of large data sets\n",
    "* In addition to providing a base for Pandas, NumPy has many useful features built right in - including the ability to perform random sampling\n",
    "* A scalar is a quantity that can be fully described by a magnitude (a single number). A vector can only fully be described by multiple numbers - e.g. a magnitude and a direction\n",
    "* NumPy supports a range of powerful Scalar and Vector mathematical operations\n",
    "* Probability is \"how likely\" it is that an event will happen\n",
    "* Sets in Python are unordered collections of unique elements\n",
    "* The inclusion exclusion principle is a counting technique to calculate the number of elements in a collection of sets with overlapping elements\n",
    "* The \"sum rule\" of probability states that $P(A\\cup B) = P(A) + P(B) - P(A \\cap B) $\n",
    "* Factorials provide the basis for calculating permutations \n",
    "* The difference between permutations and combinations is that with combinations, order is not important\n",
    "* The Bernoulli distribution can be used to describe a single, binary event\n",
    "* The probability of n-independent Bernoulli events can be described by a binomial distribution\n",
    "\n",
    "In this section, we introduced the binomial distribution. In the next section, we'll look at a number of other types of distributions and how they relate to data science.\n"
   ]
  }
 ],
 "metadata": {
  "kernelspec": {
   "display_name": "Python 3",
   "language": "python",
   "name": "python3"
  },
  "language_info": {
   "codemirror_mode": {
    "name": "ipython",
    "version": 3
   },
   "file_extension": ".py",
   "mimetype": "text/x-python",
   "name": "python",
   "nbconvert_exporter": "python",
   "pygments_lexer": "ipython3",
   "version": "3.6.5"
  }
 },
 "nbformat": 4,
 "nbformat_minor": 2
}
