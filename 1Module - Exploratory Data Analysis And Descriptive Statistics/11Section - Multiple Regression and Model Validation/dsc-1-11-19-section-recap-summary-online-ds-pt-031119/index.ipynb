{
 "cells": [
  {
   "cell_type": "markdown",
   "metadata": {},
   "source": [
    "# Section Recap"
   ]
  },
  {
   "cell_type": "markdown",
   "metadata": {},
   "source": [
    "## Introduction\n",
    "\n",
    "This short lesson summarizes the topics we covered in section 11 and why they'll be important to you as a data scientist."
   ]
  },
  {
   "cell_type": "markdown",
   "metadata": {},
   "source": [
    "## Objectives\n",
    "You will be able to:\n",
    "* Understand and explain what was covered in this section\n",
    "* Understand and explain why this section will help you become a data scientist"
   ]
  },
  {
   "cell_type": "markdown",
   "metadata": {},
   "source": [
    "## Key Takeaways\n",
    "\n",
    "Who knew that drawing a line (or a plane) of best fit could be so complicated?! In this section we spent a lot more time looking into the logistics of creating and testing an effective model. Key takeaways:\n",
    "* It often makes sense to perform a multiple linear regression with multiple predictor variables for the target variable\n",
    "* Once you start using multiple predictors, you need to ensure that multicolinearity is not an issue for the variables you picked\n",
    "* With multiple predictors you may also need to perform feature scaling and nomralization to ensure a variable with large values doesn't have undue influence on your predictions\n",
    "* When you have a categorical predictor variable, you'll either need to perform label encoding or create a new binary variable for each category using one-hot encoding\n",
    "* Both Statsmodel and Scikit-learn have powerful built in methods for performing linear regressions\n",
    "* Scikit-learn has some built in capabilities for feature selection to determine the most predictive features in your data set\n",
    "* When performing modeling, it's always important to split your data into training and testing sets to validate that your model works well on \"new\" data\n",
    "* k-fold cross validation is a great way to run multiple train-test splits on your data set to maximize the quality of your predictions for a given set of data \n"
   ]
  }
 ],
 "metadata": {
  "kernelspec": {
   "display_name": "Python 3",
   "language": "python",
   "name": "python3"
  },
  "language_info": {
   "codemirror_mode": {
    "name": "ipython",
    "version": 3
   },
   "file_extension": ".py",
   "mimetype": "text/x-python",
   "name": "python",
   "nbconvert_exporter": "python",
   "pygments_lexer": "ipython3",
   "version": "3.6.5"
  }
 },
 "nbformat": 4,
 "nbformat_minor": 2
}
