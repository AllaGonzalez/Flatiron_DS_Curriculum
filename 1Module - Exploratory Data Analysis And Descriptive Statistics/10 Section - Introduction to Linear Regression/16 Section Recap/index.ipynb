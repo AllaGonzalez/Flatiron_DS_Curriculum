{
 "cells": [
  {
   "cell_type": "markdown",
   "metadata": {},
   "source": [
    "# Section Recap"
   ]
  },
  {
   "cell_type": "markdown",
   "metadata": {},
   "source": [
    "## Introduction\n",
    "\n",
    "This short lesson summarizes the topics we covered in section 10 and why they'll be important to you as a data scientist."
   ]
  },
  {
   "cell_type": "markdown",
   "metadata": {},
   "source": [
    "## Objectives\n",
    "You will be able to:\n",
    "* Understand and explain what was covered in this section\n",
    "* Understand and explain why this section will help you become a data scientist"
   ]
  },
  {
   "cell_type": "markdown",
   "metadata": {},
   "source": [
    "## Key Takeaways\n",
    "\n",
    "In this section, the nominal focus was on how to perform a linear regression, but the real value was learting how to think about the application of machine learning models to data sets. Key takeaways include:\n",
    "* The Pearson Correlation (range: -1 -> 1) is a standard way to describe the correlation between two variables\n",
    "* Statistical learning theory deals with the problem of finding a predictive function based on data\n",
    "* A loss function calculates how well a given model represents the relationship between data values\n",
    "* A linear regression is simply a (straight) line of best fit for predicting a continuous value (y = mx + c)\n",
    "* The Coefficient of Determination (R Squared) can be used to determine how well a given line fits a given data set\n",
    "* Certain assumptions must hold true for a least squares linear regression to be useful - linearity, normality and heteroscedasticity\n",
    "* Q-Q plots can check for normality in residual errors\n",
    "* The Jarque-Bera test can be used to test for normality - especially when the number of data points is large\n",
    "* The Goldfeld-Quant test can be used to check for homoscedasticity\n"
   ]
  }
 ],
 "metadata": {
  "kernelspec": {
   "display_name": "Python 3",
   "language": "python",
   "name": "python3"
  },
  "language_info": {
   "codemirror_mode": {
    "name": "ipython",
    "version": 3
   },
   "file_extension": ".py",
   "mimetype": "text/x-python",
   "name": "python",
   "nbconvert_exporter": "python",
   "pygments_lexer": "ipython3",
   "version": "3.6.5"
  }
 },
 "nbformat": 4,
 "nbformat_minor": 2
}
