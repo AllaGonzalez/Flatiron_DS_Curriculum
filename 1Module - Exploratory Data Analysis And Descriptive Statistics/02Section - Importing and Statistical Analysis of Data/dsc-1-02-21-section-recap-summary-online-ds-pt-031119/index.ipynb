{
 "cells": [
  {
   "cell_type": "markdown",
   "metadata": {},
   "source": [
    "# Section Recap"
   ]
  },
  {
   "cell_type": "markdown",
   "metadata": {},
   "source": [
    "## Introduction\n",
    "\n",
    "This short lesson summarizes the topics we covered in section 02 and why they'll be important to you as a Data Scientist."
   ]
  },
  {
   "cell_type": "markdown",
   "metadata": {},
   "source": [
    "## Objectives\n",
    "You will be able to:\n",
    "* Understand and explain what was covered in this section\n",
    "* Understand and explain why this section will help you become a data scientist"
   ]
  },
  {
   "cell_type": "markdown",
   "metadata": {},
   "source": [
    "## Key Takeaways\n",
    "In this section, we spent time deepening our Python skills and started to introduce some basic statistics that will be important as we work with various types of data sets later in the course.\n",
    "* **Functions and Methods** - Python has a range of functions and methods (methods are functions associated with an object) that can help us to perform a wide range of useful tasks quickly and efficiently\n",
    "* **Loops** - Loops aren't only for collections. While loops allow us to iterate until a condition is met, and we can use nested loops for more complicated situations (but should be careful about doing so too often)\n",
    "* **Custom Functions** - When you write a piece of code that you might want to use again, it often makes sense to save it in as a function, and you can add arguments to functions to allow them to be more flexibly in the ways they're reused.\n",
    "* **Measures of Centrality** - There are three common ways to measure the \"central tendency\" of a data set - the mean, the median and the mode. Each can be used to answer different questions and has strengths or weaknesses that depend on how the data is distributed.\n",
    "* **Measures of Dispersion** - THere are multiple measures of dispersion. The absolute deviation, variance, standard deviation and InterQuartile Range can all give us a sense of how closely or widely a data set is distributed from its central value. Again, this is going to be useful later in the course."
   ]
  }
 ],
 "metadata": {
  "kernelspec": {
   "display_name": "Python 3",
   "language": "python",
   "name": "python3"
  },
  "language_info": {
   "codemirror_mode": {
    "name": "ipython",
    "version": 3
   },
   "file_extension": ".py",
   "mimetype": "text/x-python",
   "name": "python",
   "nbconvert_exporter": "python",
   "pygments_lexer": "ipython3",
   "version": "3.6.5"
  }
 },
 "nbformat": 4,
 "nbformat_minor": 2
}
