{
 "cells": [
  {
   "cell_type": "markdown",
   "metadata": {},
   "source": [
    "# Measures of Dispersion - Quiz\n",
    "\n",
    "## Objectives\n",
    "You will be able to:\n",
    "* Describe the significance of calculating measures of dispersion for continuous data\n",
    "* Understand the formula and intuition behind mean absolute deviation, standard deviation and variance\n",
    "* Understand the formula and intuition behind quantiles/quartiles and percentiles\n",
    "* Understand and interpret Interquartile distances with box plots"
   ]
  },
  {
   "cell_type": "markdown",
   "metadata": {},
   "source": [
    "## Exercise 1\n",
    "Summary statistics for two samples of data are\n",
    "```\n",
    "Sample 1:\t\n",
    "mean = 19 \n",
    "variance = 10\n",
    "\n",
    "Sample 2:\t\n",
    "mean = 10\n",
    "variance = 19\n",
    "```\n",
    "Which sample has the larger spread of observations?"
   ]
  },
  {
   "cell_type": "code",
   "execution_count": 2,
   "metadata": {},
   "outputs": [
    {
     "data": {
      "text/plain": [
       "2"
      ]
     },
     "execution_count": 2,
     "metadata": {},
     "output_type": "execute_result"
    }
   ],
   "source": [
    "2"
   ]
  },
  {
   "cell_type": "markdown",
   "metadata": {},
   "source": [
    "## Exercise 2\n",
    "Consider the following ordered set of data\n",
    "```\n",
    "4 4 4 9 5 0 5 1 5 3 5 7 5 8 6 2\n",
    "\n",
    "6 6 6 6 6 8 7 1 7 5 7 7 8 0 8 5\n",
    "```\n",
    "\n",
    "* What is the IQR? \n",
    "* Optional extension: Verify your answer in Python "
   ]
  },
  {
   "cell_type": "code",
   "execution_count": 5,
   "metadata": {},
   "outputs": [
    {
     "name": "stdout",
     "output_type": "stream",
     "text": [
      "3.0\n"
     ]
    }
   ],
   "source": [
    "import numpy as np\n",
    "dist = [4, 4, 4, 9, 5, 0, 5, 1, 5, 3, 5, 7, 5, 8, 6, 2, 6, 6, 6, 6, 6, 8, 7, 1, 7, 5, 7, 7, 8, 0, 8, 5]\n",
    "def iqr(dist):\n",
    "    return np.percentile(dist, 75) - np.percentile(dist, 25)\n",
    "\n",
    "print(iqr(dist))\n"
   ]
  },
  {
   "cell_type": "markdown",
   "metadata": {},
   "source": [
    "### Exercise 3\n",
    "Create a box-and-whisker plot for the judges' scores for an artist's performances in a talent competition.\n",
    "\n",
    "```\n",
    "Evan L\t52\n",
    "Nicole S  50\n",
    "Pamela A  47\n",
    "Chad O\t44\n",
    "Erin A\t39\n",
    "Jake P\t38\n",
    "Niecy N   36\n",
    "Kate G\t32\n",
    "```\n",
    "Create a box plot in matplotlib to identify the median for giving a final score to the artist. Are there any outliers ?"
   ]
  },
  {
   "cell_type": "code",
   "execution_count": 12,
   "metadata": {},
   "outputs": [
    {
     "name": "stdout",
     "output_type": "stream",
     "text": [
      "41.5\n"
     ]
    },
    {
     "data": {
      "image/png": "[encoded data removed]",
      "text/plain": [
       "<Figure size 432x288 with 1 Axes>"
      ]
     },
     "metadata": {},
     "output_type": "display_data"
    }
   ],
   "source": [
    "import matplotlib.pyplot as plt\n",
    "plt.style.use('ggplot')\n",
    "dict = {\"Evan L  \":  52,\n",
    "\"Nicole S\":  50,\n",
    "\"Pamela A\":  47,\n",
    "\"Chad O  \":  44,\n",
    "\"Erin A  \":  39,\n",
    "\"Jake P  \":  38,\n",
    "\"Niecy N \":  36,\n",
    "\"Kate G  \":  32}\n",
    "\n",
    "print(np.median(list(dict.values())))\n",
    "\n",
    "plt.boxplot(list(dict.values()), showfliers=True)\n",
    "plt.show()"
   ]
  },
  {
   "cell_type": "code",
   "execution_count": 13,
   "metadata": {},
   "outputs": [
    {
     "name": "stdout",
     "output_type": "stream",
     "text": [
      "41.5\n"
     ]
    }
   ],
   "source": [
    "print(np.median(list(dict.values())))\n"
   ]
  },
  {
   "cell_type": "markdown",
   "metadata": {},
   "source": [
    "### Exercise 4\n",
    "Imagine that the number of marriages registered over a 10 year period were as follows:\n",
    "\n",
    "Table 1.  Number of registered marriages\n",
    "```\n",
    "Year  Number of marriages\n",
    "\n",
    "1\t40,650\n",
    "2\t40,812\n",
    "3\t41,300\n",
    "4\t41,450\n",
    "5\t39,594\n",
    "6\t40,734\n",
    "7\t39,993\n",
    "8\t38,814\n",
    "9\t37,828\n",
    "10   35,716\n",
    "```\n",
    "Using the data above:\n",
    "\n",
    "####  Find the median "
   ]
  },
  {
   "cell_type": "code",
   "execution_count": 26,
   "metadata": {},
   "outputs": [],
   "source": [
    "# Your answer here "
   ]
  },
  {
   "cell_type": "markdown",
   "metadata": {},
   "source": [
    "#### Find the upper and lower quartiles"
   ]
  },
  {
   "cell_type": "code",
   "execution_count": 27,
   "metadata": {},
   "outputs": [],
   "source": [
    "# Your answer here "
   ]
  },
  {
   "cell_type": "markdown",
   "metadata": {},
   "source": [
    "#### Calculate the interquartile range\n"
   ]
  },
  {
   "cell_type": "code",
   "execution_count": 28,
   "metadata": {},
   "outputs": [],
   "source": [
    "# Your answer here "
   ]
  },
  {
   "cell_type": "markdown",
   "metadata": {},
   "source": [
    "#### Plot a boxplot to verify your answers"
   ]
  },
  {
   "cell_type": "code",
   "execution_count": 32,
   "metadata": {},
   "outputs": [],
   "source": [
    "# Your answer here "
   ]
  }
 ],
 "metadata": {
  "kernelspec": {
   "display_name": "Python 3",
   "language": "python",
   "name": "python3"
  },
  "language_info": {
   "codemirror_mode": {
    "name": "ipython",
    "version": 3
   },
   "file_extension": ".py",
   "mimetype": "text/x-python",
   "name": "python",
   "nbconvert_exporter": "python",
   "pygments_lexer": "ipython3",
   "version": "3.6.4"
  }
 },
 "nbformat": 4,
 "nbformat_minor": 2
}
