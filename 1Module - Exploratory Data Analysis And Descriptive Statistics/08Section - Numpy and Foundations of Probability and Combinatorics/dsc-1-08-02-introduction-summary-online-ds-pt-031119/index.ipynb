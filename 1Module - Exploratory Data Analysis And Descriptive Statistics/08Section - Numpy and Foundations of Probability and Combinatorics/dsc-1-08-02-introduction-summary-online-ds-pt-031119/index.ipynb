{
 "cells": [
  {
   "cell_type": "markdown",
   "metadata": {},
   "source": [
    "# Introduction"
   ]
  },
  {
   "cell_type": "markdown",
   "metadata": {},
   "source": [
    "## Introduction\n",
    "This lesson summarizes the topics we'll be covering in section 08 and why they'll be important to you as a data scientist."
   ]
  },
  {
   "cell_type": "markdown",
   "metadata": {},
   "source": [
    "## Objectives\n",
    "You will be able to:\n",
    "* Understand and explain what is covered in this section\n",
    "* Understand and explain why the section will help you to become a data scientist"
   ]
  },
  {
   "cell_type": "markdown",
   "metadata": {},
   "source": [
    "## NumPy\n",
    "\n",
    "We've already introduced the Pandas data science library, but in this section we're going to dig a little into NumPy - the library that Pandas leverages under the hood and that provides for computationally efficient mathematical transformations of data sets. If you thought some of the Pandas code took a while to run in previous sections, you wouldn't want to see how slow it would run without NumPy under the hood!\n",
    "\n",
    "## Combinatorics and Probability\n",
    "\n",
    "We're then going to take a little time to \"get our math on\" with some basic probability. We're going to start with some basic set theory and look at how to operate on related sets using Python.\n",
    "\n",
    "From there, we're going to use what we learned about sets to start to learn and apply some of the basic rules of probability to calculate various likelihoods.\n",
    "\n",
    "## Factorials and Permutations\n",
    "\n",
    "Next we're going to dig into factorials, and how they can be used to calculate various permutations.\n",
    "\n",
    "## Combinations\n",
    "\n",
    "We're then going to examine the difference between permutations and combinations we'll get some practice calculating combinations for everything from drawing letters from a bag to creating soccer teams for a tournament!\n",
    "\n",
    "## Bernoulli and Binomial Distributions\n",
    "\n",
    "Finally, we're going to look at Bernoulli experiment and how the probabilities related to a series of independent Bernoulli events can be expressed using a Binomial distribution.\n"
   ]
  },
  {
   "cell_type": "markdown",
   "metadata": {},
   "source": [
    "## Summary\n",
    "\n",
    "NumPy, Probability and Combinatorics fit well together. None of them are as attention grabbing as Convolutional Nerual Networks (don't worry - we'll get to those later in the course), but each one of them helps to provide the foundation on which most Python machine learning algorithms are built!"
   ]
  }
 ],
 "metadata": {
  "kernelspec": {
   "display_name": "Python 3",
   "language": "python",
   "name": "python3"
  },
  "language_info": {
   "codemirror_mode": {
    "name": "ipython",
    "version": 3
   },
   "file_extension": ".py",
   "mimetype": "text/x-python",
   "name": "python",
   "nbconvert_exporter": "python",
   "pygments_lexer": "ipython3",
   "version": "3.6.5"
  }
 },
 "nbformat": 4,
 "nbformat_minor": 2
}
